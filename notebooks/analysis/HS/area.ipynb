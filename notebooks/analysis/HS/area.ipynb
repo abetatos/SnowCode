{
 "cells": [
  {
   "cell_type": "code",
   "execution_count": 1,
   "metadata": {},
   "outputs": [],
   "source": [
    "import sys\n",
    "sys.path.insert(0, \"..\")"
   ]
  },
  {
   "cell_type": "code",
   "execution_count": 2,
   "metadata": {},
   "outputs": [],
   "source": [
    "from utils import access_raster\n",
    "from glob import glob\n",
    "import re\n",
    "import pandas as pd\n",
    "import numpy as np\n",
    "from pathlib import Path\n",
    "import matplotlib.pyplot as plt\n",
    "from copy import deepcopy\n",
    "from scipy.stats import gaussian_kde\n",
    "import seaborn as sns\n",
    "import random\n",
    "from scipy import optimize\n",
    "from osgeo import gdal\n",
    "\n",
    "import rasterio\n",
    "from rasterio.transform import from_origin\n",
    "from rasterio.warp import transform_geom\n",
    "from shapely.geometry import shape"
   ]
  },
  {
   "cell_type": "code",
   "execution_count": 3,
   "metadata": {},
   "outputs": [],
   "source": [
    "basepath = \"/home/abetatos/Escritorio/TFM_Dataset/3.Basedataset/\"\n",
    "hs_path = basepath + \"HS\"\n",
    "\n",
    "is_tiff = lambda x: re.search(\".tiff?$\", x)\n",
    "\n",
    "def get_dataframe(path, key): \n",
    "    files = filter(is_tiff, glob(path + \"/**/*\", recursive=True))\n",
    "    df = pd.DataFrame(files, columns=[key])\n",
    "    df['file'] = df[key].apply(lambda p: Path(p).parts[-2])\n",
    "    df = df.set_index(\"file\")\n",
    "    return df"
   ]
  },
  {
   "cell_type": "code",
   "execution_count": 4,
   "metadata": {},
   "outputs": [
    {
     "data": {
      "text/plain": [
       "16"
      ]
     },
     "execution_count": 4,
     "metadata": {},
     "output_type": "execute_result"
    }
   ],
   "source": [
    "\n",
    "df = get_dataframe(hs_path, \"HS\")\n",
    "len(df)"
   ]
  },
  {
   "cell_type": "code",
   "execution_count": 12,
   "metadata": {},
   "outputs": [],
   "source": [
    "def get_area(raster_path):\n",
    "    array = access_raster(raster_path)['array']\n",
    "    points = array[array!=-9999.]\n",
    "    return len(points)*25/1e6\n",
    "\n",
    "# def get_area(raster_path):\n",
    "#     with rasterio.open(raster_path) as src:\n",
    "#         # Get the CRS (coordinate reference system) of the raster\n",
    "#         crs = src.crs\n",
    "\n",
    "#         # Get the transform (affine matrix) of the raster\n",
    "#         transform = src.transform\n",
    "\n",
    "#         # Read the raster as a numpy array\n",
    "#         raster_data = src.read(1)  # Ass\n",
    "        \n",
    "#         pixel_width = abs(transform.a)\n",
    "#         pixel_height = abs(transform.e)\n",
    "#         pixel_area_m2 = pixel_width * pixel_height\n",
    "\n",
    "#         # Convert square meters to square kilometers\n",
    "#         pixel_area_km2 = pixel_area_m2 / 1e6\n",
    "\n",
    "#         valid_pixels = (raster_data != src.nodata).sum()\n",
    "\n",
    "#         return valid_pixels * pixel_area_km2"
   ]
  },
  {
   "cell_type": "code",
   "execution_count": 13,
   "metadata": {},
   "outputs": [
    {
     "name": "stdout",
     "output_type": "stream",
     "text": [
      "109.54 snowmap_20160309_ads_100_extent_maskiert_nosnow0_noausreisser\n",
      "4.48 HS_Saflischpass_20220512_1m_epsg2056\n",
      "2.26 HS_Laucherenalp_20220511_1m_epsg2056\n",
      "108.55 snowmap_2014_ads_100_extent_maskiert_nosnow0_noausreisser\n",
      "161.08 HS_Davos_20200406_2m_epsg2056\n",
      "148.78 HS_Davos_20211604_2m_epsg2056\n",
      "125.71 snowmap_2013_ads_80_extent_maskiert_nosnow0_noausreisser\n",
      "126.48 snowmap_2012_ads_80_extent_maskiert_nosnow0_noausreisser\n",
      "109.31 snowmap_2015_ads_100_extent_maskiert_nosnow0_noausreisser\n",
      "110.8 snowmap_20160126_ads_100_extent_maskiert_nosnow0_noausreisser\n",
      "6.55 HS_c_20220223_1m_epsg2056\n",
      "369.19 HS_Davos_20170316_2m_epsg2056\n",
      "34.47 HS_Davos_20180411_2m_epsg2056\n",
      "109.96 snowmap_20160420_ads_100_extent_maskiert_nosnow0_noausreisser\n",
      "1.14 HS_Laucherenalp_20220224_2m_epsg2056\n",
      "122.51 snowmap_2010_ads_80_extent_maskiert_nosnow0_noausreisser\n"
     ]
    }
   ],
   "source": [
    "areas = []\n",
    "for index, series in df.iterrows(): \n",
    "    print(round(get_area(series['HS']), 2), index)\n",
    "\n",
    "    areas.append([round(get_area(series['HS']), 2), index])"
   ]
  },
  {
   "cell_type": "code",
   "execution_count": 11,
   "metadata": {},
   "outputs": [],
   "source": [
    "pd.DataFrame(areas).to_csv(\"areas.csv\")\n"
   ]
  },
  {
   "cell_type": "code",
   "execution_count": 13,
   "metadata": {},
   "outputs": [
    {
     "name": "stderr",
     "output_type": "stream",
     "text": [
      "100%|██████████| 4050/4050 [00:00<00:00, 4374.79it/s]\n"
     ]
    }
   ],
   "source": [
    "path = \"/home/abetatos/Escritorio/TFM_Dataset/Dataset_20230523/256pixel_4ro/Data\"\n",
    "import os\n",
    "from tqdm import tqdm\n",
    "import pickle\n",
    "\n",
    "lengths = 0\n",
    "lengthsx = 0\n",
    "\n",
    "for filename in tqdm(os.listdir(path)):\n",
    "    if \"HS_Davos_20170316_2m_epsg2056\" in filename: \n",
    "        continue\n",
    "\n",
    "    filepath = os.path.join(path, filename)\n",
    "    with open(filepath, 'rb') as f:\n",
    "        array = pickle.load(f)\n",
    "\n",
    "    x = array[-1][array[-1]>=0]\n",
    "    lengths+=len(x)\n",
    "    lengthsx+=len(x[x<0.2])"
   ]
  },
  {
   "cell_type": "code",
   "execution_count": 14,
   "metadata": {},
   "outputs": [
    {
     "data": {
      "text/plain": [
       "(11897592, 178928626, 6.649350786385629)"
      ]
     },
     "execution_count": 14,
     "metadata": {},
     "output_type": "execute_result"
    }
   ],
   "source": [
    "#WITHOUT 1\n",
    "lengthsx, lengths, lengthsx/lengths*100"
   ]
  },
  {
   "cell_type": "code",
   "execution_count": null,
   "metadata": {},
   "outputs": [],
   "source": []
  }
 ],
 "metadata": {
  "kernelspec": {
   "display_name": "base",
   "language": "python",
   "name": "python3"
  },
  "language_info": {
   "codemirror_mode": {
    "name": "ipython",
    "version": 3
   },
   "file_extension": ".py",
   "mimetype": "text/x-python",
   "name": "python",
   "nbconvert_exporter": "python",
   "pygments_lexer": "ipython3",
   "version": "3.10.11"
  },
  "orig_nbformat": 4
 },
 "nbformat": 4,
 "nbformat_minor": 2
}
