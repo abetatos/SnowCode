{
 "cells": [
  {
   "cell_type": "code",
   "execution_count": 24,
   "metadata": {},
   "outputs": [],
   "source": [
    "import sys\n",
    "sys.path.insert(0, \"..\")"
   ]
  },
  {
   "cell_type": "code",
   "execution_count": 25,
   "metadata": {},
   "outputs": [],
   "source": [
    "from utils import access_raster\n",
    "from glob import glob\n",
    "import re\n",
    "import pandas as pd\n",
    "import numpy as np\n",
    "from pathlib import Path\n",
    "import matplotlib.pyplot as plt\n",
    "from copy import deepcopy\n",
    "from scipy.stats import gaussian_kde\n",
    "import seaborn as sns\n",
    "import random\n",
    "from scipy import optimize"
   ]
  },
  {
   "cell_type": "code",
   "execution_count": 26,
   "metadata": {},
   "outputs": [],
   "source": [
    "basepath = \"/home/abetatos/Escritorio/TFM_Dataset/3.Basedataset/\"\n",
    "aspect_path = basepath + \"Aspect\"\n",
    "hs_path = basepath + \"HS\"\n",
    "\n",
    "is_tiff = lambda x: re.search(\".tiff?$\", x)\n",
    "\n",
    "def get_dataframe(path, key): \n",
    "    files = filter(is_tiff, glob(path + \"/**/*\", recursive=True))\n",
    "    df = pd.DataFrame(files, columns=[key])\n",
    "    df['file'] = df[key].apply(lambda p: Path(p).parts[-2])\n",
    "    df = df.set_index(\"file\")\n",
    "    return df\n",
    "\n",
    "def get_array(raster): \n",
    "    array = raster['array'][0]\n",
    "    nodata = raster['meta']['nodata']\n",
    "    array[array==nodata]=1000\n",
    "    array[array==-9999.] = 1000\n",
    "    return array"
   ]
  },
  {
   "cell_type": "code",
   "execution_count": 27,
   "metadata": {},
   "outputs": [
    {
     "data": {
      "text/plain": [
       "16"
      ]
     },
     "execution_count": 27,
     "metadata": {},
     "output_type": "execute_result"
    }
   ],
   "source": [
    "\n",
    "df = get_dataframe(hs_path, \"HS\")\n",
    "len(df)"
   ]
  },
  {
   "cell_type": "code",
   "execution_count": 28,
   "metadata": {},
   "outputs": [],
   "source": [
    "def get_mapping(series):\n",
    "    hs_raster = access_raster(series['HS'])\n",
    "    hs_array = get_array(hs_raster)\n",
    "    \n",
    "    mapping = [ hs for hs_line in hs_array\n",
    "                       for  hs in hs_line\n",
    "                       if hs >= 0 and hs!=1000]\n",
    "    \n",
    "    return mapping"
   ]
  },
  {
   "cell_type": "code",
   "execution_count": 29,
   "metadata": {},
   "outputs": [
    {
     "name": "stdout",
     "output_type": "stream",
     "text": [
      "____________________________________________________________________________________________________ \n",
      " snowmap_20160309_ads_100_extent_maskiert_nosnow0_noausreisser\n",
      "____________________________________________________________________________________________________ \n",
      " HS_Saflischpass_20220512_1m_epsg2056\n",
      "____________________________________________________________________________________________________ \n",
      " HS_Laucherenalp_20220511_1m_epsg2056\n",
      "____________________________________________________________________________________________________ \n",
      " snowmap_2014_ads_100_extent_maskiert_nosnow0_noausreisser\n",
      "____________________________________________________________________________________________________ \n",
      " HS_Davos_20200406_2m_epsg2056\n",
      "____________________________________________________________________________________________________ \n",
      " HS_Davos_20211604_2m_epsg2056\n",
      "____________________________________________________________________________________________________ \n",
      " snowmap_2013_ads_80_extent_maskiert_nosnow0_noausreisser\n",
      "____________________________________________________________________________________________________ \n",
      " snowmap_2012_ads_80_extent_maskiert_nosnow0_noausreisser\n",
      "____________________________________________________________________________________________________ \n",
      " snowmap_2015_ads_100_extent_maskiert_nosnow0_noausreisser\n",
      "____________________________________________________________________________________________________ \n",
      " snowmap_20160126_ads_100_extent_maskiert_nosnow0_noausreisser\n",
      "____________________________________________________________________________________________________ \n",
      " HS_c_20220223_1m_epsg2056\n",
      "____________________________________________________________________________________________________ \n",
      " HS_Davos_20180411_2m_epsg2056\n",
      "____________________________________________________________________________________________________ \n",
      " snowmap_20160420_ads_100_extent_maskiert_nosnow0_noausreisser\n",
      "____________________________________________________________________________________________________ \n",
      " HS_Laucherenalp_20220224_2m_epsg2056\n",
      "____________________________________________________________________________________________________ \n",
      " snowmap_2010_ads_80_extent_maskiert_nosnow0_noausreisser\n"
     ]
    }
   ],
   "source": [
    "\n",
    "lengths = 0\n",
    "lengthsx = 0\n",
    "for index, series in df.iterrows(): \n",
    "    if series.name == \"HS_Davos_20170316_2m_epsg2056\":\n",
    "        continue\n",
    "    print(\"_\"*100, \"\\n\", series.name)\n",
    "    mapping = get_mapping(series)\n",
    "    random.shuffle(mapping)\n",
    "\n",
    "    x = np.array(mapping[:10000])\n",
    "    \n",
    "    lengths+=len(x)\n",
    "    lengthsx+=len(x[x<0.5])"
   ]
  },
  {
   "cell_type": "code",
   "execution_count": 30,
   "metadata": {},
   "outputs": [
    {
     "data": {
      "text/plain": [
       "(22804, 150000, 15.202666666666667)"
      ]
     },
     "execution_count": 30,
     "metadata": {},
     "output_type": "execute_result"
    }
   ],
   "source": [
    "#WITHOUT 0.1\n",
    "lengthsx, lengths, lengthsx/lengths*100"
   ]
  },
  {
   "cell_type": "code",
   "execution_count": 16,
   "metadata": {},
   "outputs": [
    {
     "data": {
      "text/plain": [
       "(7369, 150000, 4.9126666666666665)"
      ]
     },
     "execution_count": 16,
     "metadata": {},
     "output_type": "execute_result"
    }
   ],
   "source": [
    "#WITHOUT 1\n",
    "lengthsx, lengths, lengthsx/lengths*100"
   ]
  },
  {
   "cell_type": "code",
   "execution_count": 13,
   "metadata": {},
   "outputs": [
    {
     "name": "stderr",
     "output_type": "stream",
     "text": [
      "100%|██████████| 4050/4050 [00:00<00:00, 4374.79it/s]\n"
     ]
    }
   ],
   "source": [
    "path = \"/home/abetatos/Escritorio/TFM_Dataset/Dataset_20230523/256pixel_4ro/Data\"\n",
    "import os\n",
    "from tqdm import tqdm\n",
    "import pickle\n",
    "\n",
    "lengths = 0\n",
    "lengthsx = 0\n",
    "\n",
    "for filename in tqdm(os.listdir(path)):\n",
    "    if \"HS_Davos_20170316_2m_epsg2056\" in filename: \n",
    "        continue\n",
    "\n",
    "    filepath = os.path.join(path, filename)\n",
    "    with open(filepath, 'rb') as f:\n",
    "        array = pickle.load(f)\n",
    "\n",
    "    x = array[-1][array[-1]>=0]\n",
    "    lengths+=len(x)\n",
    "    lengthsx+=len(x[x<0.2])"
   ]
  },
  {
   "cell_type": "code",
   "execution_count": 14,
   "metadata": {},
   "outputs": [
    {
     "data": {
      "text/plain": [
       "(11897592, 178928626, 6.649350786385629)"
      ]
     },
     "execution_count": 14,
     "metadata": {},
     "output_type": "execute_result"
    }
   ],
   "source": [
    "#WITHOUT 1\n",
    "lengthsx, lengths, lengthsx/lengths*100"
   ]
  },
  {
   "cell_type": "code",
   "execution_count": null,
   "metadata": {},
   "outputs": [],
   "source": []
  }
 ],
 "metadata": {
  "kernelspec": {
   "display_name": "base",
   "language": "python",
   "name": "python3"
  },
  "language_info": {
   "codemirror_mode": {
    "name": "ipython",
    "version": 3
   },
   "file_extension": ".py",
   "mimetype": "text/x-python",
   "name": "python",
   "nbconvert_exporter": "python",
   "pygments_lexer": "ipython3",
   "version": "3.10.11"
  },
  "orig_nbformat": 4
 },
 "nbformat": 4,
 "nbformat_minor": 2
}
