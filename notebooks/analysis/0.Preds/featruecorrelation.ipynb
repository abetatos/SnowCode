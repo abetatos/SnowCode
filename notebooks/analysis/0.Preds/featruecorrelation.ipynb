{
 "cells": [
  {
   "cell_type": "code",
   "execution_count": 5,
   "metadata": {},
   "outputs": [],
   "source": [
    "import sys\n",
    "sys.path.insert(0, \"..\")"
   ]
  },
  {
   "cell_type": "code",
   "execution_count": 6,
   "metadata": {},
   "outputs": [],
   "source": [
    "from utils import access_raster\n",
    "from glob import glob\n",
    "import re\n",
    "import os\n",
    "import pandas as pd\n",
    "import numpy as np\n",
    "from pathlib import Path\n",
    "import matplotlib.pyplot as plt\n",
    "from copy import deepcopy\n",
    "from scipy.stats import gaussian_kde\n",
    "import seaborn as sns\n",
    "import random\n",
    "from scipy import optimize"
   ]
  },
  {
   "cell_type": "code",
   "execution_count": 7,
   "metadata": {},
   "outputs": [],
   "source": [
    "model = \"withoutmask_all_sgd_adam_1685536886_model_53_01234567\"\n",
    "# model = \"1684923533_model_57_012345678\"\n",
    "feature = \"HS_diff.tif\"\n",
    "# predfile = \"HS_diff.tif\"\n",
    "predfile = \"HS_pred.tif\"\n",
    "\n",
    "hs_path = f\"/home/abetatos/Escritorio/TFM_Dataset/3.Basedataset/{feature}\"\n",
    "modelpredspath = f\"/home/abetatos/Escritorio/TFM_Dataset/5.Preds/{model}\""
   ]
  },
  {
   "cell_type": "code",
   "execution_count": 8,
   "metadata": {},
   "outputs": [],
   "source": [
    "import pandas as pd\n",
    "\n",
    "def get_slices(aux, precision): \n",
    "    df = pd.DataFrame(aux)\n",
    "    df[0] = df[0].apply(lambda x: round(x, precision))\n",
    "    arr = []\n",
    "    for index, round_df in df.groupby(0):\n",
    "        arr.append([index, round_df[1].mean()])\n",
    "    return np.array(arr)"
   ]
  },
  {
   "cell_type": "code",
   "execution_count": 9,
   "metadata": {},
   "outputs": [
    {
     "ename": "FileNotFoundError",
     "evalue": "[Errno 2] No such file or directory: '/home/abetatos/Escritorio/TFM_Dataset/3.Basedataset/HS_diff.tif'",
     "output_type": "error",
     "traceback": [
      "\u001b[0;31m---------------------------------------------------------------------------\u001b[0m",
      "\u001b[0;31mFileNotFoundError\u001b[0m                         Traceback (most recent call last)",
      "Cell \u001b[0;32mIn[9], line 1\u001b[0m\n\u001b[0;32m----> 1\u001b[0m \u001b[39mfor\u001b[39;00m place \u001b[39min\u001b[39;00m os\u001b[39m.\u001b[39;49mlistdir(hs_path):\n\u001b[1;32m      2\u001b[0m     \u001b[39mprint\u001b[39m(place)\n\u001b[1;32m      3\u001b[0m     \u001b[39m# if place != \"HS_Davos_20170316_2m_epsg2056\": \u001b[39;00m\n\u001b[1;32m      4\u001b[0m     \u001b[39m#     continue\u001b[39;00m\n\u001b[1;32m      5\u001b[0m     \n\u001b[1;32m      6\u001b[0m     \u001b[39m# if place == \"snowmap_20160309_ads_100_extent_maskiert_nosnow0_noausreisser\":\u001b[39;00m\n\u001b[1;32m      7\u001b[0m     \u001b[39m#     continue\u001b[39;00m\n",
      "\u001b[0;31mFileNotFoundError\u001b[0m: [Errno 2] No such file or directory: '/home/abetatos/Escritorio/TFM_Dataset/3.Basedataset/HS_diff.tif'"
     ]
    }
   ],
   "source": [
    "for place in os.listdir(hs_path):\n",
    "    print(place)\n",
    "    # if place != \"HS_Davos_20170316_2m_epsg2056\": \n",
    "    #     continue\n",
    "    \n",
    "    # if place == \"snowmap_20160309_ads_100_extent_maskiert_nosnow0_noausreisser\":\n",
    "    #     continue\n",
    "\n",
    "    feature_raster = access_raster(os.path.join(hs_path, place, f\"{feature}.tif\"))['array']\n",
    "    pred_raster = access_raster(os.path.join(modelpredspath, place, predfile))['array']\n",
    "\n",
    "    fr_flat = feature_raster.flatten()\n",
    "    pr_flat = pred_raster.flatten()\n",
    "\n",
    "    aux = [[fr, pr] for fr, pr in zip(fr_flat, pr_flat) if fr not in [0., -9999.] and pr not in [0., -9999.]]\n",
    "    aux = get_slices(aux, 2)\n",
    "    random.shuffle(aux)\n",
    "    fr_flat, pr_flat = np.array(list(zip(*aux[:10000])))\n",
    "    print(pr_flat.min(), pr_flat.max())\n",
    "    xy = np.vstack([fr_flat, pr_flat])\n",
    "    kernel = gaussian_kde(xy)(xy)\n",
    "    \n",
    "    fig, ax = plt.subplots()\n",
    "    ax.scatter(fr_flat, pr_flat, c=kernel, s=1, label=\"scatter plot\")\n",
    "    # ax.set_ylim((pr_flat.mean()-pr_flat.std()*2, pr_flat.mean()+pr_flat.std()*2))\n",
    "    ax.set_ylim((min(pr_flat.min(), fr_flat.min()), max(pr_flat.max(), fr_flat.max())))\n",
    "    ax.set_ylabel(os.path.splitext(predfile)[0])\n",
    "    ax.set_xlabel(feature)\n",
    "    plt.show()"
   ]
  },
  {
   "cell_type": "code",
   "execution_count": null,
   "metadata": {},
   "outputs": [],
   "source": []
  }
 ],
 "metadata": {
  "kernelspec": {
   "display_name": "base",
   "language": "python",
   "name": "python3"
  },
  "language_info": {
   "codemirror_mode": {
    "name": "ipython",
    "version": 3
   },
   "file_extension": ".py",
   "mimetype": "text/x-python",
   "name": "python",
   "nbconvert_exporter": "python",
   "pygments_lexer": "ipython3",
   "version": "3.10.11"
  },
  "orig_nbformat": 4
 },
 "nbformat": 4,
 "nbformat_minor": 2
}
