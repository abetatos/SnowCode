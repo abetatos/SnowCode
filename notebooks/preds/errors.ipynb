{
 "cells": [
  {
   "cell_type": "code",
   "execution_count": 4,
   "metadata": {},
   "outputs": [],
   "source": [
    "import pickle as pkl\n",
    "import rasterio as rio\n",
    "import numpy as np\n",
    "import os"
   ]
  },
  {
   "cell_type": "code",
   "execution_count": 9,
   "metadata": {},
   "outputs": [],
   "source": [
    "modelname = \"withoutmask_all_sgd_adam_1685536886_model_53_01234567_10\"\n",
    "\n",
    "pred_path = f\"/home/abetatos/Escritorio/TFM_Dataset/5.Preds/{modelname}/\"\n",
    "hs_path = \"/home/abetatos/Escritorio/TFM_Dataset/4.DatasetPost/HS/\"\n",
    "hs_path = pred_path"
   ]
  },
  {
   "cell_type": "code",
   "execution_count": 10,
   "metadata": {},
   "outputs": [
    {
     "name": "stdout",
     "output_type": "stream",
     "text": [
      "snowmap_20160309_ads_100_extent_maskiert_nosnow0_noausreisser\n",
      "\t 0.5550591\n",
      "HS_Saflischpass_20220512_1m_epsg2056\n",
      "\t 2.309889\n",
      "HS_Laucherenalp_20220511_1m_epsg2056\n",
      "\t 1.2873483\n",
      "snowmap_2014_ads_100_extent_maskiert_nosnow0_noausreisser\n",
      "\t 0.535554\n",
      "HS_Davos_20200406_2m_epsg2056\n",
      "\t 0.5926388\n",
      "HS_Davos_20211604_2m_epsg2056\n",
      "\t 0.7497473\n",
      "snowmap_2013_ads_80_extent_maskiert_nosnow0_noausreisser\n",
      "\t 0.5500202\n",
      "snowmap_2012_ads_80_extent_maskiert_nosnow0_noausreisser\n",
      "\t 0.7573997\n",
      "snowmap_2015_ads_100_extent_maskiert_nosnow0_noausreisser\n",
      "\t 0.5479585\n",
      "snowmap_20160126_ads_100_extent_maskiert_nosnow0_noausreisser\n",
      "\t 0.6855692\n",
      "HS_c_20220223_1m_epsg2056\n",
      "\t 2.194438\n",
      "HS_Davos_20170316_2m_epsg2056\n",
      "\t 0.6343211\n",
      "HS_Davos_20180411_2m_epsg2056\n",
      "\t 0.5644973\n",
      "snowmap_20160420_ads_100_extent_maskiert_nosnow0_noausreisser\n",
      "\t 0.4887354\n",
      "HS_Laucherenalp_20220224_2m_epsg2056\n",
      "\t 0.77313715\n",
      "snowmap_2010_ads_80_extent_maskiert_nosnow0_noausreisser\n",
      "\t 1.031678\n"
     ]
    }
   ],
   "source": [
    "for filename in os.listdir(pred_path): \n",
    "    print(filename)\n",
    "    \n",
    "    with rio.open(f\"{pred_path}/{filename}/HS_pred.tif\", \"r\") as f:\n",
    "        pred = f.read()\n",
    "\n",
    "    with rio.open(f\"{hs_path}/{filename}/HS.tif\", \"r\") as f:\n",
    "        feature = f.read()\n",
    "    mask = (feature != -9999.) & (pred != -9999.)\n",
    "    print(\"\\t\", abs((feature-pred)[mask]).mean())\n"
   ]
  },
  {
   "cell_type": "code",
   "execution_count": 44,
   "metadata": {},
   "outputs": [
    {
     "data": {
      "text/plain": [
       "0.63414586"
      ]
     },
     "execution_count": 44,
     "metadata": {},
     "output_type": "execute_result"
    }
   ],
   "source": [
    "0.63414586"
   ]
  },
  {
   "cell_type": "code",
   "execution_count": 47,
   "metadata": {},
   "outputs": [
    {
     "data": {
      "text/plain": [
       "0.6343211"
      ]
     },
     "execution_count": 47,
     "metadata": {},
     "output_type": "execute_result"
    }
   ],
   "source": [
    "0.6343211"
   ]
  },
  {
   "cell_type": "code",
   "execution_count": 1,
   "metadata": {},
   "outputs": [
    {
     "data": {
      "text/plain": [
       "-0.00017524000000002093"
      ]
     },
     "execution_count": 1,
     "metadata": {},
     "output_type": "execute_result"
    }
   ],
   "source": [
    "0.63414586 - 0.6343211"
   ]
  }
 ],
 "metadata": {
  "kernelspec": {
   "display_name": "base",
   "language": "python",
   "name": "python3"
  },
  "language_info": {
   "codemirror_mode": {
    "name": "ipython",
    "version": 3
   },
   "file_extension": ".py",
   "mimetype": "text/x-python",
   "name": "python",
   "nbconvert_exporter": "python",
   "pygments_lexer": "ipython3",
   "version": "3.10.11"
  },
  "orig_nbformat": 4
 },
 "nbformat": 4,
 "nbformat_minor": 2
}
