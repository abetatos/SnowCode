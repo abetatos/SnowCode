{
 "cells": [
  {
   "cell_type": "code",
   "execution_count": 9,
   "metadata": {},
   "outputs": [],
   "source": [
    "import pickle as pkl\n",
    "import rasterio as rio\n",
    "import numpy as np\n",
    "import os"
   ]
  },
  {
   "cell_type": "code",
   "execution_count": 10,
   "metadata": {},
   "outputs": [],
   "source": [
    "# modelname = \"1684923533_model_57_012345678\"\n",
    "# modelname = \"1685098495_model_54_01234567\"\n",
    "modelname = \"final_snowprob_1692788122_model_53_01269\"\n",
    "\n",
    "pred_path = f\"/home/abetatos/Escritorio/TFM_Dataset/5.Preds/{modelname}/\"\n",
    "hs_path = \"/home/abetatos/Escritorio/TFM_Dataset/4.DatasetPost/HS/\""
   ]
  },
  {
   "cell_type": "code",
   "execution_count": 11,
   "metadata": {},
   "outputs": [
    {
     "name": "stdout",
     "output_type": "stream",
     "text": [
      "HS_Davos_20170316_2m_epsg2056\n",
      "5905838.5 0.60325634\n",
      "29773408000.0 8.455338\n"
     ]
    }
   ],
   "source": [
    "\n",
    "for filename in os.listdir(pred_path): \n",
    "    print(filename)\n",
    "    with open(f\"{pred_path}/{filename}/HS_pred05.pickle\", \"rb\") as f: \n",
    "        mapping = pkl.load(f)\n",
    "        shape = mapping.shape\n",
    "\n",
    "    with rio.open(f\"{hs_path}/{filename}/HS.tif\", \"r\") as f: \n",
    "        profile = f.profile\n",
    "        arr = f.read().squeeze()\n",
    "        \n",
    "    new_mapping = np.ones_like(arr)*-9999.\n",
    "    \n",
    "    new_mapping[0:shape[0], 0:shape[1]] = mapping\n",
    "\n",
    "    with rio.open(f\"{pred_path}/{filename}/0.5HS_pred.tif\", \"w\", **profile) as f:\n",
    "        f.write(new_mapping, 1)\n",
    "\n",
    "    with rio.open(f\"{pred_path}/{filename}/0.5HS_diff.tif\", \"w\", **profile) as f:\n",
    "        diff_array = np.where((arr != -9999.) & (new_mapping != -9999.), abs(arr-new_mapping), -9999.)\n",
    "        f.write(diff_array, 1)\n",
    "\n",
    "    with rio.open(f\"{pred_path}/{filename}/0.5HS_sigma.tif\", \"w\", **profile) as f:\n",
    "        sigma_array = np.where(diff_array != -9999., np.divide(diff_array, arr + 1e-10), -9999.)\n",
    "        f.write(sigma_array, 1)\n",
    "    \n",
    "    print(sigma_array[sigma_array!=-9999.].mean(), diff_array[diff_array!=-9999.].mean())\n",
    "    print(sigma_array[sigma_array!=-9999.].max(), diff_array[diff_array!=-9999.].max())\n",
    "    # break"
   ]
  },
  {
   "cell_type": "code",
   "execution_count": null,
   "metadata": {},
   "outputs": [],
   "source": []
  }
 ],
 "metadata": {
  "kernelspec": {
   "display_name": "base",
   "language": "python",
   "name": "python3"
  },
  "language_info": {
   "codemirror_mode": {
    "name": "ipython",
    "version": 3
   },
   "file_extension": ".py",
   "mimetype": "text/x-python",
   "name": "python",
   "nbconvert_exporter": "python",
   "pygments_lexer": "ipython3",
   "version": "3.10.11"
  },
  "orig_nbformat": 4
 },
 "nbformat": 4,
 "nbformat_minor": 2
}
