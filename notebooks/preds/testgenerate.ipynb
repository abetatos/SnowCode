{
 "cells": [
  {
   "attachments": {},
   "cell_type": "markdown",
   "metadata": {},
   "source": [
    "# TEST"
   ]
  },
  {
   "cell_type": "code",
   "execution_count": null,
   "metadata": {},
   "outputs": [
    {
     "name": "stdout",
     "output_type": "stream",
     "text": [
      "HS_Davos_20170316_2m_epsg2056\n"
     ]
    }
   ],
   "source": [
    "import torch\n",
    "import os\n",
    "import re\n",
    "import pandas as pd\n",
    "import numpy as np\n",
    "import glob\n",
    "import json\n",
    "import pickle as pkl\n",
    "from pathlib import Path\n",
    "from tqdm.auto import tqdm\n",
    "\n",
    "basepath = \"/home/abetatos/Escritorio/TFM_Dataset/\"\n",
    "model_basepath = \"/home/abetatos/Escritorio/TFM_models/\"\n",
    "\n",
    "date = \"20230523\"\n",
    "config = \"256pixel_4ro\"\n",
    "model_id = \"1684604492\"\n",
    "\n",
    "size = int(re.findall(\"\\d+\", config)[0])\n",
    "dataset_path = f\"/home/abetatos/Escritorio/TFM_Dataset/Dataset_{date}/{config}/\"\n",
    "\n",
    "pred_model = \"1684923533_model_57_012345678\"\n",
    "\n",
    "df = pd.DataFrame([[f] for f in glob.glob(dataset_path + \"Data/**/*.pickle\", recursive=True)], columns=['filename'])\n",
    "df['place'] = df['filename'].apply(lambda x: Path(x).name.split(\"__\")[0])\n",
    "df['col_off'] = df['filename'].apply(lambda x: Path(x).name.split(\"__\")[-2]).astype(int)\n",
    "df['row_off'] = df['filename'].apply(lambda x: Path(x).name.split(\"__\")[-1].replace(\".pickle\", \"\")).astype(int)\n",
    "\n",
    "for place, place_df in df.groupby(\"place\"):\n",
    "    print(place)\n",
    "    place_df.to_csv(\"tmp_df.csv\")\n",
    "    \n",
    "    max_col_off = place_df['row_off'].max() + size\n",
    "    max_row_off = place_df['col_off'].max() + size\n",
    "\n",
    "    mapping = np.zeros((max_col_off, max_row_off))\n",
    "    counter = np.zeros((max_col_off, max_row_off))\n",
    "    for index, name in place_df['filename'].items(): \n",
    "        with open(name, \"rb\") as f: \n",
    "            pred = pkl.load(f)[-1]\n",
    "        row_off = place_df['row_off'].loc[index]\n",
    "        col_off = place_df['col_off'].loc[index]\n",
    "\n",
    "        mapping[row_off:row_off+size, col_off:col_off+size] += pred\n",
    "        counter[row_off:row_off+size, col_off:col_off+size] += np.where(pred != -9999., 1, 0)\n",
    "\n",
    "    outpath = f\"/home/abetatos/Escritorio/TFM_Dataset/5.Preds/prueba/{place}/\"\n",
    "    os.makedirs(outpath, exist_ok=True)\n",
    "    with open(f\"{outpath}HS_pred.pickle\", \"wb\") as src: \n",
    "        norm_mapping = np.where(counter != 0, np.divide(mapping, counter + 1e-10), 0)\n",
    "        pkl.dump(norm_mapping, src)\n",
    "    break"
   ]
  },
  {
   "cell_type": "code",
   "execution_count": null,
   "metadata": {},
   "outputs": [],
   "source": [
    "modelname = \"1684923533_model_57_012345678\"\n",
    "\n",
    "pred_path = f\"/home/abetatos/Escritorio/TFM_Dataset/5.Preds/prueba/\"\n",
    "hs_path = \"/home/abetatos/Escritorio/TFM_Dataset/4.DatasetPost/HS/\""
   ]
  },
  {
   "cell_type": "code",
   "execution_count": null,
   "metadata": {},
   "outputs": [
    {
     "name": "stdout",
     "output_type": "stream",
     "text": [
      "HS_Davos_20170316_2m_epsg2056\n"
     ]
    }
   ],
   "source": [
    "for filename in os.listdir(pred_path): \n",
    "    print(filename)\n",
    "    with open(f\"{pred_path}/{filename}/HS_pred.pickle\", \"rb\") as f: \n",
    "        mapping = pkl.load(f)\n",
    "        shape = mapping.shape\n",
    "\n",
    "    with rio.open(f\"{hs_path}/{filename}/HS.tif\", \"r\") as f: \n",
    "        profile = f.profile\n",
    "        arr = f.read().squeeze()\n",
    "        \n",
    "    new_mapping = np.ones_like(arr)*-9999.\n",
    "    \n",
    "    new_mapping[0:shape[0], 0:shape[1]] = mapping\n",
    "\n",
    "    with rio.open(f\"{pred_path}/{filename}/HS_pred.tif\", \"w\", **profile) as f:\n",
    "        f.write(new_mapping, 1)\n",
    "\n",
    "    with rio.open(f\"{pred_path}/{filename}/HS_diff.tif\", \"w\", **profile) as f:\n",
    "        diff_array = np.where((arr != -9999.) & (new_mapping != -9999.), abs(arr-new_mapping), -9999.)\n",
    "        f.write(diff_array, 1)"
   ]
  },
  {
   "cell_type": "code",
   "execution_count": null,
   "metadata": {},
   "outputs": [],
   "source": []
  }
 ],
 "metadata": {
  "language_info": {
   "name": "python"
  },
  "orig_nbformat": 4
 },
 "nbformat": 4,
 "nbformat_minor": 2
}
