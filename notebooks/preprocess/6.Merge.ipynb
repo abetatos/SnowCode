{
 "cells": [
  {
   "cell_type": "code",
   "execution_count": 1,
   "metadata": {},
   "outputs": [],
   "source": [
    "import pandas as pd\n",
    "import os\n",
    "import numpy as np\n",
    "from PIL import Image\n",
    "import pickle as pkl\n",
    "from tqdm.auto import tqdm"
   ]
  },
  {
   "cell_type": "code",
   "execution_count": 2,
   "metadata": {},
   "outputs": [],
   "source": [
    "unitato = r\"/home/abetatos/Escritorio/TFM_Dataset/\"\n",
    "\n",
    "dataset = \"Dataset_20230523\"\n",
    "mapchete_conf = \"256pixel_4ro\"\n",
    "files_path = os.path.join(unitato, dataset, mapchete_conf)"
   ]
  },
  {
   "cell_type": "code",
   "execution_count": 3,
   "metadata": {},
   "outputs": [
    {
     "name": "stdout",
     "output_type": "stream",
     "text": [
      "lost files 0\n"
     ]
    },
    {
     "data": {
      "text/plain": [
       "Index(['DEM', 'SCE', 'HS', 'TPI', 'TPIWGW', 'Aspect', 'Slope', 'FFSnow',\n",
       "       'DEMSNOW'],\n",
       "      dtype='object')"
      ]
     },
     "execution_count": 3,
     "metadata": {},
     "output_type": "execute_result"
    }
   ],
   "source": [
    "# DEM\n",
    "df_DEM = pd.DataFrame(os.listdir(os.path.join(files_path, \"DEM\")), columns = [\"DEM\"])\n",
    "df_DEM['filename'] = df_DEM['DEM'].apply(os.path.basename)\n",
    "df_DEM = df_DEM.set_index(\"filename\")\n",
    "\n",
    "df_SCE = pd.DataFrame(os.listdir(os.path.join(files_path, \"SCE\")), columns = [\"SCE\"])\n",
    "df_SCE['filename'] = df_SCE['SCE'].apply(os.path.basename)\n",
    "df_SCE = df_SCE.set_index(\"filename\")\n",
    "\n",
    "df_HS = pd.DataFrame(os.listdir(os.path.join(files_path, \"HS\")), columns = [\"HS\"])\n",
    "df_HS['filename'] = df_HS['HS'].apply(os.path.basename)\n",
    "df_HS = df_HS.set_index(\"filename\")\n",
    "\n",
    "df_Aspect = pd.DataFrame(os.listdir(os.path.join(files_path, \"Aspect\")), columns = [\"Aspect\"])\n",
    "df_Aspect['filename'] = df_Aspect['Aspect'].apply(os.path.basename)\n",
    "df_Aspect = df_Aspect.set_index(\"filename\")\n",
    "\n",
    "# df_AspectSin = pd.DataFrame(os.listdir(os.path.join(files_path, \"AspectSin\")), columns = [\"AspectSin\"])\n",
    "# df_AspectSin['filename'] = df_AspectSin['AspectSin'].apply(os.path.basename)\n",
    "# df_AspectSin = df_AspectSin.set_index(\"filename\")\n",
    "\n",
    "# df_AspectCos = pd.DataFrame(os.listdir(os.path.join(files_path, \"AspectCos\")), columns = [\"AspectCos\"])\n",
    "# df_AspectCos['filename'] = df_AspectCos['AspectCos'].apply(os.path.basename)\n",
    "# df_AspectCos = df_AspectCos.set_index(\"filename\")\n",
    "\n",
    "df_Slope = pd.DataFrame(os.listdir(os.path.join(files_path, \"Slope\")), columns = [\"Slope\"])\n",
    "df_Slope['filename'] = df_Slope['Slope'].apply(os.path.basename)\n",
    "df_Slope = df_Slope.set_index(\"filename\")\n",
    "\n",
    "df_TPI11 = pd.DataFrame(os.listdir(os.path.join(files_path, \"TPI\")), columns = [\"TPI\"])\n",
    "df_TPI11['filename'] = df_TPI11['TPI'].apply(os.path.basename)\n",
    "df_TPI11 = df_TPI11.set_index(\"filename\")\n",
    "\n",
    "df_TPIWGW = pd.DataFrame(os.listdir(os.path.join(files_path, \"TPIWGW\")), columns = [\"TPIWGW\"])\n",
    "df_TPIWGW['filename'] = df_TPIWGW['TPIWGW'].apply(os.path.basename)\n",
    "df_TPIWGW = df_TPIWGW.set_index(\"filename\")\n",
    "\n",
    "df_FFSNOW = pd.DataFrame(os.listdir(os.path.join(files_path, \"FFSnow\")), columns = [\"FFSnow\"])\n",
    "df_FFSNOW['filename'] = df_FFSNOW['FFSnow'].apply(os.path.basename)\n",
    "df_FFSNOW = df_FFSNOW.set_index(\"filename\")\n",
    "\n",
    "# df_Voronoi = pd.DataFrame(os.listdir(os.path.join(files_path, \"Voronoi\")), columns = [\"Voronoi\"])\n",
    "# df_Voronoi['filename'] = df_Voronoi['Voronoi'].apply(os.path.basename)\n",
    "# df_Voronoi = df_Voronoi.set_index(\"filename\")\n",
    "\n",
    "# df_ProbStat = pd.DataFrame(os.listdir(os.path.join(files_path, \"ProbStat\")), columns = [\"ProbStat\"])\n",
    "# df_ProbStat['filename'] = df_ProbStat['ProbStat'].apply(os.path.basename)\n",
    "# df_ProbStat = df_ProbStat.set_index(\"filename\")\n",
    "\n",
    "df_DEMSNOW = pd.DataFrame(os.listdir(os.path.join(files_path, \"DEMSNOW\")), columns = [\"DEMSNOW\"])\n",
    "df_DEMSNOW['filename'] = df_DEMSNOW['DEMSNOW'].apply(os.path.basename)\n",
    "df_DEMSNOW = df_DEMSNOW.set_index(\"filename\")\n",
    "\n",
    "df = pd.DataFrame(index=df_DEM.index)\n",
    "df['DEM'] = df_DEM['DEM']\n",
    "df['SCE'] = df_SCE['SCE']\n",
    "df['HS'] = df_HS['HS']\n",
    "df['TPI'] = df_TPI11['TPI']\n",
    "df['TPIWGW'] = df_TPIWGW['TPIWGW']\n",
    "df['Aspect'] = df_Aspect['Aspect']\n",
    "# df['AspectSin'] = df_AspectSin['AspectSin']\n",
    "# df['AspectCos'] = df_AspectCos['AspectCos']\n",
    "df['Slope'] = df_Slope['Slope']\n",
    "df['FFSnow'] = df_FFSNOW['FFSnow']\n",
    "# df['Voronoi'] = df_Voronoi['Voronoi']\n",
    "# df['ProbStat'] = df_ProbStat['ProbStat']\n",
    "df['DEMSNOW'] = df_DEMSNOW['DEMSNOW']\n",
    "\n",
    "print(\"lost files\", len(df) - len(df.dropna()))\n",
    "df = df.dropna()\n",
    "df.columns"
   ]
  },
  {
   "cell_type": "code",
   "execution_count": 4,
   "metadata": {},
   "outputs": [],
   "source": [
    "# df"
   ]
  },
  {
   "cell_type": "code",
   "execution_count": 5,
   "metadata": {},
   "outputs": [],
   "source": [
    "files_df = df[\"HS\"].apply(lambda x: x.replace(\".tif\", \".pickle\")).to_frame()\n",
    "files_df['filename'] = files_df['HS']\n",
    "files_df = files_df.set_index(\"filename\")"
   ]
  },
  {
   "cell_type": "code",
   "execution_count": 6,
   "metadata": {},
   "outputs": [
    {
     "data": {
      "text/plain": [
       "zone\n",
       "HS_Davos_20170316_2m_epsg2056                                    886\n",
       "HS_Davos_20200406_2m_epsg2056                                    382\n",
       "HS_Davos_20211604_2m_epsg2056                                    350\n",
       "snowmap_2012_ads_80_extent_maskiert_nosnow0_noausreisser         314\n",
       "snowmap_2013_ads_80_extent_maskiert_nosnow0_noausreisser         313\n",
       "snowmap_2010_ads_80_extent_maskiert_nosnow0_noausreisser         305\n",
       "snowmap_20160420_ads_100_extent_maskiert_nosnow0_noausreisser    279\n",
       "snowmap_20160126_ads_100_extent_maskiert_nosnow0_noausreisser    277\n",
       "snowmap_2015_ads_100_extent_maskiert_nosnow0_noausreisser        276\n",
       "snowmap_20160309_ads_100_extent_maskiert_nosnow0_noausreisser    273\n",
       "snowmap_2014_ads_100_extent_maskiert_nosnow0_noausreisser        272\n",
       "HS_Davos_20180411_2m_epsg2056                                     76\n",
       "HS_c_20220223_1m_epsg2056                                         20\n",
       "HS_Laucherenalp_20220224_2m_epsg2056                              13\n",
       "HS_Saflischpass_20220512_1m_epsg2056                               8\n",
       "HS_Laucherenalp_20220511_1m_epsg2056                               6\n",
       "Name: count, dtype: int64"
      ]
     },
     "execution_count": 6,
     "metadata": {},
     "output_type": "execute_result"
    }
   ],
   "source": [
    "files_df = df[\"HS\"].apply(lambda x: x.replace(\".tif\", \".pickle\")).to_frame()\n",
    "files_df['filename'] = files_df['HS']\n",
    "files_df = files_df.set_index(\"filename\")\n",
    "files_df['zone'] = files_df[\"HS\"].apply(lambda x: x.split(\"__\")[0])\n",
    "files_df['file'] = files_df[\"HS\"].apply(lambda x: x.split(\"__\")[1])\n",
    "files_df['zone'].value_counts()"
   ]
  },
  {
   "cell_type": "code",
   "execution_count": 7,
   "metadata": {},
   "outputs": [],
   "source": [
    "files_df.reset_index(inplace=True)\n",
    "files_df['filename'] = files_df['filename'].apply(lambda x: os.path.join(files_path, \"Data\", x))"
   ]
  },
  {
   "cell_type": "code",
   "execution_count": 8,
   "metadata": {},
   "outputs": [],
   "source": [
    "pretrain = False\n",
    "\n",
    "if pretrain:\n",
    "    test_other = [\"HS_c_20220223_1m_epsg2056\", \"HS_Laucherenalp_20220224_2m_epsg2056\", \"HS_Laucherenalp_20220511_1m_epsg2056\", \"HS_Saflischpass_20220512_1m_epsg2056\"]\n",
    "    # test_davos = [\"HS_Davos_20200406_2m_epsg2056\"]\n",
    "    test_davos =  [\"HS_Davos_20170316_2m_epsg2056\"]\n",
    "\n",
    "    HS_bool = files_df['zone'].apply(lambda x: x.startswith(\"HS\"))\n",
    "    pret_df = files_df[~HS_bool]\n",
    "    pret_df.to_csv(files_path + \"/pretrain_df.csv\")\n",
    "\n",
    "    files_df_hs = files_df[HS_bool]\n",
    "    train_df = files_df_hs[(~files_df_hs['zone'].isin(test_other)) & (~files_df_hs['zone'].isin(test_davos))]\n",
    "    \n",
    "    test_other_df = files_df_hs[files_df_hs['zone'].isin(test_other)]\n",
    "    test_davos_df = files_df_hs[files_df_hs['zone'].isin(test_davos)]\n",
    "\n",
    "    train_df.to_csv(files_path + \"/train_df.csv\")\n",
    "    test_other_df.to_csv(files_path + \"/test_other_df.csv\")\n",
    "    test_davos_df.to_csv(files_path + \"/test_davos_df.csv\")\n",
    "\n",
    "else:\n",
    "    test_other = [\"HS_c_20220223_1m_epsg2056\", \"HS_Laucherenalp_20220224_2m_epsg2056\", \"HS_Laucherenalp_20220511_1m_epsg2056\", \"HS_Saflischpass_20220512_1m_epsg2056\"]\n",
    "    # test_other = [\"HS_c_20220223_1m_epsg2056\", \"HS_Laucherenalp_20220224_2m_epsg2056\"]\n",
    "    test_davos = [\"HS_Davos_20170316_2m_epsg2056\"]\n",
    "\n",
    "    test_other_df = files_df[files_df['zone'].isin(test_other)]\n",
    "    test_davos_df = files_df[files_df['zone'].isin(test_davos)]\n",
    "    train_df = files_df[(~files_df['zone'].isin(test_other)) & (~files_df['zone'].isin(test_davos))]\n",
    "\n",
    "    test_other_df.to_csv(files_path + \"/test_other_df.csv\")\n",
    "    test_davos_df.to_csv(files_path + \"/test_davos_df.csv\")\n",
    "    train_df.to_csv(files_path + \"/train_df.csv\")"
   ]
  },
  {
   "cell_type": "code",
   "execution_count": 9,
   "metadata": {},
   "outputs": [
    {
     "data": {
      "text/plain": [
       "(47, 886, 3117, 0.23037037037037036)"
      ]
     },
     "execution_count": 9,
     "metadata": {},
     "output_type": "execute_result"
    }
   ],
   "source": [
    "test_len =  sum([len(test_other_df), len(test_davos_df)])\n",
    "     \n",
    "len(test_other_df), len(test_davos_df), len(train_df), test_len/(len(train_df)+test_len) #len(pret_df), "
   ]
  },
  {
   "cell_type": "code",
   "execution_count": 13,
   "metadata": {},
   "outputs": [
    {
     "data": {
      "text/plain": [
       "1.1604938271604939"
      ]
     },
     "execution_count": 13,
     "metadata": {},
     "output_type": "execute_result"
    }
   ],
   "source": [
    "len(test_other_df)/(len(train_df) + test_len)*100"
   ]
  },
  {
   "cell_type": "code",
   "execution_count": 12,
   "metadata": {},
   "outputs": [
    {
     "data": {
      "text/plain": [
       "28.424767404555663"
      ]
     },
     "execution_count": 12,
     "metadata": {},
     "output_type": "execute_result"
    }
   ],
   "source": [
    "len(test_davos_df)/len(train_df)*100"
   ]
  },
  {
   "cell_type": "code",
   "execution_count": 10,
   "metadata": {},
   "outputs": [
    {
     "data": {
      "application/vnd.jupyter.widget-view+json": {
       "model_id": "11f3b7b67e0b4faaa28c52597d730811",
       "version_major": 2,
       "version_minor": 0
      },
      "text/plain": [
       "  0%|          | 0/4022 [00:00<?, ?it/s]"
      ]
     },
     "metadata": {},
     "output_type": "display_data"
    }
   ],
   "source": [
    "def read_image(type_, filename): \n",
    "    array = Image.open(os.path.join(files_path, type_, filename))\n",
    "    \n",
    "    array = np.array(array.getdata()).reshape(array.size[0], array.size[1])\n",
    "    return np.expand_dims(array, 0)\n",
    "\n",
    "outpath = os.path.join(files_path, \"Data\")\n",
    "os.makedirs(outpath, exist_ok=True)\n",
    "\n",
    "for index, row in tqdm(df.iterrows(), total=len(df)): \n",
    "    dem = read_image(\"DEM\", row['DEM'])\n",
    "    sce = read_image(\"SCE\", row['SCE'])\n",
    "    aspect = read_image(\"Aspect\", row['Aspect'])\n",
    "    aspectsin = read_image(\"Aspect\", row['AspectSin'])\n",
    "    aspectcos = read_image(\"Aspect\", row['AspectCos'])\n",
    "    slope = read_image(\"Slope\", row['Slope'])\n",
    "    tpi = read_image(\"TPI\", row['TPI'])\n",
    "    tpiwgw = read_image(\"TPIWGW\", row['TPIWGW'])\n",
    "    vor = read_image(\"Voronoi\", row['Voronoi'])\n",
    "    ps = read_image(\"ProbStat\", row['ProbStat'])\n",
    "    # dems = read_image(\"DEMSNOW\", row['DEMSNOW'])\n",
    "    # ffs = read_image(\"FFSnow\", row['FFSnow'])\n",
    "    hs = read_image(\"HS\", row['HS'])\n",
    "    \n",
    "    # final_array = np.concatenate([dem, sce, aspect, slope, tpi, tpiwgw, dems, ffs, hs])\n",
    "    final_array = np.concatenate([dem, sce, aspect, aspectsin, aspectcos, slope, tpi, tpiwgw, vor, ps, hs])\n",
    "    # final_array = np.concatenate([dem, sce, aspectsin, aspectcos, tpi, hs])\n",
    "    \n",
    "    with open(os.path.join(outpath, index.replace(\".tif\", \".pickle\")), \"wb\") as f: \n",
    "        pkl.dump(final_array, f)"
   ]
  },
  {
   "cell_type": "code",
   "execution_count": null,
   "metadata": {},
   "outputs": [],
   "source": []
  }
 ],
 "metadata": {
  "kernelspec": {
   "display_name": "gcc-py37",
   "language": "python",
   "name": "python3"
  },
  "language_info": {
   "codemirror_mode": {
    "name": "ipython",
    "version": 3
   },
   "file_extension": ".py",
   "mimetype": "text/x-python",
   "name": "python",
   "nbconvert_exporter": "python",
   "pygments_lexer": "ipython3",
   "version": "3.10.11"
  },
  "orig_nbformat": 4
 },
 "nbformat": 4,
 "nbformat_minor": 2
}
