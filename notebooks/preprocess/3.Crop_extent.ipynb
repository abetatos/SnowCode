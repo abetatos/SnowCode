{
 "cells": [
  {
   "cell_type": "code",
   "execution_count": 2,
   "metadata": {},
   "outputs": [],
   "source": [
    "\n",
    "import os\n",
    "import re\n",
    "import numpy as np\n",
    "\n",
    "from utils import access_raster, write_single_channel_gtiff\n",
    "\n",
    "import rasterio as rio\n",
    "from rasterio.windows import get_data_window, transform, Window\n",
    "\n",
    "from shapely.geometry import box\n",
    "from shapely.geometry import mapping\n",
    "\n",
    "import geopandas as gpd\n",
    "import rioxarray as rxr"
   ]
  },
  {
   "cell_type": "code",
   "execution_count": 3,
   "metadata": {},
   "outputs": [],
   "source": [
    "unitato_res = \"/home/abetatos/Escritorio/TFM_Dataset/2.Dataset_res5/\"\n",
    "unitato_base = \"/home/abetatos/Escritorio/TFM_Dataset/3.Basedataset/\""
   ]
  },
  {
   "cell_type": "code",
   "execution_count": 4,
   "metadata": {},
   "outputs": [],
   "source": [
    "input_path_HS = os.path.join(unitato_res, \"HS\")\n",
    "output_path_HS = os.path.join(unitato_base, \"HS\")\n",
    "os.makedirs(output_path_HS, exist_ok=True)\n",
    "\n",
    "HS_files = [f for f in os.listdir(input_path_HS) if re.search(\".tiff?$\", f)]\n"
   ]
  },
  {
   "attachments": {},
   "cell_type": "markdown",
   "metadata": {},
   "source": [
    "# HS"
   ]
  },
  {
   "cell_type": "code",
   "execution_count": 5,
   "metadata": {},
   "outputs": [
    {
     "name": "stdout",
     "output_type": "stream",
     "text": [
      "snowmap_20160309_ads_100_extent_maskiert_nosnow0_noausreisser.tif\n",
      "14.999023 -7098.0605 -9999.0\n",
      "HS_Davos_20211604_2m_epsg2056.tif\n",
      "9.91038 -6012.1206 -9999.0\n",
      "snowmap_2012_ads_80_extent_maskiert_nosnow0_noausreisser.tif\n",
      "14.994385 -6836.6567 -9999.0\n",
      "HS_Laucherenalp_20220224_2m_epsg2056.tif\n",
      "26.533447 -9174.224 -9999.0\n",
      "snowmap_2010_ads_80_extent_maskiert_nosnow0_noausreisser.tif\n",
      "15.0 -6921.3945 -9999.0\n",
      "HS_Davos_20200406_2m_epsg2056.tif\n",
      "9.553748 -6051.4487 -9999.0\n",
      "HS_c_20220223_1m_epsg2056.tif\n",
      "16.229492 -4975.13 -9999.0\n",
      "snowmap_20160420_ads_100_extent_maskiert_nosnow0_noausreisser.tif\n",
      "14.998779 -7095.5176 -9999.0\n",
      "snowmap_2014_ads_100_extent_maskiert_nosnow0_noausreisser.tif\n",
      "14.975586 -7146.1094 -9999.0\n",
      "HS_Davos_20180411_2m_epsg2056.tif\n",
      "9.043191 -6762.6606 -9999.0\n",
      "snowmap_2013_ads_80_extent_maskiert_nosnow0_noausreisser.tif\n",
      "14.994385 -6841.78 -9999.0\n",
      "HS_Davos_20170316_2m_epsg2056.tif\n",
      "9.911215 -5579.924 -9999.0\n",
      "HS_Laucherenalp_20220511_1m_epsg2056.tif\n",
      "9.746826 -7623.67 -9999.0\n",
      "HS_Saflischpass_20220512_1m_epsg2056.tif\n",
      "15.920654 -6490.142 -9999.0\n",
      "snowmap_20160126_ads_100_extent_maskiert_nosnow0_noausreisser.tif\n",
      "14.997803 -7077.154 -9999.0\n",
      "snowmap_2015_ads_100_extent_maskiert_nosnow0_noausreisser.tif\n",
      "14.973145 -7126.044 -9999.0\n"
     ]
    }
   ],
   "source": [
    "\n",
    "for f in HS_files: \n",
    "    print(f)\n",
    "    # Apply window to get short \n",
    "    with rio.open(os.path.join(input_path_HS, f)) as src:\n",
    "        profile = src.profile.copy()\n",
    "        data_window = get_data_window(src.read(masked=True))\n",
    "        data_transform = transform(data_window, src.transform)\n",
    "        profile.update(\n",
    "            transform=data_transform,\n",
    "            height=data_window.height,\n",
    "            width=data_window.width\n",
    "            )\n",
    "        data = src.read(window=data_window)\n",
    "        array = data[0]\n",
    "        array[array<=profile['nodata']] = -9999.\n",
    "        profile.update({\"nodata\": -9999.})\n",
    "\n",
    "    out_path = os.path.join(output_path_HS,  os.path.splitext(f)[0])\n",
    "    try: \n",
    "        os.makedirs(out_path)\n",
    "    except: \n",
    "        pass\n",
    "    \n",
    "    with rio.open(os.path.join(out_path, \"HS.tif\"), \"w\", **profile) as src: \n",
    "        src.write(data)\n",
    "\n",
    "    HS_raster = access_raster(os.path.join(out_path, \"HS.tif\"))\n",
    "    HS_geodf = gpd.GeoDataFrame(geometry=[box(*HS_raster['extent'], ccw=False)], crs=HS_raster['meta']['crs'])\n",
    "    HS_geodf\n",
    "    \n",
    "    out_extent = os.path.join(out_path, \"extent.shp\")\n",
    "    HS_geodf.to_file(out_extent)"
   ]
  },
  {
   "attachments": {},
   "cell_type": "markdown",
   "metadata": {},
   "source": [
    "DEM"
   ]
  },
  {
   "cell_type": "code",
   "execution_count": 42,
   "metadata": {},
   "outputs": [
    {
     "name": "stdout",
     "output_type": "stream",
     "text": [
      "snowmap_20160309_ads_100_extent_maskiert_nosnow0_noausreisser.tif\n"
     ]
    },
    {
     "name": "stderr",
     "output_type": "stream",
     "text": [
      "/home/abetatos/miniconda3/lib/python3.10/site-packages/pyproj/crs/_cf1x8.py:514: UserWarning: angle from rectified to skew grid parameter lost in conversion to CF\n",
      "  warnings.warn(\n",
      "/home/abetatos/miniconda3/lib/python3.10/site-packages/pyproj/crs/_cf1x8.py:514: UserWarning: angle from rectified to skew grid parameter lost in conversion to CF\n",
      "  warnings.warn(\n",
      "/home/abetatos/miniconda3/lib/python3.10/site-packages/pyproj/crs/_cf1x8.py:514: UserWarning: angle from rectified to skew grid parameter lost in conversion to CF\n",
      "  warnings.warn(\n"
     ]
    },
    {
     "name": "stdout",
     "output_type": "stream",
     "text": [
      "0 15104440\n",
      "HS_Davos_20211604_2m_epsg2056.tif\n"
     ]
    },
    {
     "name": "stderr",
     "output_type": "stream",
     "text": [
      "/home/abetatos/miniconda3/lib/python3.10/site-packages/pyproj/crs/_cf1x8.py:514: UserWarning: angle from rectified to skew grid parameter lost in conversion to CF\n",
      "  warnings.warn(\n",
      "/home/abetatos/miniconda3/lib/python3.10/site-packages/pyproj/crs/_cf1x8.py:514: UserWarning: angle from rectified to skew grid parameter lost in conversion to CF\n",
      "  warnings.warn(\n"
     ]
    },
    {
     "name": "stdout",
     "output_type": "stream",
     "text": [
      "0 14927616\n",
      "snowmap_2012_ads_80_extent_maskiert_nosnow0_noausreisser.tif\n"
     ]
    },
    {
     "name": "stderr",
     "output_type": "stream",
     "text": [
      "/home/abetatos/miniconda3/lib/python3.10/site-packages/pyproj/crs/_cf1x8.py:514: UserWarning: angle from rectified to skew grid parameter lost in conversion to CF\n",
      "  warnings.warn(\n",
      "/home/abetatos/miniconda3/lib/python3.10/site-packages/pyproj/crs/_cf1x8.py:514: UserWarning: angle from rectified to skew grid parameter lost in conversion to CF\n",
      "  warnings.warn(\n"
     ]
    },
    {
     "name": "stdout",
     "output_type": "stream",
     "text": [
      "0 15999830\n",
      "HS_Laucherenalp_20220224_2m_epsg2056.tif\n"
     ]
    },
    {
     "name": "stderr",
     "output_type": "stream",
     "text": [
      "/home/abetatos/miniconda3/lib/python3.10/site-packages/pyproj/crs/_cf1x8.py:514: UserWarning: angle from rectified to skew grid parameter lost in conversion to CF\n",
      "  warnings.warn(\n",
      "/home/abetatos/miniconda3/lib/python3.10/site-packages/pyproj/crs/_cf1x8.py:514: UserWarning: angle from rectified to skew grid parameter lost in conversion to CF\n",
      "  warnings.warn(\n"
     ]
    },
    {
     "name": "stdout",
     "output_type": "stream",
     "text": [
      "0 554320\n",
      "snowmap_2010_ads_80_extent_maskiert_nosnow0_noausreisser.tif\n"
     ]
    },
    {
     "name": "stderr",
     "output_type": "stream",
     "text": [
      "/home/abetatos/miniconda3/lib/python3.10/site-packages/pyproj/crs/_cf1x8.py:514: UserWarning: angle from rectified to skew grid parameter lost in conversion to CF\n",
      "  warnings.warn(\n"
     ]
    },
    {
     "name": "stdout",
     "output_type": "stream",
     "text": [
      "0 15924270\n",
      "HS_Davos_20200406_2m_epsg2056.tif\n"
     ]
    },
    {
     "name": "stderr",
     "output_type": "stream",
     "text": [
      "/home/abetatos/miniconda3/lib/python3.10/site-packages/pyproj/crs/_cf1x8.py:514: UserWarning: angle from rectified to skew grid parameter lost in conversion to CF\n",
      "  warnings.warn(\n",
      "/home/abetatos/miniconda3/lib/python3.10/site-packages/pyproj/crs/_cf1x8.py:514: UserWarning: angle from rectified to skew grid parameter lost in conversion to CF\n",
      "  warnings.warn(\n",
      "/home/abetatos/miniconda3/lib/python3.10/site-packages/pyproj/crs/_cf1x8.py:514: UserWarning: angle from rectified to skew grid parameter lost in conversion to CF\n",
      "  warnings.warn(\n"
     ]
    },
    {
     "name": "stdout",
     "output_type": "stream",
     "text": [
      "0 16322404\n",
      "HS_c_20220223_1m_epsg2056.tif\n"
     ]
    },
    {
     "name": "stderr",
     "output_type": "stream",
     "text": [
      "/home/abetatos/miniconda3/lib/python3.10/site-packages/pyproj/crs/_cf1x8.py:514: UserWarning: angle from rectified to skew grid parameter lost in conversion to CF\n",
      "  warnings.warn(\n",
      "/home/abetatos/miniconda3/lib/python3.10/site-packages/pyproj/crs/_cf1x8.py:514: UserWarning: angle from rectified to skew grid parameter lost in conversion to CF\n",
      "  warnings.warn(\n"
     ]
    },
    {
     "name": "stdout",
     "output_type": "stream",
     "text": [
      "0 521916\n",
      "snowmap_20160420_ads_100_extent_maskiert_nosnow0_noausreisser.tif\n"
     ]
    },
    {
     "name": "stderr",
     "output_type": "stream",
     "text": [
      "/home/abetatos/miniconda3/lib/python3.10/site-packages/pyproj/crs/_cf1x8.py:514: UserWarning: angle from rectified to skew grid parameter lost in conversion to CF\n",
      "  warnings.warn(\n",
      "/home/abetatos/miniconda3/lib/python3.10/site-packages/pyproj/crs/_cf1x8.py:514: UserWarning: angle from rectified to skew grid parameter lost in conversion to CF\n",
      "  warnings.warn(\n"
     ]
    },
    {
     "name": "stdout",
     "output_type": "stream",
     "text": [
      "0 15149416\n",
      "snowmap_2014_ads_100_extent_maskiert_nosnow0_noausreisser.tif\n"
     ]
    },
    {
     "name": "stderr",
     "output_type": "stream",
     "text": [
      "/home/abetatos/miniconda3/lib/python3.10/site-packages/pyproj/crs/_cf1x8.py:514: UserWarning: angle from rectified to skew grid parameter lost in conversion to CF\n",
      "  warnings.warn(\n",
      "/home/abetatos/miniconda3/lib/python3.10/site-packages/pyproj/crs/_cf1x8.py:514: UserWarning: angle from rectified to skew grid parameter lost in conversion to CF\n",
      "  warnings.warn(\n"
     ]
    },
    {
     "name": "stdout",
     "output_type": "stream",
     "text": [
      "0 15219900\n",
      "HS_Davos_20180411_2m_epsg2056.tif\n"
     ]
    },
    {
     "name": "stderr",
     "output_type": "stream",
     "text": [
      "/home/abetatos/miniconda3/lib/python3.10/site-packages/pyproj/crs/_cf1x8.py:514: UserWarning: angle from rectified to skew grid parameter lost in conversion to CF\n",
      "  warnings.warn(\n",
      "/home/abetatos/miniconda3/lib/python3.10/site-packages/pyproj/crs/_cf1x8.py:514: UserWarning: angle from rectified to skew grid parameter lost in conversion to CF\n",
      "  warnings.warn(\n"
     ]
    },
    {
     "name": "stdout",
     "output_type": "stream",
     "text": [
      "0 4260238\n",
      "snowmap_2013_ads_80_extent_maskiert_nosnow0_noausreisser.tif\n"
     ]
    },
    {
     "name": "stderr",
     "output_type": "stream",
     "text": [
      "/home/abetatos/miniconda3/lib/python3.10/site-packages/pyproj/crs/_cf1x8.py:514: UserWarning: angle from rectified to skew grid parameter lost in conversion to CF\n",
      "  warnings.warn(\n"
     ]
    },
    {
     "name": "stdout",
     "output_type": "stream",
     "text": [
      "0 15928048\n",
      "HS_Davos_20170316_2m_epsg2056.tif\n"
     ]
    },
    {
     "name": "stderr",
     "output_type": "stream",
     "text": [
      "/home/abetatos/miniconda3/lib/python3.10/site-packages/pyproj/crs/_cf1x8.py:514: UserWarning: angle from rectified to skew grid parameter lost in conversion to CF\n",
      "  warnings.warn(\n",
      "/home/abetatos/miniconda3/lib/python3.10/site-packages/pyproj/crs/_cf1x8.py:514: UserWarning: angle from rectified to skew grid parameter lost in conversion to CF\n",
      "  warnings.warn(\n"
     ]
    },
    {
     "name": "stdout",
     "output_type": "stream",
     "text": [
      "560179 32858789\n",
      "HS_Laucherenalp_20220511_1m_epsg2056.tif\n"
     ]
    },
    {
     "name": "stderr",
     "output_type": "stream",
     "text": [
      "/home/abetatos/miniconda3/lib/python3.10/site-packages/pyproj/crs/_cf1x8.py:514: UserWarning: angle from rectified to skew grid parameter lost in conversion to CF\n",
      "  warnings.warn(\n",
      "/home/abetatos/miniconda3/lib/python3.10/site-packages/pyproj/crs/_cf1x8.py:514: UserWarning: angle from rectified to skew grid parameter lost in conversion to CF\n",
      "  warnings.warn(\n",
      "/home/abetatos/miniconda3/lib/python3.10/site-packages/pyproj/crs/_cf1x8.py:514: UserWarning: angle from rectified to skew grid parameter lost in conversion to CF\n",
      "  warnings.warn(\n"
     ]
    },
    {
     "name": "stdout",
     "output_type": "stream",
     "text": [
      "0 380323\n",
      "HS_Saflischpass_20220512_1m_epsg2056.tif\n"
     ]
    },
    {
     "name": "stderr",
     "output_type": "stream",
     "text": [
      "/home/abetatos/miniconda3/lib/python3.10/site-packages/pyproj/crs/_cf1x8.py:514: UserWarning: angle from rectified to skew grid parameter lost in conversion to CF\n",
      "  warnings.warn(\n",
      "/home/abetatos/miniconda3/lib/python3.10/site-packages/pyproj/crs/_cf1x8.py:514: UserWarning: angle from rectified to skew grid parameter lost in conversion to CF\n",
      "  warnings.warn(\n"
     ]
    },
    {
     "name": "stdout",
     "output_type": "stream",
     "text": [
      "0 511224\n",
      "snowmap_20160126_ads_100_extent_maskiert_nosnow0_noausreisser.tif\n"
     ]
    },
    {
     "name": "stderr",
     "output_type": "stream",
     "text": [
      "/home/abetatos/miniconda3/lib/python3.10/site-packages/pyproj/crs/_cf1x8.py:514: UserWarning: angle from rectified to skew grid parameter lost in conversion to CF\n",
      "  warnings.warn(\n",
      "/home/abetatos/miniconda3/lib/python3.10/site-packages/pyproj/crs/_cf1x8.py:514: UserWarning: angle from rectified to skew grid parameter lost in conversion to CF\n",
      "  warnings.warn(\n"
     ]
    },
    {
     "name": "stdout",
     "output_type": "stream",
     "text": [
      "0 15168156\n",
      "snowmap_2015_ads_100_extent_maskiert_nosnow0_noausreisser.tif\n",
      "0 15219900\n"
     ]
    },
    {
     "name": "stderr",
     "output_type": "stream",
     "text": [
      "/home/abetatos/miniconda3/lib/python3.10/site-packages/pyproj/crs/_cf1x8.py:514: UserWarning: angle from rectified to skew grid parameter lost in conversion to CF\n",
      "  warnings.warn(\n"
     ]
    }
   ],
   "source": [
    "input_path_DEM = os.path.join(unitato_res, \"DEM\")\n",
    "output_path_DEM = os.path.join(unitato_base, \"DEM\")\n",
    "\n",
    "input_path_HS = rf\"{unitato_base}HS\"\n",
    "for f in HS_files: \n",
    "    print(f)\n",
    "    for DEM_file in os.listdir(input_path_DEM): \n",
    "        input_DEM = os.path.join(input_path_DEM, DEM_file)\n",
    "        aoi = os.path.join(input_path_HS, os.path.splitext(f)[0], \"extent.shp\")\n",
    "        try:\n",
    "            cropped_im_data = access_raster(input_DEM, aoi=aoi)\n",
    "        except ValueError: \n",
    "            continue\n",
    "        print(\"\\t\", DEM_file)\n",
    "        \n",
    "        gdf = gpd.GeoDataFrame.from_file(aoi)\n",
    "        rxr_DEM = rxr.open_rasterio(input_DEM, masked=True).squeeze()\n",
    "        rxr_DEM = rxr_DEM.rio.clip(gdf.geometry.apply(mapping))\n",
    "        \n",
    "        try:\n",
    "            os.makedirs(os.path.join(output_path_DEM, os.path.splitext(f)[0]))\n",
    "        except: \n",
    "            pass\n",
    "        output_file = os.path.join(output_path_DEM, os.path.splitext(f)[0], \"DEM.tif\")\n",
    "        rxr_DEM.rio.to_raster(output_file)\n",
    "\n",
    "        with rio.open(output_file, \"r\") as src: \n",
    "            array = src.read()\n",
    "            nodata = src.profile['nodata']\n",
    "            print((array==nodata).sum(), (array!=nodata).sum())"
   ]
  },
  {
   "attachments": {},
   "cell_type": "markdown",
   "metadata": {},
   "source": [
    "# SCE"
   ]
  },
  {
   "cell_type": "code",
   "execution_count": 5,
   "metadata": {},
   "outputs": [
    {
     "name": "stdout",
     "output_type": "stream",
     "text": [
      "snowmap_20160309_ads_100_extent_maskiert_nosnow0_noausreisser.tif\n",
      "HS_Davos_20211604_2m_epsg2056.tif\n",
      "snowmap_2012_ads_80_extent_maskiert_nosnow0_noausreisser.tif\n",
      "HS_Laucherenalp_20220224_2m_epsg2056.tif\n",
      "snowmap_2010_ads_80_extent_maskiert_nosnow0_noausreisser.tif\n",
      "HS_Davos_20200406_2m_epsg2056.tif\n",
      "HS_c_20220223_1m_epsg2056.tif\n",
      "snowmap_20160420_ads_100_extent_maskiert_nosnow0_noausreisser.tif\n",
      "snowmap_2014_ads_100_extent_maskiert_nosnow0_noausreisser.tif\n",
      "HS_Davos_20180411_2m_epsg2056.tif\n",
      "snowmap_2013_ads_80_extent_maskiert_nosnow0_noausreisser.tif\n",
      "HS_Davos_20170316_2m_epsg2056.tif\n",
      "HS_Laucherenalp_20220511_1m_epsg2056.tif\n",
      "HS_Saflischpass_20220512_1m_epsg2056.tif\n",
      "snowmap_20160126_ads_100_extent_maskiert_nosnow0_noausreisser.tif\n",
      "snowmap_2015_ads_100_extent_maskiert_nosnow0_noausreisser.tif\n"
     ]
    }
   ],
   "source": [
    "input_path_SCE = os.path.join(unitato_res, \"SCE\")\n",
    "output_path_SCE = os.path.join(unitato_base, \"SCE\")\n",
    "\n",
    "input_path_HS = rf\"{unitato_base}HS\"\n",
    "\n",
    "input_SCE = f\"{unitato_res}SCE/SCE.tif\"\n",
    "\n",
    "# rxr_DEM = rxr.open_rasterio(input_SCE, masked=True).squeeze()\n",
    "    \n",
    "    \n",
    "for f in HS_files: \n",
    "    print(f)\n",
    "    aoi = os.path.join(input_path_HS, os.path.splitext(f)[0], \"extent.shp\")\n",
    "    gdf = gpd.GeoDataFrame.from_file(aoi)\n",
    "    \n",
    "    cropped_im_data = access_raster(input_SCE, aoi=aoi)\n",
    "    \n",
    "    try:\n",
    "        os.makedirs(os.path.join(output_path_SCE, os.path.splitext(f)[0]))\n",
    "    except: \n",
    "        pass\n",
    "    \n",
    "    write_single_channel_gtiff(cropped_im_data['array'].squeeze(), \n",
    "                                transform=cropped_im_data['transform'], \n",
    "                                meta = cropped_im_data['meta'],  \n",
    "                                out_path = os.path.join(output_path_SCE, os.path.splitext(f)[0], \"SCE.tif\"), \n",
    "                                nodata = cropped_im_data['meta']['nodata']\n",
    "                                )"
   ]
  },
  {
   "attachments": {},
   "cell_type": "markdown",
   "metadata": {},
   "source": [
    "# Aspect"
   ]
  },
  {
   "cell_type": "code",
   "execution_count": 6,
   "metadata": {},
   "outputs": [
    {
     "name": "stdout",
     "output_type": "stream",
     "text": [
      "snowmap_20160309_ads_100_extent_maskiert_nosnow0_noausreisser.tif\n",
      "\t Davos.tif\n",
      "/home/abetatos/Escritorio/TFM_Dataset/2.Dataset_res5/Aspect/Davos.tif\n",
      "/home/abetatos/Escritorio/TFM_Dataset/3.Basedataset/HS/snowmap_20160309_ads_100_extent_maskiert_nosnow0_noausreisser/extent.shp\n"
     ]
    },
    {
     "name": "stderr",
     "output_type": "stream",
     "text": [
      "/home/abetatos/miniconda3/lib/python3.10/site-packages/pyproj/crs/_cf1x8.py:514: UserWarning: angle from rectified to skew grid parameter lost in conversion to CF\n",
      "  warnings.warn(\n",
      "/home/abetatos/miniconda3/lib/python3.10/site-packages/pyproj/crs/_cf1x8.py:514: UserWarning: angle from rectified to skew grid parameter lost in conversion to CF\n",
      "  warnings.warn(\n",
      "/home/abetatos/miniconda3/lib/python3.10/site-packages/pyproj/crs/_cf1x8.py:514: UserWarning: angle from rectified to skew grid parameter lost in conversion to CF\n",
      "  warnings.warn(\n"
     ]
    },
    {
     "name": "stdout",
     "output_type": "stream",
     "text": [
      "HS_Davos_20211604_2m_epsg2056.tif\n",
      "\t Davos.tif\n",
      "/home/abetatos/Escritorio/TFM_Dataset/2.Dataset_res5/Aspect/Davos.tif\n",
      "/home/abetatos/Escritorio/TFM_Dataset/3.Basedataset/HS/HS_Davos_20211604_2m_epsg2056/extent.shp\n"
     ]
    },
    {
     "name": "stderr",
     "output_type": "stream",
     "text": [
      "/home/abetatos/miniconda3/lib/python3.10/site-packages/pyproj/crs/_cf1x8.py:514: UserWarning: angle from rectified to skew grid parameter lost in conversion to CF\n",
      "  warnings.warn(\n",
      "/home/abetatos/miniconda3/lib/python3.10/site-packages/pyproj/crs/_cf1x8.py:514: UserWarning: angle from rectified to skew grid parameter lost in conversion to CF\n",
      "  warnings.warn(\n"
     ]
    },
    {
     "name": "stdout",
     "output_type": "stream",
     "text": [
      "snowmap_2012_ads_80_extent_maskiert_nosnow0_noausreisser.tif\n",
      "\t Davos.tif\n",
      "/home/abetatos/Escritorio/TFM_Dataset/2.Dataset_res5/Aspect/Davos.tif\n",
      "/home/abetatos/Escritorio/TFM_Dataset/3.Basedataset/HS/snowmap_2012_ads_80_extent_maskiert_nosnow0_noausreisser/extent.shp\n"
     ]
    },
    {
     "name": "stderr",
     "output_type": "stream",
     "text": [
      "/home/abetatos/miniconda3/lib/python3.10/site-packages/pyproj/crs/_cf1x8.py:514: UserWarning: angle from rectified to skew grid parameter lost in conversion to CF\n",
      "  warnings.warn(\n",
      "/home/abetatos/miniconda3/lib/python3.10/site-packages/pyproj/crs/_cf1x8.py:514: UserWarning: angle from rectified to skew grid parameter lost in conversion to CF\n",
      "  warnings.warn(\n"
     ]
    },
    {
     "name": "stdout",
     "output_type": "stream",
     "text": [
      "HS_Laucherenalp_20220224_2m_epsg2056.tif\n",
      "\t Valais.tif\n",
      "/home/abetatos/Escritorio/TFM_Dataset/2.Dataset_res5/Aspect/Valais.tif\n",
      "/home/abetatos/Escritorio/TFM_Dataset/3.Basedataset/HS/HS_Laucherenalp_20220224_2m_epsg2056/extent.shp\n"
     ]
    },
    {
     "name": "stderr",
     "output_type": "stream",
     "text": [
      "/home/abetatos/miniconda3/lib/python3.10/site-packages/pyproj/crs/_cf1x8.py:514: UserWarning: angle from rectified to skew grid parameter lost in conversion to CF\n",
      "  warnings.warn(\n",
      "/home/abetatos/miniconda3/lib/python3.10/site-packages/pyproj/crs/_cf1x8.py:514: UserWarning: angle from rectified to skew grid parameter lost in conversion to CF\n",
      "  warnings.warn(\n"
     ]
    },
    {
     "name": "stdout",
     "output_type": "stream",
     "text": [
      "snowmap_2010_ads_80_extent_maskiert_nosnow0_noausreisser.tif\n",
      "\t Davos.tif\n",
      "/home/abetatos/Escritorio/TFM_Dataset/2.Dataset_res5/Aspect/Davos.tif\n",
      "/home/abetatos/Escritorio/TFM_Dataset/3.Basedataset/HS/snowmap_2010_ads_80_extent_maskiert_nosnow0_noausreisser/extent.shp\n"
     ]
    },
    {
     "name": "stderr",
     "output_type": "stream",
     "text": [
      "/home/abetatos/miniconda3/lib/python3.10/site-packages/pyproj/crs/_cf1x8.py:514: UserWarning: angle from rectified to skew grid parameter lost in conversion to CF\n",
      "  warnings.warn(\n",
      "/home/abetatos/miniconda3/lib/python3.10/site-packages/pyproj/crs/_cf1x8.py:514: UserWarning: angle from rectified to skew grid parameter lost in conversion to CF\n",
      "  warnings.warn(\n"
     ]
    },
    {
     "name": "stdout",
     "output_type": "stream",
     "text": [
      "HS_Davos_20200406_2m_epsg2056.tif\n",
      "\t Davos.tif\n",
      "/home/abetatos/Escritorio/TFM_Dataset/2.Dataset_res5/Aspect/Davos.tif\n",
      "/home/abetatos/Escritorio/TFM_Dataset/3.Basedataset/HS/HS_Davos_20200406_2m_epsg2056/extent.shp\n"
     ]
    },
    {
     "name": "stderr",
     "output_type": "stream",
     "text": [
      "/home/abetatos/miniconda3/lib/python3.10/site-packages/pyproj/crs/_cf1x8.py:514: UserWarning: angle from rectified to skew grid parameter lost in conversion to CF\n",
      "  warnings.warn(\n",
      "/home/abetatos/miniconda3/lib/python3.10/site-packages/pyproj/crs/_cf1x8.py:514: UserWarning: angle from rectified to skew grid parameter lost in conversion to CF\n",
      "  warnings.warn(\n"
     ]
    },
    {
     "name": "stdout",
     "output_type": "stream",
     "text": [
      "HS_c_20220223_1m_epsg2056.tif\n",
      "\t Valais.tif\n",
      "/home/abetatos/Escritorio/TFM_Dataset/2.Dataset_res5/Aspect/Valais.tif\n",
      "/home/abetatos/Escritorio/TFM_Dataset/3.Basedataset/HS/HS_c_20220223_1m_epsg2056/extent.shp\n"
     ]
    },
    {
     "name": "stderr",
     "output_type": "stream",
     "text": [
      "/home/abetatos/miniconda3/lib/python3.10/site-packages/pyproj/crs/_cf1x8.py:514: UserWarning: angle from rectified to skew grid parameter lost in conversion to CF\n",
      "  warnings.warn(\n",
      "/home/abetatos/miniconda3/lib/python3.10/site-packages/pyproj/crs/_cf1x8.py:514: UserWarning: angle from rectified to skew grid parameter lost in conversion to CF\n",
      "  warnings.warn(\n"
     ]
    },
    {
     "name": "stdout",
     "output_type": "stream",
     "text": [
      "snowmap_20160420_ads_100_extent_maskiert_nosnow0_noausreisser.tif\n",
      "\t Davos.tif\n",
      "/home/abetatos/Escritorio/TFM_Dataset/2.Dataset_res5/Aspect/Davos.tif\n",
      "/home/abetatos/Escritorio/TFM_Dataset/3.Basedataset/HS/snowmap_20160420_ads_100_extent_maskiert_nosnow0_noausreisser/extent.shp\n"
     ]
    },
    {
     "name": "stderr",
     "output_type": "stream",
     "text": [
      "/home/abetatos/miniconda3/lib/python3.10/site-packages/pyproj/crs/_cf1x8.py:514: UserWarning: angle from rectified to skew grid parameter lost in conversion to CF\n",
      "  warnings.warn(\n",
      "/home/abetatos/miniconda3/lib/python3.10/site-packages/pyproj/crs/_cf1x8.py:514: UserWarning: angle from rectified to skew grid parameter lost in conversion to CF\n",
      "  warnings.warn(\n"
     ]
    },
    {
     "name": "stdout",
     "output_type": "stream",
     "text": [
      "snowmap_2014_ads_100_extent_maskiert_nosnow0_noausreisser.tif\n",
      "\t Davos.tif\n",
      "/home/abetatos/Escritorio/TFM_Dataset/2.Dataset_res5/Aspect/Davos.tif\n",
      "/home/abetatos/Escritorio/TFM_Dataset/3.Basedataset/HS/snowmap_2014_ads_100_extent_maskiert_nosnow0_noausreisser/extent.shp\n"
     ]
    },
    {
     "name": "stderr",
     "output_type": "stream",
     "text": [
      "/home/abetatos/miniconda3/lib/python3.10/site-packages/pyproj/crs/_cf1x8.py:514: UserWarning: angle from rectified to skew grid parameter lost in conversion to CF\n",
      "  warnings.warn(\n",
      "/home/abetatos/miniconda3/lib/python3.10/site-packages/pyproj/crs/_cf1x8.py:514: UserWarning: angle from rectified to skew grid parameter lost in conversion to CF\n",
      "  warnings.warn(\n"
     ]
    },
    {
     "name": "stdout",
     "output_type": "stream",
     "text": [
      "HS_Davos_20180411_2m_epsg2056.tif\n",
      "\t Davos.tif\n",
      "/home/abetatos/Escritorio/TFM_Dataset/2.Dataset_res5/Aspect/Davos.tif\n",
      "/home/abetatos/Escritorio/TFM_Dataset/3.Basedataset/HS/HS_Davos_20180411_2m_epsg2056/extent.shp\n"
     ]
    },
    {
     "name": "stderr",
     "output_type": "stream",
     "text": [
      "/home/abetatos/miniconda3/lib/python3.10/site-packages/pyproj/crs/_cf1x8.py:514: UserWarning: angle from rectified to skew grid parameter lost in conversion to CF\n",
      "  warnings.warn(\n",
      "/home/abetatos/miniconda3/lib/python3.10/site-packages/pyproj/crs/_cf1x8.py:514: UserWarning: angle from rectified to skew grid parameter lost in conversion to CF\n",
      "  warnings.warn(\n"
     ]
    },
    {
     "name": "stdout",
     "output_type": "stream",
     "text": [
      "snowmap_2013_ads_80_extent_maskiert_nosnow0_noausreisser.tif\n",
      "\t Davos.tif\n",
      "/home/abetatos/Escritorio/TFM_Dataset/2.Dataset_res5/Aspect/Davos.tif\n",
      "/home/abetatos/Escritorio/TFM_Dataset/3.Basedataset/HS/snowmap_2013_ads_80_extent_maskiert_nosnow0_noausreisser/extent.shp\n"
     ]
    },
    {
     "name": "stderr",
     "output_type": "stream",
     "text": [
      "/home/abetatos/miniconda3/lib/python3.10/site-packages/pyproj/crs/_cf1x8.py:514: UserWarning: angle from rectified to skew grid parameter lost in conversion to CF\n",
      "  warnings.warn(\n"
     ]
    },
    {
     "name": "stdout",
     "output_type": "stream",
     "text": [
      "HS_Davos_20170316_2m_epsg2056.tif\n",
      "\t Davos.tif\n",
      "/home/abetatos/Escritorio/TFM_Dataset/2.Dataset_res5/Aspect/Davos.tif\n",
      "/home/abetatos/Escritorio/TFM_Dataset/3.Basedataset/HS/HS_Davos_20170316_2m_epsg2056/extent.shp\n"
     ]
    },
    {
     "name": "stderr",
     "output_type": "stream",
     "text": [
      "/home/abetatos/miniconda3/lib/python3.10/site-packages/pyproj/crs/_cf1x8.py:514: UserWarning: angle from rectified to skew grid parameter lost in conversion to CF\n",
      "  warnings.warn(\n",
      "/home/abetatos/miniconda3/lib/python3.10/site-packages/pyproj/crs/_cf1x8.py:514: UserWarning: angle from rectified to skew grid parameter lost in conversion to CF\n",
      "  warnings.warn(\n",
      "/home/abetatos/miniconda3/lib/python3.10/site-packages/pyproj/crs/_cf1x8.py:514: UserWarning: angle from rectified to skew grid parameter lost in conversion to CF\n",
      "  warnings.warn(\n"
     ]
    },
    {
     "name": "stdout",
     "output_type": "stream",
     "text": [
      "HS_Laucherenalp_20220511_1m_epsg2056.tif\n",
      "\t Valais.tif\n",
      "/home/abetatos/Escritorio/TFM_Dataset/2.Dataset_res5/Aspect/Valais.tif\n",
      "/home/abetatos/Escritorio/TFM_Dataset/3.Basedataset/HS/HS_Laucherenalp_20220511_1m_epsg2056/extent.shp\n"
     ]
    },
    {
     "name": "stderr",
     "output_type": "stream",
     "text": [
      "/home/abetatos/miniconda3/lib/python3.10/site-packages/pyproj/crs/_cf1x8.py:514: UserWarning: angle from rectified to skew grid parameter lost in conversion to CF\n",
      "  warnings.warn(\n",
      "/home/abetatos/miniconda3/lib/python3.10/site-packages/pyproj/crs/_cf1x8.py:514: UserWarning: angle from rectified to skew grid parameter lost in conversion to CF\n",
      "  warnings.warn(\n"
     ]
    },
    {
     "name": "stdout",
     "output_type": "stream",
     "text": [
      "HS_Saflischpass_20220512_1m_epsg2056.tif\n",
      "\t Valais.tif\n",
      "/home/abetatos/Escritorio/TFM_Dataset/2.Dataset_res5/Aspect/Valais.tif\n",
      "/home/abetatos/Escritorio/TFM_Dataset/3.Basedataset/HS/HS_Saflischpass_20220512_1m_epsg2056/extent.shp\n"
     ]
    },
    {
     "name": "stderr",
     "output_type": "stream",
     "text": [
      "/home/abetatos/miniconda3/lib/python3.10/site-packages/pyproj/crs/_cf1x8.py:514: UserWarning: angle from rectified to skew grid parameter lost in conversion to CF\n",
      "  warnings.warn(\n",
      "/home/abetatos/miniconda3/lib/python3.10/site-packages/pyproj/crs/_cf1x8.py:514: UserWarning: angle from rectified to skew grid parameter lost in conversion to CF\n",
      "  warnings.warn(\n"
     ]
    },
    {
     "name": "stdout",
     "output_type": "stream",
     "text": [
      "snowmap_20160126_ads_100_extent_maskiert_nosnow0_noausreisser.tif\n",
      "\t Davos.tif\n",
      "/home/abetatos/Escritorio/TFM_Dataset/2.Dataset_res5/Aspect/Davos.tif\n",
      "/home/abetatos/Escritorio/TFM_Dataset/3.Basedataset/HS/snowmap_20160126_ads_100_extent_maskiert_nosnow0_noausreisser/extent.shp\n"
     ]
    },
    {
     "name": "stderr",
     "output_type": "stream",
     "text": [
      "/home/abetatos/miniconda3/lib/python3.10/site-packages/pyproj/crs/_cf1x8.py:514: UserWarning: angle from rectified to skew grid parameter lost in conversion to CF\n",
      "  warnings.warn(\n",
      "/home/abetatos/miniconda3/lib/python3.10/site-packages/pyproj/crs/_cf1x8.py:514: UserWarning: angle from rectified to skew grid parameter lost in conversion to CF\n",
      "  warnings.warn(\n"
     ]
    },
    {
     "name": "stdout",
     "output_type": "stream",
     "text": [
      "snowmap_2015_ads_100_extent_maskiert_nosnow0_noausreisser.tif\n",
      "\t Davos.tif\n",
      "/home/abetatos/Escritorio/TFM_Dataset/2.Dataset_res5/Aspect/Davos.tif\n",
      "/home/abetatos/Escritorio/TFM_Dataset/3.Basedataset/HS/snowmap_2015_ads_100_extent_maskiert_nosnow0_noausreisser/extent.shp\n"
     ]
    },
    {
     "name": "stderr",
     "output_type": "stream",
     "text": [
      "/home/abetatos/miniconda3/lib/python3.10/site-packages/pyproj/crs/_cf1x8.py:514: UserWarning: angle from rectified to skew grid parameter lost in conversion to CF\n",
      "  warnings.warn(\n"
     ]
    }
   ],
   "source": [
    "input_path_Aspect = os.path.join(unitato_res, \"Aspect\")\n",
    "output_path_Aspect = os.path.join(unitato_base, \"Aspect\")\n",
    "\n",
    "input_path_HS = rf\"{unitato_base}HS\"\n",
    "\n",
    "for f in HS_files: \n",
    "    print(f)\n",
    "    for Aspect_file in os.listdir(input_path_Aspect): \n",
    "        input_Aspect = os.path.join(input_path_Aspect, Aspect_file)\n",
    "        aoi = os.path.join(input_path_HS, os.path.splitext(f)[0], \"extent.shp\")\n",
    "        try:\n",
    "            cropped_im_data = access_raster(input_Aspect, aoi=aoi)\n",
    "        except ValueError: \n",
    "            continue\n",
    "        print(\"\\t\", Aspect_file)\n",
    "        print(input_Aspect)\n",
    "        print(aoi)\n",
    "        \n",
    "        gdf = gpd.GeoDataFrame.from_file(aoi)\n",
    "        rxr_Aspect = rxr.open_rasterio(input_Aspect, masked=True).squeeze()\n",
    "        rxr_Aspect = rxr_Aspect.rio.clip(gdf.geometry.apply(mapping))\n",
    "        \n",
    "        try:\n",
    "            os.makedirs(os.path.join(output_path_Aspect, os.path.splitext(f)[0]))\n",
    "        except: \n",
    "            pass\n",
    "        output_file = os.path.join(output_path_Aspect, os.path.splitext(f)[0], \"Aspect.tif\")\n",
    "        rxr_Aspect.rio.to_raster(output_file)"
   ]
  },
  {
   "cell_type": "markdown",
   "metadata": {},
   "source": [
    "# Aspect Sin-Cos"
   ]
  },
  {
   "cell_type": "code",
   "execution_count": null,
   "metadata": {},
   "outputs": [],
   "source": [
    "import math"
   ]
  },
  {
   "cell_type": "code",
   "execution_count": 23,
   "metadata": {},
   "outputs": [
    {
     "name": "stdout",
     "output_type": "stream",
     "text": [
      "snowmap_20160309_ads_100_extent_maskiert_nosnow0_noausreisser.tif\n",
      "HS_Davos_20211604_2m_epsg2056.tif\n",
      "snowmap_2012_ads_80_extent_maskiert_nosnow0_noausreisser.tif\n",
      "HS_Laucherenalp_20220224_2m_epsg2056.tif\n",
      "snowmap_2010_ads_80_extent_maskiert_nosnow0_noausreisser.tif\n",
      "HS_Davos_20200406_2m_epsg2056.tif\n",
      "HS_c_20220223_1m_epsg2056.tif\n",
      "snowmap_20160420_ads_100_extent_maskiert_nosnow0_noausreisser.tif\n",
      "snowmap_2014_ads_100_extent_maskiert_nosnow0_noausreisser.tif\n",
      "HS_Davos_20180411_2m_epsg2056.tif\n",
      "snowmap_2013_ads_80_extent_maskiert_nosnow0_noausreisser.tif\n",
      "HS_Davos_20170316_2m_epsg2056.tif\n",
      "HS_Laucherenalp_20220511_1m_epsg2056.tif\n",
      "HS_Saflischpass_20220512_1m_epsg2056.tif\n",
      "snowmap_20160126_ads_100_extent_maskiert_nosnow0_noausreisser.tif\n",
      "snowmap_2015_ads_100_extent_maskiert_nosnow0_noausreisser.tif\n"
     ]
    }
   ],
   "source": [
    "input_path_Aspect = os.path.join(unitato_res, \"Aspect\")\n",
    "output_path_Aspect = os.path.join(unitato_base, \"Aspect\")\n",
    "output_path_AspectSin = os.path.join(unitato_base, \"AspectSin\")\n",
    "output_path_AspectCos = os.path.join(unitato_base, \"AspectCos\")\n",
    "\n",
    "input_path_HS = rf\"{unitato_base}HS\"\n",
    "\n",
    "for f in HS_files: \n",
    "    print(f)\n",
    "    for Aspect_file in os.listdir(input_path_Aspect):  \n",
    "        input_DEM = os.path.join(output_path_Aspect, os.path.splitext(f)[0], \"Aspect.tif\")\n",
    "\n",
    "        sin = np.vectorize(lambda x: math.sin(math.radians(x)) if x != -9999. else x)\n",
    "        cos = np.vectorize(lambda x: math.cos(math.radians(x)) if x != -9999. else x)\n",
    "        \n",
    "        with rio.open(input_DEM) as src: \n",
    "            profile = src.profile\n",
    "            array = src.read()[0]\n",
    "            new_array_sin = sin(array)\n",
    "            new_array_cos = cos(array)\n",
    "\n",
    "        out_pathsin = os.path.join(output_path_AspectSin,  os.path.splitext(f)[0])\n",
    "        out_pathcos = os.path.join(output_path_AspectCos,  os.path.splitext(f)[0])\n",
    "        os.makedirs(out_pathsin, exist_ok=True)\n",
    "        os.makedirs(out_pathcos, exist_ok=True)\n",
    "        \n",
    "        with rio.open(os.path.join(out_pathsin, \"AspectSin.tif\"), \"w\", **profile) as src: \n",
    "            src.write(new_array_sin, 1)\n",
    "        with rio.open(os.path.join(out_pathcos, \"AspectCos.tif\"), \"w\", **profile) as src: \n",
    "            src.write(new_array_cos, 1)\n"
   ]
  },
  {
   "attachments": {},
   "cell_type": "markdown",
   "metadata": {},
   "source": [
    "# Slope"
   ]
  },
  {
   "cell_type": "code",
   "execution_count": 16,
   "metadata": {},
   "outputs": [
    {
     "name": "stdout",
     "output_type": "stream",
     "text": [
      "snowmap_20160309_ads_100_extent_maskiert_nosnow0_noausreisser.tif\n",
      "\t Davos.tif\n",
      "/home/abetatos/Escritorio/TFM_Dataset/2.Dataset_res5/Slope/Davos.tif\n",
      "/home/abetatos/Escritorio/TFM_Dataset/3.Basedataset/HS/snowmap_20160309_ads_100_extent_maskiert_nosnow0_noausreisser/extent.shp\n"
     ]
    },
    {
     "name": "stderr",
     "output_type": "stream",
     "text": [
      "/home/abetatos/miniconda3/lib/python3.10/site-packages/pyproj/crs/_cf1x8.py:514: UserWarning: angle from rectified to skew grid parameter lost in conversion to CF\n",
      "  warnings.warn(\n",
      "/home/abetatos/miniconda3/lib/python3.10/site-packages/pyproj/crs/_cf1x8.py:514: UserWarning: angle from rectified to skew grid parameter lost in conversion to CF\n",
      "  warnings.warn(\n",
      "/home/abetatos/miniconda3/lib/python3.10/site-packages/pyproj/crs/_cf1x8.py:514: UserWarning: angle from rectified to skew grid parameter lost in conversion to CF\n",
      "  warnings.warn(\n"
     ]
    },
    {
     "name": "stdout",
     "output_type": "stream",
     "text": [
      "HS_Davos_20211604_2m_epsg2056.tif\n",
      "\t Davos.tif\n",
      "/home/abetatos/Escritorio/TFM_Dataset/2.Dataset_res5/Slope/Davos.tif\n",
      "/home/abetatos/Escritorio/TFM_Dataset/3.Basedataset/HS/HS_Davos_20211604_2m_epsg2056/extent.shp\n"
     ]
    },
    {
     "name": "stderr",
     "output_type": "stream",
     "text": [
      "/home/abetatos/miniconda3/lib/python3.10/site-packages/pyproj/crs/_cf1x8.py:514: UserWarning: angle from rectified to skew grid parameter lost in conversion to CF\n",
      "  warnings.warn(\n",
      "/home/abetatos/miniconda3/lib/python3.10/site-packages/pyproj/crs/_cf1x8.py:514: UserWarning: angle from rectified to skew grid parameter lost in conversion to CF\n",
      "  warnings.warn(\n"
     ]
    },
    {
     "name": "stdout",
     "output_type": "stream",
     "text": [
      "snowmap_2012_ads_80_extent_maskiert_nosnow0_noausreisser.tif\n",
      "\t Davos.tif\n",
      "/home/abetatos/Escritorio/TFM_Dataset/2.Dataset_res5/Slope/Davos.tif\n",
      "/home/abetatos/Escritorio/TFM_Dataset/3.Basedataset/HS/snowmap_2012_ads_80_extent_maskiert_nosnow0_noausreisser/extent.shp\n"
     ]
    },
    {
     "name": "stderr",
     "output_type": "stream",
     "text": [
      "/home/abetatos/miniconda3/lib/python3.10/site-packages/pyproj/crs/_cf1x8.py:514: UserWarning: angle from rectified to skew grid parameter lost in conversion to CF\n",
      "  warnings.warn(\n",
      "/home/abetatos/miniconda3/lib/python3.10/site-packages/pyproj/crs/_cf1x8.py:514: UserWarning: angle from rectified to skew grid parameter lost in conversion to CF\n",
      "  warnings.warn(\n"
     ]
    },
    {
     "name": "stdout",
     "output_type": "stream",
     "text": [
      "HS_Laucherenalp_20220224_2m_epsg2056.tif\n",
      "\t Valais.tif\n",
      "/home/abetatos/Escritorio/TFM_Dataset/2.Dataset_res5/Slope/Valais.tif\n",
      "/home/abetatos/Escritorio/TFM_Dataset/3.Basedataset/HS/HS_Laucherenalp_20220224_2m_epsg2056/extent.shp\n"
     ]
    },
    {
     "name": "stderr",
     "output_type": "stream",
     "text": [
      "/home/abetatos/miniconda3/lib/python3.10/site-packages/pyproj/crs/_cf1x8.py:514: UserWarning: angle from rectified to skew grid parameter lost in conversion to CF\n",
      "  warnings.warn(\n",
      "/home/abetatos/miniconda3/lib/python3.10/site-packages/pyproj/crs/_cf1x8.py:514: UserWarning: angle from rectified to skew grid parameter lost in conversion to CF\n",
      "  warnings.warn(\n"
     ]
    },
    {
     "name": "stdout",
     "output_type": "stream",
     "text": [
      "snowmap_2010_ads_80_extent_maskiert_nosnow0_noausreisser.tif\n",
      "\t Davos.tif\n",
      "/home/abetatos/Escritorio/TFM_Dataset/2.Dataset_res5/Slope/Davos.tif\n",
      "/home/abetatos/Escritorio/TFM_Dataset/3.Basedataset/HS/snowmap_2010_ads_80_extent_maskiert_nosnow0_noausreisser/extent.shp\n"
     ]
    },
    {
     "name": "stderr",
     "output_type": "stream",
     "text": [
      "/home/abetatos/miniconda3/lib/python3.10/site-packages/pyproj/crs/_cf1x8.py:514: UserWarning: angle from rectified to skew grid parameter lost in conversion to CF\n",
      "  warnings.warn(\n",
      "/home/abetatos/miniconda3/lib/python3.10/site-packages/pyproj/crs/_cf1x8.py:514: UserWarning: angle from rectified to skew grid parameter lost in conversion to CF\n",
      "  warnings.warn(\n"
     ]
    },
    {
     "name": "stdout",
     "output_type": "stream",
     "text": [
      "HS_Davos_20200406_2m_epsg2056.tif\n",
      "\t Davos.tif\n",
      "/home/abetatos/Escritorio/TFM_Dataset/2.Dataset_res5/Slope/Davos.tif\n",
      "/home/abetatos/Escritorio/TFM_Dataset/3.Basedataset/HS/HS_Davos_20200406_2m_epsg2056/extent.shp\n"
     ]
    },
    {
     "name": "stderr",
     "output_type": "stream",
     "text": [
      "/home/abetatos/miniconda3/lib/python3.10/site-packages/pyproj/crs/_cf1x8.py:514: UserWarning: angle from rectified to skew grid parameter lost in conversion to CF\n",
      "  warnings.warn(\n",
      "/home/abetatos/miniconda3/lib/python3.10/site-packages/pyproj/crs/_cf1x8.py:514: UserWarning: angle from rectified to skew grid parameter lost in conversion to CF\n",
      "  warnings.warn(\n"
     ]
    },
    {
     "name": "stdout",
     "output_type": "stream",
     "text": [
      "HS_c_20220223_1m_epsg2056.tif\n",
      "\t Valais.tif\n",
      "/home/abetatos/Escritorio/TFM_Dataset/2.Dataset_res5/Slope/Valais.tif\n",
      "/home/abetatos/Escritorio/TFM_Dataset/3.Basedataset/HS/HS_c_20220223_1m_epsg2056/extent.shp\n"
     ]
    },
    {
     "name": "stderr",
     "output_type": "stream",
     "text": [
      "/home/abetatos/miniconda3/lib/python3.10/site-packages/pyproj/crs/_cf1x8.py:514: UserWarning: angle from rectified to skew grid parameter lost in conversion to CF\n",
      "  warnings.warn(\n",
      "/home/abetatos/miniconda3/lib/python3.10/site-packages/pyproj/crs/_cf1x8.py:514: UserWarning: angle from rectified to skew grid parameter lost in conversion to CF\n",
      "  warnings.warn(\n"
     ]
    },
    {
     "name": "stdout",
     "output_type": "stream",
     "text": [
      "snowmap_20160420_ads_100_extent_maskiert_nosnow0_noausreisser.tif\n",
      "\t Davos.tif\n",
      "/home/abetatos/Escritorio/TFM_Dataset/2.Dataset_res5/Slope/Davos.tif\n",
      "/home/abetatos/Escritorio/TFM_Dataset/3.Basedataset/HS/snowmap_20160420_ads_100_extent_maskiert_nosnow0_noausreisser/extent.shp\n"
     ]
    },
    {
     "name": "stderr",
     "output_type": "stream",
     "text": [
      "/home/abetatos/miniconda3/lib/python3.10/site-packages/pyproj/crs/_cf1x8.py:514: UserWarning: angle from rectified to skew grid parameter lost in conversion to CF\n",
      "  warnings.warn(\n",
      "/home/abetatos/miniconda3/lib/python3.10/site-packages/pyproj/crs/_cf1x8.py:514: UserWarning: angle from rectified to skew grid parameter lost in conversion to CF\n",
      "  warnings.warn(\n"
     ]
    },
    {
     "name": "stdout",
     "output_type": "stream",
     "text": [
      "snowmap_2014_ads_100_extent_maskiert_nosnow0_noausreisser.tif\n",
      "\t Davos.tif\n",
      "/home/abetatos/Escritorio/TFM_Dataset/2.Dataset_res5/Slope/Davos.tif\n",
      "/home/abetatos/Escritorio/TFM_Dataset/3.Basedataset/HS/snowmap_2014_ads_100_extent_maskiert_nosnow0_noausreisser/extent.shp\n"
     ]
    },
    {
     "name": "stderr",
     "output_type": "stream",
     "text": [
      "/home/abetatos/miniconda3/lib/python3.10/site-packages/pyproj/crs/_cf1x8.py:514: UserWarning: angle from rectified to skew grid parameter lost in conversion to CF\n",
      "  warnings.warn(\n",
      "/home/abetatos/miniconda3/lib/python3.10/site-packages/pyproj/crs/_cf1x8.py:514: UserWarning: angle from rectified to skew grid parameter lost in conversion to CF\n",
      "  warnings.warn(\n"
     ]
    },
    {
     "name": "stdout",
     "output_type": "stream",
     "text": [
      "HS_Davos_20180411_2m_epsg2056.tif\n",
      "\t Davos.tif\n",
      "/home/abetatos/Escritorio/TFM_Dataset/2.Dataset_res5/Slope/Davos.tif\n",
      "/home/abetatos/Escritorio/TFM_Dataset/3.Basedataset/HS/HS_Davos_20180411_2m_epsg2056/extent.shp\n"
     ]
    },
    {
     "name": "stderr",
     "output_type": "stream",
     "text": [
      "/home/abetatos/miniconda3/lib/python3.10/site-packages/pyproj/crs/_cf1x8.py:514: UserWarning: angle from rectified to skew grid parameter lost in conversion to CF\n",
      "  warnings.warn(\n",
      "/home/abetatos/miniconda3/lib/python3.10/site-packages/pyproj/crs/_cf1x8.py:514: UserWarning: angle from rectified to skew grid parameter lost in conversion to CF\n",
      "  warnings.warn(\n"
     ]
    },
    {
     "name": "stdout",
     "output_type": "stream",
     "text": [
      "snowmap_2013_ads_80_extent_maskiert_nosnow0_noausreisser.tif\n",
      "\t Davos.tif\n",
      "/home/abetatos/Escritorio/TFM_Dataset/2.Dataset_res5/Slope/Davos.tif\n",
      "/home/abetatos/Escritorio/TFM_Dataset/3.Basedataset/HS/snowmap_2013_ads_80_extent_maskiert_nosnow0_noausreisser/extent.shp\n"
     ]
    },
    {
     "name": "stderr",
     "output_type": "stream",
     "text": [
      "/home/abetatos/miniconda3/lib/python3.10/site-packages/pyproj/crs/_cf1x8.py:514: UserWarning: angle from rectified to skew grid parameter lost in conversion to CF\n",
      "  warnings.warn(\n"
     ]
    },
    {
     "name": "stdout",
     "output_type": "stream",
     "text": [
      "HS_Davos_20170316_2m_epsg2056.tif\n",
      "\t Davos.tif\n",
      "/home/abetatos/Escritorio/TFM_Dataset/2.Dataset_res5/Slope/Davos.tif\n",
      "/home/abetatos/Escritorio/TFM_Dataset/3.Basedataset/HS/HS_Davos_20170316_2m_epsg2056/extent.shp\n"
     ]
    },
    {
     "name": "stderr",
     "output_type": "stream",
     "text": [
      "/home/abetatos/miniconda3/lib/python3.10/site-packages/pyproj/crs/_cf1x8.py:514: UserWarning: angle from rectified to skew grid parameter lost in conversion to CF\n",
      "  warnings.warn(\n",
      "/home/abetatos/miniconda3/lib/python3.10/site-packages/pyproj/crs/_cf1x8.py:514: UserWarning: angle from rectified to skew grid parameter lost in conversion to CF\n",
      "  warnings.warn(\n",
      "/home/abetatos/miniconda3/lib/python3.10/site-packages/pyproj/crs/_cf1x8.py:514: UserWarning: angle from rectified to skew grid parameter lost in conversion to CF\n",
      "  warnings.warn(\n"
     ]
    },
    {
     "name": "stdout",
     "output_type": "stream",
     "text": [
      "HS_Laucherenalp_20220511_1m_epsg2056.tif\n",
      "\t Valais.tif\n",
      "/home/abetatos/Escritorio/TFM_Dataset/2.Dataset_res5/Slope/Valais.tif\n",
      "/home/abetatos/Escritorio/TFM_Dataset/3.Basedataset/HS/HS_Laucherenalp_20220511_1m_epsg2056/extent.shp\n"
     ]
    },
    {
     "name": "stderr",
     "output_type": "stream",
     "text": [
      "/home/abetatos/miniconda3/lib/python3.10/site-packages/pyproj/crs/_cf1x8.py:514: UserWarning: angle from rectified to skew grid parameter lost in conversion to CF\n",
      "  warnings.warn(\n",
      "/home/abetatos/miniconda3/lib/python3.10/site-packages/pyproj/crs/_cf1x8.py:514: UserWarning: angle from rectified to skew grid parameter lost in conversion to CF\n",
      "  warnings.warn(\n"
     ]
    },
    {
     "name": "stdout",
     "output_type": "stream",
     "text": [
      "HS_Saflischpass_20220512_1m_epsg2056.tif\n",
      "\t Valais.tif\n",
      "/home/abetatos/Escritorio/TFM_Dataset/2.Dataset_res5/Slope/Valais.tif\n",
      "/home/abetatos/Escritorio/TFM_Dataset/3.Basedataset/HS/HS_Saflischpass_20220512_1m_epsg2056/extent.shp\n"
     ]
    },
    {
     "name": "stderr",
     "output_type": "stream",
     "text": [
      "/home/abetatos/miniconda3/lib/python3.10/site-packages/pyproj/crs/_cf1x8.py:514: UserWarning: angle from rectified to skew grid parameter lost in conversion to CF\n",
      "  warnings.warn(\n",
      "/home/abetatos/miniconda3/lib/python3.10/site-packages/pyproj/crs/_cf1x8.py:514: UserWarning: angle from rectified to skew grid parameter lost in conversion to CF\n",
      "  warnings.warn(\n"
     ]
    },
    {
     "name": "stdout",
     "output_type": "stream",
     "text": [
      "snowmap_20160126_ads_100_extent_maskiert_nosnow0_noausreisser.tif\n",
      "\t Davos.tif\n",
      "/home/abetatos/Escritorio/TFM_Dataset/2.Dataset_res5/Slope/Davos.tif\n",
      "/home/abetatos/Escritorio/TFM_Dataset/3.Basedataset/HS/snowmap_20160126_ads_100_extent_maskiert_nosnow0_noausreisser/extent.shp\n"
     ]
    },
    {
     "name": "stderr",
     "output_type": "stream",
     "text": [
      "/home/abetatos/miniconda3/lib/python3.10/site-packages/pyproj/crs/_cf1x8.py:514: UserWarning: angle from rectified to skew grid parameter lost in conversion to CF\n",
      "  warnings.warn(\n",
      "/home/abetatos/miniconda3/lib/python3.10/site-packages/pyproj/crs/_cf1x8.py:514: UserWarning: angle from rectified to skew grid parameter lost in conversion to CF\n",
      "  warnings.warn(\n"
     ]
    },
    {
     "name": "stdout",
     "output_type": "stream",
     "text": [
      "snowmap_2015_ads_100_extent_maskiert_nosnow0_noausreisser.tif\n",
      "\t Davos.tif\n",
      "/home/abetatos/Escritorio/TFM_Dataset/2.Dataset_res5/Slope/Davos.tif\n",
      "/home/abetatos/Escritorio/TFM_Dataset/3.Basedataset/HS/snowmap_2015_ads_100_extent_maskiert_nosnow0_noausreisser/extent.shp\n"
     ]
    },
    {
     "name": "stderr",
     "output_type": "stream",
     "text": [
      "/home/abetatos/miniconda3/lib/python3.10/site-packages/pyproj/crs/_cf1x8.py:514: UserWarning: angle from rectified to skew grid parameter lost in conversion to CF\n",
      "  warnings.warn(\n"
     ]
    }
   ],
   "source": [
    "input_path_Slope = os.path.join(unitato_res, \"Slope\")\n",
    "output_path_Slope = os.path.join(unitato_base, \"Slope\")\n",
    "\n",
    "input_path_HS = rf\"{unitato_base}HS\"\n",
    "\n",
    "for f in HS_files: \n",
    "    print(f)\n",
    "    for Slope_file in os.listdir(input_path_Slope): \n",
    "        input_Slope = os.path.join(input_path_Slope, Slope_file)\n",
    "        aoi = os.path.join(input_path_HS, os.path.splitext(f)[0], \"extent.shp\")\n",
    "        try:\n",
    "            cropped_im_data = access_raster(input_Slope, aoi=aoi)\n",
    "        except ValueError: \n",
    "            continue\n",
    "        print(\"\\t\", Slope_file)\n",
    "        print(input_Slope)\n",
    "        print(aoi)\n",
    "        \n",
    "        gdf = gpd.GeoDataFrame.from_file(aoi)\n",
    "        rxr_Slope = rxr.open_rasterio(input_Slope, masked=True).squeeze()\n",
    "        rxr_Slope = rxr_Slope.rio.clip(gdf.geometry.apply(mapping))\n",
    "        \n",
    "        try:\n",
    "            os.makedirs(os.path.join(output_path_Slope, os.path.splitext(f)[0]))\n",
    "        except: \n",
    "            pass\n",
    "        rxr_Slope.rio.to_raster(os.path.join(output_path_Slope, os.path.splitext(f)[0], \"Slope.tif\"))"
   ]
  },
  {
   "attachments": {},
   "cell_type": "markdown",
   "metadata": {},
   "source": [
    "# TPI"
   ]
  },
  {
   "cell_type": "code",
   "execution_count": 21,
   "metadata": {},
   "outputs": [
    {
     "name": "stdout",
     "output_type": "stream",
     "text": [
      "TPI: 11\n",
      "snowmap_20160309_ads_100_extent_maskiert_nosnow0_noausreisser.tif\n",
      "\t Davos.tif\n",
      "/home/abetatos/Escritorio/TFM_Dataset/2.Dataset_res5/TPI/Davos.tif\n",
      "/home/abetatos/Escritorio/TFM_Dataset/3.Basedataset/HS/snowmap_20160309_ads_100_extent_maskiert_nosnow0_noausreisser/extent.shp\n"
     ]
    },
    {
     "name": "stderr",
     "output_type": "stream",
     "text": [
      "/home/abetatos/miniconda3/lib/python3.10/site-packages/pyproj/crs/_cf1x8.py:514: UserWarning: angle from rectified to skew grid parameter lost in conversion to CF\n",
      "  warnings.warn(\n",
      "/home/abetatos/miniconda3/lib/python3.10/site-packages/pyproj/crs/_cf1x8.py:514: UserWarning: angle from rectified to skew grid parameter lost in conversion to CF\n",
      "  warnings.warn(\n",
      "/home/abetatos/miniconda3/lib/python3.10/site-packages/pyproj/crs/_cf1x8.py:514: UserWarning: angle from rectified to skew grid parameter lost in conversion to CF\n",
      "  warnings.warn(\n"
     ]
    },
    {
     "name": "stdout",
     "output_type": "stream",
     "text": [
      "Input shapes do not overlap raster.\n",
      "HS_Davos_20211604_2m_epsg2056.tif\n",
      "\t Davos.tif\n",
      "/home/abetatos/Escritorio/TFM_Dataset/2.Dataset_res5/TPI/Davos.tif\n",
      "/home/abetatos/Escritorio/TFM_Dataset/3.Basedataset/HS/HS_Davos_20211604_2m_epsg2056/extent.shp\n"
     ]
    },
    {
     "name": "stderr",
     "output_type": "stream",
     "text": [
      "/home/abetatos/miniconda3/lib/python3.10/site-packages/pyproj/crs/_cf1x8.py:514: UserWarning: angle from rectified to skew grid parameter lost in conversion to CF\n",
      "  warnings.warn(\n",
      "/home/abetatos/miniconda3/lib/python3.10/site-packages/pyproj/crs/_cf1x8.py:514: UserWarning: angle from rectified to skew grid parameter lost in conversion to CF\n",
      "  warnings.warn(\n"
     ]
    },
    {
     "name": "stdout",
     "output_type": "stream",
     "text": [
      "Input shapes do not overlap raster.\n",
      "snowmap_2012_ads_80_extent_maskiert_nosnow0_noausreisser.tif\n",
      "\t Davos.tif\n",
      "/home/abetatos/Escritorio/TFM_Dataset/2.Dataset_res5/TPI/Davos.tif\n",
      "/home/abetatos/Escritorio/TFM_Dataset/3.Basedataset/HS/snowmap_2012_ads_80_extent_maskiert_nosnow0_noausreisser/extent.shp\n"
     ]
    },
    {
     "name": "stderr",
     "output_type": "stream",
     "text": [
      "/home/abetatos/miniconda3/lib/python3.10/site-packages/pyproj/crs/_cf1x8.py:514: UserWarning: angle from rectified to skew grid parameter lost in conversion to CF\n",
      "  warnings.warn(\n",
      "/home/abetatos/miniconda3/lib/python3.10/site-packages/pyproj/crs/_cf1x8.py:514: UserWarning: angle from rectified to skew grid parameter lost in conversion to CF\n",
      "  warnings.warn(\n"
     ]
    },
    {
     "name": "stdout",
     "output_type": "stream",
     "text": [
      "Input shapes do not overlap raster.\n",
      "HS_Laucherenalp_20220224_2m_epsg2056.tif\n",
      "Input shapes do not overlap raster.\n",
      "\t Valais.tif\n",
      "/home/abetatos/Escritorio/TFM_Dataset/2.Dataset_res5/TPI/Valais.tif\n",
      "/home/abetatos/Escritorio/TFM_Dataset/3.Basedataset/HS/HS_Laucherenalp_20220224_2m_epsg2056/extent.shp\n"
     ]
    },
    {
     "name": "stderr",
     "output_type": "stream",
     "text": [
      "/home/abetatos/miniconda3/lib/python3.10/site-packages/pyproj/crs/_cf1x8.py:514: UserWarning: angle from rectified to skew grid parameter lost in conversion to CF\n",
      "  warnings.warn(\n",
      "/home/abetatos/miniconda3/lib/python3.10/site-packages/pyproj/crs/_cf1x8.py:514: UserWarning: angle from rectified to skew grid parameter lost in conversion to CF\n",
      "  warnings.warn(\n"
     ]
    },
    {
     "name": "stdout",
     "output_type": "stream",
     "text": [
      "snowmap_2010_ads_80_extent_maskiert_nosnow0_noausreisser.tif\n",
      "\t Davos.tif\n",
      "/home/abetatos/Escritorio/TFM_Dataset/2.Dataset_res5/TPI/Davos.tif\n",
      "/home/abetatos/Escritorio/TFM_Dataset/3.Basedataset/HS/snowmap_2010_ads_80_extent_maskiert_nosnow0_noausreisser/extent.shp\n"
     ]
    },
    {
     "name": "stderr",
     "output_type": "stream",
     "text": [
      "/home/abetatos/miniconda3/lib/python3.10/site-packages/pyproj/crs/_cf1x8.py:514: UserWarning: angle from rectified to skew grid parameter lost in conversion to CF\n",
      "  warnings.warn(\n",
      "/home/abetatos/miniconda3/lib/python3.10/site-packages/pyproj/crs/_cf1x8.py:514: UserWarning: angle from rectified to skew grid parameter lost in conversion to CF\n",
      "  warnings.warn(\n"
     ]
    },
    {
     "name": "stdout",
     "output_type": "stream",
     "text": [
      "Input shapes do not overlap raster.\n",
      "HS_Davos_20200406_2m_epsg2056.tif\n",
      "\t Davos.tif\n",
      "/home/abetatos/Escritorio/TFM_Dataset/2.Dataset_res5/TPI/Davos.tif\n",
      "/home/abetatos/Escritorio/TFM_Dataset/3.Basedataset/HS/HS_Davos_20200406_2m_epsg2056/extent.shp\n"
     ]
    },
    {
     "name": "stderr",
     "output_type": "stream",
     "text": [
      "/home/abetatos/miniconda3/lib/python3.10/site-packages/pyproj/crs/_cf1x8.py:514: UserWarning: angle from rectified to skew grid parameter lost in conversion to CF\n",
      "  warnings.warn(\n",
      "/home/abetatos/miniconda3/lib/python3.10/site-packages/pyproj/crs/_cf1x8.py:514: UserWarning: angle from rectified to skew grid parameter lost in conversion to CF\n",
      "  warnings.warn(\n"
     ]
    },
    {
     "name": "stdout",
     "output_type": "stream",
     "text": [
      "Input shapes do not overlap raster.\n",
      "HS_c_20220223_1m_epsg2056.tif\n",
      "Input shapes do not overlap raster.\n",
      "\t Valais.tif\n",
      "/home/abetatos/Escritorio/TFM_Dataset/2.Dataset_res5/TPI/Valais.tif\n",
      "/home/abetatos/Escritorio/TFM_Dataset/3.Basedataset/HS/HS_c_20220223_1m_epsg2056/extent.shp\n"
     ]
    },
    {
     "name": "stderr",
     "output_type": "stream",
     "text": [
      "/home/abetatos/miniconda3/lib/python3.10/site-packages/pyproj/crs/_cf1x8.py:514: UserWarning: angle from rectified to skew grid parameter lost in conversion to CF\n",
      "  warnings.warn(\n",
      "/home/abetatos/miniconda3/lib/python3.10/site-packages/pyproj/crs/_cf1x8.py:514: UserWarning: angle from rectified to skew grid parameter lost in conversion to CF\n",
      "  warnings.warn(\n"
     ]
    },
    {
     "name": "stdout",
     "output_type": "stream",
     "text": [
      "snowmap_20160420_ads_100_extent_maskiert_nosnow0_noausreisser.tif\n",
      "\t Davos.tif\n",
      "/home/abetatos/Escritorio/TFM_Dataset/2.Dataset_res5/TPI/Davos.tif\n",
      "/home/abetatos/Escritorio/TFM_Dataset/3.Basedataset/HS/snowmap_20160420_ads_100_extent_maskiert_nosnow0_noausreisser/extent.shp\n"
     ]
    },
    {
     "name": "stderr",
     "output_type": "stream",
     "text": [
      "/home/abetatos/miniconda3/lib/python3.10/site-packages/pyproj/crs/_cf1x8.py:514: UserWarning: angle from rectified to skew grid parameter lost in conversion to CF\n",
      "  warnings.warn(\n",
      "/home/abetatos/miniconda3/lib/python3.10/site-packages/pyproj/crs/_cf1x8.py:514: UserWarning: angle from rectified to skew grid parameter lost in conversion to CF\n",
      "  warnings.warn(\n"
     ]
    },
    {
     "name": "stdout",
     "output_type": "stream",
     "text": [
      "Input shapes do not overlap raster.\n",
      "snowmap_2014_ads_100_extent_maskiert_nosnow0_noausreisser.tif\n",
      "\t Davos.tif\n",
      "/home/abetatos/Escritorio/TFM_Dataset/2.Dataset_res5/TPI/Davos.tif\n",
      "/home/abetatos/Escritorio/TFM_Dataset/3.Basedataset/HS/snowmap_2014_ads_100_extent_maskiert_nosnow0_noausreisser/extent.shp\n"
     ]
    },
    {
     "name": "stderr",
     "output_type": "stream",
     "text": [
      "/home/abetatos/miniconda3/lib/python3.10/site-packages/pyproj/crs/_cf1x8.py:514: UserWarning: angle from rectified to skew grid parameter lost in conversion to CF\n",
      "  warnings.warn(\n",
      "/home/abetatos/miniconda3/lib/python3.10/site-packages/pyproj/crs/_cf1x8.py:514: UserWarning: angle from rectified to skew grid parameter lost in conversion to CF\n",
      "  warnings.warn(\n"
     ]
    },
    {
     "name": "stdout",
     "output_type": "stream",
     "text": [
      "Input shapes do not overlap raster.\n",
      "HS_Davos_20180411_2m_epsg2056.tif\n",
      "\t Davos.tif\n",
      "/home/abetatos/Escritorio/TFM_Dataset/2.Dataset_res5/TPI/Davos.tif\n",
      "/home/abetatos/Escritorio/TFM_Dataset/3.Basedataset/HS/HS_Davos_20180411_2m_epsg2056/extent.shp\n"
     ]
    },
    {
     "name": "stderr",
     "output_type": "stream",
     "text": [
      "/home/abetatos/miniconda3/lib/python3.10/site-packages/pyproj/crs/_cf1x8.py:514: UserWarning: angle from rectified to skew grid parameter lost in conversion to CF\n",
      "  warnings.warn(\n",
      "/home/abetatos/miniconda3/lib/python3.10/site-packages/pyproj/crs/_cf1x8.py:514: UserWarning: angle from rectified to skew grid parameter lost in conversion to CF\n",
      "  warnings.warn(\n"
     ]
    },
    {
     "name": "stdout",
     "output_type": "stream",
     "text": [
      "Input shapes do not overlap raster.\n",
      "snowmap_2013_ads_80_extent_maskiert_nosnow0_noausreisser.tif\n",
      "\t Davos.tif\n",
      "/home/abetatos/Escritorio/TFM_Dataset/2.Dataset_res5/TPI/Davos.tif\n",
      "/home/abetatos/Escritorio/TFM_Dataset/3.Basedataset/HS/snowmap_2013_ads_80_extent_maskiert_nosnow0_noausreisser/extent.shp\n"
     ]
    },
    {
     "name": "stderr",
     "output_type": "stream",
     "text": [
      "/home/abetatos/miniconda3/lib/python3.10/site-packages/pyproj/crs/_cf1x8.py:514: UserWarning: angle from rectified to skew grid parameter lost in conversion to CF\n",
      "  warnings.warn(\n"
     ]
    },
    {
     "name": "stdout",
     "output_type": "stream",
     "text": [
      "Input shapes do not overlap raster.\n",
      "HS_Davos_20170316_2m_epsg2056.tif\n",
      "\t Davos.tif\n",
      "/home/abetatos/Escritorio/TFM_Dataset/2.Dataset_res5/TPI/Davos.tif\n",
      "/home/abetatos/Escritorio/TFM_Dataset/3.Basedataset/HS/HS_Davos_20170316_2m_epsg2056/extent.shp\n"
     ]
    },
    {
     "name": "stderr",
     "output_type": "stream",
     "text": [
      "/home/abetatos/miniconda3/lib/python3.10/site-packages/pyproj/crs/_cf1x8.py:514: UserWarning: angle from rectified to skew grid parameter lost in conversion to CF\n",
      "  warnings.warn(\n",
      "/home/abetatos/miniconda3/lib/python3.10/site-packages/pyproj/crs/_cf1x8.py:514: UserWarning: angle from rectified to skew grid parameter lost in conversion to CF\n",
      "  warnings.warn(\n",
      "/home/abetatos/miniconda3/lib/python3.10/site-packages/pyproj/crs/_cf1x8.py:514: UserWarning: angle from rectified to skew grid parameter lost in conversion to CF\n",
      "  warnings.warn(\n"
     ]
    },
    {
     "name": "stdout",
     "output_type": "stream",
     "text": [
      "Input shapes do not overlap raster.\n",
      "HS_Laucherenalp_20220511_1m_epsg2056.tif\n",
      "Input shapes do not overlap raster.\n",
      "\t Valais.tif\n",
      "/home/abetatos/Escritorio/TFM_Dataset/2.Dataset_res5/TPI/Valais.tif\n",
      "/home/abetatos/Escritorio/TFM_Dataset/3.Basedataset/HS/HS_Laucherenalp_20220511_1m_epsg2056/extent.shp\n"
     ]
    },
    {
     "name": "stderr",
     "output_type": "stream",
     "text": [
      "/home/abetatos/miniconda3/lib/python3.10/site-packages/pyproj/crs/_cf1x8.py:514: UserWarning: angle from rectified to skew grid parameter lost in conversion to CF\n",
      "  warnings.warn(\n",
      "/home/abetatos/miniconda3/lib/python3.10/site-packages/pyproj/crs/_cf1x8.py:514: UserWarning: angle from rectified to skew grid parameter lost in conversion to CF\n",
      "  warnings.warn(\n"
     ]
    },
    {
     "name": "stdout",
     "output_type": "stream",
     "text": [
      "HS_Saflischpass_20220512_1m_epsg2056.tif\n",
      "Input shapes do not overlap raster.\n",
      "\t Valais.tif\n",
      "/home/abetatos/Escritorio/TFM_Dataset/2.Dataset_res5/TPI/Valais.tif\n",
      "/home/abetatos/Escritorio/TFM_Dataset/3.Basedataset/HS/HS_Saflischpass_20220512_1m_epsg2056/extent.shp\n"
     ]
    },
    {
     "name": "stderr",
     "output_type": "stream",
     "text": [
      "/home/abetatos/miniconda3/lib/python3.10/site-packages/pyproj/crs/_cf1x8.py:514: UserWarning: angle from rectified to skew grid parameter lost in conversion to CF\n",
      "  warnings.warn(\n",
      "/home/abetatos/miniconda3/lib/python3.10/site-packages/pyproj/crs/_cf1x8.py:514: UserWarning: angle from rectified to skew grid parameter lost in conversion to CF\n",
      "  warnings.warn(\n"
     ]
    },
    {
     "name": "stdout",
     "output_type": "stream",
     "text": [
      "snowmap_20160126_ads_100_extent_maskiert_nosnow0_noausreisser.tif\n",
      "\t Davos.tif\n",
      "/home/abetatos/Escritorio/TFM_Dataset/2.Dataset_res5/TPI/Davos.tif\n",
      "/home/abetatos/Escritorio/TFM_Dataset/3.Basedataset/HS/snowmap_20160126_ads_100_extent_maskiert_nosnow0_noausreisser/extent.shp\n"
     ]
    },
    {
     "name": "stderr",
     "output_type": "stream",
     "text": [
      "/home/abetatos/miniconda3/lib/python3.10/site-packages/pyproj/crs/_cf1x8.py:514: UserWarning: angle from rectified to skew grid parameter lost in conversion to CF\n",
      "  warnings.warn(\n",
      "/home/abetatos/miniconda3/lib/python3.10/site-packages/pyproj/crs/_cf1x8.py:514: UserWarning: angle from rectified to skew grid parameter lost in conversion to CF\n",
      "  warnings.warn(\n"
     ]
    },
    {
     "name": "stdout",
     "output_type": "stream",
     "text": [
      "Input shapes do not overlap raster.\n",
      "snowmap_2015_ads_100_extent_maskiert_nosnow0_noausreisser.tif\n",
      "\t Davos.tif\n",
      "/home/abetatos/Escritorio/TFM_Dataset/2.Dataset_res5/TPI/Davos.tif\n",
      "/home/abetatos/Escritorio/TFM_Dataset/3.Basedataset/HS/snowmap_2015_ads_100_extent_maskiert_nosnow0_noausreisser/extent.shp\n",
      "Input shapes do not overlap raster.\n"
     ]
    },
    {
     "name": "stderr",
     "output_type": "stream",
     "text": [
      "/home/abetatos/miniconda3/lib/python3.10/site-packages/pyproj/crs/_cf1x8.py:514: UserWarning: angle from rectified to skew grid parameter lost in conversion to CF\n",
      "  warnings.warn(\n"
     ]
    }
   ],
   "source": [
    "for filter_size in [11]: #[7, 11, 22, 50]:\n",
    "\n",
    "    input_path_tpi = os.path.join(unitato_res, f\"TPI\")\n",
    "    output_path_tpi = os.path.join(unitato_base, f\"TPI\")\n",
    "    print(\"TPI:\", filter_size)\n",
    "    \n",
    "    input_path_HS = f\"{unitato_base}HS\"\n",
    "    for f in HS_files: \n",
    "        print(f)\n",
    "        for tpi_file in os.listdir(input_path_tpi): \n",
    "            input_tpi = os.path.join(input_path_tpi, tpi_file)\n",
    "            aoi = os.path.join(input_path_HS, os.path.splitext(f)[0], \"extent.shp\")\n",
    "            try:\n",
    "                cropped_im_data = access_raster(input_tpi, aoi=aoi)\n",
    "            except ValueError as e: \n",
    "                print(e)\n",
    "                continue\n",
    "            print(\"\\t\", tpi_file)\n",
    "            print(input_tpi)\n",
    "            print(aoi)\n",
    "            \n",
    "            gdf = gpd.GeoDataFrame.from_file(aoi)\n",
    "            rxr_tpi = rxr.open_rasterio(input_tpi, masked=True).squeeze()\n",
    "            rxr_tpi = rxr_tpi.rio.clip(gdf.geometry.apply(mapping))\n",
    "            \n",
    "            try:\n",
    "                os.makedirs(os.path.join(output_path_tpi, os.path.splitext(f)[0]))\n",
    "            except: \n",
    "                pass\n",
    "            rxr_tpi.rio.to_raster(os.path.join(output_path_tpi, os.path.splitext(f)[0], \"TPI.tif\"))"
   ]
  },
  {
   "attachments": {},
   "cell_type": "markdown",
   "metadata": {},
   "source": [
    "# TPIWGW"
   ]
  },
  {
   "cell_type": "code",
   "execution_count": 22,
   "metadata": {},
   "outputs": [
    {
     "name": "stdout",
     "output_type": "stream",
     "text": [
      "TPI: 11\n",
      "snowmap_20160309_ads_100_extent_maskiert_nosnow0_noausreisser.tif\n",
      "\t Davos.tif\n",
      "/home/abetatos/Escritorio/TFM_Dataset/2.Dataset_res5/TPIWGW/Davos.tif\n",
      "/home/abetatos/Escritorio/TFM_Dataset/3.Basedataset/HS/snowmap_20160309_ads_100_extent_maskiert_nosnow0_noausreisser/extent.shp\n"
     ]
    },
    {
     "name": "stderr",
     "output_type": "stream",
     "text": [
      "/home/abetatos/miniconda3/lib/python3.10/site-packages/pyproj/crs/_cf1x8.py:514: UserWarning: angle from rectified to skew grid parameter lost in conversion to CF\n",
      "  warnings.warn(\n",
      "/home/abetatos/miniconda3/lib/python3.10/site-packages/pyproj/crs/_cf1x8.py:514: UserWarning: angle from rectified to skew grid parameter lost in conversion to CF\n",
      "  warnings.warn(\n",
      "/home/abetatos/miniconda3/lib/python3.10/site-packages/pyproj/crs/_cf1x8.py:514: UserWarning: angle from rectified to skew grid parameter lost in conversion to CF\n",
      "  warnings.warn(\n"
     ]
    },
    {
     "name": "stdout",
     "output_type": "stream",
     "text": [
      "Input shapes do not overlap raster.\n",
      "HS_Davos_20211604_2m_epsg2056.tif\n",
      "\t Davos.tif\n",
      "/home/abetatos/Escritorio/TFM_Dataset/2.Dataset_res5/TPIWGW/Davos.tif\n",
      "/home/abetatos/Escritorio/TFM_Dataset/3.Basedataset/HS/HS_Davos_20211604_2m_epsg2056/extent.shp\n"
     ]
    },
    {
     "name": "stderr",
     "output_type": "stream",
     "text": [
      "/home/abetatos/miniconda3/lib/python3.10/site-packages/pyproj/crs/_cf1x8.py:514: UserWarning: angle from rectified to skew grid parameter lost in conversion to CF\n",
      "  warnings.warn(\n",
      "/home/abetatos/miniconda3/lib/python3.10/site-packages/pyproj/crs/_cf1x8.py:514: UserWarning: angle from rectified to skew grid parameter lost in conversion to CF\n",
      "  warnings.warn(\n"
     ]
    },
    {
     "name": "stdout",
     "output_type": "stream",
     "text": [
      "Input shapes do not overlap raster.\n",
      "snowmap_2012_ads_80_extent_maskiert_nosnow0_noausreisser.tif\n",
      "\t Davos.tif\n",
      "/home/abetatos/Escritorio/TFM_Dataset/2.Dataset_res5/TPIWGW/Davos.tif\n",
      "/home/abetatos/Escritorio/TFM_Dataset/3.Basedataset/HS/snowmap_2012_ads_80_extent_maskiert_nosnow0_noausreisser/extent.shp\n"
     ]
    },
    {
     "name": "stderr",
     "output_type": "stream",
     "text": [
      "/home/abetatos/miniconda3/lib/python3.10/site-packages/pyproj/crs/_cf1x8.py:514: UserWarning: angle from rectified to skew grid parameter lost in conversion to CF\n",
      "  warnings.warn(\n",
      "/home/abetatos/miniconda3/lib/python3.10/site-packages/pyproj/crs/_cf1x8.py:514: UserWarning: angle from rectified to skew grid parameter lost in conversion to CF\n",
      "  warnings.warn(\n"
     ]
    },
    {
     "name": "stdout",
     "output_type": "stream",
     "text": [
      "Input shapes do not overlap raster.\n",
      "HS_Laucherenalp_20220224_2m_epsg2056.tif\n",
      "Input shapes do not overlap raster.\n",
      "\t Valais.tif\n",
      "/home/abetatos/Escritorio/TFM_Dataset/2.Dataset_res5/TPIWGW/Valais.tif\n",
      "/home/abetatos/Escritorio/TFM_Dataset/3.Basedataset/HS/HS_Laucherenalp_20220224_2m_epsg2056/extent.shp\n"
     ]
    },
    {
     "name": "stderr",
     "output_type": "stream",
     "text": [
      "/home/abetatos/miniconda3/lib/python3.10/site-packages/pyproj/crs/_cf1x8.py:514: UserWarning: angle from rectified to skew grid parameter lost in conversion to CF\n",
      "  warnings.warn(\n",
      "/home/abetatos/miniconda3/lib/python3.10/site-packages/pyproj/crs/_cf1x8.py:514: UserWarning: angle from rectified to skew grid parameter lost in conversion to CF\n",
      "  warnings.warn(\n"
     ]
    },
    {
     "name": "stdout",
     "output_type": "stream",
     "text": [
      "snowmap_2010_ads_80_extent_maskiert_nosnow0_noausreisser.tif\n",
      "\t Davos.tif\n",
      "/home/abetatos/Escritorio/TFM_Dataset/2.Dataset_res5/TPIWGW/Davos.tif\n",
      "/home/abetatos/Escritorio/TFM_Dataset/3.Basedataset/HS/snowmap_2010_ads_80_extent_maskiert_nosnow0_noausreisser/extent.shp\n"
     ]
    },
    {
     "name": "stderr",
     "output_type": "stream",
     "text": [
      "/home/abetatos/miniconda3/lib/python3.10/site-packages/pyproj/crs/_cf1x8.py:514: UserWarning: angle from rectified to skew grid parameter lost in conversion to CF\n",
      "  warnings.warn(\n",
      "/home/abetatos/miniconda3/lib/python3.10/site-packages/pyproj/crs/_cf1x8.py:514: UserWarning: angle from rectified to skew grid parameter lost in conversion to CF\n",
      "  warnings.warn(\n"
     ]
    },
    {
     "name": "stdout",
     "output_type": "stream",
     "text": [
      "Input shapes do not overlap raster.\n",
      "HS_Davos_20200406_2m_epsg2056.tif\n",
      "\t Davos.tif\n",
      "/home/abetatos/Escritorio/TFM_Dataset/2.Dataset_res5/TPIWGW/Davos.tif\n",
      "/home/abetatos/Escritorio/TFM_Dataset/3.Basedataset/HS/HS_Davos_20200406_2m_epsg2056/extent.shp\n"
     ]
    },
    {
     "name": "stderr",
     "output_type": "stream",
     "text": [
      "/home/abetatos/miniconda3/lib/python3.10/site-packages/pyproj/crs/_cf1x8.py:514: UserWarning: angle from rectified to skew grid parameter lost in conversion to CF\n",
      "  warnings.warn(\n",
      "/home/abetatos/miniconda3/lib/python3.10/site-packages/pyproj/crs/_cf1x8.py:514: UserWarning: angle from rectified to skew grid parameter lost in conversion to CF\n",
      "  warnings.warn(\n"
     ]
    },
    {
     "name": "stdout",
     "output_type": "stream",
     "text": [
      "Input shapes do not overlap raster.\n",
      "HS_c_20220223_1m_epsg2056.tif\n",
      "Input shapes do not overlap raster.\n",
      "\t Valais.tif\n",
      "/home/abetatos/Escritorio/TFM_Dataset/2.Dataset_res5/TPIWGW/Valais.tif\n",
      "/home/abetatos/Escritorio/TFM_Dataset/3.Basedataset/HS/HS_c_20220223_1m_epsg2056/extent.shp\n"
     ]
    },
    {
     "name": "stderr",
     "output_type": "stream",
     "text": [
      "/home/abetatos/miniconda3/lib/python3.10/site-packages/pyproj/crs/_cf1x8.py:514: UserWarning: angle from rectified to skew grid parameter lost in conversion to CF\n",
      "  warnings.warn(\n",
      "/home/abetatos/miniconda3/lib/python3.10/site-packages/pyproj/crs/_cf1x8.py:514: UserWarning: angle from rectified to skew grid parameter lost in conversion to CF\n",
      "  warnings.warn(\n"
     ]
    },
    {
     "name": "stdout",
     "output_type": "stream",
     "text": [
      "snowmap_20160420_ads_100_extent_maskiert_nosnow0_noausreisser.tif\n",
      "\t Davos.tif\n",
      "/home/abetatos/Escritorio/TFM_Dataset/2.Dataset_res5/TPIWGW/Davos.tif\n",
      "/home/abetatos/Escritorio/TFM_Dataset/3.Basedataset/HS/snowmap_20160420_ads_100_extent_maskiert_nosnow0_noausreisser/extent.shp\n"
     ]
    },
    {
     "name": "stderr",
     "output_type": "stream",
     "text": [
      "/home/abetatos/miniconda3/lib/python3.10/site-packages/pyproj/crs/_cf1x8.py:514: UserWarning: angle from rectified to skew grid parameter lost in conversion to CF\n",
      "  warnings.warn(\n",
      "/home/abetatos/miniconda3/lib/python3.10/site-packages/pyproj/crs/_cf1x8.py:514: UserWarning: angle from rectified to skew grid parameter lost in conversion to CF\n",
      "  warnings.warn(\n"
     ]
    },
    {
     "name": "stdout",
     "output_type": "stream",
     "text": [
      "Input shapes do not overlap raster.\n",
      "snowmap_2014_ads_100_extent_maskiert_nosnow0_noausreisser.tif\n",
      "\t Davos.tif\n",
      "/home/abetatos/Escritorio/TFM_Dataset/2.Dataset_res5/TPIWGW/Davos.tif\n",
      "/home/abetatos/Escritorio/TFM_Dataset/3.Basedataset/HS/snowmap_2014_ads_100_extent_maskiert_nosnow0_noausreisser/extent.shp\n"
     ]
    },
    {
     "name": "stderr",
     "output_type": "stream",
     "text": [
      "/home/abetatos/miniconda3/lib/python3.10/site-packages/pyproj/crs/_cf1x8.py:514: UserWarning: angle from rectified to skew grid parameter lost in conversion to CF\n",
      "  warnings.warn(\n",
      "/home/abetatos/miniconda3/lib/python3.10/site-packages/pyproj/crs/_cf1x8.py:514: UserWarning: angle from rectified to skew grid parameter lost in conversion to CF\n",
      "  warnings.warn(\n"
     ]
    },
    {
     "name": "stdout",
     "output_type": "stream",
     "text": [
      "Input shapes do not overlap raster.\n",
      "HS_Davos_20180411_2m_epsg2056.tif\n",
      "\t Davos.tif\n",
      "/home/abetatos/Escritorio/TFM_Dataset/2.Dataset_res5/TPIWGW/Davos.tif\n",
      "/home/abetatos/Escritorio/TFM_Dataset/3.Basedataset/HS/HS_Davos_20180411_2m_epsg2056/extent.shp\n"
     ]
    },
    {
     "name": "stderr",
     "output_type": "stream",
     "text": [
      "/home/abetatos/miniconda3/lib/python3.10/site-packages/pyproj/crs/_cf1x8.py:514: UserWarning: angle from rectified to skew grid parameter lost in conversion to CF\n",
      "  warnings.warn(\n",
      "/home/abetatos/miniconda3/lib/python3.10/site-packages/pyproj/crs/_cf1x8.py:514: UserWarning: angle from rectified to skew grid parameter lost in conversion to CF\n",
      "  warnings.warn(\n"
     ]
    },
    {
     "name": "stdout",
     "output_type": "stream",
     "text": [
      "Input shapes do not overlap raster.\n",
      "snowmap_2013_ads_80_extent_maskiert_nosnow0_noausreisser.tif\n",
      "\t Davos.tif\n",
      "/home/abetatos/Escritorio/TFM_Dataset/2.Dataset_res5/TPIWGW/Davos.tif\n",
      "/home/abetatos/Escritorio/TFM_Dataset/3.Basedataset/HS/snowmap_2013_ads_80_extent_maskiert_nosnow0_noausreisser/extent.shp\n"
     ]
    },
    {
     "name": "stderr",
     "output_type": "stream",
     "text": [
      "/home/abetatos/miniconda3/lib/python3.10/site-packages/pyproj/crs/_cf1x8.py:514: UserWarning: angle from rectified to skew grid parameter lost in conversion to CF\n",
      "  warnings.warn(\n"
     ]
    },
    {
     "name": "stdout",
     "output_type": "stream",
     "text": [
      "Input shapes do not overlap raster.\n",
      "HS_Davos_20170316_2m_epsg2056.tif\n",
      "\t Davos.tif\n",
      "/home/abetatos/Escritorio/TFM_Dataset/2.Dataset_res5/TPIWGW/Davos.tif\n",
      "/home/abetatos/Escritorio/TFM_Dataset/3.Basedataset/HS/HS_Davos_20170316_2m_epsg2056/extent.shp\n"
     ]
    },
    {
     "name": "stderr",
     "output_type": "stream",
     "text": [
      "/home/abetatos/miniconda3/lib/python3.10/site-packages/pyproj/crs/_cf1x8.py:514: UserWarning: angle from rectified to skew grid parameter lost in conversion to CF\n",
      "  warnings.warn(\n",
      "/home/abetatos/miniconda3/lib/python3.10/site-packages/pyproj/crs/_cf1x8.py:514: UserWarning: angle from rectified to skew grid parameter lost in conversion to CF\n",
      "  warnings.warn(\n",
      "/home/abetatos/miniconda3/lib/python3.10/site-packages/pyproj/crs/_cf1x8.py:514: UserWarning: angle from rectified to skew grid parameter lost in conversion to CF\n",
      "  warnings.warn(\n"
     ]
    },
    {
     "name": "stdout",
     "output_type": "stream",
     "text": [
      "Input shapes do not overlap raster.\n",
      "HS_Laucherenalp_20220511_1m_epsg2056.tif\n",
      "Input shapes do not overlap raster.\n",
      "\t Valais.tif\n",
      "/home/abetatos/Escritorio/TFM_Dataset/2.Dataset_res5/TPIWGW/Valais.tif\n",
      "/home/abetatos/Escritorio/TFM_Dataset/3.Basedataset/HS/HS_Laucherenalp_20220511_1m_epsg2056/extent.shp\n"
     ]
    },
    {
     "name": "stderr",
     "output_type": "stream",
     "text": [
      "/home/abetatos/miniconda3/lib/python3.10/site-packages/pyproj/crs/_cf1x8.py:514: UserWarning: angle from rectified to skew grid parameter lost in conversion to CF\n",
      "  warnings.warn(\n",
      "/home/abetatos/miniconda3/lib/python3.10/site-packages/pyproj/crs/_cf1x8.py:514: UserWarning: angle from rectified to skew grid parameter lost in conversion to CF\n",
      "  warnings.warn(\n"
     ]
    },
    {
     "name": "stdout",
     "output_type": "stream",
     "text": [
      "HS_Saflischpass_20220512_1m_epsg2056.tif\n",
      "Input shapes do not overlap raster.\n",
      "\t Valais.tif\n",
      "/home/abetatos/Escritorio/TFM_Dataset/2.Dataset_res5/TPIWGW/Valais.tif\n",
      "/home/abetatos/Escritorio/TFM_Dataset/3.Basedataset/HS/HS_Saflischpass_20220512_1m_epsg2056/extent.shp\n"
     ]
    },
    {
     "name": "stderr",
     "output_type": "stream",
     "text": [
      "/home/abetatos/miniconda3/lib/python3.10/site-packages/pyproj/crs/_cf1x8.py:514: UserWarning: angle from rectified to skew grid parameter lost in conversion to CF\n",
      "  warnings.warn(\n",
      "/home/abetatos/miniconda3/lib/python3.10/site-packages/pyproj/crs/_cf1x8.py:514: UserWarning: angle from rectified to skew grid parameter lost in conversion to CF\n",
      "  warnings.warn(\n"
     ]
    },
    {
     "name": "stdout",
     "output_type": "stream",
     "text": [
      "snowmap_20160126_ads_100_extent_maskiert_nosnow0_noausreisser.tif\n",
      "\t Davos.tif\n",
      "/home/abetatos/Escritorio/TFM_Dataset/2.Dataset_res5/TPIWGW/Davos.tif\n",
      "/home/abetatos/Escritorio/TFM_Dataset/3.Basedataset/HS/snowmap_20160126_ads_100_extent_maskiert_nosnow0_noausreisser/extent.shp\n"
     ]
    },
    {
     "name": "stderr",
     "output_type": "stream",
     "text": [
      "/home/abetatos/miniconda3/lib/python3.10/site-packages/pyproj/crs/_cf1x8.py:514: UserWarning: angle from rectified to skew grid parameter lost in conversion to CF\n",
      "  warnings.warn(\n",
      "/home/abetatos/miniconda3/lib/python3.10/site-packages/pyproj/crs/_cf1x8.py:514: UserWarning: angle from rectified to skew grid parameter lost in conversion to CF\n",
      "  warnings.warn(\n"
     ]
    },
    {
     "name": "stdout",
     "output_type": "stream",
     "text": [
      "Input shapes do not overlap raster.\n",
      "snowmap_2015_ads_100_extent_maskiert_nosnow0_noausreisser.tif\n",
      "\t Davos.tif\n",
      "/home/abetatos/Escritorio/TFM_Dataset/2.Dataset_res5/TPIWGW/Davos.tif\n",
      "/home/abetatos/Escritorio/TFM_Dataset/3.Basedataset/HS/snowmap_2015_ads_100_extent_maskiert_nosnow0_noausreisser/extent.shp\n",
      "Input shapes do not overlap raster.\n"
     ]
    },
    {
     "name": "stderr",
     "output_type": "stream",
     "text": [
      "/home/abetatos/miniconda3/lib/python3.10/site-packages/pyproj/crs/_cf1x8.py:514: UserWarning: angle from rectified to skew grid parameter lost in conversion to CF\n",
      "  warnings.warn(\n"
     ]
    }
   ],
   "source": [
    "for filter_size in [11]: #[7, 11, 22, 50]:\n",
    "\n",
    "    input_path_tpi = os.path.join(unitato_res, f\"TPIWGW\")\n",
    "    output_path_tpi = os.path.join(unitato_base, f\"TPIWGW\")\n",
    "    print(\"TPI:\", filter_size)\n",
    "    \n",
    "    input_path_HS = f\"{unitato_base}HS\"\n",
    "    for f in HS_files: \n",
    "        print(f)\n",
    "        for tpi_file in os.listdir(input_path_tpi): \n",
    "            input_tpi = os.path.join(input_path_tpi, tpi_file)\n",
    "            aoi = os.path.join(input_path_HS, os.path.splitext(f)[0], \"extent.shp\")\n",
    "            try:\n",
    "                cropped_im_data = access_raster(input_tpi, aoi=aoi)\n",
    "            except ValueError as e: \n",
    "                print(e)\n",
    "                continue\n",
    "            print(\"\\t\", tpi_file)\n",
    "            print(input_tpi)\n",
    "            print(aoi)\n",
    "            \n",
    "            gdf = gpd.GeoDataFrame.from_file(aoi)\n",
    "            rxr_tpi = rxr.open_rasterio(input_tpi, masked=True).squeeze()\n",
    "            rxr_tpi = rxr_tpi.rio.clip(gdf.geometry.apply(mapping))\n",
    "            \n",
    "            try:\n",
    "                os.makedirs(os.path.join(output_path_tpi, os.path.splitext(f)[0]))\n",
    "            except: \n",
    "                pass\n",
    "            rxr_tpi.rio.to_raster(os.path.join(output_path_tpi, os.path.splitext(f)[0], \"TPIWGW.tif\"))"
   ]
  },
  {
   "attachments": {},
   "cell_type": "markdown",
   "metadata": {},
   "source": [
    "# DEMSNOW"
   ]
  },
  {
   "cell_type": "code",
   "execution_count": 10,
   "metadata": {},
   "outputs": [
    {
     "data": {
      "text/html": [
       "<div>\n",
       "<style scoped>\n",
       "    .dataframe tbody tr th:only-of-type {\n",
       "        vertical-align: middle;\n",
       "    }\n",
       "\n",
       "    .dataframe tbody tr th {\n",
       "        vertical-align: top;\n",
       "    }\n",
       "\n",
       "    .dataframe thead th {\n",
       "        text-align: right;\n",
       "    }\n",
       "</style>\n",
       "<table border=\"1\" class=\"dataframe\">\n",
       "  <thead>\n",
       "    <tr style=\"text-align: right;\">\n",
       "      <th></th>\n",
       "      <th>place</th>\n",
       "      <th>stations</th>\n",
       "      <th>date</th>\n",
       "      <th>datetime</th>\n",
       "      <th>isindata</th>\n",
       "      <th>a</th>\n",
       "      <th>b</th>\n",
       "    </tr>\n",
       "  </thead>\n",
       "  <tbody>\n",
       "    <tr>\n",
       "      <th>0</th>\n",
       "      <td>HS_c_20220223_1m_epsg2056.tif</td>\n",
       "      <td>BOR2, 4BN, ALPE VEGLIA</td>\n",
       "      <td>20220223</td>\n",
       "      <td>2022-02-23</td>\n",
       "      <td>False</td>\n",
       "      <td>0.002588</td>\n",
       "      <td>-2.781660</td>\n",
       "    </tr>\n",
       "    <tr>\n",
       "      <th>1</th>\n",
       "      <td>HS_Davos_20170316_2m_epsg2056.tif</td>\n",
       "      <td>PAR2, 5KK, KLO3, 5WJ, SLF2, 5DF, 5AR, DAV3, DA...</td>\n",
       "      <td>20170316</td>\n",
       "      <td>2017-03-16</td>\n",
       "      <td>False</td>\n",
       "      <td>0.001171</td>\n",
       "      <td>-0.663429</td>\n",
       "    </tr>\n",
       "    <tr>\n",
       "      <th>2</th>\n",
       "      <td>HS_Davos_20180411_2m_epsg2056.tif</td>\n",
       "      <td>PAR2, 5KK, KLO3, 5WJ, SLF2, 5DF, 5AR, DAV3, DA...</td>\n",
       "      <td>20180411</td>\n",
       "      <td>2018-04-11</td>\n",
       "      <td>True</td>\n",
       "      <td>0.001541</td>\n",
       "      <td>-1.661248</td>\n",
       "    </tr>\n",
       "    <tr>\n",
       "      <th>3</th>\n",
       "      <td>HS_Davos_20190316_2m_epsg2056.tif</td>\n",
       "      <td>PAR2, 5KK, KLO3, 5WJ, SLF2, 5DF, 5AR, DAV3, DA...</td>\n",
       "      <td>20190316</td>\n",
       "      <td>2019-03-16</td>\n",
       "      <td>True</td>\n",
       "      <td>0.001373</td>\n",
       "      <td>-0.789826</td>\n",
       "    </tr>\n",
       "    <tr>\n",
       "      <th>4</th>\n",
       "      <td>HS_Davos_20200406_2m_epsg2056.tif</td>\n",
       "      <td>PAR2, 5KK, KLO3, 5WJ, SLF2, 5DF, 5AR, DAV3, DA...</td>\n",
       "      <td>20200406</td>\n",
       "      <td>2020-04-06</td>\n",
       "      <td>True</td>\n",
       "      <td>0.001183</td>\n",
       "      <td>-1.346858</td>\n",
       "    </tr>\n",
       "    <tr>\n",
       "      <th>5</th>\n",
       "      <td>HS_Davos_20211604_2m_epsg2056.tif</td>\n",
       "      <td>PAR2, 5KK, KLO3, 5WJ, SLF2, 5DF, 5AR, DAV3, DA...</td>\n",
       "      <td>20211604</td>\n",
       "      <td>NaN</td>\n",
       "      <td>False</td>\n",
       "      <td>0.001183</td>\n",
       "      <td>-1.346858</td>\n",
       "    </tr>\n",
       "    <tr>\n",
       "      <th>6</th>\n",
       "      <td>HS_Laucherenalp_20220224_2m_epsg2056.tif</td>\n",
       "      <td>GAN1, GAN2, 4LA, 4WI</td>\n",
       "      <td>20220224</td>\n",
       "      <td>2022-02-24</td>\n",
       "      <td>False</td>\n",
       "      <td>0.002244</td>\n",
       "      <td>-2.709501</td>\n",
       "    </tr>\n",
       "    <tr>\n",
       "      <th>7</th>\n",
       "      <td>HS_Laucherenalp_20220511_1m_epsg2056.tif</td>\n",
       "      <td>GAN1, GAN2, 4LA, 4WI</td>\n",
       "      <td>20220511</td>\n",
       "      <td>2022-05-11</td>\n",
       "      <td>False</td>\n",
       "      <td>0.003151</td>\n",
       "      <td>-5.255680</td>\n",
       "    </tr>\n",
       "    <tr>\n",
       "      <th>8</th>\n",
       "      <td>HS_Saflischpass_20220512_1m_epsg2056.tif</td>\n",
       "      <td>BOR2, 4BN, ALPE VEGLIA</td>\n",
       "      <td>20220512</td>\n",
       "      <td>2022-05-12</td>\n",
       "      <td>False</td>\n",
       "      <td>0.004121</td>\n",
       "      <td>-6.145379</td>\n",
       "    </tr>\n",
       "    <tr>\n",
       "      <th>9</th>\n",
       "      <td>snowmap_2010_ads_80_extent_maskiert_nosnow0_no...</td>\n",
       "      <td>PAR2, 5KK, KLO3, 5WJ, SLF2, 5DF, 5AR, DAV3, DA...</td>\n",
       "      <td>20100416</td>\n",
       "      <td>2010-04-16</td>\n",
       "      <td>False</td>\n",
       "      <td>0.001506</td>\n",
       "      <td>-1.758983</td>\n",
       "    </tr>\n",
       "    <tr>\n",
       "      <th>10</th>\n",
       "      <td>snowmap_2012_ads_80_extent_maskiert_nosnow0_no...</td>\n",
       "      <td>PAR2, 5KK, KLO3, 5WJ, SLF2, 5DF, 5AR, DAV3, DA...</td>\n",
       "      <td>20120320</td>\n",
       "      <td>2012-03-20</td>\n",
       "      <td>False</td>\n",
       "      <td>0.001268</td>\n",
       "      <td>-0.972132</td>\n",
       "    </tr>\n",
       "    <tr>\n",
       "      <th>11</th>\n",
       "      <td>snowmap_2013_ads_80_extent_maskiert_nosnow0_no...</td>\n",
       "      <td>PAR2, 5KK, KLO3, 5WJ, SLF2, 5DF, 5AR, DAV3, DA...</td>\n",
       "      <td>20130415</td>\n",
       "      <td>2013-04-15</td>\n",
       "      <td>False</td>\n",
       "      <td>0.001512</td>\n",
       "      <td>-1.752602</td>\n",
       "    </tr>\n",
       "    <tr>\n",
       "      <th>12</th>\n",
       "      <td>snowmap_2014_ads_100_extent_maskiert_nosnow0_n...</td>\n",
       "      <td>PAR2, 5KK, KLO3, 5WJ, SLF2, 5DF, 5AR, DAV3, DA...</td>\n",
       "      <td>20140417</td>\n",
       "      <td>2014-04-17</td>\n",
       "      <td>False</td>\n",
       "      <td>0.001492</td>\n",
       "      <td>-1.756816</td>\n",
       "    </tr>\n",
       "    <tr>\n",
       "      <th>13</th>\n",
       "      <td>snowmap_2015_ads_100_extent_maskiert_nosnow0_n...</td>\n",
       "      <td>PAR2, 5KK, KLO3, 5WJ, SLF2, 5DF, 5AR, DAV3, DA...</td>\n",
       "      <td>20160420</td>\n",
       "      <td>2016-04-20</td>\n",
       "      <td>False</td>\n",
       "      <td>0.001453</td>\n",
       "      <td>-1.757495</td>\n",
       "    </tr>\n",
       "    <tr>\n",
       "      <th>14</th>\n",
       "      <td>snowmap_20160126_ads_100_extent_maskiert_nosno...</td>\n",
       "      <td>PAR2, 5KK, KLO3, 5WJ, SLF2, 5DF, 5AR, DAV3, DA...</td>\n",
       "      <td>20160126</td>\n",
       "      <td>2016-01-26</td>\n",
       "      <td>False</td>\n",
       "      <td>0.000615</td>\n",
       "      <td>0.203632</td>\n",
       "    </tr>\n",
       "    <tr>\n",
       "      <th>15</th>\n",
       "      <td>snowmap_20160309_ads_100_extent_maskiert_nosno...</td>\n",
       "      <td>PAR2, 5KK, KLO3, 5WJ, SLF2, 5DF, 5AR, DAV3, DA...</td>\n",
       "      <td>20160309</td>\n",
       "      <td>2016-03-09</td>\n",
       "      <td>False</td>\n",
       "      <td>0.001028</td>\n",
       "      <td>-0.608445</td>\n",
       "    </tr>\n",
       "    <tr>\n",
       "      <th>16</th>\n",
       "      <td>snowmap_20160420_ads_100_extent_maskiert_nosno...</td>\n",
       "      <td>PAR2, 5KK, KLO3, 5WJ, SLF2, 5DF, 5AR, DAV3, DA...</td>\n",
       "      <td>20160420</td>\n",
       "      <td>2016-04-20</td>\n",
       "      <td>False</td>\n",
       "      <td>0.001453</td>\n",
       "      <td>-1.757495</td>\n",
       "    </tr>\n",
       "  </tbody>\n",
       "</table>\n",
       "</div>"
      ],
      "text/plain": [
       "                                                place   \n",
       "0                       HS_c_20220223_1m_epsg2056.tif  \\\n",
       "1                   HS_Davos_20170316_2m_epsg2056.tif   \n",
       "2                   HS_Davos_20180411_2m_epsg2056.tif   \n",
       "3                   HS_Davos_20190316_2m_epsg2056.tif   \n",
       "4                   HS_Davos_20200406_2m_epsg2056.tif   \n",
       "5                   HS_Davos_20211604_2m_epsg2056.tif   \n",
       "6            HS_Laucherenalp_20220224_2m_epsg2056.tif   \n",
       "7            HS_Laucherenalp_20220511_1m_epsg2056.tif   \n",
       "8            HS_Saflischpass_20220512_1m_epsg2056.tif   \n",
       "9   snowmap_2010_ads_80_extent_maskiert_nosnow0_no...   \n",
       "10  snowmap_2012_ads_80_extent_maskiert_nosnow0_no...   \n",
       "11  snowmap_2013_ads_80_extent_maskiert_nosnow0_no...   \n",
       "12  snowmap_2014_ads_100_extent_maskiert_nosnow0_n...   \n",
       "13  snowmap_2015_ads_100_extent_maskiert_nosnow0_n...   \n",
       "14  snowmap_20160126_ads_100_extent_maskiert_nosno...   \n",
       "15  snowmap_20160309_ads_100_extent_maskiert_nosno...   \n",
       "16  snowmap_20160420_ads_100_extent_maskiert_nosno...   \n",
       "\n",
       "                                             stations      date    datetime   \n",
       "0                              BOR2, 4BN, ALPE VEGLIA  20220223  2022-02-23  \\\n",
       "1   PAR2, 5KK, KLO3, 5WJ, SLF2, 5DF, 5AR, DAV3, DA...  20170316  2017-03-16   \n",
       "2   PAR2, 5KK, KLO3, 5WJ, SLF2, 5DF, 5AR, DAV3, DA...  20180411  2018-04-11   \n",
       "3   PAR2, 5KK, KLO3, 5WJ, SLF2, 5DF, 5AR, DAV3, DA...  20190316  2019-03-16   \n",
       "4   PAR2, 5KK, KLO3, 5WJ, SLF2, 5DF, 5AR, DAV3, DA...  20200406  2020-04-06   \n",
       "5   PAR2, 5KK, KLO3, 5WJ, SLF2, 5DF, 5AR, DAV3, DA...  20211604         NaN   \n",
       "6                                GAN1, GAN2, 4LA, 4WI  20220224  2022-02-24   \n",
       "7                                GAN1, GAN2, 4LA, 4WI  20220511  2022-05-11   \n",
       "8                              BOR2, 4BN, ALPE VEGLIA  20220512  2022-05-12   \n",
       "9   PAR2, 5KK, KLO3, 5WJ, SLF2, 5DF, 5AR, DAV3, DA...  20100416  2010-04-16   \n",
       "10  PAR2, 5KK, KLO3, 5WJ, SLF2, 5DF, 5AR, DAV3, DA...  20120320  2012-03-20   \n",
       "11  PAR2, 5KK, KLO3, 5WJ, SLF2, 5DF, 5AR, DAV3, DA...  20130415  2013-04-15   \n",
       "12  PAR2, 5KK, KLO3, 5WJ, SLF2, 5DF, 5AR, DAV3, DA...  20140417  2014-04-17   \n",
       "13  PAR2, 5KK, KLO3, 5WJ, SLF2, 5DF, 5AR, DAV3, DA...  20160420  2016-04-20   \n",
       "14  PAR2, 5KK, KLO3, 5WJ, SLF2, 5DF, 5AR, DAV3, DA...  20160126  2016-01-26   \n",
       "15  PAR2, 5KK, KLO3, 5WJ, SLF2, 5DF, 5AR, DAV3, DA...  20160309  2016-03-09   \n",
       "16  PAR2, 5KK, KLO3, 5WJ, SLF2, 5DF, 5AR, DAV3, DA...  20160420  2016-04-20   \n",
       "\n",
       "    isindata         a         b  \n",
       "0      False  0.002588 -2.781660  \n",
       "1      False  0.001171 -0.663429  \n",
       "2       True  0.001541 -1.661248  \n",
       "3       True  0.001373 -0.789826  \n",
       "4       True  0.001183 -1.346858  \n",
       "5      False  0.001183 -1.346858  \n",
       "6      False  0.002244 -2.709501  \n",
       "7      False  0.003151 -5.255680  \n",
       "8      False  0.004121 -6.145379  \n",
       "9      False  0.001506 -1.758983  \n",
       "10     False  0.001268 -0.972132  \n",
       "11     False  0.001512 -1.752602  \n",
       "12     False  0.001492 -1.756816  \n",
       "13     False  0.001453 -1.757495  \n",
       "14     False  0.000615  0.203632  \n",
       "15     False  0.001028 -0.608445  \n",
       "16     False  0.001453 -1.757495  "
      ]
     },
     "execution_count": 10,
     "metadata": {},
     "output_type": "execute_result"
    }
   ],
   "source": [
    "import pandas as pd\n",
    "\n",
    "lr_data_path = \"/home/abetatos/Escritorio/TFM_Dataset/0.Dataset/stations_parsed.csv\"\n",
    "df = pd.read_csv(lr_data_path, sep=\";\")"
   ]
  },
  {
   "cell_type": "code",
   "execution_count": 26,
   "metadata": {},
   "outputs": [
    {
     "name": "stdout",
     "output_type": "stream",
     "text": [
      "snowmap_20160309_ads_100_extent_maskiert_nosnow0_noausreisser.tif\n",
      "2.708557719860658 0.5224479755698499\n",
      "HS_Davos_20211604_2m_epsg2056.tif\n",
      "2.4708472150709584 -0.022541299564496464\n",
      "snowmap_2012_ads_80_extent_maskiert_nosnow0_noausreisser.tif\n",
      "3.1188725073883505 0.4174293856903101\n",
      "HS_Laucherenalp_20220224_2m_epsg2056.tif\n",
      "4.476448185535514 0.3687903728081925\n",
      "snowmap_2010_ads_80_extent_maskiert_nosnow0_noausreisser.tif\n",
      "3.0977265781264967 -0.10230729737448452\n",
      "HS_Davos_20200406_2m_epsg2056.tif\n",
      "2.4708472150709584 -0.024398710641827304\n",
      "HS_c_20220223_1m_epsg2056.tif\n",
      "4.956120089426888 2.2373694374894297\n",
      "snowmap_20160420_ads_100_extent_maskiert_nosnow0_noausreisser.tif\n",
      "2.930796735999451 -0.1634094631823364\n",
      "snowmap_2014_ads_100_extent_maskiert_nosnow0_noausreisser.tif\n",
      "3.0548513035477916 -0.12247218941826277\n",
      "HS_Davos_20180411_2m_epsg2056.tif\n",
      "2.910072558425526 0.632270092555423\n",
      "snowmap_2013_ads_80_extent_maskiert_nosnow0_noausreisser.tif\n",
      "3.125921693610751 -0.08932707710336585\n",
      "HS_Davos_20170316_2m_epsg2056.tif\n",
      "3.3290738510012394 -9999.0\n",
      "HS_Laucherenalp_20220511_1m_epsg2056.tif\n",
      "4.837466906233768 0.012444682124411521\n",
      "HS_Saflischpass_20220512_1m_epsg2056.tif\n",
      "6.17763009831261 1.8460178886151102\n",
      "snowmap_20160126_ads_100_extent_maskiert_nosnow0_noausreisser.tif\n",
      "2.186907548757459 0.8774917451861557\n",
      "snowmap_2015_ads_100_extent_maskiert_nosnow0_noausreisser.tif\n",
      "2.930796735999451 -0.16505778912470093\n"
     ]
    }
   ],
   "source": [
    "input_path_DEM =  os.path.join(unitato_base, \"DEM\")\n",
    "output_path_DEM = os.path.join(unitato_base, \"DEMSNOW\")\n",
    "os.makedirs(output_path_DEM, exist_ok=True)\n",
    "\n",
    "input_path_HS = f\"{unitato_base}HS\"\n",
    "\n",
    "for f in HS_files:\n",
    "    print(f)\n",
    "    input_DEM = os.path.join(input_path_DEM, os.path.splitext(f)[0], \"DEM.tif\")\n",
    "    \n",
    "    stat_data = df[df['place'] == f]\n",
    "    a, b = stat_data[['a', 'b']].values[0]\n",
    "    # y = a*x + b\n",
    "    lf = lambda x: a*x + b if x != -9999. else x\n",
    "\n",
    "    vf=np.vectorize(lf)\n",
    "    \n",
    "    with rio.open(input_DEM) as src: \n",
    "        profile = src.profile\n",
    "        array = src.read()[0]\n",
    "        new_array = vf(array)\n",
    "    print(new_array.max(), new_array.min())\n",
    "    out_path = os.path.join(output_path_DEM,  os.path.splitext(f)[0])\n",
    "    try: \n",
    "        os.makedirs(out_path)\n",
    "    except: \n",
    "        pass\n",
    "    \n",
    "    with rio.open(os.path.join(out_path, \"DEMSNOW.tif\"), \"w\", **profile) as src: \n",
    "        src.write(new_array, 1)\n",
    "       "
   ]
  },
  {
   "attachments": {},
   "cell_type": "markdown",
   "metadata": {},
   "source": [
    "# FFSNOW"
   ]
  },
  {
   "attachments": {},
   "cell_type": "markdown",
   "metadata": {},
   "source": [
    "far from snow"
   ]
  },
  {
   "cell_type": "code",
   "execution_count": 27,
   "metadata": {},
   "outputs": [],
   "source": [
    "def lf(x): \n",
    "    if x == -9999.: \n",
    "        return x\n",
    "    x = x - 240\n",
    "    if x < -180: \n",
    "        x =  x + 360\n",
    "    return abs(x) "
   ]
  },
  {
   "cell_type": "code",
   "execution_count": 29,
   "metadata": {},
   "outputs": [
    {
     "name": "stdout",
     "output_type": "stream",
     "text": [
      "snowmap_20160309_ads_100_extent_maskiert_nosnow0_noausreisser.tif\n",
      "179.99999618530273 0.0\n",
      "HS_Davos_20211604_2m_epsg2056.tif\n",
      "179.99999618530273 1.52587890625e-05\n",
      "snowmap_2012_ads_80_extent_maskiert_nosnow0_noausreisser.tif\n",
      "179.99999618530273 0.0\n",
      "HS_Laucherenalp_20220224_2m_epsg2056.tif\n",
      "179.9983901977539 0.000335693359375\n",
      "snowmap_2010_ads_80_extent_maskiert_nosnow0_noausreisser.tif\n",
      "179.99999618530273 0.0\n",
      "HS_Davos_20200406_2m_epsg2056.tif\n",
      "179.99999618530273 1.52587890625e-05\n",
      "HS_c_20220223_1m_epsg2056.tif\n",
      "179.99998092651367 0.001129150390625\n",
      "snowmap_20160420_ads_100_extent_maskiert_nosnow0_noausreisser.tif\n",
      "179.99999618530273 0.0\n",
      "snowmap_2014_ads_100_extent_maskiert_nosnow0_noausreisser.tif\n",
      "179.99999618530273 0.0\n",
      "HS_Davos_20180411_2m_epsg2056.tif\n",
      "179.99999237060547 1.52587890625e-05\n",
      "snowmap_2013_ads_80_extent_maskiert_nosnow0_noausreisser.tif\n",
      "179.99999618530273 0.0\n",
      "HS_Davos_20170316_2m_epsg2056.tif\n",
      "179.99999618530273 -9999.0\n",
      "HS_Laucherenalp_20220511_1m_epsg2056.tif\n",
      "179.9983901977539 0.000335693359375\n",
      "HS_Saflischpass_20220512_1m_epsg2056.tif\n",
      "179.99998092651367 0.00164794921875\n",
      "snowmap_20160126_ads_100_extent_maskiert_nosnow0_noausreisser.tif\n",
      "179.99999618530273 0.0\n",
      "snowmap_2015_ads_100_extent_maskiert_nosnow0_noausreisser.tif\n",
      "179.99999618530273 0.0\n"
     ]
    }
   ],
   "source": [
    "input_path_Aspect = os.path.join(unitato_base, \"Aspect\")\n",
    "output_path_Aspect = os.path.join(unitato_base, \"FFSnow\")\n",
    "\n",
    "input_path_HS = f\"{unitato_base}HS\"\n",
    "\n",
    "for f in HS_files: \n",
    "    print(f)\n",
    "   \n",
    "    input_Aspect = os.path.join(input_path_Aspect, os.path.splitext(f)[0], \"Aspect.tif\")\n",
    "\n",
    "    vf=np.vectorize(lf)\n",
    "    \n",
    "    with rio.open(input_Aspect) as src: \n",
    "        profile = src.profile\n",
    "        array = src.read()[0]\n",
    "        new_array = vf(array)\n",
    "    print(new_array.max(), new_array.min())\n",
    "    out_path = os.path.join(output_path_Aspect,  os.path.splitext(f)[0])\n",
    "    try: \n",
    "        os.makedirs(out_path)\n",
    "    except: \n",
    "        pass\n",
    "    \n",
    "    with rio.open(os.path.join(out_path, \"FFSnow.tif\"), \"w\", **profile) as src: \n",
    "        src.write(new_array, 1)"
   ]
  },
  {
   "cell_type": "markdown",
   "metadata": {},
   "source": [
    "# Voronoi"
   ]
  },
  {
   "cell_type": "code",
   "execution_count": 5,
   "metadata": {},
   "outputs": [],
   "source": [
    "import pandas as pd\n",
    "from datetime import datetime\n",
    "from dateutil.relativedelta import relativedelta\n",
    "import geopandas as gpd\n",
    "from shapely.geometry import Point\n",
    "from  tqdm import tqdm \n",
    "from scipy.spatial.distance import cdist\n",
    "\n",
    "csv_meta_path = \"/home/abetatos/Escritorio/TFM_Dataset/0.Dataset/HS_italy+Swiss_meta.csv\"\n",
    "csv_dates_path = \"/home/abetatos/Escritorio/TFM_Dataset/0.Dataset/HS_italy+Swiss.csv\"\n",
    "csv_meta, csv_dates = pd.read_csv(csv_meta_path).set_index(\"Station_Name\"), pd.read_csv(csv_dates_path).set_index(\"date\").transpose()\n",
    "\n",
    "lr_data_path = \"/home/abetatos/Escritorio/TFM_Dataset/0.Dataset/stations_parsed.csv\"\n",
    "stations_parsed = pd.read_csv(lr_data_path, sep=\";\")\n",
    "stations_parsed.at[5, 'datetime'] = \"2021-04-16\"\n",
    "stations_parsed['datetime'] = stations_parsed['datetime'].apply(lambda x: datetime.strptime(x, \"%Y-%m-%d\"))\n",
    "stations_parsed = stations_parsed.set_index(\"place\")"
   ]
  },
  {
   "cell_type": "code",
   "execution_count": 19,
   "metadata": {},
   "outputs": [],
   "source": [
    "def get_stations(inputfile): \n",
    "    metaaux = csv_meta.copy()\n",
    "    metaaux = metaaux.dropna()\n",
    "\n",
    "    points = [\n",
    "        {   \n",
    "            \"station_name\": index,\n",
    "            \"geometry\": Point(m['X_7791'], m['Y_7791'])\n",
    "        } for index, m in metaaux.iterrows()\n",
    "    ]\n",
    "\n",
    "    gdf = gpd.GeoDataFrame(points, crs=\"EPSG:7791\").to_crs(\"EPSG:2056\")\n",
    "    stations = []\n",
    "    for i, point in gdf.iterrows(): \n",
    "        with rio.open(inputfile) as src:\n",
    "            row, col = src.index(point.geometry.x, point.geometry.y)\n",
    "            value = src.read(1, window=((row, row+1), (col, col+1)))\n",
    "            if value.any(): \n",
    "                stations.append((point.station_name, value[0,0]))\n",
    "    \n",
    "    return pd.DataFrame(stations).set_index(0)[1]"
   ]
  },
  {
   "cell_type": "code",
   "execution_count": 21,
   "metadata": {},
   "outputs": [
    {
     "name": "stderr",
     "output_type": "stream",
     "text": [
      "100%|██████████| 3748/3748 [02:17<00:00, 27.28it/s]\n",
      "100%|██████████| 4864/4864 [02:28<00:00, 32.68it/s]\n",
      "100%|██████████| 3778/3778 [02:26<00:00, 25.87it/s]\n",
      "100%|██████████| 845/845 [00:04<00:00, 173.97it/s]\n",
      "100%|██████████| 3778/3778 [02:24<00:00, 26.12it/s]\n",
      "100%|██████████| 4868/4868 [02:37<00:00, 30.82it/s]\n"
     ]
    },
    {
     "name": "stdout",
     "output_type": "stream",
     "text": [
      "'None of [0] are in the columns'\n"
     ]
    },
    {
     "name": "stderr",
     "output_type": "stream",
     "text": [
      "100%|██████████| 3748/3748 [02:15<00:00, 27.66it/s]\n",
      "100%|██████████| 3758/3758 [02:17<00:00, 27.24it/s]\n",
      "100%|██████████| 1907/1907 [00:42<00:00, 44.70it/s]\n",
      "100%|██████████| 3778/3778 [02:24<00:00, 26.15it/s]\n",
      "100%|██████████| 4916/4916 [05:17<00:00, 15.49it/s]\n",
      "100%|██████████| 703/703 [00:03<00:00, 219.53it/s]\n"
     ]
    },
    {
     "name": "stdout",
     "output_type": "stream",
     "text": [
      "'None of [0] are in the columns'\n"
     ]
    },
    {
     "name": "stderr",
     "output_type": "stream",
     "text": [
      "100%|██████████| 3748/3748 [02:17<00:00, 27.16it/s]\n",
      "100%|██████████| 3758/3758 [02:23<00:00, 26.20it/s]\n",
      "100%|██████████| 3748/3748 [03:49<00:00, 16.33it/s]\n",
      "100%|██████████| 4864/4864 [23:58<00:00,  3.38it/s]\n",
      "100%|██████████| 3778/3778 [03:54<00:00, 16.09it/s]\n",
      "100%|██████████| 845/845 [00:07<00:00, 119.54it/s]\n",
      "100%|██████████| 3778/3778 [03:46<00:00, 16.71it/s]\n",
      "100%|██████████| 4868/4868 [21:20<00:00,  3.80it/s]\n"
     ]
    },
    {
     "name": "stdout",
     "output_type": "stream",
     "text": [
      "'None of [0] are in the columns'\n"
     ]
    },
    {
     "name": "stderr",
     "output_type": "stream",
     "text": [
      "100%|██████████| 3748/3748 [03:39<00:00, 17.05it/s]\n",
      "100%|██████████| 3758/3758 [03:43<00:00, 16.85it/s]\n",
      "100%|██████████| 1907/1907 [06:40<00:00,  4.76it/s]\n",
      "100%|██████████| 3778/3778 [03:49<00:00, 16.48it/s]\n",
      "100%|██████████| 4916/4916 [09:45<00:00,  8.40it/s]\n",
      "100%|██████████| 703/703 [00:04<00:00, 148.33it/s]\n"
     ]
    },
    {
     "name": "stdout",
     "output_type": "stream",
     "text": [
      "'None of [0] are in the columns'\n"
     ]
    },
    {
     "name": "stderr",
     "output_type": "stream",
     "text": [
      "100%|██████████| 3748/3748 [03:38<00:00, 17.17it/s]\n",
      "100%|██████████| 3758/3758 [03:40<00:00, 17.08it/s]\n"
     ]
    }
   ],
   "source": [
    "input_path = os.path.join(unitato_base, \"HS\")\n",
    "\n",
    "mind = lambda dis: [1/max(1, d) for d in dis]\n",
    "\n",
    "for vor_type in ['Voronoi', 'ProbStat']:\n",
    "        \n",
    "    output_path = os.path.join(unitato_base, vor_type)\n",
    "    for f in HS_files:\n",
    "        inputfile = os.path.join(input_path, os.path.splitext(f)[0], \"HS.tif\")\n",
    "        os.makedirs(os.path.join(output_path, os.path.splitext(f)[0]), exist_ok=True)\n",
    "        outputfile =  os.path.join(output_path, os.path.splitext(f)[0], f\"{vor_type}.tif\")\n",
    "\n",
    "        date = stations_parsed.loc[f]['datetime']\n",
    "        try: \n",
    "            station_values = csv_dates[date.strftime(\"%d/%m/%Y\")]/100\n",
    "        except:\n",
    "            try:\n",
    "                station_values = get_stations(inputfile)\n",
    "            except Exception as e: \n",
    "                print(e)\n",
    "                continue\n",
    "\n",
    "        date_str = date.strftime(\"%Y/%m/%d\")\n",
    "\n",
    "        metaaux = csv_meta.copy()\n",
    "        \n",
    "        metaaux['station_value'] = station_values\n",
    "        metaaux['station_value'] = metaaux[metaaux['station_value']!=-9999.]['station_value']\n",
    "        metaaux['maximum'] = [csv_dates.loc[station].max() if station in csv_dates.index else None for station in metaaux.index]\n",
    "        metaaux['maximum'] /= 100\n",
    "        metaaux = metaaux.dropna()\n",
    "        # display(metaaux)\n",
    "        \n",
    "        points = [\n",
    "            {   \n",
    "                \"station_name\": index,\n",
    "                \"geometry\": Point(m['X_7791'], m['Y_7791']),\n",
    "                \"station_value\": m['station_value']/m['maximum'] if vor_type== \"ProbStat\" else m['station_value'],\n",
    "                \"maximum\": m['maximum']\n",
    "            } for index, m in metaaux.iterrows() if m['station_value'] and m['station_value'] > 0 and m['station_value'] < m['maximum']\n",
    "        ]\n",
    "\n",
    "        gdf = gpd.GeoDataFrame(points, crs=\"EPSG:7791\").to_crs(\"EPSG:2056\")\n",
    "        station_values_array = gdf['station_value']\n",
    "\n",
    "        with rio.open(inputfile) as src:\n",
    "            raster_transform = src.transform\n",
    "            raster_crs = src.crs\n",
    "            raster_shape = src.shape\n",
    "            profile = src.profile\n",
    "\n",
    "        # Load snow station data\n",
    "        # snow_stations = gpd.read_file('path_to_snow_stations.shp')\n",
    "\n",
    "        final_array = []\n",
    "        # Convert raster to point coordinates (if not already in point format)\n",
    "        for y in tqdm(range(raster_shape[0])):\n",
    "            raster_points = []\n",
    "            for x in range(raster_shape[1]):\n",
    "                lon, lat = raster_transform * (x, y)\n",
    "                raster_points.append(Point(lon, lat))\n",
    "\n",
    "            d1 = np.array([(p.x, p.y) for p in raster_points])\n",
    "            d2 = np.array([(p.x, p.y) for p in gdf['geometry']])\n",
    "            distances = cdist(d1,d2, metric='euclidean')\n",
    "\n",
    "            if vor_type == \"Voronoi\":\n",
    "                #VORONOI\n",
    "                nearest_station = np.array([station_values_array[d.argmin()] for d in distances])\n",
    "            elif vor_type == \"ProbStat\":\n",
    "                #AVERAGE\n",
    "                nearest_station = np.array([np.dot(mind(d), station_values_array) / sum(mind(d)) for d in distances])\n",
    "\n",
    "            final_array.append(nearest_station)\n",
    "\n",
    "        with rio.open(outputfile, 'w', **profile) as dst:\n",
    "            dst.write(np.array(final_array), 1)"
   ]
  }
 ],
 "metadata": {
  "kernelspec": {
   "display_name": "gcc-py37",
   "language": "python",
   "name": "python3"
  },
  "language_info": {
   "codemirror_mode": {
    "name": "ipython",
    "version": 3
   },
   "file_extension": ".py",
   "mimetype": "text/x-python",
   "name": "python",
   "nbconvert_exporter": "python",
   "pygments_lexer": "ipython3",
   "version": "3.10.11"
  },
  "orig_nbformat": 4
 },
 "nbformat": 4,
 "nbformat_minor": 2
}
