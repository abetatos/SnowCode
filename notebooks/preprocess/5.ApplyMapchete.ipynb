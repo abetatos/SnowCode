{
 "cells": [
  {
   "cell_type": "code",
   "execution_count": 12,
   "metadata": {},
   "outputs": [],
   "source": [
    "# from utils import access_raster\n",
    "import pickle as pkl\n",
    "import os\n",
    "from PIL import Image\n",
    "from tqdm.auto import tqdm\n",
    "import rasterio as rio\n",
    "import fiona\n",
    "from shapely.geometry import Polygon"
   ]
  },
  {
   "cell_type": "code",
   "execution_count": 13,
   "metadata": {},
   "outputs": [],
   "source": [
    "def polygon_generator(ex):\n",
    "    return Polygon([[ex['west'], ex['south']],\n",
    "                    [ex['west'], ex['north']],\n",
    "                    [ex['east'], ex['north']],\n",
    "                    [ex['west'], ex['south']]])\n",
    "\n",
    "def access_raster(path, aoi=None):\n",
    "\n",
    "    if aoi == None:\n",
    "        with rio.open(path) as src:\n",
    "            array = src.read()\n",
    "            meta = src.meta\n",
    "            transform = src.meta['transform']\n",
    "            extent = src.bounds\n",
    "            extent_dims = {'north': extent.top, 'south': extent.bottom, 'west': extent.left, 'east': extent.right}\n",
    "            polygon_extent = polygon_generator(extent_dims)\n",
    "\n",
    "        return {'array': array, 'meta': meta, 'transform': transform, 'extent': extent, 'polygom': polygon_extent}\n",
    "\n",
    "    else:\n",
    "        with fiona.open(aoi, \"r\") as shapefile:\n",
    "            shapes = [feature[\"geometry\"] for feature in shapefile]\n",
    "        \n",
    "        with rio.open(path) as src:\n",
    "            array, transform = rio.mask.mask(src, shapes, nodata=0, crop=True)\n",
    "            meta = src.meta\n",
    "            extent = src.bounds\n",
    "        return {'array': array, 'meta': meta, 'transform': transform, 'extent': extent}"
   ]
  },
  {
   "cell_type": "code",
   "execution_count": 14,
   "metadata": {},
   "outputs": [],
   "source": [
    "unitato = r\"/home/abetatos/Escritorio/TFM_Dataset/\"\n",
    "\n",
    "dataset = \"Dataset_20230818\"\n",
    "mapchete_conf = \"256pixel_4ro\"\n",
    "\n",
    "inpath = unitato + \"4.DatasetPost\"\n",
    "outpath = os.path.join(unitato, dataset, mapchete_conf)"
   ]
  },
  {
   "attachments": {},
   "cell_type": "markdown",
   "metadata": {},
   "source": [
    "# HS"
   ]
  },
  {
   "cell_type": "code",
   "execution_count": 10,
   "metadata": {},
   "outputs": [
    {
     "ename": "FileNotFoundError",
     "evalue": "[Errno 2] No such file or directory: '/home/abetatos/Escritorio/TFM_Dataset/Dataset_20230823/256pixel_4ro/HS_mapchete'",
     "output_type": "error",
     "traceback": [
      "\u001b[0;31m---------------------------------------------------------------------------\u001b[0m",
      "\u001b[0;31mFileNotFoundError\u001b[0m                         Traceback (most recent call last)",
      "Cell \u001b[0;32mIn[10], line 8\u001b[0m\n\u001b[1;32m      4\u001b[0m os\u001b[39m.\u001b[39mmakedirs(DEM_outputpath, exist_ok\u001b[39m=\u001b[39m\u001b[39mTrue\u001b[39;00m)\n\u001b[1;32m      6\u001b[0m DEM_files \u001b[39m=\u001b[39m inpath \u001b[39m+\u001b[39m \u001b[39m\"\u001b[39m\u001b[39m/HS\u001b[39m\u001b[39m\"\u001b[39m\n\u001b[0;32m----> 8\u001b[0m \u001b[39mfor\u001b[39;00m folder \u001b[39min\u001b[39;00m os\u001b[39m.\u001b[39;49mlistdir(DEM_path):\n\u001b[1;32m      9\u001b[0m     \u001b[39mprint\u001b[39m(folder)\n\u001b[1;32m     10\u001b[0m     DEM_file \u001b[39m=\u001b[39m os\u001b[39m.\u001b[39mpath\u001b[39m.\u001b[39mjoin(DEM_files, folder, \u001b[39m\"\u001b[39m\u001b[39mHS.tif\u001b[39m\u001b[39m\"\u001b[39m)\n",
      "\u001b[0;31mFileNotFoundError\u001b[0m: [Errno 2] No such file or directory: '/home/abetatos/Escritorio/TFM_Dataset/Dataset_20230823/256pixel_4ro/HS_mapchete'"
     ]
    }
   ],
   "source": [
    "DEM_path = f\"{outpath}/HS_mapchete\"\n",
    "DEM_outputpath = f\"{outpath}/HS\"\n",
    "\n",
    "os.makedirs(DEM_outputpath, exist_ok=True)\n",
    "\n",
    "DEM_files = inpath + \"/HS\"\n",
    "\n",
    "for folder in os.listdir(DEM_path):\n",
    "    print(folder)\n",
    "    DEM_file = os.path.join(DEM_files, folder, \"HS.tif\")\n",
    "    \n",
    "    DEM_subpath = os.path.join(DEM_path, folder)\n",
    "    for file in os.listdir(DEM_subpath):\n",
    "        if file.endswith(\".pickle\"): \n",
    "            pickle_file = os.path.join(DEM_subpath, file)\n",
    "    \n",
    "            path_split = os.path.normpath(os.path.join(DEM_subpath, file)).split(os.sep)\n",
    "\n",
    "            with open(pickle_file, \"rb\") as pkl_src:\n",
    "                window = pkl.load(pkl_src)\n",
    "            \n",
    "            with rio.open(DEM_file) as src:\n",
    "                new_array = src.read(window=window)\n",
    "            image = Image.fromarray(new_array.squeeze(0))\n",
    "            \n",
    "            new_name = path_split[-2] + \"__\" + path_split[-1].replace(\".pickle\", f\"__{window.col_off}__{window.row_off}.tif\")\n",
    "            new_path = os.path.join(DEM_outputpath, new_name)\n",
    "            image.save(new_path)"
   ]
  },
  {
   "attachments": {},
   "cell_type": "markdown",
   "metadata": {},
   "source": [
    "# DEM"
   ]
  },
  {
   "cell_type": "code",
   "execution_count": null,
   "metadata": {},
   "outputs": [
    {
     "name": "stdout",
     "output_type": "stream",
     "text": [
      "snowmap_20160309_ads_100_extent_maskiert_nosnow0_noausreisser\n",
      "HS_Saflischpass_20220512_1m_epsg2056\n",
      "HS_Laucherenalp_20220511_1m_epsg2056\n",
      "snowmap_2014_ads_100_extent_maskiert_nosnow0_noausreisser\n",
      "HS_Davos_20200406_2m_epsg2056\n",
      "HS_Davos_20211604_2m_epsg2056\n",
      "snowmap_2013_ads_80_extent_maskiert_nosnow0_noausreisser\n",
      "snowmap_2012_ads_80_extent_maskiert_nosnow0_noausreisser\n",
      "snowmap_2015_ads_100_extent_maskiert_nosnow0_noausreisser\n",
      "snowmap_20160126_ads_100_extent_maskiert_nosnow0_noausreisser\n",
      "HS_c_20220223_1m_epsg2056\n",
      "HS_Davos_20170316_2m_epsg2056\n",
      "HS_Davos_20180411_2m_epsg2056\n",
      "snowmap_20160420_ads_100_extent_maskiert_nosnow0_noausreisser\n",
      "HS_Laucherenalp_20220224_2m_epsg2056\n",
      "snowmap_2010_ads_80_extent_maskiert_nosnow0_noausreisser\n"
     ]
    }
   ],
   "source": [
    "DEM_path = f\"{outpath}/HS_mapchete\"\n",
    "DEM_outputpath = f\"{outpath}/DEM\"\n",
    "\n",
    "os.makedirs(DEM_outputpath, exist_ok=True)\n",
    "\n",
    "DEM_files = inpath + \"/DEM\"\n",
    "\n",
    "for folder in os.listdir(DEM_path):\n",
    "    print(folder)\n",
    "    DEM_file = os.path.join(DEM_files, folder, \"DEM.tif\")\n",
    "    \n",
    "    DEM_subpath = os.path.join(DEM_path, folder)\n",
    "    for file in os.listdir(DEM_subpath):\n",
    "        if file.endswith(\".pickle\"): \n",
    "            pickle_file = os.path.join(DEM_subpath, file)\n",
    "    \n",
    "            path_split = os.path.normpath(os.path.join(DEM_subpath, file)).split(os.sep)\n",
    "\n",
    "            with open(pickle_file, \"rb\") as pkl_src:\n",
    "                window = pkl.load(pkl_src)\n",
    "            \n",
    "            with rio.open(DEM_file) as src:\n",
    "                new_array = src.read(window=window)\n",
    "                \n",
    "            image = Image.fromarray(new_array.squeeze(0))\n",
    "            \n",
    "            new_name = path_split[-2] + \"__\" + path_split[-1].replace(\".pickle\", f\"__{window.col_off}__{window.row_off}.tif\")\n",
    "            new_path = os.path.join(DEM_outputpath, new_name)\n",
    "            image.save(new_path)\n",
    "            "
   ]
  },
  {
   "attachments": {},
   "cell_type": "markdown",
   "metadata": {},
   "source": [
    "# SCE"
   ]
  },
  {
   "cell_type": "code",
   "execution_count": null,
   "metadata": {},
   "outputs": [
    {
     "name": "stdout",
     "output_type": "stream",
     "text": [
      "snowmap_20160309_ads_100_extent_maskiert_nosnow0_noausreisser\n",
      "HS_Saflischpass_20220512_1m_epsg2056\n",
      "HS_Laucherenalp_20220511_1m_epsg2056\n",
      "snowmap_2014_ads_100_extent_maskiert_nosnow0_noausreisser\n",
      "HS_Davos_20200406_2m_epsg2056\n",
      "HS_Davos_20211604_2m_epsg2056\n",
      "snowmap_2013_ads_80_extent_maskiert_nosnow0_noausreisser\n",
      "snowmap_2012_ads_80_extent_maskiert_nosnow0_noausreisser\n",
      "snowmap_2015_ads_100_extent_maskiert_nosnow0_noausreisser\n",
      "snowmap_20160126_ads_100_extent_maskiert_nosnow0_noausreisser\n",
      "HS_c_20220223_1m_epsg2056\n",
      "HS_Davos_20170316_2m_epsg2056\n",
      "HS_Davos_20180411_2m_epsg2056\n",
      "snowmap_20160420_ads_100_extent_maskiert_nosnow0_noausreisser\n",
      "HS_Laucherenalp_20220224_2m_epsg2056\n",
      "snowmap_2010_ads_80_extent_maskiert_nosnow0_noausreisser\n"
     ]
    }
   ],
   "source": [
    "SCE_path = f\"{outpath}/HS_mapchete\"\n",
    "SCE_outputpath = f\"{outpath}/SCE\"\n",
    "\n",
    "os.makedirs(SCE_outputpath, exist_ok=True)\n",
    "\n",
    "SCE_files = inpath + \"/SCE\"\n",
    "\n",
    "for folder in os.listdir(SCE_path):\n",
    "    print(folder)\n",
    "    SCE_file = os.path.join(SCE_files, folder, \"SCE.tif\")\n",
    "    \n",
    "    SCE_subpath = os.path.join(SCE_path, folder)\n",
    "    for file in os.listdir(SCE_subpath):\n",
    "        if file.endswith(\".pickle\"): \n",
    "            pickle_file = os.path.join(SCE_subpath, file)\n",
    "    \n",
    "            path_split = os.path.normpath(os.path.join(SCE_subpath, file)).split(os.sep)\n",
    "\n",
    "            with open(pickle_file, \"rb\") as pkl_src:\n",
    "                window = pkl.load(pkl_src)\n",
    "            \n",
    "            with rio.open(SCE_file) as src:\n",
    "                new_array = src.read(window=window)\n",
    "                \n",
    "            image = Image.fromarray(new_array.squeeze(0))\n",
    "            \n",
    "            new_name = path_split[-2] + \"__\" + path_split[-1].replace(\".pickle\", f\"__{window.col_off}__{window.row_off}.tif\")\n",
    "            new_path = os.path.join(SCE_outputpath, new_name)\n",
    "            image.save(new_path)"
   ]
  },
  {
   "attachments": {},
   "cell_type": "markdown",
   "metadata": {},
   "source": [
    "# Aspect"
   ]
  },
  {
   "cell_type": "code",
   "execution_count": null,
   "metadata": {},
   "outputs": [
    {
     "name": "stdout",
     "output_type": "stream",
     "text": [
      "snowmap_20160309_ads_100_extent_maskiert_nosnow0_noausreisser\n",
      "HS_Saflischpass_20220512_1m_epsg2056\n",
      "HS_Laucherenalp_20220511_1m_epsg2056\n",
      "snowmap_2014_ads_100_extent_maskiert_nosnow0_noausreisser\n",
      "HS_Davos_20200406_2m_epsg2056\n",
      "HS_Davos_20211604_2m_epsg2056\n",
      "snowmap_2013_ads_80_extent_maskiert_nosnow0_noausreisser\n",
      "snowmap_2012_ads_80_extent_maskiert_nosnow0_noausreisser\n",
      "snowmap_2015_ads_100_extent_maskiert_nosnow0_noausreisser\n",
      "snowmap_20160126_ads_100_extent_maskiert_nosnow0_noausreisser\n",
      "HS_c_20220223_1m_epsg2056\n",
      "HS_Davos_20170316_2m_epsg2056\n",
      "HS_Davos_20180411_2m_epsg2056\n",
      "snowmap_20160420_ads_100_extent_maskiert_nosnow0_noausreisser\n",
      "HS_Laucherenalp_20220224_2m_epsg2056\n",
      "snowmap_2010_ads_80_extent_maskiert_nosnow0_noausreisser\n"
     ]
    }
   ],
   "source": [
    "Aspect_path = f\"{outpath}/HS_mapchete\"\n",
    "Aspect_outputpath = f\"{outpath}/Aspect\"\n",
    "\n",
    "os.makedirs(Aspect_outputpath, exist_ok=True)\n",
    "\n",
    "Aspect_files = inpath + \"/Aspect\"\n",
    "\n",
    "for folder in os.listdir(Aspect_path):\n",
    "    print(folder)\n",
    "    Aspect_file = os.path.join(Aspect_files, folder, \"Aspect.tif\")\n",
    "    \n",
    "    Aspect_subpath = os.path.join(Aspect_path, folder)\n",
    "    for file in os.listdir(Aspect_subpath):\n",
    "        if file.endswith(\".pickle\"): \n",
    "            pickle_file = os.path.join(Aspect_subpath, file)\n",
    "    \n",
    "            path_split = os.path.normpath(os.path.join(Aspect_subpath, file)).split(os.sep)\n",
    "\n",
    "            with open(pickle_file, \"rb\") as pkl_src:\n",
    "                window = pkl.load(pkl_src)\n",
    "            \n",
    "            with rio.open(Aspect_file) as src:\n",
    "                new_array = src.read(window=window)\n",
    "                \n",
    "            image = Image.fromarray(new_array.squeeze(0))\n",
    "            new_name = path_split[-2] + \"__\" + path_split[-1].replace(\".pickle\", f\"__{window.col_off}__{window.row_off}.tif\")\n",
    "            new_path = os.path.join(Aspect_outputpath, new_name)\n",
    "            image.save(new_path)"
   ]
  },
  {
   "cell_type": "markdown",
   "metadata": {},
   "source": [
    "# AspectSin"
   ]
  },
  {
   "cell_type": "code",
   "execution_count": null,
   "metadata": {},
   "outputs": [
    {
     "name": "stdout",
     "output_type": "stream",
     "text": [
      "snowmap_20160309_ads_100_extent_maskiert_nosnow0_noausreisser\n",
      "HS_Saflischpass_20220512_1m_epsg2056\n",
      "HS_Laucherenalp_20220511_1m_epsg2056\n",
      "snowmap_2014_ads_100_extent_maskiert_nosnow0_noausreisser\n",
      "HS_Davos_20200406_2m_epsg2056\n",
      "HS_Davos_20211604_2m_epsg2056\n",
      "snowmap_2013_ads_80_extent_maskiert_nosnow0_noausreisser\n",
      "snowmap_2012_ads_80_extent_maskiert_nosnow0_noausreisser\n",
      "snowmap_2015_ads_100_extent_maskiert_nosnow0_noausreisser\n",
      "snowmap_20160126_ads_100_extent_maskiert_nosnow0_noausreisser\n",
      "HS_c_20220223_1m_epsg2056\n",
      "HS_Davos_20170316_2m_epsg2056\n",
      "HS_Davos_20180411_2m_epsg2056\n",
      "snowmap_20160420_ads_100_extent_maskiert_nosnow0_noausreisser\n",
      "HS_Laucherenalp_20220224_2m_epsg2056\n",
      "snowmap_2010_ads_80_extent_maskiert_nosnow0_noausreisser\n"
     ]
    }
   ],
   "source": [
    "Aspect_path = f\"{outpath}/HS_mapchete\"\n",
    "Aspect_outputpath = f\"{outpath}/AspectSin\"\n",
    "\n",
    "os.makedirs(Aspect_outputpath, exist_ok=True)\n",
    "\n",
    "Aspect_files = inpath + \"/AspectSin\"\n",
    "\n",
    "for folder in os.listdir(Aspect_path):\n",
    "    print(folder)\n",
    "    Aspect_file = os.path.join(Aspect_files, folder, \"AspectSin.tif\")\n",
    "    \n",
    "    Aspect_subpath = os.path.join(Aspect_path, folder)\n",
    "    for file in os.listdir(Aspect_subpath):\n",
    "        if file.endswith(\".pickle\"): \n",
    "            pickle_file = os.path.join(Aspect_subpath, file)\n",
    "    \n",
    "            path_split = os.path.normpath(os.path.join(Aspect_subpath, file)).split(os.sep)\n",
    "\n",
    "            with open(pickle_file, \"rb\") as pkl_src:\n",
    "                window = pkl.load(pkl_src)\n",
    "            \n",
    "            with rio.open(Aspect_file) as src:\n",
    "                new_array = src.read(window=window)\n",
    "                \n",
    "            image = Image.fromarray(new_array.squeeze(0))\n",
    "            new_name = path_split[-2] + \"__\" + path_split[-1].replace(\".pickle\", f\"__{window.col_off}__{window.row_off}.tif\")\n",
    "            new_path = os.path.join(Aspect_outputpath, new_name)\n",
    "            image.save(new_path)"
   ]
  },
  {
   "cell_type": "markdown",
   "metadata": {},
   "source": [
    "# AspectCos"
   ]
  },
  {
   "cell_type": "code",
   "execution_count": null,
   "metadata": {},
   "outputs": [
    {
     "name": "stdout",
     "output_type": "stream",
     "text": [
      "snowmap_20160309_ads_100_extent_maskiert_nosnow0_noausreisser\n",
      "HS_Saflischpass_20220512_1m_epsg2056\n",
      "HS_Laucherenalp_20220511_1m_epsg2056\n",
      "snowmap_2014_ads_100_extent_maskiert_nosnow0_noausreisser\n",
      "HS_Davos_20200406_2m_epsg2056\n",
      "HS_Davos_20211604_2m_epsg2056\n",
      "snowmap_2013_ads_80_extent_maskiert_nosnow0_noausreisser\n",
      "snowmap_2012_ads_80_extent_maskiert_nosnow0_noausreisser\n",
      "snowmap_2015_ads_100_extent_maskiert_nosnow0_noausreisser\n",
      "snowmap_20160126_ads_100_extent_maskiert_nosnow0_noausreisser\n",
      "HS_c_20220223_1m_epsg2056\n",
      "HS_Davos_20170316_2m_epsg2056\n",
      "HS_Davos_20180411_2m_epsg2056\n",
      "snowmap_20160420_ads_100_extent_maskiert_nosnow0_noausreisser\n",
      "HS_Laucherenalp_20220224_2m_epsg2056\n",
      "snowmap_2010_ads_80_extent_maskiert_nosnow0_noausreisser\n"
     ]
    }
   ],
   "source": [
    "Aspect_path = f\"{outpath}/HS_mapchete\"\n",
    "Aspect_outputpath = f\"{outpath}/AspectCos\"\n",
    "\n",
    "os.makedirs(Aspect_outputpath, exist_ok=True)\n",
    "\n",
    "Aspect_files = inpath + \"/AspectCos\"\n",
    "\n",
    "for folder in os.listdir(Aspect_path):\n",
    "    print(folder)\n",
    "    Aspect_file = os.path.join(Aspect_files, folder, \"AspectCos.tif\")\n",
    "    \n",
    "    Aspect_subpath = os.path.join(Aspect_path, folder)\n",
    "    for file in os.listdir(Aspect_subpath):\n",
    "        if file.endswith(\".pickle\"): \n",
    "            pickle_file = os.path.join(Aspect_subpath, file)\n",
    "    \n",
    "            path_split = os.path.normpath(os.path.join(Aspect_subpath, file)).split(os.sep)\n",
    "\n",
    "            with open(pickle_file, \"rb\") as pkl_src:\n",
    "                window = pkl.load(pkl_src)\n",
    "            \n",
    "            with rio.open(Aspect_file) as src:\n",
    "                new_array = src.read(window=window)\n",
    "                \n",
    "            image = Image.fromarray(new_array.squeeze(0))\n",
    "            new_name = path_split[-2] + \"__\" + path_split[-1].replace(\".pickle\", f\"__{window.col_off}__{window.row_off}.tif\")\n",
    "            new_path = os.path.join(Aspect_outputpath, new_name)\n",
    "            image.save(new_path)"
   ]
  },
  {
   "attachments": {},
   "cell_type": "markdown",
   "metadata": {},
   "source": [
    "# Slope"
   ]
  },
  {
   "cell_type": "code",
   "execution_count": null,
   "metadata": {},
   "outputs": [
    {
     "name": "stdout",
     "output_type": "stream",
     "text": [
      "snowmap_20160309_ads_100_extent_maskiert_nosnow0_noausreisser\n",
      "HS_Saflischpass_20220512_1m_epsg2056\n",
      "HS_Laucherenalp_20220511_1m_epsg2056\n",
      "snowmap_2014_ads_100_extent_maskiert_nosnow0_noausreisser\n",
      "HS_Davos_20200406_2m_epsg2056\n",
      "HS_Davos_20211604_2m_epsg2056\n",
      "snowmap_2013_ads_80_extent_maskiert_nosnow0_noausreisser\n",
      "snowmap_2012_ads_80_extent_maskiert_nosnow0_noausreisser\n",
      "snowmap_2015_ads_100_extent_maskiert_nosnow0_noausreisser\n",
      "snowmap_20160126_ads_100_extent_maskiert_nosnow0_noausreisser\n",
      "HS_c_20220223_1m_epsg2056\n",
      "HS_Davos_20170316_2m_epsg2056\n",
      "HS_Davos_20180411_2m_epsg2056\n",
      "snowmap_20160420_ads_100_extent_maskiert_nosnow0_noausreisser\n",
      "HS_Laucherenalp_20220224_2m_epsg2056\n",
      "snowmap_2010_ads_80_extent_maskiert_nosnow0_noausreisser\n"
     ]
    }
   ],
   "source": [
    "Slope_path = f\"{outpath}/HS_mapchete\"\n",
    "Slope_outputpath = f\"{outpath}/Slope\"\n",
    "\n",
    "os.makedirs(Slope_outputpath, exist_ok=True)\n",
    "\n",
    "Slope_files = inpath + \"/Slope\"\n",
    "\n",
    "for folder in os.listdir(Slope_path):\n",
    "    print(folder)\n",
    "    Slope_file = os.path.join(Slope_files, folder, \"Slope.tif\")\n",
    "    \n",
    "    Slope_subpath = os.path.join(Slope_path, folder)\n",
    "    for file in os.listdir(Slope_subpath):\n",
    "        if file.endswith(\".pickle\"): \n",
    "            pickle_file = os.path.join(Slope_subpath, file)\n",
    "    \n",
    "            path_split = os.path.normpath(os.path.join(Slope_subpath, file)).split(os.sep)\n",
    "            \n",
    "            with open(pickle_file, \"rb\") as pkl_src:\n",
    "                window = pkl.load(pkl_src)\n",
    "            \n",
    "            with rio.open(Slope_file) as src:\n",
    "                new_array = src.read(window=window)\n",
    "                \n",
    "            image = Image.fromarray(new_array.squeeze(0))\n",
    "            new_name = path_split[-2] + \"__\" + path_split[-1].replace(\".pickle\", f\"__{window.col_off}__{window.row_off}.tif\")\n",
    "            new_path = os.path.join(Slope_outputpath, new_name)\n",
    "            image.save(new_path)"
   ]
  },
  {
   "attachments": {},
   "cell_type": "markdown",
   "metadata": {},
   "source": [
    "# TPI"
   ]
  },
  {
   "cell_type": "code",
   "execution_count": null,
   "metadata": {},
   "outputs": [
    {
     "name": "stdout",
     "output_type": "stream",
     "text": [
      "snowmap_20160309_ads_100_extent_maskiert_nosnow0_noausreisser\n",
      "HS_Saflischpass_20220512_1m_epsg2056\n",
      "HS_Laucherenalp_20220511_1m_epsg2056\n",
      "snowmap_2014_ads_100_extent_maskiert_nosnow0_noausreisser\n",
      "HS_Davos_20200406_2m_epsg2056\n",
      "HS_Davos_20211604_2m_epsg2056\n",
      "snowmap_2013_ads_80_extent_maskiert_nosnow0_noausreisser\n",
      "snowmap_2012_ads_80_extent_maskiert_nosnow0_noausreisser\n",
      "snowmap_2015_ads_100_extent_maskiert_nosnow0_noausreisser\n",
      "snowmap_20160126_ads_100_extent_maskiert_nosnow0_noausreisser\n",
      "HS_c_20220223_1m_epsg2056\n",
      "HS_Davos_20170316_2m_epsg2056\n",
      "HS_Davos_20180411_2m_epsg2056\n",
      "snowmap_20160420_ads_100_extent_maskiert_nosnow0_noausreisser\n",
      "HS_Laucherenalp_20220224_2m_epsg2056\n",
      "snowmap_2010_ads_80_extent_maskiert_nosnow0_noausreisser\n"
     ]
    }
   ],
   "source": [
    "filter_size = 11\n",
    "\n",
    "tpi_path = f\"{outpath}/HS_mapchete\"\n",
    "tpi_outputpath = f\"{outpath}/TPI\"\n",
    "os.makedirs(tpi_outputpath, exist_ok=True)\n",
    "\n",
    "tpi_files = inpath + \"/TPI\"\n",
    "for folder in os.listdir(tpi_path):\n",
    "    print(folder)\n",
    "    tpi_file = os.path.join(tpi_files, folder, \"TPI.tif\")\n",
    "    \n",
    "    tpi_subpath = os.path.join(tpi_path, folder)\n",
    "    for file in os.listdir(tpi_subpath):\n",
    "        if file.endswith(\".pickle\"): \n",
    "            pickle_file = os.path.join(tpi_subpath, file)\n",
    "    \n",
    "            path_split = os.path.normpath(os.path.join(tpi_subpath, file)).split(os.sep)\n",
    "\n",
    "            with open(pickle_file, \"rb\") as pkl_src:\n",
    "                window = pkl.load(pkl_src)\n",
    "            \n",
    "            with rio.open(tpi_file) as src:\n",
    "                new_array = src.read(window=window)\n",
    "                \n",
    "            image = Image.fromarray(new_array.squeeze(0))\n",
    "            new_name = path_split[-2] + \"__\" + path_split[-1].replace(\".pickle\", f\"__{window.col_off}__{window.row_off}.tif\")\n",
    "            new_path = os.path.join(tpi_outputpath, new_name)\n",
    "            image.save(new_path)"
   ]
  },
  {
   "attachments": {},
   "cell_type": "markdown",
   "metadata": {},
   "source": [
    "# TPIWGW"
   ]
  },
  {
   "cell_type": "code",
   "execution_count": null,
   "metadata": {},
   "outputs": [
    {
     "name": "stdout",
     "output_type": "stream",
     "text": [
      "snowmap_20160309_ads_100_extent_maskiert_nosnow0_noausreisser\n",
      "HS_Saflischpass_20220512_1m_epsg2056\n",
      "HS_Laucherenalp_20220511_1m_epsg2056\n",
      "snowmap_2014_ads_100_extent_maskiert_nosnow0_noausreisser\n",
      "HS_Davos_20200406_2m_epsg2056\n",
      "HS_Davos_20211604_2m_epsg2056\n",
      "snowmap_2013_ads_80_extent_maskiert_nosnow0_noausreisser\n",
      "snowmap_2012_ads_80_extent_maskiert_nosnow0_noausreisser\n",
      "snowmap_2015_ads_100_extent_maskiert_nosnow0_noausreisser\n",
      "snowmap_20160126_ads_100_extent_maskiert_nosnow0_noausreisser\n",
      "HS_c_20220223_1m_epsg2056\n",
      "HS_Davos_20170316_2m_epsg2056\n",
      "HS_Davos_20180411_2m_epsg2056\n",
      "snowmap_20160420_ads_100_extent_maskiert_nosnow0_noausreisser\n",
      "HS_Laucherenalp_20220224_2m_epsg2056\n",
      "snowmap_2010_ads_80_extent_maskiert_nosnow0_noausreisser\n"
     ]
    }
   ],
   "source": [
    "filter_size = 11\n",
    "\n",
    "tpi_path = f\"{outpath}/HS_mapchete\"\n",
    "tpi_outputpath = f\"{outpath}/TPIWGW\"\n",
    "os.makedirs(tpi_outputpath, exist_ok=True)\n",
    "\n",
    "tpi_files = inpath + \"/TPIWGW\"\n",
    "for folder in os.listdir(tpi_path):\n",
    "    print(folder)\n",
    "    tpi_file = os.path.join(tpi_files, folder, \"TPIWGW.tif\")\n",
    "    \n",
    "    tpi_subpath = os.path.join(tpi_path, folder)\n",
    "    for file in os.listdir(tpi_subpath):\n",
    "        if file.endswith(\".pickle\"): \n",
    "            pickle_file = os.path.join(tpi_subpath, file)\n",
    "    \n",
    "            path_split = os.path.normpath(os.path.join(tpi_subpath, file)).split(os.sep)\n",
    "\n",
    "            with open(pickle_file, \"rb\") as pkl_src:\n",
    "                window = pkl.load(pkl_src)\n",
    "            \n",
    "            with rio.open(tpi_file) as src:\n",
    "                new_array = src.read(window=window)\n",
    "                \n",
    "            image = Image.fromarray(new_array.squeeze(0))\n",
    "            new_name = path_split[-2] + \"__\" + path_split[-1].replace(\".pickle\", f\"__{window.col_off}__{window.row_off}.tif\")\n",
    "            new_path = os.path.join(tpi_outputpath, new_name)\n",
    "            image.save(new_path)"
   ]
  },
  {
   "attachments": {},
   "cell_type": "markdown",
   "metadata": {},
   "source": [
    "# DEMSNOW"
   ]
  },
  {
   "cell_type": "code",
   "execution_count": null,
   "metadata": {},
   "outputs": [
    {
     "name": "stdout",
     "output_type": "stream",
     "text": [
      "snowmap_20160309_ads_100_extent_maskiert_nosnow0_noausreisser\n",
      "HS_Saflischpass_20220512_1m_epsg2056\n",
      "HS_Laucherenalp_20220511_1m_epsg2056\n",
      "snowmap_2014_ads_100_extent_maskiert_nosnow0_noausreisser\n",
      "HS_Davos_20200406_2m_epsg2056\n",
      "HS_Davos_20211604_2m_epsg2056\n",
      "snowmap_2013_ads_80_extent_maskiert_nosnow0_noausreisser\n",
      "snowmap_2012_ads_80_extent_maskiert_nosnow0_noausreisser\n",
      "snowmap_2015_ads_100_extent_maskiert_nosnow0_noausreisser\n",
      "snowmap_20160126_ads_100_extent_maskiert_nosnow0_noausreisser\n",
      "HS_c_20220223_1m_epsg2056\n",
      "HS_Davos_20170316_2m_epsg2056\n",
      "HS_Davos_20180411_2m_epsg2056\n",
      "snowmap_20160420_ads_100_extent_maskiert_nosnow0_noausreisser\n",
      "HS_Laucherenalp_20220224_2m_epsg2056\n",
      "snowmap_2010_ads_80_extent_maskiert_nosnow0_noausreisser\n"
     ]
    }
   ],
   "source": [
    "Slope_path = f\"{outpath}/HS_mapchete\"\n",
    "Slope_outputpath = f\"{outpath}/DEMSNOW\"\n",
    "os.makedirs(Slope_outputpath, exist_ok=True)\n",
    "\n",
    "Slope_files = inpath + \"/DEMSNOW\"\n",
    "\n",
    "for folder in os.listdir(Slope_path):\n",
    "    print(folder)\n",
    "    Slope_file = os.path.join(Slope_files, folder, \"DEMSNOW.tif\")\n",
    "    \n",
    "    Slope_subpath = os.path.join(Slope_path, folder)\n",
    "    for file in os.listdir(Slope_subpath):\n",
    "        if file.endswith(\".pickle\"): \n",
    "            pickle_file = os.path.join(Slope_subpath, file)\n",
    "    \n",
    "            path_split = os.path.normpath(os.path.join(Slope_subpath, file)).split(os.sep)\n",
    "\n",
    "            with open(pickle_file, \"rb\") as pkl_src:\n",
    "                window = pkl.load(pkl_src)\n",
    "            \n",
    "            with rio.open(Slope_file) as src:\n",
    "                new_array = src.read(window=window)\n",
    "                \n",
    "            image = Image.fromarray(new_array.squeeze(0))\n",
    "            new_name = path_split[-2] + \"__\" + path_split[-1].replace(\".pickle\", f\"__{window.col_off}__{window.row_off}.tif\")\n",
    "            new_path = os.path.join(Slope_outputpath, new_name)\n",
    "            image.save(new_path)"
   ]
  },
  {
   "attachments": {},
   "cell_type": "markdown",
   "metadata": {},
   "source": [
    "# FFSNOW"
   ]
  },
  {
   "cell_type": "code",
   "execution_count": null,
   "metadata": {},
   "outputs": [
    {
     "name": "stdout",
     "output_type": "stream",
     "text": [
      "snowmap_20160309_ads_100_extent_maskiert_nosnow0_noausreisser\n",
      "HS_Saflischpass_20220512_1m_epsg2056\n",
      "HS_Laucherenalp_20220511_1m_epsg2056\n",
      "snowmap_2014_ads_100_extent_maskiert_nosnow0_noausreisser\n",
      "HS_Davos_20200406_2m_epsg2056\n",
      "HS_Davos_20211604_2m_epsg2056\n",
      "snowmap_2013_ads_80_extent_maskiert_nosnow0_noausreisser\n",
      "snowmap_2012_ads_80_extent_maskiert_nosnow0_noausreisser\n",
      "snowmap_2015_ads_100_extent_maskiert_nosnow0_noausreisser\n",
      "snowmap_20160126_ads_100_extent_maskiert_nosnow0_noausreisser\n",
      "HS_c_20220223_1m_epsg2056\n",
      "HS_Davos_20170316_2m_epsg2056\n",
      "HS_Davos_20180411_2m_epsg2056\n",
      "snowmap_20160420_ads_100_extent_maskiert_nosnow0_noausreisser\n",
      "HS_Laucherenalp_20220224_2m_epsg2056\n",
      "snowmap_2010_ads_80_extent_maskiert_nosnow0_noausreisser\n"
     ]
    }
   ],
   "source": [
    "Slope_path = f\"{outpath}/HS_mapchete\"\n",
    "Slope_outputpath = f\"{outpath}/FFSnow\"\n",
    "os.makedirs(Slope_outputpath, exist_ok=True)\n",
    "\n",
    "Slope_files = inpath + \"/FFSnow\"\n",
    "\n",
    "for folder in os.listdir(Slope_path):\n",
    "    print(folder)\n",
    "    Slope_file = os.path.join(Slope_files, folder, \"FFSnow.tif\")\n",
    "    \n",
    "    Slope_subpath = os.path.join(Slope_path, folder)\n",
    "    for file in os.listdir(Slope_subpath):\n",
    "        if file.endswith(\".pickle\"): \n",
    "            pickle_file = os.path.join(Slope_subpath, file)\n",
    "    \n",
    "            path_split = os.path.normpath(os.path.join(Slope_subpath, file)).split(os.sep)\n",
    "\n",
    "            with open(pickle_file, \"rb\") as pkl_src:\n",
    "                window = pkl.load(pkl_src)\n",
    "            \n",
    "            with rio.open(Slope_file) as src:\n",
    "                new_array = src.read(window=window)\n",
    "                \n",
    "            image = Image.fromarray(new_array.squeeze(0))\n",
    "            new_name = path_split[-2] + \"__\" + path_split[-1].replace(\".pickle\", f\"__{window.col_off}__{window.row_off}.tif\")\n",
    "            new_path = os.path.join(Slope_outputpath, new_name)\n",
    "            image.save(new_path)"
   ]
  },
  {
   "cell_type": "markdown",
   "metadata": {},
   "source": [
    "# Voronoi"
   ]
  },
  {
   "cell_type": "code",
   "execution_count": 16,
   "metadata": {},
   "outputs": [
    {
     "name": "stdout",
     "output_type": "stream",
     "text": [
      "snowmap_20160309_ads_100_extent_maskiert_nosnow0_noausreisser\n",
      "HS_Saflischpass_20220512_1m_epsg2056\n",
      "HS_Laucherenalp_20220511_1m_epsg2056\n",
      "snowmap_2014_ads_100_extent_maskiert_nosnow0_noausreisser\n",
      "HS_Davos_20200406_2m_epsg2056\n",
      "HS_Davos_20211604_2m_epsg2056\n",
      "snowmap_2013_ads_80_extent_maskiert_nosnow0_noausreisser\n",
      "snowmap_2012_ads_80_extent_maskiert_nosnow0_noausreisser\n",
      "snowmap_2015_ads_100_extent_maskiert_nosnow0_noausreisser\n",
      "snowmap_20160126_ads_100_extent_maskiert_nosnow0_noausreisser\n",
      "HS_c_20220223_1m_epsg2056\n",
      "HS_Davos_20170316_2m_epsg2056\n",
      "HS_Davos_20180411_2m_epsg2056\n",
      "snowmap_20160420_ads_100_extent_maskiert_nosnow0_noausreisser\n",
      "HS_Laucherenalp_20220224_2m_epsg2056\n",
      "snowmap_2010_ads_80_extent_maskiert_nosnow0_noausreisser\n"
     ]
    }
   ],
   "source": [
    "Aspect_path = f\"{outpath}/HS_mapchete\"\n",
    "Aspect_outputpath = f\"{outpath}/Voronoi\"\n",
    "\n",
    "os.makedirs(Aspect_outputpath, exist_ok=True)\n",
    "\n",
    "Aspect_files = inpath + \"/Voronoi\"\n",
    "\n",
    "for folder in os.listdir(Aspect_path):\n",
    "    print(folder)\n",
    "    Aspect_file = os.path.join(Aspect_files, folder, \"Voronoi.tif\")\n",
    "    if not os.path.isfile(Aspect_file): \n",
    "        continue\n",
    "    \n",
    "    Aspect_subpath = os.path.join(Aspect_path, folder)\n",
    "    for file in os.listdir(Aspect_subpath):\n",
    "        if file.endswith(\".pickle\"): \n",
    "            pickle_file = os.path.join(Aspect_subpath, file)\n",
    "    \n",
    "            path_split = os.path.normpath(os.path.join(Aspect_subpath, file)).split(os.sep)\n",
    "\n",
    "            with open(pickle_file, \"rb\") as pkl_src:\n",
    "                window = pkl.load(pkl_src)\n",
    "            \n",
    "            with rio.open(Aspect_file) as src:\n",
    "                new_array = src.read(window=window)\n",
    "                \n",
    "            image = Image.fromarray(new_array.squeeze(0))\n",
    "            new_name = path_split[-2] + \"__\" + path_split[-1].replace(\".pickle\", f\"__{window.col_off}__{window.row_off}.tif\")\n",
    "            new_path = os.path.join(Aspect_outputpath, new_name)\n",
    "            image.save(new_path)"
   ]
  },
  {
   "cell_type": "markdown",
   "metadata": {},
   "source": [
    "# ProbStat"
   ]
  },
  {
   "cell_type": "code",
   "execution_count": 17,
   "metadata": {},
   "outputs": [
    {
     "name": "stdout",
     "output_type": "stream",
     "text": [
      "snowmap_20160309_ads_100_extent_maskiert_nosnow0_noausreisser\n",
      "HS_Saflischpass_20220512_1m_epsg2056\n",
      "HS_Laucherenalp_20220511_1m_epsg2056\n",
      "snowmap_2014_ads_100_extent_maskiert_nosnow0_noausreisser\n",
      "HS_Davos_20200406_2m_epsg2056\n",
      "HS_Davos_20211604_2m_epsg2056\n",
      "snowmap_2013_ads_80_extent_maskiert_nosnow0_noausreisser\n",
      "snowmap_2012_ads_80_extent_maskiert_nosnow0_noausreisser\n",
      "snowmap_2015_ads_100_extent_maskiert_nosnow0_noausreisser\n",
      "snowmap_20160126_ads_100_extent_maskiert_nosnow0_noausreisser\n",
      "HS_c_20220223_1m_epsg2056\n",
      "HS_Davos_20170316_2m_epsg2056\n",
      "HS_Davos_20180411_2m_epsg2056\n",
      "snowmap_20160420_ads_100_extent_maskiert_nosnow0_noausreisser\n",
      "HS_Laucherenalp_20220224_2m_epsg2056\n",
      "snowmap_2010_ads_80_extent_maskiert_nosnow0_noausreisser\n"
     ]
    }
   ],
   "source": [
    "Aspect_path = f\"{outpath}/HS_mapchete\"\n",
    "Aspect_outputpath = f\"{outpath}/ProbStat\"\n",
    "\n",
    "os.makedirs(Aspect_outputpath, exist_ok=True)\n",
    "\n",
    "Aspect_files = inpath + \"/ProbStat\"\n",
    "\n",
    "for folder in os.listdir(Aspect_path):\n",
    "    print(folder)\n",
    "    Aspect_file = os.path.join(Aspect_files, folder, \"ProbStat.tif\")\n",
    "    if not os.path.isfile(Aspect_file): \n",
    "        continue\n",
    "    \n",
    "    Aspect_subpath = os.path.join(Aspect_path, folder)\n",
    "    for file in os.listdir(Aspect_subpath):\n",
    "        if file.endswith(\".pickle\"): \n",
    "            pickle_file = os.path.join(Aspect_subpath, file)\n",
    "    \n",
    "            path_split = os.path.normpath(os.path.join(Aspect_subpath, file)).split(os.sep)\n",
    "\n",
    "            with open(pickle_file, \"rb\") as pkl_src:\n",
    "                window = pkl.load(pkl_src)\n",
    "            \n",
    "            with rio.open(Aspect_file) as src:\n",
    "                new_array = src.read(window=window)\n",
    "                \n",
    "            image = Image.fromarray(new_array.squeeze(0))\n",
    "            new_name = path_split[-2] + \"__\" + path_split[-1].replace(\".pickle\", f\"__{window.col_off}__{window.row_off}.tif\")\n",
    "            new_path = os.path.join(Aspect_outputpath, new_name)\n",
    "            image.save(new_path)"
   ]
  },
  {
   "cell_type": "markdown",
   "metadata": {},
   "source": []
  }
 ],
 "metadata": {
  "kernelspec": {
   "display_name": "gcc-py37",
   "language": "python",
   "name": "python3"
  },
  "language_info": {
   "codemirror_mode": {
    "name": "ipython",
    "version": 3
   },
   "file_extension": ".py",
   "mimetype": "text/x-python",
   "name": "python",
   "nbconvert_exporter": "python",
   "pygments_lexer": "ipython3",
   "version": "3.10.11"
  },
  "orig_nbformat": 4
 },
 "nbformat": 4,
 "nbformat_minor": 2
}
