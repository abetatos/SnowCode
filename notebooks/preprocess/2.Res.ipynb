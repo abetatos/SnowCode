{
 "cells": [
  {
   "cell_type": "code",
   "execution_count": 2,
   "metadata": {},
   "outputs": [],
   "source": [
    "import os\n",
    "import re\n",
    "from osgeo import gdal\n",
    "\n",
    "from tqdm.auto import tqdm\n",
    "from utils import access_raster"
   ]
  },
  {
   "cell_type": "code",
   "execution_count": 36,
   "metadata": {},
   "outputs": [],
   "source": [
    "RES = 5"
   ]
  },
  {
   "cell_type": "code",
   "execution_count": 3,
   "metadata": {},
   "outputs": [],
   "source": [
    "unitato_epsg = \"/home/abetatos/Escritorio/TFM_Dataset/1.Dataset_epsg/\"\n",
    "unitato_res = \"/home/abetatos/Escritorio/TFM_Dataset/2.Dataset_res5/\""
   ]
  },
  {
   "attachments": {},
   "cell_type": "markdown",
   "metadata": {},
   "source": [
    "# HS"
   ]
  },
  {
   "cell_type": "code",
   "execution_count": null,
   "metadata": {},
   "outputs": [],
   "source": [
    "input_path_HS = os.path.join(unitato_epsg, \"HS\")\n",
    "output_path_HS = os.path.join(unitato_res, \"HS\")\n",
    "os.makedirs(output_path_HS, exist_ok=True)\n",
    "\n",
    "files = [f for f in os.listdir(input_path_HS) if re.search(\".tiff?$\", f)]\n",
    "\n",
    "for f in files: \n",
    "    print(f)\n",
    "    gdal.Warp(os.path.join(output_path_HS, f).replace(\".tiff\", \".tif\"), os.path.join(input_path_HS, f), xRes=RES, yRes=-RES)"
   ]
  },
  {
   "cell_type": "markdown",
   "metadata": {},
   "source": [
    "# DEM"
   ]
  },
  {
   "cell_type": "code",
   "execution_count": null,
   "metadata": {},
   "outputs": [],
   "source": [
    "get_file = lambda location: rf\"{unitato_epsg}DEM/{location}.tif\"\n",
    "output_path = f\"{unitato_res}DEM\"\n",
    "os.makedirs(output_path, exist_ok=True)\n",
    "for location in ['Davos', 'Valais']: \n",
    "    print(location)\n",
    "    input_file = get_file(location)\n",
    "    output_file = os.path.join(output_path, f\"{location}.tif\")\n",
    "    gdal.Warp(output_file, input_file, xRes=RES, yRes=-RES)"
   ]
  },
  {
   "attachments": {},
   "cell_type": "markdown",
   "metadata": {},
   "source": [
    "# SCE"
   ]
  },
  {
   "cell_type": "code",
   "execution_count": 5,
   "metadata": {},
   "outputs": [],
   "source": [
    "import rasterio as rio\n",
    "from tqdm.auto import tqdm\n",
    "import numpy as np\n",
    "from collections import Counter"
   ]
  },
  {
   "cell_type": "code",
   "execution_count": 37,
   "metadata": {},
   "outputs": [
    {
     "data": {
      "text/plain": [
       "<osgeo.gdal.Dataset; proxy of <Swig Object of type 'GDALDatasetShadow *' at 0x7fe80f8d8900> >"
      ]
     },
     "execution_count": 37,
     "metadata": {},
     "output_type": "execute_result"
    }
   ],
   "source": [
    "input_path_SCE = os.path.join(unitato_epsg, \"SCE\")\n",
    "output_path_SCE = os.path.join(unitato_res, \"SCE\")\n",
    "os.makedirs(output_path_SCE, exist_ok=True)\n",
    "\n",
    "files = sorted([f for f in os.listdir(input_path_SCE) if re.search(\".tiff?$\", f)])\n",
    "\n",
    "final_array = np.array([], dtype=\"int32\")\n",
    "\n",
    "for f in tqdm(files): \n",
    "    with rio.open(os.path.join(input_path_SCE, f), \"r\") as src: \n",
    "        array = src.read()\n",
    "        profile = src.profile\n",
    "\n",
    "    array = array.astype(\"int32\")\n",
    "    array[array < 0] = -9999.\n",
    "    array[(array<150) & (array != -9999.)] = 0\n",
    "    array[array>=150] = 1\n",
    "\n",
    "    condition = final_array.any()\n",
    "    if not condition: \n",
    "        final_array = array\n",
    "    else: \n",
    "        final_array += array\n",
    "\n",
    "profile.update({\n",
    "    \"dtype\": \"float32\",\n",
    "    \"nodata\": -9999.\n",
    "    })\n",
    "\n",
    "with rio.open(os.path.join(output_path_SCE, f\"tmp_SCE\"), \"w\", **profile) as src: \n",
    "    src.write(final_array/len(files))\n",
    "    \n",
    "gdal.Warp(os.path.join(output_path_SCE, \"SCE\"), os.path.join(output_path_SCE, f\"tmp_SCE\"), xRes=RES, yRes=-RES)"
   ]
  },
  {
   "attachments": {},
   "cell_type": "markdown",
   "metadata": {},
   "source": [
    "# Aspect"
   ]
  },
  {
   "cell_type": "code",
   "execution_count": null,
   "metadata": {},
   "outputs": [],
   "source": [
    "get_file = lambda location: rf\"{unitato_epsg}Aspect/{location}.tif\"\n",
    "output_path = f\"{unitato_res}Aspect\"\n",
    "os.makedirs(output_path, exist_ok=True)\n",
    "\n",
    "for location in ['Davos', 'Valais']: \n",
    "    print(location)\n",
    "    input_file = get_file(location)\n",
    "    output_file = os.path.join(output_path, f\"{location}.tif\")\n",
    "    gdal.Warp(output_file, input_file, xRes=RES, yRes=-RES)"
   ]
  },
  {
   "attachments": {},
   "cell_type": "markdown",
   "metadata": {},
   "source": [
    "# Slope"
   ]
  },
  {
   "cell_type": "code",
   "execution_count": null,
   "metadata": {},
   "outputs": [],
   "source": [
    "get_file = lambda location: rf\"{unitato_epsg}Slope/{location}.tif\"\n",
    "output_path = f\"{unitato_res}Slope\"\n",
    "os.makedirs(output_path, exist_ok=True)\n",
    "\n",
    "for location in ['Davos', 'Valais']: \n",
    "    print(location)\n",
    "    input_file = get_file(location)\n",
    "    output_file = os.path.join(output_path, f\"{location}.tif\")\n",
    "    gdal.Warp(output_file, input_file, xRes=RES, yRes=-RES)"
   ]
  },
  {
   "attachments": {},
   "cell_type": "markdown",
   "metadata": {},
   "source": [
    "# TPI"
   ]
  },
  {
   "cell_type": "code",
   "execution_count": null,
   "metadata": {},
   "outputs": [],
   "source": [
    "output_path = f\"{unitato_res}/TPI\"\n",
    "os.makedirs(output_path, exist_ok=True)\n",
    "\n",
    "for filter_size in [11]: #[7, 11, 22, 50]:\n",
    "    try:\n",
    "        os.makedirs(rf\"{unitato_epsg}TPI\")\n",
    "    except: \n",
    "        pass\n",
    "    \n",
    "    get_file = lambda location: rf\"{unitato_epsg}TPI/{location}_{filter_size}.tif\"\n",
    "    print(filter_size)\n",
    "    for location in ['Davos', 'Valais']: \n",
    "        print(location)\n",
    "        input_file = get_file(location)\n",
    "        try:\n",
    "            os.makedirs(rf\"{unitato_res}TPI\")\n",
    "        except: \n",
    "            pass\n",
    "    \n",
    "        output_file = os.path.join(output_path, f\"{location}.tif\")\n",
    "        gdal.Warp(output_file, input_file, xRes=RES, yRes=-RES)\n",
    "        "
   ]
  },
  {
   "attachments": {},
   "cell_type": "markdown",
   "metadata": {},
   "source": [
    "# TPIWGW"
   ]
  },
  {
   "cell_type": "code",
   "execution_count": null,
   "metadata": {},
   "outputs": [],
   "source": [
    "output_path = f\"{unitato_res}/TPIWGW\"\n",
    "os.makedirs(output_path, exist_ok=True)\n",
    "\n",
    "for filter_size in [11]: #[7, 11, 22, 50]:\n",
    "    try:\n",
    "        os.makedirs(rf\"{unitato_epsg}TPIWGW\")\n",
    "    except: \n",
    "        pass\n",
    "    \n",
    "    get_file = lambda location: rf\"{unitato_epsg}TPIWGW/{location}_{filter_size}.tif\"\n",
    "    print(filter_size)\n",
    "    for location in ['Davos', 'Valais']: \n",
    "        print(location)\n",
    "        input_file = get_file(location)\n",
    "        try:\n",
    "            os.makedirs(rf\"{unitato_res}TPIWGW\")\n",
    "        except: \n",
    "            pass\n",
    "    \n",
    "        output_file = os.path.join(output_path, f\"{location}.tif\")\n",
    "        gdal.Warp(output_file, input_file, xRes=RES, yRes=-RES)"
   ]
  }
 ],
 "metadata": {
  "kernelspec": {
   "display_name": "gcc-py37",
   "language": "python",
   "name": "python3"
  },
  "language_info": {
   "codemirror_mode": {
    "name": "ipython",
    "version": 3
   },
   "file_extension": ".py",
   "mimetype": "text/x-python",
   "name": "python",
   "nbconvert_exporter": "python",
   "pygments_lexer": "ipython3",
   "version": "3.10.11"
  },
  "orig_nbformat": 4
 },
 "nbformat": 4,
 "nbformat_minor": 2
}
