{
 "cells": [
  {
   "cell_type": "code",
   "execution_count": 1,
   "metadata": {},
   "outputs": [],
   "source": [
    "import os\n",
    "import numpy as np\n",
    "import rasterio as rio\n",
    "from copy import deepcopy"
   ]
  },
  {
   "cell_type": "code",
   "execution_count": 2,
   "metadata": {},
   "outputs": [],
   "source": [
    "dataset = r\"/home/abetatos/Escritorio/TFM_Dataset\"\n",
    "\n",
    "outp = \"4.DatasetPost\"\n",
    "inp = \"3.Basedataset\"\n",
    "\n",
    "inpath = os.path.join(dataset, inp)\n",
    "outpath = os.path.join(dataset, outp)"
   ]
  },
  {
   "cell_type": "code",
   "execution_count": 3,
   "metadata": {},
   "outputs": [],
   "source": [
    "FEATURES =  os.listdir(inpath)\n",
    "LOCATIONS = os.listdir(os.path.join(inpath, \"HS\"))"
   ]
  },
  {
   "cell_type": "code",
   "execution_count": 4,
   "metadata": {},
   "outputs": [],
   "source": [
    "def get_array(inpath_file): \n",
    "    with rio.open(inpath_file, \"r\") as src: \n",
    "        array = src.read()\n",
    "    return array\n",
    "\n",
    "def get_arrays(feature):\n",
    "    arrays = []\n",
    "    for location in LOCATIONS:\n",
    "        inpath_file = os.path.join(inpath, feature, location, feature + \".tif\")\n",
    "        arrays.append(get_array(inpath_file))\n",
    "    return arrays\n",
    "\n",
    "def get_lims(feature):\n",
    "    arrays = get_arrays(feature)\n",
    "    maximum = np.array([a.max() for a in arrays]).max()\n",
    "    for a in arrays:\n",
    "        a[a<=-9999.] = np.inf\n",
    "    minimum = np.array([a.min() for a in arrays]).min()\n",
    "    return maximum, minimum"
   ]
  },
  {
   "cell_type": "code",
   "execution_count": 5,
   "metadata": {},
   "outputs": [],
   "source": [
    "def rescale(array, minimum, maximum): \n",
    "    mask = array==-9999.\n",
    "    array = (array - minimum)/(maximum - minimum)\n",
    "    array[mask] = -9999.\n",
    "    return array"
   ]
  },
  {
   "cell_type": "code",
   "execution_count": 6,
   "metadata": {},
   "outputs": [
    {
     "name": "stdout",
     "output_type": "stream",
     "text": [
      "DEM 3408.71 959.74744\n",
      "SCE 0.9726027 0.0\n",
      "FFSnow 180.0 0.0\n",
      "DEMSNOW 6.17763 -0.1650578\n",
      "TPI 1.0 -1.0\n",
      "Slope 33.00405 0.0\n",
      "TPIWGW 8201.83 -9337.114\n",
      "Aspect 359.99948 0.0\n",
      "HS 26.533447 -18.737549\n"
     ]
    }
   ],
   "source": [
    "for feature in FEATURES:\n",
    "    maximum, minimum = get_lims(feature)\n",
    "    print(feature, maximum, minimum)\n",
    "    for location in LOCATIONS:\n",
    "        inpath_file = os.path.join(inpath, feature, location, feature + \".tif\")\n",
    "        outpath_file = os.path.join(outpath, feature, location, feature + \".tif\")\n",
    "\n",
    "        with rio.open(inpath_file, \"r\") as src:\n",
    "            array = src.read()[0]\n",
    "            profile = src.profile\n",
    "        \n",
    "        os.makedirs(os.path.dirname(outpath_file), exist_ok=True)\n",
    "        with rio.open(outpath_file, \"w\", **profile) as src: \n",
    "\n",
    "            if feature != \"HS\":\n",
    "                src.write(rescale(array, minimum, maximum), 1)\n",
    "            else:\n",
    "                src.write(array, 1)"
   ]
  },
  {
   "cell_type": "code",
   "execution_count": 43,
   "metadata": {},
   "outputs": [
    {
     "data": {
      "text/plain": [
       "-9999.0"
      ]
     },
     "execution_count": 43,
     "metadata": {},
     "output_type": "execute_result"
    }
   ],
   "source": [
    "array.min()"
   ]
  },
  {
   "cell_type": "code",
   "execution_count": null,
   "metadata": {},
   "outputs": [],
   "source": []
  }
 ],
 "metadata": {
  "kernelspec": {
   "display_name": "tfm-py37",
   "language": "python",
   "name": "python3"
  },
  "language_info": {
   "codemirror_mode": {
    "name": "ipython",
    "version": 3
   },
   "file_extension": ".py",
   "mimetype": "text/x-python",
   "name": "python",
   "nbconvert_exporter": "python",
   "pygments_lexer": "ipython3",
   "version": "3.10.11"
  },
  "orig_nbformat": 4
 },
 "nbformat": 4,
 "nbformat_minor": 2
}
