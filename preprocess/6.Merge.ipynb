{
 "cells": [
  {
   "cell_type": "code",
   "execution_count": 1,
   "metadata": {},
   "outputs": [],
   "source": [
    "import pandas as pd\n",
    "import os\n",
    "import numpy as np\n",
    "from PIL import Image\n",
    "import pickle as pkl\n",
    "from tqdm.auto import tqdm"
   ]
  },
  {
   "cell_type": "code",
   "execution_count": 2,
   "metadata": {},
   "outputs": [],
   "source": [
    "unitato = r\"/home/abetatos/Escritorio/TFM_Dataset/\"\n",
    "\n",
    "dataset = \"Dataset_20230523\"\n",
    "mapchete_conf = \"256pixel_4ro\"\n",
    "files_path = os.path.join(unitato, dataset, mapchete_conf)"
   ]
  },
  {
   "cell_type": "code",
   "execution_count": 3,
   "metadata": {},
   "outputs": [
    {
     "name": "stdout",
     "output_type": "stream",
     "text": [
      "lost files 0\n"
     ]
    },
    {
     "data": {
      "text/plain": [
       "Index(['DEM', 'SCE', 'HS', 'TPI', 'TPIWGW', 'Aspect', 'Slope', 'FFSnow',\n",
       "       'DEMSNOW'],\n",
       "      dtype='object')"
      ]
     },
     "execution_count": 3,
     "metadata": {},
     "output_type": "execute_result"
    }
   ],
   "source": [
    "# DEM\n",
    "df_DEM = pd.DataFrame(os.listdir(os.path.join(files_path, \"DEM\")), columns = [\"DEM\"])\n",
    "df_DEM['filename'] = df_DEM['DEM'].apply(os.path.basename)\n",
    "df_DEM = df_DEM.set_index(\"filename\")\n",
    "\n",
    "df_SCE = pd.DataFrame(os.listdir(os.path.join(files_path, \"SCE\")), columns = [\"SCE\"])\n",
    "df_SCE['filename'] = df_SCE['SCE'].apply(os.path.basename)\n",
    "df_SCE = df_SCE.set_index(\"filename\")\n",
    "\n",
    "df_HS = pd.DataFrame(os.listdir(os.path.join(files_path, \"HS\")), columns = [\"HS\"])\n",
    "df_HS['filename'] = df_HS['HS'].apply(os.path.basename)\n",
    "df_HS = df_HS.set_index(\"filename\")\n",
    "\n",
    "df_Aspect = pd.DataFrame(os.listdir(os.path.join(files_path, \"Aspect\")), columns = [\"Aspect\"])\n",
    "df_Aspect['filename'] = df_Aspect['Aspect'].apply(os.path.basename)\n",
    "df_Aspect = df_Aspect.set_index(\"filename\")\n",
    "\n",
    "df_Slope = pd.DataFrame(os.listdir(os.path.join(files_path, \"Slope\")), columns = [\"Slope\"])\n",
    "df_Slope['filename'] = df_Slope['Slope'].apply(os.path.basename)\n",
    "df_Slope = df_Slope.set_index(\"filename\")\n",
    "\n",
    "df_TPI11 = pd.DataFrame(os.listdir(os.path.join(files_path, \"TPI\")), columns = [\"TPI\"])\n",
    "df_TPI11['filename'] = df_TPI11['TPI'].apply(os.path.basename)\n",
    "df_TPI11 = df_TPI11.set_index(\"filename\")\n",
    "\n",
    "df_TPIWGW = pd.DataFrame(os.listdir(os.path.join(files_path, \"TPIWGW\")), columns = [\"TPIWGW\"])\n",
    "df_TPIWGW['filename'] = df_TPIWGW['TPIWGW'].apply(os.path.basename)\n",
    "df_TPIWGW = df_TPIWGW.set_index(\"filename\")\n",
    "\n",
    "df_FFSNOW = pd.DataFrame(os.listdir(os.path.join(files_path, \"FFSnow\")), columns = [\"FFSnow\"])\n",
    "df_FFSNOW['filename'] = df_FFSNOW['FFSnow'].apply(os.path.basename)\n",
    "df_FFSNOW = df_FFSNOW.set_index(\"filename\")\n",
    "\n",
    "df_DEMSNOW = pd.DataFrame(os.listdir(os.path.join(files_path, \"DEMSNOW\")), columns = [\"DEMSNOW\"])\n",
    "df_DEMSNOW['filename'] = df_DEMSNOW['DEMSNOW'].apply(os.path.basename)\n",
    "df_DEMSNOW = df_DEMSNOW.set_index(\"filename\")\n",
    "\n",
    "df = pd.DataFrame(index=df_DEM.index)\n",
    "df['DEM'] = df_DEM['DEM']\n",
    "df['SCE'] = df_SCE['SCE']\n",
    "df['HS'] = df_HS['HS']\n",
    "df['TPI'] = df_TPI11['TPI']\n",
    "df['TPIWGW'] = df_TPIWGW['TPIWGW']\n",
    "df['Aspect'] = df_Aspect['Aspect']\n",
    "df['Slope'] = df_Slope['Slope']\n",
    "df['FFSnow'] = df_FFSNOW['FFSnow']\n",
    "df['DEMSNOW'] = df_DEMSNOW['DEMSNOW']\n",
    "\n",
    "print(\"lost files\", len(df) - len(df.dropna()))\n",
    "# df = df.dropna()\n",
    "df.columns"
   ]
  },
  {
   "cell_type": "code",
   "execution_count": 4,
   "metadata": {},
   "outputs": [],
   "source": [
    "# df"
   ]
  },
  {
   "cell_type": "code",
   "execution_count": 5,
   "metadata": {},
   "outputs": [],
   "source": [
    "files_df = df[\"HS\"].apply(lambda x: x.replace(\".tif\", \".pickle\")).to_frame()\n",
    "files_df['filename'] = files_df['HS']\n",
    "files_df = files_df.set_index(\"filename\")"
   ]
  },
  {
   "cell_type": "code",
   "execution_count": 6,
   "metadata": {},
   "outputs": [
    {
     "data": {
      "text/plain": [
       "zone\n",
       "HS_Davos_20170316_2m_epsg2056                                    886\n",
       "HS_Davos_20200406_2m_epsg2056                                    382\n",
       "HS_Davos_20211604_2m_epsg2056                                    350\n",
       "snowmap_2012_ads_80_extent_maskiert_nosnow0_noausreisser         314\n",
       "snowmap_2013_ads_80_extent_maskiert_nosnow0_noausreisser         313\n",
       "snowmap_2010_ads_80_extent_maskiert_nosnow0_noausreisser         305\n",
       "snowmap_20160420_ads_100_extent_maskiert_nosnow0_noausreisser    279\n",
       "snowmap_20160126_ads_100_extent_maskiert_nosnow0_noausreisser    277\n",
       "snowmap_2015_ads_100_extent_maskiert_nosnow0_noausreisser        276\n",
       "snowmap_20160309_ads_100_extent_maskiert_nosnow0_noausreisser    273\n",
       "snowmap_2014_ads_100_extent_maskiert_nosnow0_noausreisser        272\n",
       "HS_Davos_20180411_2m_epsg2056                                     76\n",
       "HS_c_20220223_1m_epsg2056                                         20\n",
       "HS_Laucherenalp_20220224_2m_epsg2056                              13\n",
       "HS_Saflischpass_20220512_1m_epsg2056                               8\n",
       "HS_Laucherenalp_20220511_1m_epsg2056                               6\n",
       "Name: count, dtype: int64"
      ]
     },
     "execution_count": 6,
     "metadata": {},
     "output_type": "execute_result"
    }
   ],
   "source": [
    "files_df = df[\"HS\"].apply(lambda x: x.replace(\".tif\", \".pickle\")).to_frame()\n",
    "files_df['filename'] = files_df['HS']\n",
    "files_df = files_df.set_index(\"filename\")\n",
    "files_df['zone'] = files_df[\"HS\"].apply(lambda x: x.split(\"__\")[0])\n",
    "files_df['file'] = files_df[\"HS\"].apply(lambda x: x.split(\"__\")[1])\n",
    "files_df['zone'].value_counts()"
   ]
  },
  {
   "cell_type": "code",
   "execution_count": 7,
   "metadata": {},
   "outputs": [],
   "source": [
    "files_df.reset_index(inplace=True)\n",
    "files_df['filename'] = files_df['filename'].apply(lambda x: os.path.join(files_path, \"Data\", x))"
   ]
  },
  {
   "cell_type": "code",
   "execution_count": 8,
   "metadata": {},
   "outputs": [],
   "source": [
    "pretrain = False\n",
    "\n",
    "if pretrain:\n",
    "    test_other = [\"HS_c_20220223_1m_epsg2056\", \"HS_Laucherenalp_20220224_2m_epsg2056\", \"HS_Laucherenalp_20220511_1m_epsg2056\", \"HS_Saflischpass_20220512_1m_epsg2056\"]\n",
    "    # test_davos = [\"HS_Davos_20200406_2m_epsg2056\"]\n",
    "    test_davos =  [\"HS_Davos_20170316_2m_epsg2056\"]\n",
    "\n",
    "    HS_bool = files_df['zone'].apply(lambda x: x.startswith(\"HS\"))\n",
    "    pret_df = files_df[~HS_bool]\n",
    "    pret_df.to_csv(files_path + \"/pretrain_df.csv\")\n",
    "\n",
    "    files_df_hs = files_df[HS_bool]\n",
    "    train_df = files_df_hs[(~files_df_hs['zone'].isin(test_other)) & (~files_df_hs['zone'].isin(test_davos))]\n",
    "    \n",
    "    test_other_df = files_df_hs[files_df_hs['zone'].isin(test_other)]\n",
    "    test_davos_df = files_df_hs[files_df_hs['zone'].isin(test_davos)]\n",
    "\n",
    "    train_df.to_csv(files_path + \"/train_df.csv\")\n",
    "    test_other_df.to_csv(files_path + \"/test_other_df.csv\")\n",
    "    test_davos_df.to_csv(files_path + \"/test_davos_df.csv\")\n",
    "\n",
    "else:\n",
    "    # test_other = [\"HS_c_20220223_1m_epsg2056\", \"HS_Laucherenalp_20220224_2m_epsg2056\", \"HS_Laucherenalp_20220511_1m_epsg2056\", \"HS_Saflischpass_20220512_1m_epsg2056\"]\n",
    "    test_other = [\"HS_c_20220223_1m_epsg2056\", \"HS_Laucherenalp_20220224_2m_epsg2056\"]\n",
    "    test_davos = [\"HS_Davos_20170316_2m_epsg2056\"]\n",
    "\n",
    "    test_other_df = files_df[files_df['zone'].isin(test_other)]\n",
    "    test_davos_df = files_df[files_df['zone'].isin(test_davos)]\n",
    "    train_df = files_df[(~files_df['zone'].isin(test_other)) & (~files_df['zone'].isin(test_davos))]\n",
    "\n",
    "    test_other_df.to_csv(files_path + \"/test_other_df.csv\")\n",
    "    test_davos_df.to_csv(files_path + \"/test_davos_df.csv\")\n",
    "    train_df.to_csv(files_path + \"/train_df.csv\")"
   ]
  },
  {
   "cell_type": "code",
   "execution_count": 9,
   "metadata": {},
   "outputs": [
    {
     "ename": "NameError",
     "evalue": "name 'pret_df' is not defined",
     "output_type": "error",
     "traceback": [
      "\u001b[0;31m---------------------------------------------------------------------------\u001b[0m",
      "\u001b[0;31mNameError\u001b[0m                                 Traceback (most recent call last)",
      "Cell \u001b[0;32mIn[9], line 3\u001b[0m\n\u001b[1;32m      1\u001b[0m test_len \u001b[39m=\u001b[39m  \u001b[39msum\u001b[39m([\u001b[39mlen\u001b[39m(test_other_df), \u001b[39mlen\u001b[39m(test_davos_df)])\n\u001b[0;32m----> 3\u001b[0m \u001b[39mlen\u001b[39m(pret_df), \u001b[39mlen\u001b[39m(test_other_df), \u001b[39mlen\u001b[39m(test_davos_df), \u001b[39mlen\u001b[39m(train_df), test_len\u001b[39m/\u001b[39m(\u001b[39mlen\u001b[39m(train_df)\u001b[39m+\u001b[39mtest_len)\n",
      "\u001b[0;31mNameError\u001b[0m: name 'pret_df' is not defined"
     ]
    }
   ],
   "source": [
    "test_len =  sum([len(test_other_df), len(test_davos_df)])\n",
    "     \n",
    "len(pret_df), len(test_other_df), len(test_davos_df), len(train_df), test_len/(len(train_df)+test_len)"
   ]
  },
  {
   "cell_type": "code",
   "execution_count": 12,
   "metadata": {},
   "outputs": [
    {
     "data": {
      "application/vnd.jupyter.widget-view+json": {
       "model_id": "7908f406eded43bea47af8fbf33adea6",
       "version_major": 2,
       "version_minor": 0
      },
      "text/plain": [
       "  0%|          | 0/4050 [00:00<?, ?it/s]"
      ]
     },
     "metadata": {},
     "output_type": "display_data"
    },
    {
     "ename": "KeyboardInterrupt",
     "evalue": "",
     "output_type": "error",
     "traceback": [
      "\u001b[0;31m---------------------------------------------------------------------------\u001b[0m",
      "\u001b[0;31mKeyboardInterrupt\u001b[0m                         Traceback (most recent call last)",
      "Cell \u001b[0;32mIn[12], line 16\u001b[0m\n\u001b[1;32m     14\u001b[0m slope \u001b[39m=\u001b[39m read_image(\u001b[39m\"\u001b[39m\u001b[39mSlope\u001b[39m\u001b[39m\"\u001b[39m, row[\u001b[39m'\u001b[39m\u001b[39mSlope\u001b[39m\u001b[39m'\u001b[39m])\n\u001b[1;32m     15\u001b[0m tpi \u001b[39m=\u001b[39m read_image(\u001b[39m\"\u001b[39m\u001b[39mTPI\u001b[39m\u001b[39m\"\u001b[39m, row[\u001b[39m'\u001b[39m\u001b[39mTPI\u001b[39m\u001b[39m'\u001b[39m])\n\u001b[0;32m---> 16\u001b[0m tpiwgw \u001b[39m=\u001b[39m read_image(\u001b[39m\"\u001b[39;49m\u001b[39mTPIWGW\u001b[39;49m\u001b[39m\"\u001b[39;49m, row[\u001b[39m'\u001b[39;49m\u001b[39mTPIWGW\u001b[39;49m\u001b[39m'\u001b[39;49m])\n\u001b[1;32m     17\u001b[0m dems \u001b[39m=\u001b[39m read_image(\u001b[39m\"\u001b[39m\u001b[39mDEMSNOW\u001b[39m\u001b[39m\"\u001b[39m, row[\u001b[39m'\u001b[39m\u001b[39mDEMSNOW\u001b[39m\u001b[39m'\u001b[39m])\n\u001b[1;32m     18\u001b[0m ffs \u001b[39m=\u001b[39m read_image(\u001b[39m\"\u001b[39m\u001b[39mFFSnow\u001b[39m\u001b[39m\"\u001b[39m, row[\u001b[39m'\u001b[39m\u001b[39mFFSnow\u001b[39m\u001b[39m'\u001b[39m])\n",
      "Cell \u001b[0;32mIn[12], line 4\u001b[0m, in \u001b[0;36mread_image\u001b[0;34m(type_, filename)\u001b[0m\n\u001b[1;32m      1\u001b[0m \u001b[39mdef\u001b[39;00m \u001b[39mread_image\u001b[39m(type_, filename): \n\u001b[1;32m      2\u001b[0m     array \u001b[39m=\u001b[39m Image\u001b[39m.\u001b[39mopen(os\u001b[39m.\u001b[39mpath\u001b[39m.\u001b[39mjoin(files_path, type_, filename))\n\u001b[0;32m----> 4\u001b[0m     array \u001b[39m=\u001b[39m np\u001b[39m.\u001b[39;49marray(array\u001b[39m.\u001b[39;49mgetdata())\u001b[39m.\u001b[39mreshape(array\u001b[39m.\u001b[39msize[\u001b[39m0\u001b[39m], array\u001b[39m.\u001b[39msize[\u001b[39m1\u001b[39m])\n\u001b[1;32m      5\u001b[0m     \u001b[39mreturn\u001b[39;00m np\u001b[39m.\u001b[39mexpand_dims(array, \u001b[39m0\u001b[39m)\n",
      "\u001b[0;31mKeyboardInterrupt\u001b[0m: "
     ]
    }
   ],
   "source": [
    "def read_image(type_, filename): \n",
    "    array = Image.open(os.path.join(files_path, type_, filename))\n",
    "    \n",
    "    array = np.array(array.getdata()).reshape(array.size[0], array.size[1])\n",
    "    return np.expand_dims(array, 0)\n",
    "\n",
    "outpath = os.path.join(files_path, \"Data\")\n",
    "os.makedirs(outpath, exist_ok=True)\n",
    "\n",
    "for index, row in tqdm(df.iterrows(), total=len(df)): \n",
    "    dem = read_image(\"DEM\", row['DEM'])\n",
    "    sce = read_image(\"SCE\", row['SCE'])\n",
    "    aspect = read_image(\"Aspect\", row['Aspect'])\n",
    "    slope = read_image(\"Slope\", row['Slope'])\n",
    "    tpi = read_image(\"TPI\", row['TPI'])\n",
    "    tpiwgw = read_image(\"TPIWGW\", row['TPIWGW'])\n",
    "    dems = read_image(\"DEMSNOW\", row['DEMSNOW'])\n",
    "    ffs = read_image(\"FFSnow\", row['FFSnow'])\n",
    "    hs = read_image(\"HS\", row['HS'])\n",
    "    \n",
    "    final_array = np.concatenate([dem, sce, aspect, slope, tpi, tpiwgw, dems, ffs, hs])\n",
    "    \n",
    "    with open(os.path.join(outpath, index.replace(\".tif\", \".pickle\")), \"wb\") as f: \n",
    "        pkl.dump(final_array, f)"
   ]
  },
  {
   "cell_type": "code",
   "execution_count": null,
   "metadata": {},
   "outputs": [],
   "source": []
  }
 ],
 "metadata": {
  "kernelspec": {
   "display_name": "gcc-py37",
   "language": "python",
   "name": "python3"
  },
  "language_info": {
   "codemirror_mode": {
    "name": "ipython",
    "version": 3
   },
   "file_extension": ".py",
   "mimetype": "text/x-python",
   "name": "python",
   "nbconvert_exporter": "python",
   "pygments_lexer": "ipython3",
   "version": "3.10.11"
  },
  "orig_nbformat": 4
 },
 "nbformat": 4,
 "nbformat_minor": 2
}
