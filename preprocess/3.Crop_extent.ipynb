{
 "cells": [
  {
   "cell_type": "code",
   "execution_count": 1,
   "metadata": {},
   "outputs": [],
   "source": [
    "\n",
    "import os\n",
    "import re\n",
    "import numpy as np\n",
    "\n",
    "from utils import access_raster, write_single_channel_gtiff\n",
    "\n",
    "import rasterio as rio\n",
    "from rasterio.windows import get_data_window, transform, Window\n",
    "\n",
    "from shapely.geometry import box\n",
    "from shapely.geometry import mapping\n",
    "\n",
    "import geopandas as gpd\n",
    "import rioxarray as rxr"
   ]
  },
  {
   "cell_type": "code",
   "execution_count": 2,
   "metadata": {},
   "outputs": [],
   "source": [
    "unitato_res = \"/home/abetatos/Escritorio/TFM_Dataset/2.Dataset_res5/\"\n",
    "unitato_base = \"/home/abetatos/Escritorio/TFM_Dataset/3.Basedataset/\""
   ]
  },
  {
   "cell_type": "code",
   "execution_count": 3,
   "metadata": {},
   "outputs": [],
   "source": [
    "input_path_HS = os.path.join(unitato_res, \"HS\")\n",
    "output_path_HS = os.path.join(unitato_base, \"HS\")\n",
    "os.makedirs(output_path_HS, exist_ok=True)\n",
    "\n",
    "HS_files = [f for f in os.listdir(input_path_HS) if re.search(\".tiff?$\", f)]"
   ]
  },
  {
   "attachments": {},
   "cell_type": "markdown",
   "metadata": {},
   "source": [
    "# HS"
   ]
  },
  {
   "cell_type": "code",
   "execution_count": 5,
   "metadata": {},
   "outputs": [
    {
     "name": "stdout",
     "output_type": "stream",
     "text": [
      "snowmap_20160309_ads_100_extent_maskiert_nosnow0_noausreisser.tif\n",
      "14.999023 -7098.0605 -9999.0\n",
      "HS_Davos_20211604_2m_epsg2056.tif\n",
      "9.91038 -6012.1206 -9999.0\n",
      "snowmap_2012_ads_80_extent_maskiert_nosnow0_noausreisser.tif\n",
      "14.994385 -6836.6567 -9999.0\n",
      "HS_Laucherenalp_20220224_2m_epsg2056.tif\n",
      "26.533447 -9174.224 -9999.0\n",
      "snowmap_2010_ads_80_extent_maskiert_nosnow0_noausreisser.tif\n",
      "15.0 -6921.3945 -9999.0\n",
      "HS_Davos_20200406_2m_epsg2056.tif\n",
      "9.553748 -6051.4487 -9999.0\n",
      "HS_c_20220223_1m_epsg2056.tif\n",
      "16.229492 -4975.13 -9999.0\n",
      "snowmap_20160420_ads_100_extent_maskiert_nosnow0_noausreisser.tif\n",
      "14.998779 -7095.5176 -9999.0\n",
      "snowmap_2014_ads_100_extent_maskiert_nosnow0_noausreisser.tif\n",
      "14.975586 -7146.1094 -9999.0\n",
      "HS_Davos_20180411_2m_epsg2056.tif\n",
      "9.043191 -6762.6606 -9999.0\n",
      "snowmap_2013_ads_80_extent_maskiert_nosnow0_noausreisser.tif\n",
      "14.994385 -6841.78 -9999.0\n",
      "HS_Davos_20170316_2m_epsg2056.tif\n",
      "9.911215 -5579.924 -9999.0\n",
      "HS_Laucherenalp_20220511_1m_epsg2056.tif\n",
      "9.746826 -7623.67 -9999.0\n",
      "HS_Saflischpass_20220512_1m_epsg2056.tif\n",
      "15.920654 -6490.142 -9999.0\n",
      "snowmap_20160126_ads_100_extent_maskiert_nosnow0_noausreisser.tif\n",
      "14.997803 -7077.154 -9999.0\n",
      "snowmap_2015_ads_100_extent_maskiert_nosnow0_noausreisser.tif\n",
      "14.973145 -7126.044 -9999.0\n"
     ]
    }
   ],
   "source": [
    "\n",
    "for f in HS_files: \n",
    "    print(f)\n",
    "    # Apply window to get short \n",
    "    with rio.open(os.path.join(input_path_HS, f)) as src:\n",
    "        profile = src.profile.copy()\n",
    "        data_window = get_data_window(src.read(masked=True))\n",
    "        data_transform = transform(data_window, src.transform)\n",
    "        profile.update(\n",
    "            transform=data_transform,\n",
    "            height=data_window.height,\n",
    "            width=data_window.width\n",
    "            )\n",
    "        data = src.read(window=data_window)\n",
    "        array = data[0]\n",
    "        array[array<=profile['nodata']] = -9999.\n",
    "        profile.update({\"nodata\": -9999.})\n",
    "\n",
    "    out_path = os.path.join(output_path_HS,  os.path.splitext(f)[0])\n",
    "    try: \n",
    "        os.makedirs(out_path)\n",
    "    except: \n",
    "        pass\n",
    "    \n",
    "    with rio.open(os.path.join(out_path, \"HS.tif\"), \"w\", **profile) as src: \n",
    "        src.write(data)\n",
    "\n",
    "    HS_raster = access_raster(os.path.join(out_path, \"HS.tif\"))\n",
    "    HS_geodf = gpd.GeoDataFrame(geometry=[box(*HS_raster['extent'], ccw=False)], crs=HS_raster['meta']['crs'])\n",
    "    HS_geodf\n",
    "    \n",
    "    out_extent = os.path.join(out_path, \"extent.shp\")\n",
    "    HS_geodf.to_file(out_extent)"
   ]
  },
  {
   "attachments": {},
   "cell_type": "markdown",
   "metadata": {},
   "source": [
    "DEM"
   ]
  },
  {
   "cell_type": "code",
   "execution_count": 42,
   "metadata": {},
   "outputs": [
    {
     "name": "stdout",
     "output_type": "stream",
     "text": [
      "snowmap_20160309_ads_100_extent_maskiert_nosnow0_noausreisser.tif\n"
     ]
    },
    {
     "name": "stderr",
     "output_type": "stream",
     "text": [
      "/home/abetatos/miniconda3/lib/python3.10/site-packages/pyproj/crs/_cf1x8.py:514: UserWarning: angle from rectified to skew grid parameter lost in conversion to CF\n",
      "  warnings.warn(\n",
      "/home/abetatos/miniconda3/lib/python3.10/site-packages/pyproj/crs/_cf1x8.py:514: UserWarning: angle from rectified to skew grid parameter lost in conversion to CF\n",
      "  warnings.warn(\n",
      "/home/abetatos/miniconda3/lib/python3.10/site-packages/pyproj/crs/_cf1x8.py:514: UserWarning: angle from rectified to skew grid parameter lost in conversion to CF\n",
      "  warnings.warn(\n"
     ]
    },
    {
     "name": "stdout",
     "output_type": "stream",
     "text": [
      "0 15104440\n",
      "HS_Davos_20211604_2m_epsg2056.tif\n"
     ]
    },
    {
     "name": "stderr",
     "output_type": "stream",
     "text": [
      "/home/abetatos/miniconda3/lib/python3.10/site-packages/pyproj/crs/_cf1x8.py:514: UserWarning: angle from rectified to skew grid parameter lost in conversion to CF\n",
      "  warnings.warn(\n",
      "/home/abetatos/miniconda3/lib/python3.10/site-packages/pyproj/crs/_cf1x8.py:514: UserWarning: angle from rectified to skew grid parameter lost in conversion to CF\n",
      "  warnings.warn(\n"
     ]
    },
    {
     "name": "stdout",
     "output_type": "stream",
     "text": [
      "0 14927616\n",
      "snowmap_2012_ads_80_extent_maskiert_nosnow0_noausreisser.tif\n"
     ]
    },
    {
     "name": "stderr",
     "output_type": "stream",
     "text": [
      "/home/abetatos/miniconda3/lib/python3.10/site-packages/pyproj/crs/_cf1x8.py:514: UserWarning: angle from rectified to skew grid parameter lost in conversion to CF\n",
      "  warnings.warn(\n",
      "/home/abetatos/miniconda3/lib/python3.10/site-packages/pyproj/crs/_cf1x8.py:514: UserWarning: angle from rectified to skew grid parameter lost in conversion to CF\n",
      "  warnings.warn(\n"
     ]
    },
    {
     "name": "stdout",
     "output_type": "stream",
     "text": [
      "0 15999830\n",
      "HS_Laucherenalp_20220224_2m_epsg2056.tif\n"
     ]
    },
    {
     "name": "stderr",
     "output_type": "stream",
     "text": [
      "/home/abetatos/miniconda3/lib/python3.10/site-packages/pyproj/crs/_cf1x8.py:514: UserWarning: angle from rectified to skew grid parameter lost in conversion to CF\n",
      "  warnings.warn(\n",
      "/home/abetatos/miniconda3/lib/python3.10/site-packages/pyproj/crs/_cf1x8.py:514: UserWarning: angle from rectified to skew grid parameter lost in conversion to CF\n",
      "  warnings.warn(\n"
     ]
    },
    {
     "name": "stdout",
     "output_type": "stream",
     "text": [
      "0 554320\n",
      "snowmap_2010_ads_80_extent_maskiert_nosnow0_noausreisser.tif\n"
     ]
    },
    {
     "name": "stderr",
     "output_type": "stream",
     "text": [
      "/home/abetatos/miniconda3/lib/python3.10/site-packages/pyproj/crs/_cf1x8.py:514: UserWarning: angle from rectified to skew grid parameter lost in conversion to CF\n",
      "  warnings.warn(\n"
     ]
    },
    {
     "name": "stdout",
     "output_type": "stream",
     "text": [
      "0 15924270\n",
      "HS_Davos_20200406_2m_epsg2056.tif\n"
     ]
    },
    {
     "name": "stderr",
     "output_type": "stream",
     "text": [
      "/home/abetatos/miniconda3/lib/python3.10/site-packages/pyproj/crs/_cf1x8.py:514: UserWarning: angle from rectified to skew grid parameter lost in conversion to CF\n",
      "  warnings.warn(\n",
      "/home/abetatos/miniconda3/lib/python3.10/site-packages/pyproj/crs/_cf1x8.py:514: UserWarning: angle from rectified to skew grid parameter lost in conversion to CF\n",
      "  warnings.warn(\n",
      "/home/abetatos/miniconda3/lib/python3.10/site-packages/pyproj/crs/_cf1x8.py:514: UserWarning: angle from rectified to skew grid parameter lost in conversion to CF\n",
      "  warnings.warn(\n"
     ]
    },
    {
     "name": "stdout",
     "output_type": "stream",
     "text": [
      "0 16322404\n",
      "HS_c_20220223_1m_epsg2056.tif\n"
     ]
    },
    {
     "name": "stderr",
     "output_type": "stream",
     "text": [
      "/home/abetatos/miniconda3/lib/python3.10/site-packages/pyproj/crs/_cf1x8.py:514: UserWarning: angle from rectified to skew grid parameter lost in conversion to CF\n",
      "  warnings.warn(\n",
      "/home/abetatos/miniconda3/lib/python3.10/site-packages/pyproj/crs/_cf1x8.py:514: UserWarning: angle from rectified to skew grid parameter lost in conversion to CF\n",
      "  warnings.warn(\n"
     ]
    },
    {
     "name": "stdout",
     "output_type": "stream",
     "text": [
      "0 521916\n",
      "snowmap_20160420_ads_100_extent_maskiert_nosnow0_noausreisser.tif\n"
     ]
    },
    {
     "name": "stderr",
     "output_type": "stream",
     "text": [
      "/home/abetatos/miniconda3/lib/python3.10/site-packages/pyproj/crs/_cf1x8.py:514: UserWarning: angle from rectified to skew grid parameter lost in conversion to CF\n",
      "  warnings.warn(\n",
      "/home/abetatos/miniconda3/lib/python3.10/site-packages/pyproj/crs/_cf1x8.py:514: UserWarning: angle from rectified to skew grid parameter lost in conversion to CF\n",
      "  warnings.warn(\n"
     ]
    },
    {
     "name": "stdout",
     "output_type": "stream",
     "text": [
      "0 15149416\n",
      "snowmap_2014_ads_100_extent_maskiert_nosnow0_noausreisser.tif\n"
     ]
    },
    {
     "name": "stderr",
     "output_type": "stream",
     "text": [
      "/home/abetatos/miniconda3/lib/python3.10/site-packages/pyproj/crs/_cf1x8.py:514: UserWarning: angle from rectified to skew grid parameter lost in conversion to CF\n",
      "  warnings.warn(\n",
      "/home/abetatos/miniconda3/lib/python3.10/site-packages/pyproj/crs/_cf1x8.py:514: UserWarning: angle from rectified to skew grid parameter lost in conversion to CF\n",
      "  warnings.warn(\n"
     ]
    },
    {
     "name": "stdout",
     "output_type": "stream",
     "text": [
      "0 15219900\n",
      "HS_Davos_20180411_2m_epsg2056.tif\n"
     ]
    },
    {
     "name": "stderr",
     "output_type": "stream",
     "text": [
      "/home/abetatos/miniconda3/lib/python3.10/site-packages/pyproj/crs/_cf1x8.py:514: UserWarning: angle from rectified to skew grid parameter lost in conversion to CF\n",
      "  warnings.warn(\n",
      "/home/abetatos/miniconda3/lib/python3.10/site-packages/pyproj/crs/_cf1x8.py:514: UserWarning: angle from rectified to skew grid parameter lost in conversion to CF\n",
      "  warnings.warn(\n"
     ]
    },
    {
     "name": "stdout",
     "output_type": "stream",
     "text": [
      "0 4260238\n",
      "snowmap_2013_ads_80_extent_maskiert_nosnow0_noausreisser.tif\n"
     ]
    },
    {
     "name": "stderr",
     "output_type": "stream",
     "text": [
      "/home/abetatos/miniconda3/lib/python3.10/site-packages/pyproj/crs/_cf1x8.py:514: UserWarning: angle from rectified to skew grid parameter lost in conversion to CF\n",
      "  warnings.warn(\n"
     ]
    },
    {
     "name": "stdout",
     "output_type": "stream",
     "text": [
      "0 15928048\n",
      "HS_Davos_20170316_2m_epsg2056.tif\n"
     ]
    },
    {
     "name": "stderr",
     "output_type": "stream",
     "text": [
      "/home/abetatos/miniconda3/lib/python3.10/site-packages/pyproj/crs/_cf1x8.py:514: UserWarning: angle from rectified to skew grid parameter lost in conversion to CF\n",
      "  warnings.warn(\n",
      "/home/abetatos/miniconda3/lib/python3.10/site-packages/pyproj/crs/_cf1x8.py:514: UserWarning: angle from rectified to skew grid parameter lost in conversion to CF\n",
      "  warnings.warn(\n"
     ]
    },
    {
     "name": "stdout",
     "output_type": "stream",
     "text": [
      "560179 32858789\n",
      "HS_Laucherenalp_20220511_1m_epsg2056.tif\n"
     ]
    },
    {
     "name": "stderr",
     "output_type": "stream",
     "text": [
      "/home/abetatos/miniconda3/lib/python3.10/site-packages/pyproj/crs/_cf1x8.py:514: UserWarning: angle from rectified to skew grid parameter lost in conversion to CF\n",
      "  warnings.warn(\n",
      "/home/abetatos/miniconda3/lib/python3.10/site-packages/pyproj/crs/_cf1x8.py:514: UserWarning: angle from rectified to skew grid parameter lost in conversion to CF\n",
      "  warnings.warn(\n",
      "/home/abetatos/miniconda3/lib/python3.10/site-packages/pyproj/crs/_cf1x8.py:514: UserWarning: angle from rectified to skew grid parameter lost in conversion to CF\n",
      "  warnings.warn(\n"
     ]
    },
    {
     "name": "stdout",
     "output_type": "stream",
     "text": [
      "0 380323\n",
      "HS_Saflischpass_20220512_1m_epsg2056.tif\n"
     ]
    },
    {
     "name": "stderr",
     "output_type": "stream",
     "text": [
      "/home/abetatos/miniconda3/lib/python3.10/site-packages/pyproj/crs/_cf1x8.py:514: UserWarning: angle from rectified to skew grid parameter lost in conversion to CF\n",
      "  warnings.warn(\n",
      "/home/abetatos/miniconda3/lib/python3.10/site-packages/pyproj/crs/_cf1x8.py:514: UserWarning: angle from rectified to skew grid parameter lost in conversion to CF\n",
      "  warnings.warn(\n"
     ]
    },
    {
     "name": "stdout",
     "output_type": "stream",
     "text": [
      "0 511224\n",
      "snowmap_20160126_ads_100_extent_maskiert_nosnow0_noausreisser.tif\n"
     ]
    },
    {
     "name": "stderr",
     "output_type": "stream",
     "text": [
      "/home/abetatos/miniconda3/lib/python3.10/site-packages/pyproj/crs/_cf1x8.py:514: UserWarning: angle from rectified to skew grid parameter lost in conversion to CF\n",
      "  warnings.warn(\n",
      "/home/abetatos/miniconda3/lib/python3.10/site-packages/pyproj/crs/_cf1x8.py:514: UserWarning: angle from rectified to skew grid parameter lost in conversion to CF\n",
      "  warnings.warn(\n"
     ]
    },
    {
     "name": "stdout",
     "output_type": "stream",
     "text": [
      "0 15168156\n",
      "snowmap_2015_ads_100_extent_maskiert_nosnow0_noausreisser.tif\n",
      "0 15219900\n"
     ]
    },
    {
     "name": "stderr",
     "output_type": "stream",
     "text": [
      "/home/abetatos/miniconda3/lib/python3.10/site-packages/pyproj/crs/_cf1x8.py:514: UserWarning: angle from rectified to skew grid parameter lost in conversion to CF\n",
      "  warnings.warn(\n"
     ]
    }
   ],
   "source": [
    "input_path_DEM = os.path.join(unitato_res, \"DEM\")\n",
    "output_path_DEM = os.path.join(unitato_base, \"DEM\")\n",
    "\n",
    "input_path_HS = rf\"{unitato_base}HS\"\n",
    "for f in HS_files: \n",
    "    print(f)\n",
    "    for DEM_file in os.listdir(input_path_DEM): \n",
    "        input_DEM = os.path.join(input_path_DEM, DEM_file)\n",
    "        aoi = os.path.join(input_path_HS, os.path.splitext(f)[0], \"extent.shp\")\n",
    "        try:\n",
    "            cropped_im_data = access_raster(input_DEM, aoi=aoi)\n",
    "        except ValueError: \n",
    "            continue\n",
    "        print(\"\\t\", DEM_file)\n",
    "        \n",
    "        gdf = gpd.GeoDataFrame.from_file(aoi)\n",
    "        rxr_DEM = rxr.open_rasterio(input_DEM, masked=True).squeeze()\n",
    "        rxr_DEM = rxr_DEM.rio.clip(gdf.geometry.apply(mapping))\n",
    "        \n",
    "        try:\n",
    "            os.makedirs(os.path.join(output_path_DEM, os.path.splitext(f)[0]))\n",
    "        except: \n",
    "            pass\n",
    "        output_file = os.path.join(output_path_DEM, os.path.splitext(f)[0], \"DEM.tif\")\n",
    "        rxr_DEM.rio.to_raster(output_file)\n",
    "\n",
    "        with rio.open(output_file, \"r\") as src: \n",
    "            array = src.read()\n",
    "            nodata = src.profile['nodata']\n",
    "            print((array==nodata).sum(), (array!=nodata).sum())"
   ]
  },
  {
   "attachments": {},
   "cell_type": "markdown",
   "metadata": {},
   "source": [
    "# SCE"
   ]
  },
  {
   "cell_type": "code",
   "execution_count": 5,
   "metadata": {},
   "outputs": [
    {
     "name": "stdout",
     "output_type": "stream",
     "text": [
      "snowmap_20160309_ads_100_extent_maskiert_nosnow0_noausreisser.tif\n",
      "HS_Davos_20211604_2m_epsg2056.tif\n",
      "snowmap_2012_ads_80_extent_maskiert_nosnow0_noausreisser.tif\n",
      "HS_Laucherenalp_20220224_2m_epsg2056.tif\n",
      "snowmap_2010_ads_80_extent_maskiert_nosnow0_noausreisser.tif\n",
      "HS_Davos_20200406_2m_epsg2056.tif\n",
      "HS_c_20220223_1m_epsg2056.tif\n",
      "snowmap_20160420_ads_100_extent_maskiert_nosnow0_noausreisser.tif\n",
      "snowmap_2014_ads_100_extent_maskiert_nosnow0_noausreisser.tif\n",
      "HS_Davos_20180411_2m_epsg2056.tif\n",
      "snowmap_2013_ads_80_extent_maskiert_nosnow0_noausreisser.tif\n",
      "HS_Davos_20170316_2m_epsg2056.tif\n",
      "HS_Laucherenalp_20220511_1m_epsg2056.tif\n",
      "HS_Saflischpass_20220512_1m_epsg2056.tif\n",
      "snowmap_20160126_ads_100_extent_maskiert_nosnow0_noausreisser.tif\n",
      "snowmap_2015_ads_100_extent_maskiert_nosnow0_noausreisser.tif\n"
     ]
    }
   ],
   "source": [
    "input_path_SCE = os.path.join(unitato_res, \"SCE\")\n",
    "output_path_SCE = os.path.join(unitato_base, \"SCE\")\n",
    "\n",
    "input_path_HS = rf\"{unitato_base}HS\"\n",
    "\n",
    "input_SCE = f\"{unitato_res}SCE/SCE.tif\"\n",
    "\n",
    "# rxr_DEM = rxr.open_rasterio(input_SCE, masked=True).squeeze()\n",
    "    \n",
    "    \n",
    "for f in HS_files: \n",
    "    print(f)\n",
    "    aoi = os.path.join(input_path_HS, os.path.splitext(f)[0], \"extent.shp\")\n",
    "    gdf = gpd.GeoDataFrame.from_file(aoi)\n",
    "    \n",
    "    cropped_im_data = access_raster(input_SCE, aoi=aoi)\n",
    "    \n",
    "    try:\n",
    "        os.makedirs(os.path.join(output_path_SCE, os.path.splitext(f)[0]))\n",
    "    except: \n",
    "        pass\n",
    "    \n",
    "    write_single_channel_gtiff(cropped_im_data['array'].squeeze(), \n",
    "                                transform=cropped_im_data['transform'], \n",
    "                                meta = cropped_im_data['meta'],  \n",
    "                                out_path = os.path.join(output_path_SCE, os.path.splitext(f)[0], \"SCE.tif\"), \n",
    "                                nodata = cropped_im_data['meta']['nodata']\n",
    "                                )"
   ]
  },
  {
   "attachments": {},
   "cell_type": "markdown",
   "metadata": {},
   "source": [
    "# Aspect"
   ]
  },
  {
   "cell_type": "code",
   "execution_count": 37,
   "metadata": {},
   "outputs": [
    {
     "name": "stdout",
     "output_type": "stream",
     "text": [
      "snowmap_20160309_ads_100_extent_maskiert_nosnow0_noausreisser.tif\n",
      "\t Davos.tif\n",
      "/home/abetatos/Escritorio/TFM_Dataset/2.Dataset_res5/Aspect/Davos.tif\n",
      "/home/abetatos/Escritorio/TFM_Dataset/3.Basedataset/HS/snowmap_20160309_ads_100_extent_maskiert_nosnow0_noausreisser/extent.shp\n"
     ]
    },
    {
     "name": "stderr",
     "output_type": "stream",
     "text": [
      "/home/abetatos/miniconda3/lib/python3.10/site-packages/pyproj/crs/_cf1x8.py:514: UserWarning: angle from rectified to skew grid parameter lost in conversion to CF\n",
      "  warnings.warn(\n",
      "/home/abetatos/miniconda3/lib/python3.10/site-packages/pyproj/crs/_cf1x8.py:514: UserWarning: angle from rectified to skew grid parameter lost in conversion to CF\n",
      "  warnings.warn(\n",
      "/home/abetatos/miniconda3/lib/python3.10/site-packages/pyproj/crs/_cf1x8.py:514: UserWarning: angle from rectified to skew grid parameter lost in conversion to CF\n",
      "  warnings.warn(\n"
     ]
    },
    {
     "name": "stdout",
     "output_type": "stream",
     "text": [
      "0\n",
      "HS_Davos_20211604_2m_epsg2056.tif\n",
      "\t Davos.tif\n",
      "/home/abetatos/Escritorio/TFM_Dataset/2.Dataset_res5/Aspect/Davos.tif\n",
      "/home/abetatos/Escritorio/TFM_Dataset/3.Basedataset/HS/HS_Davos_20211604_2m_epsg2056/extent.shp\n"
     ]
    },
    {
     "name": "stderr",
     "output_type": "stream",
     "text": [
      "/home/abetatos/miniconda3/lib/python3.10/site-packages/pyproj/crs/_cf1x8.py:514: UserWarning: angle from rectified to skew grid parameter lost in conversion to CF\n",
      "  warnings.warn(\n",
      "/home/abetatos/miniconda3/lib/python3.10/site-packages/pyproj/crs/_cf1x8.py:514: UserWarning: angle from rectified to skew grid parameter lost in conversion to CF\n",
      "  warnings.warn(\n"
     ]
    },
    {
     "name": "stdout",
     "output_type": "stream",
     "text": [
      "0\n",
      "snowmap_2012_ads_80_extent_maskiert_nosnow0_noausreisser.tif\n",
      "\t Davos.tif\n",
      "/home/abetatos/Escritorio/TFM_Dataset/2.Dataset_res5/Aspect/Davos.tif\n",
      "/home/abetatos/Escritorio/TFM_Dataset/3.Basedataset/HS/snowmap_2012_ads_80_extent_maskiert_nosnow0_noausreisser/extent.shp\n"
     ]
    },
    {
     "name": "stderr",
     "output_type": "stream",
     "text": [
      "/home/abetatos/miniconda3/lib/python3.10/site-packages/pyproj/crs/_cf1x8.py:514: UserWarning: angle from rectified to skew grid parameter lost in conversion to CF\n",
      "  warnings.warn(\n",
      "/home/abetatos/miniconda3/lib/python3.10/site-packages/pyproj/crs/_cf1x8.py:514: UserWarning: angle from rectified to skew grid parameter lost in conversion to CF\n",
      "  warnings.warn(\n"
     ]
    },
    {
     "name": "stdout",
     "output_type": "stream",
     "text": [
      "0\n",
      "HS_Laucherenalp_20220224_2m_epsg2056.tif\n",
      "\t Valais.tif\n",
      "/home/abetatos/Escritorio/TFM_Dataset/2.Dataset_res5/Aspect/Valais.tif\n",
      "/home/abetatos/Escritorio/TFM_Dataset/3.Basedataset/HS/HS_Laucherenalp_20220224_2m_epsg2056/extent.shp\n"
     ]
    },
    {
     "name": "stderr",
     "output_type": "stream",
     "text": [
      "/home/abetatos/miniconda3/lib/python3.10/site-packages/pyproj/crs/_cf1x8.py:514: UserWarning: angle from rectified to skew grid parameter lost in conversion to CF\n",
      "  warnings.warn(\n",
      "/home/abetatos/miniconda3/lib/python3.10/site-packages/pyproj/crs/_cf1x8.py:514: UserWarning: angle from rectified to skew grid parameter lost in conversion to CF\n",
      "  warnings.warn(\n"
     ]
    },
    {
     "name": "stdout",
     "output_type": "stream",
     "text": [
      "0\n",
      "snowmap_2010_ads_80_extent_maskiert_nosnow0_noausreisser.tif\n",
      "\t Davos.tif\n",
      "/home/abetatos/Escritorio/TFM_Dataset/2.Dataset_res5/Aspect/Davos.tif\n",
      "/home/abetatos/Escritorio/TFM_Dataset/3.Basedataset/HS/snowmap_2010_ads_80_extent_maskiert_nosnow0_noausreisser/extent.shp\n"
     ]
    },
    {
     "name": "stderr",
     "output_type": "stream",
     "text": [
      "/home/abetatos/miniconda3/lib/python3.10/site-packages/pyproj/crs/_cf1x8.py:514: UserWarning: angle from rectified to skew grid parameter lost in conversion to CF\n",
      "  warnings.warn(\n",
      "/home/abetatos/miniconda3/lib/python3.10/site-packages/pyproj/crs/_cf1x8.py:514: UserWarning: angle from rectified to skew grid parameter lost in conversion to CF\n",
      "  warnings.warn(\n"
     ]
    },
    {
     "name": "stdout",
     "output_type": "stream",
     "text": [
      "0\n",
      "HS_Davos_20200406_2m_epsg2056.tif\n",
      "\t Davos.tif\n",
      "/home/abetatos/Escritorio/TFM_Dataset/2.Dataset_res5/Aspect/Davos.tif\n",
      "/home/abetatos/Escritorio/TFM_Dataset/3.Basedataset/HS/HS_Davos_20200406_2m_epsg2056/extent.shp\n"
     ]
    },
    {
     "name": "stderr",
     "output_type": "stream",
     "text": [
      "/home/abetatos/miniconda3/lib/python3.10/site-packages/pyproj/crs/_cf1x8.py:514: UserWarning: angle from rectified to skew grid parameter lost in conversion to CF\n",
      "  warnings.warn(\n",
      "/home/abetatos/miniconda3/lib/python3.10/site-packages/pyproj/crs/_cf1x8.py:514: UserWarning: angle from rectified to skew grid parameter lost in conversion to CF\n",
      "  warnings.warn(\n"
     ]
    },
    {
     "name": "stdout",
     "output_type": "stream",
     "text": [
      "0\n",
      "HS_c_20220223_1m_epsg2056.tif\n",
      "\t Valais.tif\n",
      "/home/abetatos/Escritorio/TFM_Dataset/2.Dataset_res5/Aspect/Valais.tif\n",
      "/home/abetatos/Escritorio/TFM_Dataset/3.Basedataset/HS/HS_c_20220223_1m_epsg2056/extent.shp\n"
     ]
    },
    {
     "name": "stderr",
     "output_type": "stream",
     "text": [
      "/home/abetatos/miniconda3/lib/python3.10/site-packages/pyproj/crs/_cf1x8.py:514: UserWarning: angle from rectified to skew grid parameter lost in conversion to CF\n",
      "  warnings.warn(\n",
      "/home/abetatos/miniconda3/lib/python3.10/site-packages/pyproj/crs/_cf1x8.py:514: UserWarning: angle from rectified to skew grid parameter lost in conversion to CF\n",
      "  warnings.warn(\n"
     ]
    },
    {
     "name": "stdout",
     "output_type": "stream",
     "text": [
      "0\n",
      "snowmap_20160420_ads_100_extent_maskiert_nosnow0_noausreisser.tif\n",
      "\t Davos.tif\n",
      "/home/abetatos/Escritorio/TFM_Dataset/2.Dataset_res5/Aspect/Davos.tif\n",
      "/home/abetatos/Escritorio/TFM_Dataset/3.Basedataset/HS/snowmap_20160420_ads_100_extent_maskiert_nosnow0_noausreisser/extent.shp\n"
     ]
    },
    {
     "name": "stderr",
     "output_type": "stream",
     "text": [
      "/home/abetatos/miniconda3/lib/python3.10/site-packages/pyproj/crs/_cf1x8.py:514: UserWarning: angle from rectified to skew grid parameter lost in conversion to CF\n",
      "  warnings.warn(\n",
      "/home/abetatos/miniconda3/lib/python3.10/site-packages/pyproj/crs/_cf1x8.py:514: UserWarning: angle from rectified to skew grid parameter lost in conversion to CF\n",
      "  warnings.warn(\n"
     ]
    },
    {
     "name": "stdout",
     "output_type": "stream",
     "text": [
      "0\n",
      "snowmap_2014_ads_100_extent_maskiert_nosnow0_noausreisser.tif\n",
      "\t Davos.tif\n",
      "/home/abetatos/Escritorio/TFM_Dataset/2.Dataset_res5/Aspect/Davos.tif\n",
      "/home/abetatos/Escritorio/TFM_Dataset/3.Basedataset/HS/snowmap_2014_ads_100_extent_maskiert_nosnow0_noausreisser/extent.shp\n"
     ]
    },
    {
     "name": "stderr",
     "output_type": "stream",
     "text": [
      "/home/abetatos/miniconda3/lib/python3.10/site-packages/pyproj/crs/_cf1x8.py:514: UserWarning: angle from rectified to skew grid parameter lost in conversion to CF\n",
      "  warnings.warn(\n",
      "/home/abetatos/miniconda3/lib/python3.10/site-packages/pyproj/crs/_cf1x8.py:514: UserWarning: angle from rectified to skew grid parameter lost in conversion to CF\n",
      "  warnings.warn(\n"
     ]
    },
    {
     "name": "stdout",
     "output_type": "stream",
     "text": [
      "0\n",
      "HS_Davos_20180411_2m_epsg2056.tif\n",
      "\t Davos.tif\n",
      "/home/abetatos/Escritorio/TFM_Dataset/2.Dataset_res5/Aspect/Davos.tif\n",
      "/home/abetatos/Escritorio/TFM_Dataset/3.Basedataset/HS/HS_Davos_20180411_2m_epsg2056/extent.shp\n"
     ]
    },
    {
     "name": "stderr",
     "output_type": "stream",
     "text": [
      "/home/abetatos/miniconda3/lib/python3.10/site-packages/pyproj/crs/_cf1x8.py:514: UserWarning: angle from rectified to skew grid parameter lost in conversion to CF\n",
      "  warnings.warn(\n",
      "/home/abetatos/miniconda3/lib/python3.10/site-packages/pyproj/crs/_cf1x8.py:514: UserWarning: angle from rectified to skew grid parameter lost in conversion to CF\n",
      "  warnings.warn(\n"
     ]
    },
    {
     "name": "stdout",
     "output_type": "stream",
     "text": [
      "0\n",
      "snowmap_2013_ads_80_extent_maskiert_nosnow0_noausreisser.tif\n",
      "\t Davos.tif\n",
      "/home/abetatos/Escritorio/TFM_Dataset/2.Dataset_res5/Aspect/Davos.tif\n",
      "/home/abetatos/Escritorio/TFM_Dataset/3.Basedataset/HS/snowmap_2013_ads_80_extent_maskiert_nosnow0_noausreisser/extent.shp\n"
     ]
    },
    {
     "name": "stderr",
     "output_type": "stream",
     "text": [
      "/home/abetatos/miniconda3/lib/python3.10/site-packages/pyproj/crs/_cf1x8.py:514: UserWarning: angle from rectified to skew grid parameter lost in conversion to CF\n",
      "  warnings.warn(\n"
     ]
    },
    {
     "name": "stdout",
     "output_type": "stream",
     "text": [
      "0\n",
      "HS_Davos_20170316_2m_epsg2056.tif\n",
      "\t Davos.tif\n",
      "/home/abetatos/Escritorio/TFM_Dataset/2.Dataset_res5/Aspect/Davos.tif\n",
      "/home/abetatos/Escritorio/TFM_Dataset/3.Basedataset/HS/HS_Davos_20170316_2m_epsg2056/extent.shp\n"
     ]
    },
    {
     "name": "stderr",
     "output_type": "stream",
     "text": [
      "/home/abetatos/miniconda3/lib/python3.10/site-packages/pyproj/crs/_cf1x8.py:514: UserWarning: angle from rectified to skew grid parameter lost in conversion to CF\n",
      "  warnings.warn(\n",
      "/home/abetatos/miniconda3/lib/python3.10/site-packages/pyproj/crs/_cf1x8.py:514: UserWarning: angle from rectified to skew grid parameter lost in conversion to CF\n",
      "  warnings.warn(\n",
      "/home/abetatos/miniconda3/lib/python3.10/site-packages/pyproj/crs/_cf1x8.py:514: UserWarning: angle from rectified to skew grid parameter lost in conversion to CF\n",
      "  warnings.warn(\n"
     ]
    },
    {
     "name": "stdout",
     "output_type": "stream",
     "text": [
      "560179\n",
      "HS_Laucherenalp_20220511_1m_epsg2056.tif\n",
      "\t Valais.tif\n",
      "/home/abetatos/Escritorio/TFM_Dataset/2.Dataset_res5/Aspect/Valais.tif\n",
      "/home/abetatos/Escritorio/TFM_Dataset/3.Basedataset/HS/HS_Laucherenalp_20220511_1m_epsg2056/extent.shp\n"
     ]
    },
    {
     "name": "stderr",
     "output_type": "stream",
     "text": [
      "/home/abetatos/miniconda3/lib/python3.10/site-packages/pyproj/crs/_cf1x8.py:514: UserWarning: angle from rectified to skew grid parameter lost in conversion to CF\n",
      "  warnings.warn(\n",
      "/home/abetatos/miniconda3/lib/python3.10/site-packages/pyproj/crs/_cf1x8.py:514: UserWarning: angle from rectified to skew grid parameter lost in conversion to CF\n",
      "  warnings.warn(\n"
     ]
    },
    {
     "name": "stdout",
     "output_type": "stream",
     "text": [
      "0\n",
      "HS_Saflischpass_20220512_1m_epsg2056.tif\n",
      "\t Valais.tif\n",
      "/home/abetatos/Escritorio/TFM_Dataset/2.Dataset_res5/Aspect/Valais.tif\n",
      "/home/abetatos/Escritorio/TFM_Dataset/3.Basedataset/HS/HS_Saflischpass_20220512_1m_epsg2056/extent.shp\n"
     ]
    },
    {
     "name": "stderr",
     "output_type": "stream",
     "text": [
      "/home/abetatos/miniconda3/lib/python3.10/site-packages/pyproj/crs/_cf1x8.py:514: UserWarning: angle from rectified to skew grid parameter lost in conversion to CF\n",
      "  warnings.warn(\n",
      "/home/abetatos/miniconda3/lib/python3.10/site-packages/pyproj/crs/_cf1x8.py:514: UserWarning: angle from rectified to skew grid parameter lost in conversion to CF\n",
      "  warnings.warn(\n"
     ]
    },
    {
     "name": "stdout",
     "output_type": "stream",
     "text": [
      "0\n",
      "snowmap_20160126_ads_100_extent_maskiert_nosnow0_noausreisser.tif\n",
      "\t Davos.tif\n",
      "/home/abetatos/Escritorio/TFM_Dataset/2.Dataset_res5/Aspect/Davos.tif\n",
      "/home/abetatos/Escritorio/TFM_Dataset/3.Basedataset/HS/snowmap_20160126_ads_100_extent_maskiert_nosnow0_noausreisser/extent.shp\n"
     ]
    },
    {
     "name": "stderr",
     "output_type": "stream",
     "text": [
      "/home/abetatos/miniconda3/lib/python3.10/site-packages/pyproj/crs/_cf1x8.py:514: UserWarning: angle from rectified to skew grid parameter lost in conversion to CF\n",
      "  warnings.warn(\n",
      "/home/abetatos/miniconda3/lib/python3.10/site-packages/pyproj/crs/_cf1x8.py:514: UserWarning: angle from rectified to skew grid parameter lost in conversion to CF\n",
      "  warnings.warn(\n"
     ]
    },
    {
     "name": "stdout",
     "output_type": "stream",
     "text": [
      "0\n",
      "snowmap_2015_ads_100_extent_maskiert_nosnow0_noausreisser.tif\n",
      "\t Davos.tif\n",
      "/home/abetatos/Escritorio/TFM_Dataset/2.Dataset_res5/Aspect/Davos.tif\n",
      "/home/abetatos/Escritorio/TFM_Dataset/3.Basedataset/HS/snowmap_2015_ads_100_extent_maskiert_nosnow0_noausreisser/extent.shp\n",
      "0\n"
     ]
    },
    {
     "name": "stderr",
     "output_type": "stream",
     "text": [
      "/home/abetatos/miniconda3/lib/python3.10/site-packages/pyproj/crs/_cf1x8.py:514: UserWarning: angle from rectified to skew grid parameter lost in conversion to CF\n",
      "  warnings.warn(\n"
     ]
    }
   ],
   "source": [
    "input_path_Aspect = os.path.join(unitato_res, \"Aspect\")\n",
    "output_path_Aspect = os.path.join(unitato_base, \"Aspect\")\n",
    "\n",
    "input_path_HS = rf\"{unitato_base}HS\"\n",
    "\n",
    "for f in HS_files: \n",
    "    print(f)\n",
    "    for Aspect_file in os.listdir(input_path_Aspect): \n",
    "        input_Aspect = os.path.join(input_path_Aspect, Aspect_file)\n",
    "        aoi = os.path.join(input_path_HS, os.path.splitext(f)[0], \"extent.shp\")\n",
    "        try:\n",
    "            cropped_im_data = access_raster(input_Aspect, aoi=aoi)\n",
    "        except ValueError: \n",
    "            continue\n",
    "        print(\"\\t\", Aspect_file)\n",
    "        print(input_Aspect)\n",
    "        print(aoi)\n",
    "        \n",
    "        gdf = gpd.GeoDataFrame.from_file(aoi)\n",
    "        rxr_Aspect = rxr.open_rasterio(input_Aspect, masked=True).squeeze()\n",
    "        rxr_Aspect = rxr_Aspect.rio.clip(gdf.geometry.apply(mapping))\n",
    "        \n",
    "        try:\n",
    "            os.makedirs(os.path.join(output_path_Aspect, os.path.splitext(f)[0]))\n",
    "        except: \n",
    "            pass\n",
    "        output_file = os.path.join(output_path_Aspect, os.path.splitext(f)[0], \"Aspect.tif\")\n",
    "        rxr_Aspect.rio.to_raster(output_file)"
   ]
  },
  {
   "attachments": {},
   "cell_type": "markdown",
   "metadata": {},
   "source": [
    "# Slope"
   ]
  },
  {
   "cell_type": "code",
   "execution_count": 16,
   "metadata": {},
   "outputs": [
    {
     "name": "stdout",
     "output_type": "stream",
     "text": [
      "snowmap_20160309_ads_100_extent_maskiert_nosnow0_noausreisser.tif\n",
      "\t Davos.tif\n",
      "/home/abetatos/Escritorio/TFM_Dataset/2.Dataset_res5/Slope/Davos.tif\n",
      "/home/abetatos/Escritorio/TFM_Dataset/3.Basedataset/HS/snowmap_20160309_ads_100_extent_maskiert_nosnow0_noausreisser/extent.shp\n"
     ]
    },
    {
     "name": "stderr",
     "output_type": "stream",
     "text": [
      "/home/abetatos/miniconda3/lib/python3.10/site-packages/pyproj/crs/_cf1x8.py:514: UserWarning: angle from rectified to skew grid parameter lost in conversion to CF\n",
      "  warnings.warn(\n",
      "/home/abetatos/miniconda3/lib/python3.10/site-packages/pyproj/crs/_cf1x8.py:514: UserWarning: angle from rectified to skew grid parameter lost in conversion to CF\n",
      "  warnings.warn(\n",
      "/home/abetatos/miniconda3/lib/python3.10/site-packages/pyproj/crs/_cf1x8.py:514: UserWarning: angle from rectified to skew grid parameter lost in conversion to CF\n",
      "  warnings.warn(\n"
     ]
    },
    {
     "name": "stdout",
     "output_type": "stream",
     "text": [
      "HS_Davos_20211604_2m_epsg2056.tif\n",
      "\t Davos.tif\n",
      "/home/abetatos/Escritorio/TFM_Dataset/2.Dataset_res5/Slope/Davos.tif\n",
      "/home/abetatos/Escritorio/TFM_Dataset/3.Basedataset/HS/HS_Davos_20211604_2m_epsg2056/extent.shp\n"
     ]
    },
    {
     "name": "stderr",
     "output_type": "stream",
     "text": [
      "/home/abetatos/miniconda3/lib/python3.10/site-packages/pyproj/crs/_cf1x8.py:514: UserWarning: angle from rectified to skew grid parameter lost in conversion to CF\n",
      "  warnings.warn(\n",
      "/home/abetatos/miniconda3/lib/python3.10/site-packages/pyproj/crs/_cf1x8.py:514: UserWarning: angle from rectified to skew grid parameter lost in conversion to CF\n",
      "  warnings.warn(\n"
     ]
    },
    {
     "name": "stdout",
     "output_type": "stream",
     "text": [
      "snowmap_2012_ads_80_extent_maskiert_nosnow0_noausreisser.tif\n",
      "\t Davos.tif\n",
      "/home/abetatos/Escritorio/TFM_Dataset/2.Dataset_res5/Slope/Davos.tif\n",
      "/home/abetatos/Escritorio/TFM_Dataset/3.Basedataset/HS/snowmap_2012_ads_80_extent_maskiert_nosnow0_noausreisser/extent.shp\n"
     ]
    },
    {
     "name": "stderr",
     "output_type": "stream",
     "text": [
      "/home/abetatos/miniconda3/lib/python3.10/site-packages/pyproj/crs/_cf1x8.py:514: UserWarning: angle from rectified to skew grid parameter lost in conversion to CF\n",
      "  warnings.warn(\n",
      "/home/abetatos/miniconda3/lib/python3.10/site-packages/pyproj/crs/_cf1x8.py:514: UserWarning: angle from rectified to skew grid parameter lost in conversion to CF\n",
      "  warnings.warn(\n"
     ]
    },
    {
     "name": "stdout",
     "output_type": "stream",
     "text": [
      "HS_Laucherenalp_20220224_2m_epsg2056.tif\n",
      "\t Valais.tif\n",
      "/home/abetatos/Escritorio/TFM_Dataset/2.Dataset_res5/Slope/Valais.tif\n",
      "/home/abetatos/Escritorio/TFM_Dataset/3.Basedataset/HS/HS_Laucherenalp_20220224_2m_epsg2056/extent.shp\n"
     ]
    },
    {
     "name": "stderr",
     "output_type": "stream",
     "text": [
      "/home/abetatos/miniconda3/lib/python3.10/site-packages/pyproj/crs/_cf1x8.py:514: UserWarning: angle from rectified to skew grid parameter lost in conversion to CF\n",
      "  warnings.warn(\n",
      "/home/abetatos/miniconda3/lib/python3.10/site-packages/pyproj/crs/_cf1x8.py:514: UserWarning: angle from rectified to skew grid parameter lost in conversion to CF\n",
      "  warnings.warn(\n"
     ]
    },
    {
     "name": "stdout",
     "output_type": "stream",
     "text": [
      "snowmap_2010_ads_80_extent_maskiert_nosnow0_noausreisser.tif\n",
      "\t Davos.tif\n",
      "/home/abetatos/Escritorio/TFM_Dataset/2.Dataset_res5/Slope/Davos.tif\n",
      "/home/abetatos/Escritorio/TFM_Dataset/3.Basedataset/HS/snowmap_2010_ads_80_extent_maskiert_nosnow0_noausreisser/extent.shp\n"
     ]
    },
    {
     "name": "stderr",
     "output_type": "stream",
     "text": [
      "/home/abetatos/miniconda3/lib/python3.10/site-packages/pyproj/crs/_cf1x8.py:514: UserWarning: angle from rectified to skew grid parameter lost in conversion to CF\n",
      "  warnings.warn(\n",
      "/home/abetatos/miniconda3/lib/python3.10/site-packages/pyproj/crs/_cf1x8.py:514: UserWarning: angle from rectified to skew grid parameter lost in conversion to CF\n",
      "  warnings.warn(\n"
     ]
    },
    {
     "name": "stdout",
     "output_type": "stream",
     "text": [
      "HS_Davos_20200406_2m_epsg2056.tif\n",
      "\t Davos.tif\n",
      "/home/abetatos/Escritorio/TFM_Dataset/2.Dataset_res5/Slope/Davos.tif\n",
      "/home/abetatos/Escritorio/TFM_Dataset/3.Basedataset/HS/HS_Davos_20200406_2m_epsg2056/extent.shp\n"
     ]
    },
    {
     "name": "stderr",
     "output_type": "stream",
     "text": [
      "/home/abetatos/miniconda3/lib/python3.10/site-packages/pyproj/crs/_cf1x8.py:514: UserWarning: angle from rectified to skew grid parameter lost in conversion to CF\n",
      "  warnings.warn(\n",
      "/home/abetatos/miniconda3/lib/python3.10/site-packages/pyproj/crs/_cf1x8.py:514: UserWarning: angle from rectified to skew grid parameter lost in conversion to CF\n",
      "  warnings.warn(\n"
     ]
    },
    {
     "name": "stdout",
     "output_type": "stream",
     "text": [
      "HS_c_20220223_1m_epsg2056.tif\n",
      "\t Valais.tif\n",
      "/home/abetatos/Escritorio/TFM_Dataset/2.Dataset_res5/Slope/Valais.tif\n",
      "/home/abetatos/Escritorio/TFM_Dataset/3.Basedataset/HS/HS_c_20220223_1m_epsg2056/extent.shp\n"
     ]
    },
    {
     "name": "stderr",
     "output_type": "stream",
     "text": [
      "/home/abetatos/miniconda3/lib/python3.10/site-packages/pyproj/crs/_cf1x8.py:514: UserWarning: angle from rectified to skew grid parameter lost in conversion to CF\n",
      "  warnings.warn(\n",
      "/home/abetatos/miniconda3/lib/python3.10/site-packages/pyproj/crs/_cf1x8.py:514: UserWarning: angle from rectified to skew grid parameter lost in conversion to CF\n",
      "  warnings.warn(\n"
     ]
    },
    {
     "name": "stdout",
     "output_type": "stream",
     "text": [
      "snowmap_20160420_ads_100_extent_maskiert_nosnow0_noausreisser.tif\n",
      "\t Davos.tif\n",
      "/home/abetatos/Escritorio/TFM_Dataset/2.Dataset_res5/Slope/Davos.tif\n",
      "/home/abetatos/Escritorio/TFM_Dataset/3.Basedataset/HS/snowmap_20160420_ads_100_extent_maskiert_nosnow0_noausreisser/extent.shp\n"
     ]
    },
    {
     "name": "stderr",
     "output_type": "stream",
     "text": [
      "/home/abetatos/miniconda3/lib/python3.10/site-packages/pyproj/crs/_cf1x8.py:514: UserWarning: angle from rectified to skew grid parameter lost in conversion to CF\n",
      "  warnings.warn(\n",
      "/home/abetatos/miniconda3/lib/python3.10/site-packages/pyproj/crs/_cf1x8.py:514: UserWarning: angle from rectified to skew grid parameter lost in conversion to CF\n",
      "  warnings.warn(\n"
     ]
    },
    {
     "name": "stdout",
     "output_type": "stream",
     "text": [
      "snowmap_2014_ads_100_extent_maskiert_nosnow0_noausreisser.tif\n",
      "\t Davos.tif\n",
      "/home/abetatos/Escritorio/TFM_Dataset/2.Dataset_res5/Slope/Davos.tif\n",
      "/home/abetatos/Escritorio/TFM_Dataset/3.Basedataset/HS/snowmap_2014_ads_100_extent_maskiert_nosnow0_noausreisser/extent.shp\n"
     ]
    },
    {
     "name": "stderr",
     "output_type": "stream",
     "text": [
      "/home/abetatos/miniconda3/lib/python3.10/site-packages/pyproj/crs/_cf1x8.py:514: UserWarning: angle from rectified to skew grid parameter lost in conversion to CF\n",
      "  warnings.warn(\n",
      "/home/abetatos/miniconda3/lib/python3.10/site-packages/pyproj/crs/_cf1x8.py:514: UserWarning: angle from rectified to skew grid parameter lost in conversion to CF\n",
      "  warnings.warn(\n"
     ]
    },
    {
     "name": "stdout",
     "output_type": "stream",
     "text": [
      "HS_Davos_20180411_2m_epsg2056.tif\n",
      "\t Davos.tif\n",
      "/home/abetatos/Escritorio/TFM_Dataset/2.Dataset_res5/Slope/Davos.tif\n",
      "/home/abetatos/Escritorio/TFM_Dataset/3.Basedataset/HS/HS_Davos_20180411_2m_epsg2056/extent.shp\n"
     ]
    },
    {
     "name": "stderr",
     "output_type": "stream",
     "text": [
      "/home/abetatos/miniconda3/lib/python3.10/site-packages/pyproj/crs/_cf1x8.py:514: UserWarning: angle from rectified to skew grid parameter lost in conversion to CF\n",
      "  warnings.warn(\n",
      "/home/abetatos/miniconda3/lib/python3.10/site-packages/pyproj/crs/_cf1x8.py:514: UserWarning: angle from rectified to skew grid parameter lost in conversion to CF\n",
      "  warnings.warn(\n"
     ]
    },
    {
     "name": "stdout",
     "output_type": "stream",
     "text": [
      "snowmap_2013_ads_80_extent_maskiert_nosnow0_noausreisser.tif\n",
      "\t Davos.tif\n",
      "/home/abetatos/Escritorio/TFM_Dataset/2.Dataset_res5/Slope/Davos.tif\n",
      "/home/abetatos/Escritorio/TFM_Dataset/3.Basedataset/HS/snowmap_2013_ads_80_extent_maskiert_nosnow0_noausreisser/extent.shp\n"
     ]
    },
    {
     "name": "stderr",
     "output_type": "stream",
     "text": [
      "/home/abetatos/miniconda3/lib/python3.10/site-packages/pyproj/crs/_cf1x8.py:514: UserWarning: angle from rectified to skew grid parameter lost in conversion to CF\n",
      "  warnings.warn(\n"
     ]
    },
    {
     "name": "stdout",
     "output_type": "stream",
     "text": [
      "HS_Davos_20170316_2m_epsg2056.tif\n",
      "\t Davos.tif\n",
      "/home/abetatos/Escritorio/TFM_Dataset/2.Dataset_res5/Slope/Davos.tif\n",
      "/home/abetatos/Escritorio/TFM_Dataset/3.Basedataset/HS/HS_Davos_20170316_2m_epsg2056/extent.shp\n"
     ]
    },
    {
     "name": "stderr",
     "output_type": "stream",
     "text": [
      "/home/abetatos/miniconda3/lib/python3.10/site-packages/pyproj/crs/_cf1x8.py:514: UserWarning: angle from rectified to skew grid parameter lost in conversion to CF\n",
      "  warnings.warn(\n",
      "/home/abetatos/miniconda3/lib/python3.10/site-packages/pyproj/crs/_cf1x8.py:514: UserWarning: angle from rectified to skew grid parameter lost in conversion to CF\n",
      "  warnings.warn(\n",
      "/home/abetatos/miniconda3/lib/python3.10/site-packages/pyproj/crs/_cf1x8.py:514: UserWarning: angle from rectified to skew grid parameter lost in conversion to CF\n",
      "  warnings.warn(\n"
     ]
    },
    {
     "name": "stdout",
     "output_type": "stream",
     "text": [
      "HS_Laucherenalp_20220511_1m_epsg2056.tif\n",
      "\t Valais.tif\n",
      "/home/abetatos/Escritorio/TFM_Dataset/2.Dataset_res5/Slope/Valais.tif\n",
      "/home/abetatos/Escritorio/TFM_Dataset/3.Basedataset/HS/HS_Laucherenalp_20220511_1m_epsg2056/extent.shp\n"
     ]
    },
    {
     "name": "stderr",
     "output_type": "stream",
     "text": [
      "/home/abetatos/miniconda3/lib/python3.10/site-packages/pyproj/crs/_cf1x8.py:514: UserWarning: angle from rectified to skew grid parameter lost in conversion to CF\n",
      "  warnings.warn(\n",
      "/home/abetatos/miniconda3/lib/python3.10/site-packages/pyproj/crs/_cf1x8.py:514: UserWarning: angle from rectified to skew grid parameter lost in conversion to CF\n",
      "  warnings.warn(\n"
     ]
    },
    {
     "name": "stdout",
     "output_type": "stream",
     "text": [
      "HS_Saflischpass_20220512_1m_epsg2056.tif\n",
      "\t Valais.tif\n",
      "/home/abetatos/Escritorio/TFM_Dataset/2.Dataset_res5/Slope/Valais.tif\n",
      "/home/abetatos/Escritorio/TFM_Dataset/3.Basedataset/HS/HS_Saflischpass_20220512_1m_epsg2056/extent.shp\n"
     ]
    },
    {
     "name": "stderr",
     "output_type": "stream",
     "text": [
      "/home/abetatos/miniconda3/lib/python3.10/site-packages/pyproj/crs/_cf1x8.py:514: UserWarning: angle from rectified to skew grid parameter lost in conversion to CF\n",
      "  warnings.warn(\n",
      "/home/abetatos/miniconda3/lib/python3.10/site-packages/pyproj/crs/_cf1x8.py:514: UserWarning: angle from rectified to skew grid parameter lost in conversion to CF\n",
      "  warnings.warn(\n"
     ]
    },
    {
     "name": "stdout",
     "output_type": "stream",
     "text": [
      "snowmap_20160126_ads_100_extent_maskiert_nosnow0_noausreisser.tif\n",
      "\t Davos.tif\n",
      "/home/abetatos/Escritorio/TFM_Dataset/2.Dataset_res5/Slope/Davos.tif\n",
      "/home/abetatos/Escritorio/TFM_Dataset/3.Basedataset/HS/snowmap_20160126_ads_100_extent_maskiert_nosnow0_noausreisser/extent.shp\n"
     ]
    },
    {
     "name": "stderr",
     "output_type": "stream",
     "text": [
      "/home/abetatos/miniconda3/lib/python3.10/site-packages/pyproj/crs/_cf1x8.py:514: UserWarning: angle from rectified to skew grid parameter lost in conversion to CF\n",
      "  warnings.warn(\n",
      "/home/abetatos/miniconda3/lib/python3.10/site-packages/pyproj/crs/_cf1x8.py:514: UserWarning: angle from rectified to skew grid parameter lost in conversion to CF\n",
      "  warnings.warn(\n"
     ]
    },
    {
     "name": "stdout",
     "output_type": "stream",
     "text": [
      "snowmap_2015_ads_100_extent_maskiert_nosnow0_noausreisser.tif\n",
      "\t Davos.tif\n",
      "/home/abetatos/Escritorio/TFM_Dataset/2.Dataset_res5/Slope/Davos.tif\n",
      "/home/abetatos/Escritorio/TFM_Dataset/3.Basedataset/HS/snowmap_2015_ads_100_extent_maskiert_nosnow0_noausreisser/extent.shp\n"
     ]
    },
    {
     "name": "stderr",
     "output_type": "stream",
     "text": [
      "/home/abetatos/miniconda3/lib/python3.10/site-packages/pyproj/crs/_cf1x8.py:514: UserWarning: angle from rectified to skew grid parameter lost in conversion to CF\n",
      "  warnings.warn(\n"
     ]
    }
   ],
   "source": [
    "input_path_Slope = os.path.join(unitato_res, \"Slope\")\n",
    "output_path_Slope = os.path.join(unitato_base, \"Slope\")\n",
    "\n",
    "input_path_HS = rf\"{unitato_base}HS\"\n",
    "\n",
    "for f in HS_files: \n",
    "    print(f)\n",
    "    for Slope_file in os.listdir(input_path_Slope): \n",
    "        input_Slope = os.path.join(input_path_Slope, Slope_file)\n",
    "        aoi = os.path.join(input_path_HS, os.path.splitext(f)[0], \"extent.shp\")\n",
    "        try:\n",
    "            cropped_im_data = access_raster(input_Slope, aoi=aoi)\n",
    "        except ValueError: \n",
    "            continue\n",
    "        print(\"\\t\", Slope_file)\n",
    "        print(input_Slope)\n",
    "        print(aoi)\n",
    "        \n",
    "        gdf = gpd.GeoDataFrame.from_file(aoi)\n",
    "        rxr_Slope = rxr.open_rasterio(input_Slope, masked=True).squeeze()\n",
    "        rxr_Slope = rxr_Slope.rio.clip(gdf.geometry.apply(mapping))\n",
    "        \n",
    "        try:\n",
    "            os.makedirs(os.path.join(output_path_Slope, os.path.splitext(f)[0]))\n",
    "        except: \n",
    "            pass\n",
    "        rxr_Slope.rio.to_raster(os.path.join(output_path_Slope, os.path.splitext(f)[0], \"Slope.tif\"))"
   ]
  },
  {
   "attachments": {},
   "cell_type": "markdown",
   "metadata": {},
   "source": [
    "# TPI"
   ]
  },
  {
   "cell_type": "code",
   "execution_count": 21,
   "metadata": {},
   "outputs": [
    {
     "name": "stdout",
     "output_type": "stream",
     "text": [
      "TPI: 11\n",
      "snowmap_20160309_ads_100_extent_maskiert_nosnow0_noausreisser.tif\n",
      "\t Davos.tif\n",
      "/home/abetatos/Escritorio/TFM_Dataset/2.Dataset_res5/TPI/Davos.tif\n",
      "/home/abetatos/Escritorio/TFM_Dataset/3.Basedataset/HS/snowmap_20160309_ads_100_extent_maskiert_nosnow0_noausreisser/extent.shp\n"
     ]
    },
    {
     "name": "stderr",
     "output_type": "stream",
     "text": [
      "/home/abetatos/miniconda3/lib/python3.10/site-packages/pyproj/crs/_cf1x8.py:514: UserWarning: angle from rectified to skew grid parameter lost in conversion to CF\n",
      "  warnings.warn(\n",
      "/home/abetatos/miniconda3/lib/python3.10/site-packages/pyproj/crs/_cf1x8.py:514: UserWarning: angle from rectified to skew grid parameter lost in conversion to CF\n",
      "  warnings.warn(\n",
      "/home/abetatos/miniconda3/lib/python3.10/site-packages/pyproj/crs/_cf1x8.py:514: UserWarning: angle from rectified to skew grid parameter lost in conversion to CF\n",
      "  warnings.warn(\n"
     ]
    },
    {
     "name": "stdout",
     "output_type": "stream",
     "text": [
      "Input shapes do not overlap raster.\n",
      "HS_Davos_20211604_2m_epsg2056.tif\n",
      "\t Davos.tif\n",
      "/home/abetatos/Escritorio/TFM_Dataset/2.Dataset_res5/TPI/Davos.tif\n",
      "/home/abetatos/Escritorio/TFM_Dataset/3.Basedataset/HS/HS_Davos_20211604_2m_epsg2056/extent.shp\n"
     ]
    },
    {
     "name": "stderr",
     "output_type": "stream",
     "text": [
      "/home/abetatos/miniconda3/lib/python3.10/site-packages/pyproj/crs/_cf1x8.py:514: UserWarning: angle from rectified to skew grid parameter lost in conversion to CF\n",
      "  warnings.warn(\n",
      "/home/abetatos/miniconda3/lib/python3.10/site-packages/pyproj/crs/_cf1x8.py:514: UserWarning: angle from rectified to skew grid parameter lost in conversion to CF\n",
      "  warnings.warn(\n"
     ]
    },
    {
     "name": "stdout",
     "output_type": "stream",
     "text": [
      "Input shapes do not overlap raster.\n",
      "snowmap_2012_ads_80_extent_maskiert_nosnow0_noausreisser.tif\n",
      "\t Davos.tif\n",
      "/home/abetatos/Escritorio/TFM_Dataset/2.Dataset_res5/TPI/Davos.tif\n",
      "/home/abetatos/Escritorio/TFM_Dataset/3.Basedataset/HS/snowmap_2012_ads_80_extent_maskiert_nosnow0_noausreisser/extent.shp\n"
     ]
    },
    {
     "name": "stderr",
     "output_type": "stream",
     "text": [
      "/home/abetatos/miniconda3/lib/python3.10/site-packages/pyproj/crs/_cf1x8.py:514: UserWarning: angle from rectified to skew grid parameter lost in conversion to CF\n",
      "  warnings.warn(\n",
      "/home/abetatos/miniconda3/lib/python3.10/site-packages/pyproj/crs/_cf1x8.py:514: UserWarning: angle from rectified to skew grid parameter lost in conversion to CF\n",
      "  warnings.warn(\n"
     ]
    },
    {
     "name": "stdout",
     "output_type": "stream",
     "text": [
      "Input shapes do not overlap raster.\n",
      "HS_Laucherenalp_20220224_2m_epsg2056.tif\n",
      "Input shapes do not overlap raster.\n",
      "\t Valais.tif\n",
      "/home/abetatos/Escritorio/TFM_Dataset/2.Dataset_res5/TPI/Valais.tif\n",
      "/home/abetatos/Escritorio/TFM_Dataset/3.Basedataset/HS/HS_Laucherenalp_20220224_2m_epsg2056/extent.shp\n"
     ]
    },
    {
     "name": "stderr",
     "output_type": "stream",
     "text": [
      "/home/abetatos/miniconda3/lib/python3.10/site-packages/pyproj/crs/_cf1x8.py:514: UserWarning: angle from rectified to skew grid parameter lost in conversion to CF\n",
      "  warnings.warn(\n",
      "/home/abetatos/miniconda3/lib/python3.10/site-packages/pyproj/crs/_cf1x8.py:514: UserWarning: angle from rectified to skew grid parameter lost in conversion to CF\n",
      "  warnings.warn(\n"
     ]
    },
    {
     "name": "stdout",
     "output_type": "stream",
     "text": [
      "snowmap_2010_ads_80_extent_maskiert_nosnow0_noausreisser.tif\n",
      "\t Davos.tif\n",
      "/home/abetatos/Escritorio/TFM_Dataset/2.Dataset_res5/TPI/Davos.tif\n",
      "/home/abetatos/Escritorio/TFM_Dataset/3.Basedataset/HS/snowmap_2010_ads_80_extent_maskiert_nosnow0_noausreisser/extent.shp\n"
     ]
    },
    {
     "name": "stderr",
     "output_type": "stream",
     "text": [
      "/home/abetatos/miniconda3/lib/python3.10/site-packages/pyproj/crs/_cf1x8.py:514: UserWarning: angle from rectified to skew grid parameter lost in conversion to CF\n",
      "  warnings.warn(\n",
      "/home/abetatos/miniconda3/lib/python3.10/site-packages/pyproj/crs/_cf1x8.py:514: UserWarning: angle from rectified to skew grid parameter lost in conversion to CF\n",
      "  warnings.warn(\n"
     ]
    },
    {
     "name": "stdout",
     "output_type": "stream",
     "text": [
      "Input shapes do not overlap raster.\n",
      "HS_Davos_20200406_2m_epsg2056.tif\n",
      "\t Davos.tif\n",
      "/home/abetatos/Escritorio/TFM_Dataset/2.Dataset_res5/TPI/Davos.tif\n",
      "/home/abetatos/Escritorio/TFM_Dataset/3.Basedataset/HS/HS_Davos_20200406_2m_epsg2056/extent.shp\n"
     ]
    },
    {
     "name": "stderr",
     "output_type": "stream",
     "text": [
      "/home/abetatos/miniconda3/lib/python3.10/site-packages/pyproj/crs/_cf1x8.py:514: UserWarning: angle from rectified to skew grid parameter lost in conversion to CF\n",
      "  warnings.warn(\n",
      "/home/abetatos/miniconda3/lib/python3.10/site-packages/pyproj/crs/_cf1x8.py:514: UserWarning: angle from rectified to skew grid parameter lost in conversion to CF\n",
      "  warnings.warn(\n"
     ]
    },
    {
     "name": "stdout",
     "output_type": "stream",
     "text": [
      "Input shapes do not overlap raster.\n",
      "HS_c_20220223_1m_epsg2056.tif\n",
      "Input shapes do not overlap raster.\n",
      "\t Valais.tif\n",
      "/home/abetatos/Escritorio/TFM_Dataset/2.Dataset_res5/TPI/Valais.tif\n",
      "/home/abetatos/Escritorio/TFM_Dataset/3.Basedataset/HS/HS_c_20220223_1m_epsg2056/extent.shp\n"
     ]
    },
    {
     "name": "stderr",
     "output_type": "stream",
     "text": [
      "/home/abetatos/miniconda3/lib/python3.10/site-packages/pyproj/crs/_cf1x8.py:514: UserWarning: angle from rectified to skew grid parameter lost in conversion to CF\n",
      "  warnings.warn(\n",
      "/home/abetatos/miniconda3/lib/python3.10/site-packages/pyproj/crs/_cf1x8.py:514: UserWarning: angle from rectified to skew grid parameter lost in conversion to CF\n",
      "  warnings.warn(\n"
     ]
    },
    {
     "name": "stdout",
     "output_type": "stream",
     "text": [
      "snowmap_20160420_ads_100_extent_maskiert_nosnow0_noausreisser.tif\n",
      "\t Davos.tif\n",
      "/home/abetatos/Escritorio/TFM_Dataset/2.Dataset_res5/TPI/Davos.tif\n",
      "/home/abetatos/Escritorio/TFM_Dataset/3.Basedataset/HS/snowmap_20160420_ads_100_extent_maskiert_nosnow0_noausreisser/extent.shp\n"
     ]
    },
    {
     "name": "stderr",
     "output_type": "stream",
     "text": [
      "/home/abetatos/miniconda3/lib/python3.10/site-packages/pyproj/crs/_cf1x8.py:514: UserWarning: angle from rectified to skew grid parameter lost in conversion to CF\n",
      "  warnings.warn(\n",
      "/home/abetatos/miniconda3/lib/python3.10/site-packages/pyproj/crs/_cf1x8.py:514: UserWarning: angle from rectified to skew grid parameter lost in conversion to CF\n",
      "  warnings.warn(\n"
     ]
    },
    {
     "name": "stdout",
     "output_type": "stream",
     "text": [
      "Input shapes do not overlap raster.\n",
      "snowmap_2014_ads_100_extent_maskiert_nosnow0_noausreisser.tif\n",
      "\t Davos.tif\n",
      "/home/abetatos/Escritorio/TFM_Dataset/2.Dataset_res5/TPI/Davos.tif\n",
      "/home/abetatos/Escritorio/TFM_Dataset/3.Basedataset/HS/snowmap_2014_ads_100_extent_maskiert_nosnow0_noausreisser/extent.shp\n"
     ]
    },
    {
     "name": "stderr",
     "output_type": "stream",
     "text": [
      "/home/abetatos/miniconda3/lib/python3.10/site-packages/pyproj/crs/_cf1x8.py:514: UserWarning: angle from rectified to skew grid parameter lost in conversion to CF\n",
      "  warnings.warn(\n",
      "/home/abetatos/miniconda3/lib/python3.10/site-packages/pyproj/crs/_cf1x8.py:514: UserWarning: angle from rectified to skew grid parameter lost in conversion to CF\n",
      "  warnings.warn(\n"
     ]
    },
    {
     "name": "stdout",
     "output_type": "stream",
     "text": [
      "Input shapes do not overlap raster.\n",
      "HS_Davos_20180411_2m_epsg2056.tif\n",
      "\t Davos.tif\n",
      "/home/abetatos/Escritorio/TFM_Dataset/2.Dataset_res5/TPI/Davos.tif\n",
      "/home/abetatos/Escritorio/TFM_Dataset/3.Basedataset/HS/HS_Davos_20180411_2m_epsg2056/extent.shp\n"
     ]
    },
    {
     "name": "stderr",
     "output_type": "stream",
     "text": [
      "/home/abetatos/miniconda3/lib/python3.10/site-packages/pyproj/crs/_cf1x8.py:514: UserWarning: angle from rectified to skew grid parameter lost in conversion to CF\n",
      "  warnings.warn(\n",
      "/home/abetatos/miniconda3/lib/python3.10/site-packages/pyproj/crs/_cf1x8.py:514: UserWarning: angle from rectified to skew grid parameter lost in conversion to CF\n",
      "  warnings.warn(\n"
     ]
    },
    {
     "name": "stdout",
     "output_type": "stream",
     "text": [
      "Input shapes do not overlap raster.\n",
      "snowmap_2013_ads_80_extent_maskiert_nosnow0_noausreisser.tif\n",
      "\t Davos.tif\n",
      "/home/abetatos/Escritorio/TFM_Dataset/2.Dataset_res5/TPI/Davos.tif\n",
      "/home/abetatos/Escritorio/TFM_Dataset/3.Basedataset/HS/snowmap_2013_ads_80_extent_maskiert_nosnow0_noausreisser/extent.shp\n"
     ]
    },
    {
     "name": "stderr",
     "output_type": "stream",
     "text": [
      "/home/abetatos/miniconda3/lib/python3.10/site-packages/pyproj/crs/_cf1x8.py:514: UserWarning: angle from rectified to skew grid parameter lost in conversion to CF\n",
      "  warnings.warn(\n"
     ]
    },
    {
     "name": "stdout",
     "output_type": "stream",
     "text": [
      "Input shapes do not overlap raster.\n",
      "HS_Davos_20170316_2m_epsg2056.tif\n",
      "\t Davos.tif\n",
      "/home/abetatos/Escritorio/TFM_Dataset/2.Dataset_res5/TPI/Davos.tif\n",
      "/home/abetatos/Escritorio/TFM_Dataset/3.Basedataset/HS/HS_Davos_20170316_2m_epsg2056/extent.shp\n"
     ]
    },
    {
     "name": "stderr",
     "output_type": "stream",
     "text": [
      "/home/abetatos/miniconda3/lib/python3.10/site-packages/pyproj/crs/_cf1x8.py:514: UserWarning: angle from rectified to skew grid parameter lost in conversion to CF\n",
      "  warnings.warn(\n",
      "/home/abetatos/miniconda3/lib/python3.10/site-packages/pyproj/crs/_cf1x8.py:514: UserWarning: angle from rectified to skew grid parameter lost in conversion to CF\n",
      "  warnings.warn(\n",
      "/home/abetatos/miniconda3/lib/python3.10/site-packages/pyproj/crs/_cf1x8.py:514: UserWarning: angle from rectified to skew grid parameter lost in conversion to CF\n",
      "  warnings.warn(\n"
     ]
    },
    {
     "name": "stdout",
     "output_type": "stream",
     "text": [
      "Input shapes do not overlap raster.\n",
      "HS_Laucherenalp_20220511_1m_epsg2056.tif\n",
      "Input shapes do not overlap raster.\n",
      "\t Valais.tif\n",
      "/home/abetatos/Escritorio/TFM_Dataset/2.Dataset_res5/TPI/Valais.tif\n",
      "/home/abetatos/Escritorio/TFM_Dataset/3.Basedataset/HS/HS_Laucherenalp_20220511_1m_epsg2056/extent.shp\n"
     ]
    },
    {
     "name": "stderr",
     "output_type": "stream",
     "text": [
      "/home/abetatos/miniconda3/lib/python3.10/site-packages/pyproj/crs/_cf1x8.py:514: UserWarning: angle from rectified to skew grid parameter lost in conversion to CF\n",
      "  warnings.warn(\n",
      "/home/abetatos/miniconda3/lib/python3.10/site-packages/pyproj/crs/_cf1x8.py:514: UserWarning: angle from rectified to skew grid parameter lost in conversion to CF\n",
      "  warnings.warn(\n"
     ]
    },
    {
     "name": "stdout",
     "output_type": "stream",
     "text": [
      "HS_Saflischpass_20220512_1m_epsg2056.tif\n",
      "Input shapes do not overlap raster.\n",
      "\t Valais.tif\n",
      "/home/abetatos/Escritorio/TFM_Dataset/2.Dataset_res5/TPI/Valais.tif\n",
      "/home/abetatos/Escritorio/TFM_Dataset/3.Basedataset/HS/HS_Saflischpass_20220512_1m_epsg2056/extent.shp\n"
     ]
    },
    {
     "name": "stderr",
     "output_type": "stream",
     "text": [
      "/home/abetatos/miniconda3/lib/python3.10/site-packages/pyproj/crs/_cf1x8.py:514: UserWarning: angle from rectified to skew grid parameter lost in conversion to CF\n",
      "  warnings.warn(\n",
      "/home/abetatos/miniconda3/lib/python3.10/site-packages/pyproj/crs/_cf1x8.py:514: UserWarning: angle from rectified to skew grid parameter lost in conversion to CF\n",
      "  warnings.warn(\n"
     ]
    },
    {
     "name": "stdout",
     "output_type": "stream",
     "text": [
      "snowmap_20160126_ads_100_extent_maskiert_nosnow0_noausreisser.tif\n",
      "\t Davos.tif\n",
      "/home/abetatos/Escritorio/TFM_Dataset/2.Dataset_res5/TPI/Davos.tif\n",
      "/home/abetatos/Escritorio/TFM_Dataset/3.Basedataset/HS/snowmap_20160126_ads_100_extent_maskiert_nosnow0_noausreisser/extent.shp\n"
     ]
    },
    {
     "name": "stderr",
     "output_type": "stream",
     "text": [
      "/home/abetatos/miniconda3/lib/python3.10/site-packages/pyproj/crs/_cf1x8.py:514: UserWarning: angle from rectified to skew grid parameter lost in conversion to CF\n",
      "  warnings.warn(\n",
      "/home/abetatos/miniconda3/lib/python3.10/site-packages/pyproj/crs/_cf1x8.py:514: UserWarning: angle from rectified to skew grid parameter lost in conversion to CF\n",
      "  warnings.warn(\n"
     ]
    },
    {
     "name": "stdout",
     "output_type": "stream",
     "text": [
      "Input shapes do not overlap raster.\n",
      "snowmap_2015_ads_100_extent_maskiert_nosnow0_noausreisser.tif\n",
      "\t Davos.tif\n",
      "/home/abetatos/Escritorio/TFM_Dataset/2.Dataset_res5/TPI/Davos.tif\n",
      "/home/abetatos/Escritorio/TFM_Dataset/3.Basedataset/HS/snowmap_2015_ads_100_extent_maskiert_nosnow0_noausreisser/extent.shp\n",
      "Input shapes do not overlap raster.\n"
     ]
    },
    {
     "name": "stderr",
     "output_type": "stream",
     "text": [
      "/home/abetatos/miniconda3/lib/python3.10/site-packages/pyproj/crs/_cf1x8.py:514: UserWarning: angle from rectified to skew grid parameter lost in conversion to CF\n",
      "  warnings.warn(\n"
     ]
    }
   ],
   "source": [
    "for filter_size in [11]: #[7, 11, 22, 50]:\n",
    "\n",
    "    input_path_tpi = os.path.join(unitato_res, f\"TPI\")\n",
    "    output_path_tpi = os.path.join(unitato_base, f\"TPI\")\n",
    "    print(\"TPI:\", filter_size)\n",
    "    \n",
    "    input_path_HS = f\"{unitato_base}HS\"\n",
    "    for f in HS_files: \n",
    "        print(f)\n",
    "        for tpi_file in os.listdir(input_path_tpi): \n",
    "            input_tpi = os.path.join(input_path_tpi, tpi_file)\n",
    "            aoi = os.path.join(input_path_HS, os.path.splitext(f)[0], \"extent.shp\")\n",
    "            try:\n",
    "                cropped_im_data = access_raster(input_tpi, aoi=aoi)\n",
    "            except ValueError as e: \n",
    "                print(e)\n",
    "                continue\n",
    "            print(\"\\t\", tpi_file)\n",
    "            print(input_tpi)\n",
    "            print(aoi)\n",
    "            \n",
    "            gdf = gpd.GeoDataFrame.from_file(aoi)\n",
    "            rxr_tpi = rxr.open_rasterio(input_tpi, masked=True).squeeze()\n",
    "            rxr_tpi = rxr_tpi.rio.clip(gdf.geometry.apply(mapping))\n",
    "            \n",
    "            try:\n",
    "                os.makedirs(os.path.join(output_path_tpi, os.path.splitext(f)[0]))\n",
    "            except: \n",
    "                pass\n",
    "            rxr_tpi.rio.to_raster(os.path.join(output_path_tpi, os.path.splitext(f)[0], \"TPI.tif\"))"
   ]
  },
  {
   "attachments": {},
   "cell_type": "markdown",
   "metadata": {},
   "source": [
    "# TPIWGW"
   ]
  },
  {
   "cell_type": "code",
   "execution_count": 22,
   "metadata": {},
   "outputs": [
    {
     "name": "stdout",
     "output_type": "stream",
     "text": [
      "TPI: 11\n",
      "snowmap_20160309_ads_100_extent_maskiert_nosnow0_noausreisser.tif\n",
      "\t Davos.tif\n",
      "/home/abetatos/Escritorio/TFM_Dataset/2.Dataset_res5/TPIWGW/Davos.tif\n",
      "/home/abetatos/Escritorio/TFM_Dataset/3.Basedataset/HS/snowmap_20160309_ads_100_extent_maskiert_nosnow0_noausreisser/extent.shp\n"
     ]
    },
    {
     "name": "stderr",
     "output_type": "stream",
     "text": [
      "/home/abetatos/miniconda3/lib/python3.10/site-packages/pyproj/crs/_cf1x8.py:514: UserWarning: angle from rectified to skew grid parameter lost in conversion to CF\n",
      "  warnings.warn(\n",
      "/home/abetatos/miniconda3/lib/python3.10/site-packages/pyproj/crs/_cf1x8.py:514: UserWarning: angle from rectified to skew grid parameter lost in conversion to CF\n",
      "  warnings.warn(\n",
      "/home/abetatos/miniconda3/lib/python3.10/site-packages/pyproj/crs/_cf1x8.py:514: UserWarning: angle from rectified to skew grid parameter lost in conversion to CF\n",
      "  warnings.warn(\n"
     ]
    },
    {
     "name": "stdout",
     "output_type": "stream",
     "text": [
      "Input shapes do not overlap raster.\n",
      "HS_Davos_20211604_2m_epsg2056.tif\n",
      "\t Davos.tif\n",
      "/home/abetatos/Escritorio/TFM_Dataset/2.Dataset_res5/TPIWGW/Davos.tif\n",
      "/home/abetatos/Escritorio/TFM_Dataset/3.Basedataset/HS/HS_Davos_20211604_2m_epsg2056/extent.shp\n"
     ]
    },
    {
     "name": "stderr",
     "output_type": "stream",
     "text": [
      "/home/abetatos/miniconda3/lib/python3.10/site-packages/pyproj/crs/_cf1x8.py:514: UserWarning: angle from rectified to skew grid parameter lost in conversion to CF\n",
      "  warnings.warn(\n",
      "/home/abetatos/miniconda3/lib/python3.10/site-packages/pyproj/crs/_cf1x8.py:514: UserWarning: angle from rectified to skew grid parameter lost in conversion to CF\n",
      "  warnings.warn(\n"
     ]
    },
    {
     "name": "stdout",
     "output_type": "stream",
     "text": [
      "Input shapes do not overlap raster.\n",
      "snowmap_2012_ads_80_extent_maskiert_nosnow0_noausreisser.tif\n",
      "\t Davos.tif\n",
      "/home/abetatos/Escritorio/TFM_Dataset/2.Dataset_res5/TPIWGW/Davos.tif\n",
      "/home/abetatos/Escritorio/TFM_Dataset/3.Basedataset/HS/snowmap_2012_ads_80_extent_maskiert_nosnow0_noausreisser/extent.shp\n"
     ]
    },
    {
     "name": "stderr",
     "output_type": "stream",
     "text": [
      "/home/abetatos/miniconda3/lib/python3.10/site-packages/pyproj/crs/_cf1x8.py:514: UserWarning: angle from rectified to skew grid parameter lost in conversion to CF\n",
      "  warnings.warn(\n",
      "/home/abetatos/miniconda3/lib/python3.10/site-packages/pyproj/crs/_cf1x8.py:514: UserWarning: angle from rectified to skew grid parameter lost in conversion to CF\n",
      "  warnings.warn(\n"
     ]
    },
    {
     "name": "stdout",
     "output_type": "stream",
     "text": [
      "Input shapes do not overlap raster.\n",
      "HS_Laucherenalp_20220224_2m_epsg2056.tif\n",
      "Input shapes do not overlap raster.\n",
      "\t Valais.tif\n",
      "/home/abetatos/Escritorio/TFM_Dataset/2.Dataset_res5/TPIWGW/Valais.tif\n",
      "/home/abetatos/Escritorio/TFM_Dataset/3.Basedataset/HS/HS_Laucherenalp_20220224_2m_epsg2056/extent.shp\n"
     ]
    },
    {
     "name": "stderr",
     "output_type": "stream",
     "text": [
      "/home/abetatos/miniconda3/lib/python3.10/site-packages/pyproj/crs/_cf1x8.py:514: UserWarning: angle from rectified to skew grid parameter lost in conversion to CF\n",
      "  warnings.warn(\n",
      "/home/abetatos/miniconda3/lib/python3.10/site-packages/pyproj/crs/_cf1x8.py:514: UserWarning: angle from rectified to skew grid parameter lost in conversion to CF\n",
      "  warnings.warn(\n"
     ]
    },
    {
     "name": "stdout",
     "output_type": "stream",
     "text": [
      "snowmap_2010_ads_80_extent_maskiert_nosnow0_noausreisser.tif\n",
      "\t Davos.tif\n",
      "/home/abetatos/Escritorio/TFM_Dataset/2.Dataset_res5/TPIWGW/Davos.tif\n",
      "/home/abetatos/Escritorio/TFM_Dataset/3.Basedataset/HS/snowmap_2010_ads_80_extent_maskiert_nosnow0_noausreisser/extent.shp\n"
     ]
    },
    {
     "name": "stderr",
     "output_type": "stream",
     "text": [
      "/home/abetatos/miniconda3/lib/python3.10/site-packages/pyproj/crs/_cf1x8.py:514: UserWarning: angle from rectified to skew grid parameter lost in conversion to CF\n",
      "  warnings.warn(\n",
      "/home/abetatos/miniconda3/lib/python3.10/site-packages/pyproj/crs/_cf1x8.py:514: UserWarning: angle from rectified to skew grid parameter lost in conversion to CF\n",
      "  warnings.warn(\n"
     ]
    },
    {
     "name": "stdout",
     "output_type": "stream",
     "text": [
      "Input shapes do not overlap raster.\n",
      "HS_Davos_20200406_2m_epsg2056.tif\n",
      "\t Davos.tif\n",
      "/home/abetatos/Escritorio/TFM_Dataset/2.Dataset_res5/TPIWGW/Davos.tif\n",
      "/home/abetatos/Escritorio/TFM_Dataset/3.Basedataset/HS/HS_Davos_20200406_2m_epsg2056/extent.shp\n"
     ]
    },
    {
     "name": "stderr",
     "output_type": "stream",
     "text": [
      "/home/abetatos/miniconda3/lib/python3.10/site-packages/pyproj/crs/_cf1x8.py:514: UserWarning: angle from rectified to skew grid parameter lost in conversion to CF\n",
      "  warnings.warn(\n",
      "/home/abetatos/miniconda3/lib/python3.10/site-packages/pyproj/crs/_cf1x8.py:514: UserWarning: angle from rectified to skew grid parameter lost in conversion to CF\n",
      "  warnings.warn(\n"
     ]
    },
    {
     "name": "stdout",
     "output_type": "stream",
     "text": [
      "Input shapes do not overlap raster.\n",
      "HS_c_20220223_1m_epsg2056.tif\n",
      "Input shapes do not overlap raster.\n",
      "\t Valais.tif\n",
      "/home/abetatos/Escritorio/TFM_Dataset/2.Dataset_res5/TPIWGW/Valais.tif\n",
      "/home/abetatos/Escritorio/TFM_Dataset/3.Basedataset/HS/HS_c_20220223_1m_epsg2056/extent.shp\n"
     ]
    },
    {
     "name": "stderr",
     "output_type": "stream",
     "text": [
      "/home/abetatos/miniconda3/lib/python3.10/site-packages/pyproj/crs/_cf1x8.py:514: UserWarning: angle from rectified to skew grid parameter lost in conversion to CF\n",
      "  warnings.warn(\n",
      "/home/abetatos/miniconda3/lib/python3.10/site-packages/pyproj/crs/_cf1x8.py:514: UserWarning: angle from rectified to skew grid parameter lost in conversion to CF\n",
      "  warnings.warn(\n"
     ]
    },
    {
     "name": "stdout",
     "output_type": "stream",
     "text": [
      "snowmap_20160420_ads_100_extent_maskiert_nosnow0_noausreisser.tif\n",
      "\t Davos.tif\n",
      "/home/abetatos/Escritorio/TFM_Dataset/2.Dataset_res5/TPIWGW/Davos.tif\n",
      "/home/abetatos/Escritorio/TFM_Dataset/3.Basedataset/HS/snowmap_20160420_ads_100_extent_maskiert_nosnow0_noausreisser/extent.shp\n"
     ]
    },
    {
     "name": "stderr",
     "output_type": "stream",
     "text": [
      "/home/abetatos/miniconda3/lib/python3.10/site-packages/pyproj/crs/_cf1x8.py:514: UserWarning: angle from rectified to skew grid parameter lost in conversion to CF\n",
      "  warnings.warn(\n",
      "/home/abetatos/miniconda3/lib/python3.10/site-packages/pyproj/crs/_cf1x8.py:514: UserWarning: angle from rectified to skew grid parameter lost in conversion to CF\n",
      "  warnings.warn(\n"
     ]
    },
    {
     "name": "stdout",
     "output_type": "stream",
     "text": [
      "Input shapes do not overlap raster.\n",
      "snowmap_2014_ads_100_extent_maskiert_nosnow0_noausreisser.tif\n",
      "\t Davos.tif\n",
      "/home/abetatos/Escritorio/TFM_Dataset/2.Dataset_res5/TPIWGW/Davos.tif\n",
      "/home/abetatos/Escritorio/TFM_Dataset/3.Basedataset/HS/snowmap_2014_ads_100_extent_maskiert_nosnow0_noausreisser/extent.shp\n"
     ]
    },
    {
     "name": "stderr",
     "output_type": "stream",
     "text": [
      "/home/abetatos/miniconda3/lib/python3.10/site-packages/pyproj/crs/_cf1x8.py:514: UserWarning: angle from rectified to skew grid parameter lost in conversion to CF\n",
      "  warnings.warn(\n",
      "/home/abetatos/miniconda3/lib/python3.10/site-packages/pyproj/crs/_cf1x8.py:514: UserWarning: angle from rectified to skew grid parameter lost in conversion to CF\n",
      "  warnings.warn(\n"
     ]
    },
    {
     "name": "stdout",
     "output_type": "stream",
     "text": [
      "Input shapes do not overlap raster.\n",
      "HS_Davos_20180411_2m_epsg2056.tif\n",
      "\t Davos.tif\n",
      "/home/abetatos/Escritorio/TFM_Dataset/2.Dataset_res5/TPIWGW/Davos.tif\n",
      "/home/abetatos/Escritorio/TFM_Dataset/3.Basedataset/HS/HS_Davos_20180411_2m_epsg2056/extent.shp\n"
     ]
    },
    {
     "name": "stderr",
     "output_type": "stream",
     "text": [
      "/home/abetatos/miniconda3/lib/python3.10/site-packages/pyproj/crs/_cf1x8.py:514: UserWarning: angle from rectified to skew grid parameter lost in conversion to CF\n",
      "  warnings.warn(\n",
      "/home/abetatos/miniconda3/lib/python3.10/site-packages/pyproj/crs/_cf1x8.py:514: UserWarning: angle from rectified to skew grid parameter lost in conversion to CF\n",
      "  warnings.warn(\n"
     ]
    },
    {
     "name": "stdout",
     "output_type": "stream",
     "text": [
      "Input shapes do not overlap raster.\n",
      "snowmap_2013_ads_80_extent_maskiert_nosnow0_noausreisser.tif\n",
      "\t Davos.tif\n",
      "/home/abetatos/Escritorio/TFM_Dataset/2.Dataset_res5/TPIWGW/Davos.tif\n",
      "/home/abetatos/Escritorio/TFM_Dataset/3.Basedataset/HS/snowmap_2013_ads_80_extent_maskiert_nosnow0_noausreisser/extent.shp\n"
     ]
    },
    {
     "name": "stderr",
     "output_type": "stream",
     "text": [
      "/home/abetatos/miniconda3/lib/python3.10/site-packages/pyproj/crs/_cf1x8.py:514: UserWarning: angle from rectified to skew grid parameter lost in conversion to CF\n",
      "  warnings.warn(\n"
     ]
    },
    {
     "name": "stdout",
     "output_type": "stream",
     "text": [
      "Input shapes do not overlap raster.\n",
      "HS_Davos_20170316_2m_epsg2056.tif\n",
      "\t Davos.tif\n",
      "/home/abetatos/Escritorio/TFM_Dataset/2.Dataset_res5/TPIWGW/Davos.tif\n",
      "/home/abetatos/Escritorio/TFM_Dataset/3.Basedataset/HS/HS_Davos_20170316_2m_epsg2056/extent.shp\n"
     ]
    },
    {
     "name": "stderr",
     "output_type": "stream",
     "text": [
      "/home/abetatos/miniconda3/lib/python3.10/site-packages/pyproj/crs/_cf1x8.py:514: UserWarning: angle from rectified to skew grid parameter lost in conversion to CF\n",
      "  warnings.warn(\n",
      "/home/abetatos/miniconda3/lib/python3.10/site-packages/pyproj/crs/_cf1x8.py:514: UserWarning: angle from rectified to skew grid parameter lost in conversion to CF\n",
      "  warnings.warn(\n",
      "/home/abetatos/miniconda3/lib/python3.10/site-packages/pyproj/crs/_cf1x8.py:514: UserWarning: angle from rectified to skew grid parameter lost in conversion to CF\n",
      "  warnings.warn(\n"
     ]
    },
    {
     "name": "stdout",
     "output_type": "stream",
     "text": [
      "Input shapes do not overlap raster.\n",
      "HS_Laucherenalp_20220511_1m_epsg2056.tif\n",
      "Input shapes do not overlap raster.\n",
      "\t Valais.tif\n",
      "/home/abetatos/Escritorio/TFM_Dataset/2.Dataset_res5/TPIWGW/Valais.tif\n",
      "/home/abetatos/Escritorio/TFM_Dataset/3.Basedataset/HS/HS_Laucherenalp_20220511_1m_epsg2056/extent.shp\n"
     ]
    },
    {
     "name": "stderr",
     "output_type": "stream",
     "text": [
      "/home/abetatos/miniconda3/lib/python3.10/site-packages/pyproj/crs/_cf1x8.py:514: UserWarning: angle from rectified to skew grid parameter lost in conversion to CF\n",
      "  warnings.warn(\n",
      "/home/abetatos/miniconda3/lib/python3.10/site-packages/pyproj/crs/_cf1x8.py:514: UserWarning: angle from rectified to skew grid parameter lost in conversion to CF\n",
      "  warnings.warn(\n"
     ]
    },
    {
     "name": "stdout",
     "output_type": "stream",
     "text": [
      "HS_Saflischpass_20220512_1m_epsg2056.tif\n",
      "Input shapes do not overlap raster.\n",
      "\t Valais.tif\n",
      "/home/abetatos/Escritorio/TFM_Dataset/2.Dataset_res5/TPIWGW/Valais.tif\n",
      "/home/abetatos/Escritorio/TFM_Dataset/3.Basedataset/HS/HS_Saflischpass_20220512_1m_epsg2056/extent.shp\n"
     ]
    },
    {
     "name": "stderr",
     "output_type": "stream",
     "text": [
      "/home/abetatos/miniconda3/lib/python3.10/site-packages/pyproj/crs/_cf1x8.py:514: UserWarning: angle from rectified to skew grid parameter lost in conversion to CF\n",
      "  warnings.warn(\n",
      "/home/abetatos/miniconda3/lib/python3.10/site-packages/pyproj/crs/_cf1x8.py:514: UserWarning: angle from rectified to skew grid parameter lost in conversion to CF\n",
      "  warnings.warn(\n"
     ]
    },
    {
     "name": "stdout",
     "output_type": "stream",
     "text": [
      "snowmap_20160126_ads_100_extent_maskiert_nosnow0_noausreisser.tif\n",
      "\t Davos.tif\n",
      "/home/abetatos/Escritorio/TFM_Dataset/2.Dataset_res5/TPIWGW/Davos.tif\n",
      "/home/abetatos/Escritorio/TFM_Dataset/3.Basedataset/HS/snowmap_20160126_ads_100_extent_maskiert_nosnow0_noausreisser/extent.shp\n"
     ]
    },
    {
     "name": "stderr",
     "output_type": "stream",
     "text": [
      "/home/abetatos/miniconda3/lib/python3.10/site-packages/pyproj/crs/_cf1x8.py:514: UserWarning: angle from rectified to skew grid parameter lost in conversion to CF\n",
      "  warnings.warn(\n",
      "/home/abetatos/miniconda3/lib/python3.10/site-packages/pyproj/crs/_cf1x8.py:514: UserWarning: angle from rectified to skew grid parameter lost in conversion to CF\n",
      "  warnings.warn(\n"
     ]
    },
    {
     "name": "stdout",
     "output_type": "stream",
     "text": [
      "Input shapes do not overlap raster.\n",
      "snowmap_2015_ads_100_extent_maskiert_nosnow0_noausreisser.tif\n",
      "\t Davos.tif\n",
      "/home/abetatos/Escritorio/TFM_Dataset/2.Dataset_res5/TPIWGW/Davos.tif\n",
      "/home/abetatos/Escritorio/TFM_Dataset/3.Basedataset/HS/snowmap_2015_ads_100_extent_maskiert_nosnow0_noausreisser/extent.shp\n",
      "Input shapes do not overlap raster.\n"
     ]
    },
    {
     "name": "stderr",
     "output_type": "stream",
     "text": [
      "/home/abetatos/miniconda3/lib/python3.10/site-packages/pyproj/crs/_cf1x8.py:514: UserWarning: angle from rectified to skew grid parameter lost in conversion to CF\n",
      "  warnings.warn(\n"
     ]
    }
   ],
   "source": [
    "for filter_size in [11]: #[7, 11, 22, 50]:\n",
    "\n",
    "    input_path_tpi = os.path.join(unitato_res, f\"TPIWGW\")\n",
    "    output_path_tpi = os.path.join(unitato_base, f\"TPIWGW\")\n",
    "    print(\"TPI:\", filter_size)\n",
    "    \n",
    "    input_path_HS = f\"{unitato_base}HS\"\n",
    "    for f in HS_files: \n",
    "        print(f)\n",
    "        for tpi_file in os.listdir(input_path_tpi): \n",
    "            input_tpi = os.path.join(input_path_tpi, tpi_file)\n",
    "            aoi = os.path.join(input_path_HS, os.path.splitext(f)[0], \"extent.shp\")\n",
    "            try:\n",
    "                cropped_im_data = access_raster(input_tpi, aoi=aoi)\n",
    "            except ValueError as e: \n",
    "                print(e)\n",
    "                continue\n",
    "            print(\"\\t\", tpi_file)\n",
    "            print(input_tpi)\n",
    "            print(aoi)\n",
    "            \n",
    "            gdf = gpd.GeoDataFrame.from_file(aoi)\n",
    "            rxr_tpi = rxr.open_rasterio(input_tpi, masked=True).squeeze()\n",
    "            rxr_tpi = rxr_tpi.rio.clip(gdf.geometry.apply(mapping))\n",
    "            \n",
    "            try:\n",
    "                os.makedirs(os.path.join(output_path_tpi, os.path.splitext(f)[0]))\n",
    "            except: \n",
    "                pass\n",
    "            rxr_tpi.rio.to_raster(os.path.join(output_path_tpi, os.path.splitext(f)[0], \"TPIWGW.tif\"))"
   ]
  },
  {
   "attachments": {},
   "cell_type": "markdown",
   "metadata": {},
   "source": [
    "# DEMSNOW"
   ]
  },
  {
   "cell_type": "code",
   "execution_count": 25,
   "metadata": {},
   "outputs": [],
   "source": [
    "import pandas as pd\n",
    "\n",
    "lr_data_path = \"/home/abetatos/Escritorio/TFM_Dataset/0.Dataset/stations_parsed.csv\"\n",
    "df = pd.read_csv(lr_data_path, sep=\";\")\n",
    "# df"
   ]
  },
  {
   "cell_type": "code",
   "execution_count": 26,
   "metadata": {},
   "outputs": [
    {
     "name": "stdout",
     "output_type": "stream",
     "text": [
      "snowmap_20160309_ads_100_extent_maskiert_nosnow0_noausreisser.tif\n",
      "2.708557719860658 0.5224479755698499\n",
      "HS_Davos_20211604_2m_epsg2056.tif\n",
      "2.4708472150709584 -0.022541299564496464\n",
      "snowmap_2012_ads_80_extent_maskiert_nosnow0_noausreisser.tif\n",
      "3.1188725073883505 0.4174293856903101\n",
      "HS_Laucherenalp_20220224_2m_epsg2056.tif\n",
      "4.476448185535514 0.3687903728081925\n",
      "snowmap_2010_ads_80_extent_maskiert_nosnow0_noausreisser.tif\n",
      "3.0977265781264967 -0.10230729737448452\n",
      "HS_Davos_20200406_2m_epsg2056.tif\n",
      "2.4708472150709584 -0.024398710641827304\n",
      "HS_c_20220223_1m_epsg2056.tif\n",
      "4.956120089426888 2.2373694374894297\n",
      "snowmap_20160420_ads_100_extent_maskiert_nosnow0_noausreisser.tif\n",
      "2.930796735999451 -0.1634094631823364\n",
      "snowmap_2014_ads_100_extent_maskiert_nosnow0_noausreisser.tif\n",
      "3.0548513035477916 -0.12247218941826277\n",
      "HS_Davos_20180411_2m_epsg2056.tif\n",
      "2.910072558425526 0.632270092555423\n",
      "snowmap_2013_ads_80_extent_maskiert_nosnow0_noausreisser.tif\n",
      "3.125921693610751 -0.08932707710336585\n",
      "HS_Davos_20170316_2m_epsg2056.tif\n",
      "3.3290738510012394 -9999.0\n",
      "HS_Laucherenalp_20220511_1m_epsg2056.tif\n",
      "4.837466906233768 0.012444682124411521\n",
      "HS_Saflischpass_20220512_1m_epsg2056.tif\n",
      "6.17763009831261 1.8460178886151102\n",
      "snowmap_20160126_ads_100_extent_maskiert_nosnow0_noausreisser.tif\n",
      "2.186907548757459 0.8774917451861557\n",
      "snowmap_2015_ads_100_extent_maskiert_nosnow0_noausreisser.tif\n",
      "2.930796735999451 -0.16505778912470093\n"
     ]
    }
   ],
   "source": [
    "input_path_DEM =  os.path.join(unitato_base, \"DEM\")\n",
    "output_path_DEM = os.path.join(unitato_base, \"DEMSNOW\")\n",
    "os.makedirs(output_path_DEM, exist_ok=True)\n",
    "\n",
    "input_path_HS = f\"{unitato_base}HS\"\n",
    "\n",
    "for f in HS_files:\n",
    "    print(f)\n",
    "    input_DEM = os.path.join(input_path_DEM, os.path.splitext(f)[0], \"DEM.tif\")\n",
    "    \n",
    "    stat_data = df[df['place'] == f]\n",
    "    a, b = stat_data[['a', 'b']].values[0]\n",
    "    # y = a*x + b\n",
    "    lf = lambda x: a*x + b if x != -9999. else x\n",
    "\n",
    "    vf=np.vectorize(lf)\n",
    "    \n",
    "    with rio.open(input_DEM) as src: \n",
    "        profile = src.profile\n",
    "        array = src.read()[0]\n",
    "        new_array = vf(array)\n",
    "    print(new_array.max(), new_array.min())\n",
    "    out_path = os.path.join(output_path_DEM,  os.path.splitext(f)[0])\n",
    "    try: \n",
    "        os.makedirs(out_path)\n",
    "    except: \n",
    "        pass\n",
    "    \n",
    "    with rio.open(os.path.join(out_path, \"DEMSNOW.tif\"), \"w\", **profile) as src: \n",
    "        src.write(new_array, 1)\n",
    "       "
   ]
  },
  {
   "attachments": {},
   "cell_type": "markdown",
   "metadata": {},
   "source": [
    "# FFSNOW"
   ]
  },
  {
   "attachments": {},
   "cell_type": "markdown",
   "metadata": {},
   "source": [
    "far from snow"
   ]
  },
  {
   "cell_type": "code",
   "execution_count": 27,
   "metadata": {},
   "outputs": [],
   "source": [
    "def lf(x): \n",
    "    if x == -9999.: \n",
    "        return x\n",
    "    x = x - 240\n",
    "    if x < -180: \n",
    "        x =  x + 360\n",
    "    return abs(x) "
   ]
  },
  {
   "cell_type": "code",
   "execution_count": 29,
   "metadata": {},
   "outputs": [
    {
     "name": "stdout",
     "output_type": "stream",
     "text": [
      "snowmap_20160309_ads_100_extent_maskiert_nosnow0_noausreisser.tif\n",
      "179.99999618530273 0.0\n",
      "HS_Davos_20211604_2m_epsg2056.tif\n",
      "179.99999618530273 1.52587890625e-05\n",
      "snowmap_2012_ads_80_extent_maskiert_nosnow0_noausreisser.tif\n",
      "179.99999618530273 0.0\n",
      "HS_Laucherenalp_20220224_2m_epsg2056.tif\n",
      "179.9983901977539 0.000335693359375\n",
      "snowmap_2010_ads_80_extent_maskiert_nosnow0_noausreisser.tif\n",
      "179.99999618530273 0.0\n",
      "HS_Davos_20200406_2m_epsg2056.tif\n",
      "179.99999618530273 1.52587890625e-05\n",
      "HS_c_20220223_1m_epsg2056.tif\n",
      "179.99998092651367 0.001129150390625\n",
      "snowmap_20160420_ads_100_extent_maskiert_nosnow0_noausreisser.tif\n",
      "179.99999618530273 0.0\n",
      "snowmap_2014_ads_100_extent_maskiert_nosnow0_noausreisser.tif\n",
      "179.99999618530273 0.0\n",
      "HS_Davos_20180411_2m_epsg2056.tif\n",
      "179.99999237060547 1.52587890625e-05\n",
      "snowmap_2013_ads_80_extent_maskiert_nosnow0_noausreisser.tif\n",
      "179.99999618530273 0.0\n",
      "HS_Davos_20170316_2m_epsg2056.tif\n",
      "179.99999618530273 -9999.0\n",
      "HS_Laucherenalp_20220511_1m_epsg2056.tif\n",
      "179.9983901977539 0.000335693359375\n",
      "HS_Saflischpass_20220512_1m_epsg2056.tif\n",
      "179.99998092651367 0.00164794921875\n",
      "snowmap_20160126_ads_100_extent_maskiert_nosnow0_noausreisser.tif\n",
      "179.99999618530273 0.0\n",
      "snowmap_2015_ads_100_extent_maskiert_nosnow0_noausreisser.tif\n",
      "179.99999618530273 0.0\n"
     ]
    }
   ],
   "source": [
    "input_path_Aspect = os.path.join(unitato_base, \"Aspect\")\n",
    "output_path_Aspect = os.path.join(unitato_base, \"FFSnow\")\n",
    "\n",
    "input_path_HS = f\"{unitato_base}HS\"\n",
    "\n",
    "for f in HS_files: \n",
    "    print(f)\n",
    "   \n",
    "    input_Aspect = os.path.join(input_path_Aspect, os.path.splitext(f)[0], \"Aspect.tif\")\n",
    "\n",
    "    vf=np.vectorize(lf)\n",
    "    \n",
    "    with rio.open(input_Aspect) as src: \n",
    "        profile = src.profile\n",
    "        array = src.read()[0]\n",
    "        new_array = vf(array)\n",
    "    print(new_array.max(), new_array.min())\n",
    "    out_path = os.path.join(output_path_Aspect,  os.path.splitext(f)[0])\n",
    "    try: \n",
    "        os.makedirs(out_path)\n",
    "    except: \n",
    "        pass\n",
    "    \n",
    "    with rio.open(os.path.join(out_path, \"FFSnow.tif\"), \"w\", **profile) as src: \n",
    "        src.write(new_array, 1)"
   ]
  }
 ],
 "metadata": {
  "kernelspec": {
   "display_name": "gcc-py37",
   "language": "python",
   "name": "python3"
  },
  "language_info": {
   "codemirror_mode": {
    "name": "ipython",
    "version": 3
   },
   "file_extension": ".py",
   "mimetype": "text/x-python",
   "name": "python",
   "nbconvert_exporter": "python",
   "pygments_lexer": "ipython3",
   "version": "3.10.11"
  },
  "orig_nbformat": 4
 },
 "nbformat": 4,
 "nbformat_minor": 2
}
