{
 "cells": [
  {
   "cell_type": "code",
   "execution_count": 4,
   "metadata": {},
   "outputs": [],
   "source": [
    "import os\n",
    "import re\n",
    "from osgeo import gdal\n",
    "\n",
    "from tqdm.auto import tqdm\n",
    "import richdem as rd\n",
    "import rasterio as rio\n",
    "from utils import access_raster"
   ]
  },
  {
   "cell_type": "code",
   "execution_count": 2,
   "metadata": {},
   "outputs": [],
   "source": [
    "local_path = \"/home/abetatos/Escritorio/TFM_Dataset/0.Dataset/\"\n",
    "unitato_epsg = \"/home/abetatos/Escritorio/TFM_Dataset/1.Dataset_epsg/\""
   ]
  },
  {
   "cell_type": "code",
   "execution_count": 3,
   "metadata": {},
   "outputs": [],
   "source": [
    "EPSG = \"EPSG:2056\" # Switzerland area"
   ]
  },
  {
   "attachments": {},
   "cell_type": "markdown",
   "metadata": {},
   "source": [
    "# HS"
   ]
  },
  {
   "cell_type": "code",
   "execution_count": 7,
   "metadata": {},
   "outputs": [],
   "source": [
    "input_path_HS = os.path.join(local_path, \"HS\")\n",
    "output_path_HS = os.path.join(unitato_epsg, \"HS\")\n",
    "os.makedirs(output_path_HS, exist_ok=True)"
   ]
  },
  {
   "cell_type": "code",
   "execution_count": 8,
   "metadata": {},
   "outputs": [
    {
     "data": {
      "text/plain": [
       "['snowmap_20160309_ads_100_extent_maskiert_nosnow0_noausreisser.tif',\n",
       " 'HS_Davos_20211604_2m_epsg2056.tiff',\n",
       " 'snowmap_2012_ads_80_extent_maskiert_nosnow0_noausreisser.tif',\n",
       " 'HS_Davos_20170316_2m_epsg2056.tiff',\n",
       " 'HS_Laucherenalp_20220224_2m_epsg2056.tif',\n",
       " 'snowmap_2010_ads_80_extent_maskiert_nosnow0_noausreisser.tif',\n",
       " 'HS_c_20220223_1m_epsg2056.tif',\n",
       " 'snowmap_20160420_ads_100_extent_maskiert_nosnow0_noausreisser.tif',\n",
       " 'snowmap_2014_ads_100_extent_maskiert_nosnow0_noausreisser.tif',\n",
       " 'snowmap_2013_ads_80_extent_maskiert_nosnow0_noausreisser.tif',\n",
       " 'HS_Davos_20180411_2m_epsg2056.tiff',\n",
       " 'HS_Laucherenalp_20220511_1m_epsg2056.tif',\n",
       " 'HS_Saflischpass_20220512_1m_epsg2056.tif',\n",
       " 'HS_Davos_20200406_2m_epsg2056.tiff',\n",
       " 'HS_Davos_20190316_2m_epsg2056.tif',\n",
       " 'snowmap_20160126_ads_100_extent_maskiert_nosnow0_noausreisser.tif',\n",
       " 'snowmap_2015_ads_100_extent_maskiert_nosnow0_noausreisser.tif']"
      ]
     },
     "execution_count": 8,
     "metadata": {},
     "output_type": "execute_result"
    }
   ],
   "source": [
    "files = [f for f in os.listdir(input_path_HS) if re.search(\".tiff?$\", f)]\n",
    "files"
   ]
  },
  {
   "cell_type": "code",
   "execution_count": 9,
   "metadata": {},
   "outputs": [
    {
     "name": "stdout",
     "output_type": "stream",
     "text": [
      "snowmap_20160309_ads_100_extent_maskiert_nosnow0_noausreisser.tif\n",
      "HS_Davos_20211604_2m_epsg2056.tiff\n",
      "snowmap_2012_ads_80_extent_maskiert_nosnow0_noausreisser.tif\n",
      "HS_Davos_20170316_2m_epsg2056.tiff\n",
      "HS_Laucherenalp_20220224_2m_epsg2056.tif\n",
      "snowmap_2010_ads_80_extent_maskiert_nosnow0_noausreisser.tif\n",
      "HS_c_20220223_1m_epsg2056.tif\n",
      "snowmap_20160420_ads_100_extent_maskiert_nosnow0_noausreisser.tif\n",
      "snowmap_2014_ads_100_extent_maskiert_nosnow0_noausreisser.tif\n",
      "snowmap_2013_ads_80_extent_maskiert_nosnow0_noausreisser.tif\n",
      "HS_Davos_20180411_2m_epsg2056.tiff\n",
      "HS_Laucherenalp_20220511_1m_epsg2056.tif\n",
      "HS_Saflischpass_20220512_1m_epsg2056.tif\n",
      "HS_Davos_20200406_2m_epsg2056.tiff\n",
      "failed HS_Davos_20190316_2m_epsg2056.tif\n",
      "snowmap_20160126_ads_100_extent_maskiert_nosnow0_noausreisser.tif\n",
      "snowmap_2015_ads_100_extent_maskiert_nosnow0_noausreisser.tif\n"
     ]
    }
   ],
   "source": [
    "for f in files: \n",
    "    try: \n",
    "        access_raster(os.path.join(input_path_HS, f))\n",
    "    except: \n",
    "        print(\"failed\", f)\n",
    "        continue\n",
    "    print(f)\n",
    "    gdal.Warp(os.path.join(output_path_HS, f).replace(\".tiff\", \".tif\"), os.path.join(input_path_HS, f), dstSRS=EPSG)"
   ]
  },
  {
   "attachments": {},
   "cell_type": "markdown",
   "metadata": {},
   "source": [
    "# DEM"
   ]
  },
  {
   "cell_type": "code",
   "execution_count": 13,
   "metadata": {},
   "outputs": [
    {
     "name": "stdout",
     "output_type": "stream",
     "text": [
      "Davos\n",
      "Valais\n"
     ]
    }
   ],
   "source": [
    "get_file = lambda location: rf\"{local_path}DEM/{location}/all/mosaic_output.tif\"\n",
    "output_path = rf\"{unitato_epsg}DEM\"\n",
    "os.makedirs(output_path, exist_ok=True)\n",
    "for location in ['Davos', 'Valais']: \n",
    "    print(location)\n",
    "    input_file = get_file(location)\n",
    "    output_file = os.path.join(output_path, f\"{location}.tif\")\n",
    "    gdal.Warp(output_file, input_file, dstSRS=EPSG)"
   ]
  },
  {
   "attachments": {},
   "cell_type": "markdown",
   "metadata": {},
   "source": [
    "# SCE"
   ]
  },
  {
   "cell_type": "code",
   "execution_count": 5,
   "metadata": {},
   "outputs": [
    {
     "data": {
      "application/vnd.jupyter.widget-view+json": {
       "model_id": "efedc1047ce74a5f8340439d92633007",
       "version_major": 2,
       "version_minor": 0
      },
      "text/plain": [
       "  0%|          | 0/146 [00:00<?, ?it/s]"
      ]
     },
     "metadata": {},
     "output_type": "display_data"
    },
    {
     "name": "stdout",
     "output_type": "stream",
     "text": [
      "Counter({200: 135497766, 190: 87621058, 10: 49477161, 100: 48970980, 140: 29291267, 160: 27250087, 130: 26077818, 170: 16694723, 180: 15263985, 150: 14246798, 40: 8868260, 110: 7961717, 30: 4227657, 20: 3856085, 0: 3197137, 120: 2821633, 80: 1381246, 70: 1172383, 90: 1076142, 60: 679120, 50: 531656})\n"
     ]
    }
   ],
   "source": [
    "input_path_SCE = f\"{local_path}SCE_Switz\"\n",
    "output_path_SCE = rf\"{unitato_epsg}SCE\"\n",
    "os.makedirs(output_path_SCE, exist_ok=True)\n",
    "\n",
    "files = [f for f in os.listdir(input_path_SCE) if re.search(\".tiff?$\", f)]\n",
    "\n",
    "for f in tqdm(files): \n",
    "    try: \n",
    "        array = access_raster(os.path.join(input_path_SCE, f))['array']\n",
    "    except: \n",
    "        print(\"failed\", f)\n",
    "        continue\n",
    "    gdal.Warp(os.path.join(output_path_SCE, f).replace(\".tiff\", \".tif\"), os.path.join(input_path_SCE, f), dstSRS=EPSG)"
   ]
  },
  {
   "attachments": {},
   "cell_type": "markdown",
   "metadata": {},
   "source": [
    "# Aspect"
   ]
  },
  {
   "attachments": {},
   "cell_type": "markdown",
   "metadata": {},
   "source": [
    "Obtaining it from DEM"
   ]
  },
  {
   "cell_type": "code",
   "execution_count": 24,
   "metadata": {},
   "outputs": [
    {
     "name": "stdout",
     "output_type": "stream",
     "text": [
      "Davos\n"
     ]
    },
    {
     "name": "stderr",
     "output_type": "stream",
     "text": [
      "\n",
      "A Aspect attribute calculation\u001b[39m\n",
      "C Horn, B.K.P., 1981. Hill shading and the reflectance map. Proceedings of the IEEE 69, 14–47. doi:10.1109/PROC.1981.11918\u001b[39m\n",
      "\n",
      "\u001b[2Kt Wall-time = 7.18453\u001b[39m                         ] (8% - 82.5s - 1 threads))\n"
     ]
    },
    {
     "name": "stdout",
     "output_type": "stream",
     "text": [
      "Valais\n"
     ]
    },
    {
     "name": "stderr",
     "output_type": "stream",
     "text": [
      "\n",
      "A Aspect attribute calculation\u001b[39m\n",
      "C Horn, B.K.P., 1981. Hill shading and the reflectance map. Proceedings of the IEEE 69, 14–47. doi:10.1109/PROC.1981.11918\u001b[39m\n",
      "\n",
      "\u001b[2Kt Wall-time = 8.09421\u001b[39m                         ] (2% - 396.4s - 1 threads)\n"
     ]
    }
   ],
   "source": [
    "get_file = lambda location: f\"{local_path}DEM/{location}/all/mosaic_output.tif\"\n",
    "get_aspect_file = lambda location: rf\"{local_path}Aspect/{location}.tif\"\n",
    "output_path = rf\"{unitato_epsg}Aspect\"\n",
    "\n",
    "os.makedirs(f\"{local_path}Aspect\", exist_ok=True)\n",
    "os.makedirs(output_path, exist_ok=True)\n",
    "\n",
    "for location in ['Davos', 'Valais']: \n",
    "    print(location)\n",
    "    input_file = get_file(location)\n",
    "    aspect_file = get_aspect_file(location)\n",
    "    \n",
    "    file = rd.LoadGDAL(input_file)\n",
    "    aspect = rd.TerrainAttribute(file, attrib='aspect')\n",
    "    \n",
    "    with rio.open(input_file) as src: \n",
    "        profile = src.profile\n",
    "\n",
    "    with rio.open(aspect_file, \"w\", **profile) as src: \n",
    "        src.write(aspect, 1)\n",
    "        \n",
    "    output_file = os.path.join(output_path, f\"{location}.tif\")\n",
    "    gdal.Warp(output_file, aspect_file, dstSRS=EPSG)"
   ]
  },
  {
   "attachments": {},
   "cell_type": "markdown",
   "metadata": {},
   "source": [
    "# Slope"
   ]
  },
  {
   "cell_type": "markdown",
   "metadata": {},
   "source": [
    "Obtaining it from DEM"
   ]
  },
  {
   "cell_type": "code",
   "execution_count": 26,
   "metadata": {},
   "outputs": [
    {
     "name": "stdout",
     "output_type": "stream",
     "text": [
      "Davos\n"
     ]
    },
    {
     "name": "stderr",
     "output_type": "stream",
     "text": [
      "\n",
      "A Slope calculation (rise/run)\u001b[39m\n",
      "C Horn, B.K.P., 1981. Hill shading and the reflectance map. Proceedings of the IEEE 69, 14–47. doi:10.1109/PROC.1981.11918\u001b[39m\n",
      "\n",
      "\u001b[2Kt Wall-time = 2.99119\u001b[39m                         ] (8% - 34.3s - 1 threads))\n"
     ]
    },
    {
     "name": "stdout",
     "output_type": "stream",
     "text": [
      "Valais\n"
     ]
    },
    {
     "name": "stderr",
     "output_type": "stream",
     "text": [
      "\n",
      "A Slope calculation (rise/run)\u001b[39m\n",
      "C Horn, B.K.P., 1981. Hill shading and the reflectance map. Proceedings of the IEEE 69, 14–47. doi:10.1109/PROC.1981.11918\u001b[39m\n",
      "\n",
      "\u001b[2Kt Wall-time = 3.34929\u001b[39m                         ] (2% - 164.0s - 1 threads)\n"
     ]
    }
   ],
   "source": [
    "get_file = lambda location: f\"{local_path}DEM/{location}/all/mosaic_output.tif\"\n",
    "get_slope_file = lambda location: rf\"{local_path}Slope/{location}.tif\"\n",
    "\n",
    "os.makedirs(f\"{local_path}Slope\", exist_ok=True)\n",
    "output_path = rf\"{unitato_epsg}Slope\"\n",
    "os.makedirs(output_path, exist_ok=True)\n",
    "\n",
    "for location in ['Davos', 'Valais']: \n",
    "    print(location)\n",
    "    input_file = get_file(location)\n",
    "    slope_file = get_slope_file(location)\n",
    "    \n",
    "    file = rd.LoadGDAL(input_file)\n",
    "    slope = rd.TerrainAttribute(file, attrib='slope_riserun')\n",
    "    \n",
    "    with rio.open(input_file) as src: \n",
    "        profile = src.profile\n",
    "\n",
    "    with rio.open(slope_file, \"w\", **profile) as src: \n",
    "        src.write(slope, 1)\n",
    "        \n",
    "    output_file = os.path.join(output_path, f\"{location}.tif\")\n",
    "    gdal.Warp(output_file, slope_file, dstSRS=EPSG)"
   ]
  },
  {
   "attachments": {},
   "cell_type": "markdown",
   "metadata": {},
   "source": [
    "# TPI"
   ]
  },
  {
   "cell_type": "code",
   "execution_count": 5,
   "metadata": {},
   "outputs": [],
   "source": [
    "from whitebox import WhiteboxTools\n",
    "\n",
    "wbt = WhiteboxTools()"
   ]
  },
  {
   "cell_type": "code",
   "execution_count": 6,
   "metadata": {},
   "outputs": [
    {
     "name": "stdout",
     "output_type": "stream",
     "text": [
      "[11, 'Davos']\n",
      "./whitebox_tools --run=\"RelativeTopographicPosition\" --dem='/home/abetatos/Escritorio/TFM_Dataset/Dataset/DEM/Davos/all/mosaic_output.tif' --output='/home/abetatos/Escritorio/TFM_Dataset/Dataset/TPI/Davos_11.tif' --filterx=11 --filtery=11 -v --compress_rasters=False\n",
      "\n",
      "******************************************\n",
      "* Welcome to RelativeTopographicPosition *\n",
      "* Powered by WhiteboxTools               *\n",
      "* www.whiteboxgeo.com                    *\n",
      "******************************************\n",
      "Reading data...\n",
      "Performing analysis: 0%\n",
      "Performing analysis: 1%\n",
      "Performing analysis: 2%\n",
      "Performing analysis: 3%\n",
      "Performing analysis: 4%\n",
      "Performing analysis: 5%\n",
      "Performing analysis: 6%\n",
      "Performing analysis: 7%\n",
      "Performing analysis: 8%\n",
      "Performing analysis: 9%\n",
      "Performing analysis: 10%\n",
      "Performing analysis: 11%\n",
      "Performing analysis: 12%\n",
      "Performing analysis: 13%\n",
      "Performing analysis: 14%\n",
      "Performing analysis: 15%\n",
      "Performing analysis: 16%\n",
      "Performing analysis: 17%\n",
      "Performing analysis: 18%\n",
      "Performing analysis: 19%\n",
      "Performing analysis: 20%\n",
      "Performing analysis: 21%\n",
      "Performing analysis: 22%\n",
      "Performing analysis: 23%\n",
      "Performing analysis: 24%\n",
      "Performing analysis: 25%\n",
      "Performing analysis: 26%\n",
      "Performing analysis: 27%\n",
      "Performing analysis: 28%\n",
      "Performing analysis: 29%\n",
      "Performing analysis: 30%\n",
      "Performing analysis: 31%\n",
      "Performing analysis: 32%\n",
      "Performing analysis: 33%\n",
      "Performing analysis: 34%\n",
      "Performing analysis: 35%\n",
      "Performing analysis: 36%\n",
      "Performing analysis: 37%\n",
      "Performing analysis: 38%\n",
      "Performing analysis: 39%\n",
      "Performing analysis: 40%\n",
      "Performing analysis: 41%\n",
      "Performing analysis: 42%\n",
      "Performing analysis: 43%\n",
      "Performing analysis: 44%\n",
      "Performing analysis: 45%\n",
      "Performing analysis: 46%\n",
      "Performing analysis: 47%\n",
      "Performing analysis: 48%\n",
      "Performing analysis: 49%\n",
      "Performing analysis: 50%\n",
      "Performing analysis: 51%\n",
      "Performing analysis: 52%\n",
      "Performing analysis: 53%\n",
      "Performing analysis: 54%\n",
      "Performing analysis: 55%\n",
      "Performing analysis: 56%\n",
      "Performing analysis: 57%\n",
      "Performing analysis: 58%\n",
      "Performing analysis: 59%\n",
      "Performing analysis: 60%\n",
      "Performing analysis: 61%\n",
      "Performing analysis: 62%\n",
      "Performing analysis: 63%\n",
      "Performing analysis: 64%\n",
      "Performing analysis: 65%\n",
      "Performing analysis: 66%\n",
      "Performing analysis: 67%\n",
      "Performing analysis: 68%\n",
      "Performing analysis: 69%\n",
      "Performing analysis: 70%\n",
      "Performing analysis: 71%\n",
      "Performing analysis: 72%\n",
      "Performing analysis: 73%\n",
      "Performing analysis: 74%\n",
      "Performing analysis: 75%\n",
      "Performing analysis: 76%\n",
      "Performing analysis: 77%\n",
      "Performing analysis: 78%\n",
      "Performing analysis: 79%\n",
      "Performing analysis: 80%\n",
      "Performing analysis: 81%\n",
      "Performing analysis: 82%\n",
      "Performing analysis: 83%\n",
      "Performing analysis: 84%\n",
      "Performing analysis: 85%\n",
      "Performing analysis: 86%\n",
      "Performing analysis: 87%\n",
      "Performing analysis: 88%\n",
      "Performing analysis: 89%\n",
      "Performing analysis: 90%\n",
      "Performing analysis: 91%\n",
      "Performing analysis: 92%\n",
      "Performing analysis: 93%\n",
      "Performing analysis: 94%\n",
      "Performing analysis: 95%\n",
      "Performing analysis: 96%\n",
      "Performing analysis: 97%\n",
      "Performing analysis: 98%\n",
      "Performing analysis: 99%\n",
      "Performing analysis: 100%\n",
      "Saving data...\n",
      "Output file written\n",
      "Elapsed Time (excluding I/O): 2.983s\n",
      "[11, 'Valais']\n",
      "./whitebox_tools --run=\"RelativeTopographicPosition\" --dem='/home/abetatos/Escritorio/TFM_Dataset/Dataset/DEM/Valais/all/mosaic_output.tif' --output='/home/abetatos/Escritorio/TFM_Dataset/Dataset/TPI/Valais_11.tif' --filterx=11 --filtery=11 -v --compress_rasters=False\n",
      "\n",
      "******************************************\n",
      "* Welcome to RelativeTopographicPosition *\n",
      "* Powered by WhiteboxTools               *\n",
      "* www.whiteboxgeo.com                    *\n",
      "******************************************\n",
      "Reading data...\n",
      "Performing analysis: 0%\n",
      "Performing analysis: 1%\n",
      "Performing analysis: 2%\n",
      "Performing analysis: 3%\n",
      "Performing analysis: 4%\n",
      "Performing analysis: 5%\n",
      "Performing analysis: 6%\n",
      "Performing analysis: 7%\n",
      "Performing analysis: 8%\n",
      "Performing analysis: 9%\n",
      "Performing analysis: 10%\n",
      "Performing analysis: 11%\n",
      "Performing analysis: 12%\n",
      "Performing analysis: 13%\n",
      "Performing analysis: 14%\n",
      "Performing analysis: 15%\n",
      "Performing analysis: 16%\n",
      "Performing analysis: 17%\n",
      "Performing analysis: 18%\n",
      "Performing analysis: 19%\n",
      "Performing analysis: 20%\n",
      "Performing analysis: 21%\n",
      "Performing analysis: 22%\n",
      "Performing analysis: 23%\n",
      "Performing analysis: 24%\n",
      "Performing analysis: 25%\n",
      "Performing analysis: 26%\n",
      "Performing analysis: 27%\n",
      "Performing analysis: 28%\n",
      "Performing analysis: 29%\n",
      "Performing analysis: 30%\n",
      "Performing analysis: 31%\n",
      "Performing analysis: 32%\n",
      "Performing analysis: 33%\n",
      "Performing analysis: 34%\n",
      "Performing analysis: 35%\n",
      "Performing analysis: 36%\n",
      "Performing analysis: 37%\n",
      "Performing analysis: 38%\n",
      "Performing analysis: 39%\n",
      "Performing analysis: 40%\n",
      "Performing analysis: 41%\n",
      "Performing analysis: 42%\n",
      "Performing analysis: 43%\n",
      "Performing analysis: 44%\n",
      "Performing analysis: 45%\n",
      "Performing analysis: 46%\n",
      "Performing analysis: 47%\n",
      "Performing analysis: 48%\n",
      "Performing analysis: 49%\n",
      "Performing analysis: 50%\n",
      "Performing analysis: 51%\n",
      "Performing analysis: 52%\n",
      "Performing analysis: 53%\n",
      "Performing analysis: 54%\n",
      "Performing analysis: 55%\n",
      "Performing analysis: 56%\n",
      "Performing analysis: 57%\n",
      "Performing analysis: 58%\n",
      "Performing analysis: 59%\n",
      "Performing analysis: 60%\n",
      "Performing analysis: 61%\n",
      "Performing analysis: 62%\n",
      "Performing analysis: 63%\n",
      "Performing analysis: 64%\n",
      "Performing analysis: 65%\n",
      "Performing analysis: 66%\n",
      "Performing analysis: 67%\n",
      "Performing analysis: 68%\n",
      "Performing analysis: 69%\n",
      "Performing analysis: 70%\n",
      "Performing analysis: 71%\n",
      "Performing analysis: 72%\n",
      "Performing analysis: 73%\n",
      "Performing analysis: 74%\n",
      "Performing analysis: 75%\n",
      "Performing analysis: 76%\n",
      "Performing analysis: 77%\n",
      "Performing analysis: 78%\n",
      "Performing analysis: 79%\n",
      "Performing analysis: 80%\n",
      "Performing analysis: 81%\n",
      "Performing analysis: 82%\n",
      "Performing analysis: 83%\n",
      "Performing analysis: 84%\n",
      "Performing analysis: 85%\n",
      "Performing analysis: 86%\n",
      "Performing analysis: 87%\n",
      "Performing analysis: 88%\n",
      "Performing analysis: 89%\n",
      "Performing analysis: 90%\n",
      "Performing analysis: 91%\n",
      "Performing analysis: 92%\n",
      "Performing analysis: 93%\n",
      "Performing analysis: 94%\n",
      "Performing analysis: 95%\n",
      "Performing analysis: 96%\n",
      "Performing analysis: 97%\n",
      "Performing analysis: 98%\n",
      "Performing analysis: 99%\n",
      "Performing analysis: 100%\n",
      "Saving data...\n",
      "Output file written\n",
      "Elapsed Time (excluding I/O): 3.997s\n"
     ]
    }
   ],
   "source": [
    "get_file = lambda location: f\"{local_path}DEM/{location}/all/mosaic_output.tif\"\n",
    "get_slope_file = lambda location: rf\"{local_path}TPI/{location}.tif\"\n",
    "os.makedirs(f\"{local_path}TPI\", exist_ok=True)\n",
    "output_path = rf\"{unitato_epsg}TPI\"\n",
    "os.makedirs(output_path, exist_ok=True)\n",
    "\n",
    "# for filter_size in [11, 22, 50, 7, 5, 9]: \n",
    "for filter_size in [11]:\n",
    "    get_tpi_file = lambda location: rf\"{local_path}TPI/{location}_{filter_size}.tif\"\n",
    "    for location in ['Davos', 'Valais']: \n",
    "        print([filter_size, location])\n",
    "        input_file = get_file(location)\n",
    "        tpi_file = get_tpi_file(location)\n",
    "        \n",
    "        wbt.relative_topographic_position(input_file, tpi_file, filterx=filter_size, filtery=filter_size)\n",
    "        \n",
    "        output_file = os.path.join(output_path, f\"{location}_{filter_size}.tif\")\n",
    "        gdal.Warp(output_file, tpi_file, dstSRS=EPSG)"
   ]
  },
  {
   "attachments": {},
   "cell_type": "markdown",
   "metadata": {},
   "source": [
    "# TPI WGW"
   ]
  },
  {
   "cell_type": "code",
   "execution_count": 5,
   "metadata": {},
   "outputs": [],
   "source": [
    "from epsg_utils import tpi\n",
    "import time \n",
    "time.sleep(1)"
   ]
  },
  {
   "cell_type": "code",
   "execution_count": 6,
   "metadata": {},
   "outputs": [
    {
     "name": "stdout",
     "output_type": "stream",
     "text": [
      "[11, 'Valais']\n",
      "tpi obtained\n"
     ]
    }
   ],
   "source": [
    "get_file = lambda location: f\"{local_path}DEM/{location}/all/mosaic_output.tif\"\n",
    "get_slope_file = lambda location: rf\"{local_path}TPIWGW/{location}.tif\"\n",
    "os.makedirs(f\"{local_path}TPIWGW\", exist_ok=True)\n",
    "output_path = rf\"{unitato_epsg}TPIWGW\"\n",
    "os.makedirs(output_path, exist_ok=True)\n",
    "\n",
    "\n",
    "# for filter_size in [11, 22, 50, 7, 5, 9]: \n",
    "for filter_size in [11]:\n",
    "    get_tpi_file = lambda location: rf\"{local_path}TPIWGW/{location}_{filter_size}.tif\"\n",
    "    for location in ['Davos', 'Valais']:\n",
    "        print([filter_size, location])\n",
    "        input_file = get_file(location)\n",
    "        tpi_file = get_tpi_file(location)\n",
    "        \n",
    "        tpi(elevation_model=input_file,r=filter_size,output_model=tpi_file)\n",
    "        print(\"tpi obtained\")\n",
    "        time.sleep(60)\n",
    "        output_file = os.path.join(output_path, f\"{location}_{filter_size}.tif\")\n",
    "        gdal.Warp(output_file, tpi_file, dstSRS=EPSG)\n"
   ]
  }
 ],
 "metadata": {
  "kernelspec": {
   "display_name": "gcc-py37",
   "language": "python",
   "name": "python3"
  },
  "language_info": {
   "codemirror_mode": {
    "name": "ipython",
    "version": 3
   },
   "file_extension": ".py",
   "mimetype": "text/x-python",
   "name": "python",
   "nbconvert_exporter": "python",
   "pygments_lexer": "ipython3",
   "version": "3.10.11"
  },
  "orig_nbformat": 4
 },
 "nbformat": 4,
 "nbformat_minor": 2
}
