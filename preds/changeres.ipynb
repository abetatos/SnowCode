{
 "cells": [
  {
   "cell_type": "code",
   "execution_count": 12,
   "metadata": {},
   "outputs": [],
   "source": [
    "import sys\n",
    "sys.path.insert(0, \"../analysis/\")"
   ]
  },
  {
   "cell_type": "code",
   "execution_count": 13,
   "metadata": {},
   "outputs": [],
   "source": [
    "from utils import access_raster\n",
    "from glob import glob\n",
    "from osgeo import gdal\n",
    "import re\n",
    "import os\n",
    "import pandas as pd\n",
    "import numpy as np\n",
    "from pathlib import Path\n",
    "import matplotlib.pyplot as plt\n",
    "from copy import deepcopy\n",
    "from scipy.stats import gaussian_kde\n",
    "import seaborn as sns\n",
    "import random\n",
    "from scipy import optimize"
   ]
  },
  {
   "cell_type": "code",
   "execution_count": 14,
   "metadata": {},
   "outputs": [],
   "source": [
    "model = \"withoutmask_all_sgd_adam_1685536886_model_53_01234567\"\n",
    "# model = \"1684923533_model_57_012345678\"\n",
    "feature = \"HS\"\n",
    "# predfile = \"HS_diff.tif\"\n",
    "predfile = \"HS_pred.tif\"\n",
    "\n",
    "hs_path = f\"/home/abetatos/Escritorio/TFM_Dataset/3.Basedataset/{feature}\"\n",
    "modelpredspath = f\"/home/abetatos/Escritorio/TFM_Dataset/5.Preds/{model}\"\n",
    "\n",
    "newres = 10"
   ]
  },
  {
   "cell_type": "code",
   "execution_count": 16,
   "metadata": {},
   "outputs": [
    {
     "name": "stdout",
     "output_type": "stream",
     "text": [
      "snowmap_20160309_ads_100_extent_maskiert_nosnow0_noausreisser\n",
      "HS_Saflischpass_20220512_1m_epsg2056\n",
      "HS_Laucherenalp_20220511_1m_epsg2056\n",
      "snowmap_2014_ads_100_extent_maskiert_nosnow0_noausreisser\n",
      "HS_Davos_20200406_2m_epsg2056\n",
      "HS_Davos_20211604_2m_epsg2056\n",
      "snowmap_2013_ads_80_extent_maskiert_nosnow0_noausreisser\n",
      "snowmap_2012_ads_80_extent_maskiert_nosnow0_noausreisser\n",
      "snowmap_2015_ads_100_extent_maskiert_nosnow0_noausreisser\n",
      "snowmap_20160126_ads_100_extent_maskiert_nosnow0_noausreisser\n",
      "HS_c_20220223_1m_epsg2056\n",
      "HS_Davos_20170316_2m_epsg2056\n",
      "HS_Davos_20180411_2m_epsg2056\n",
      "snowmap_20160420_ads_100_extent_maskiert_nosnow0_noausreisser\n",
      "HS_Laucherenalp_20220224_2m_epsg2056\n",
      "snowmap_2010_ads_80_extent_maskiert_nosnow0_noausreisser\n"
     ]
    }
   ],
   "source": [
    "for place in os.listdir(hs_path):\n",
    "    print(place)\n",
    "    infeature_path = os.path.join(hs_path, place, f\"{feature}.tif\")\n",
    "    inpred_path = os.path.join(modelpredspath, place, predfile)\n",
    "\n",
    "    outpred_path = os.path.join(modelpredspath + \"_10\", place, predfile)\n",
    "    outfeature_path = os.path.join(modelpredspath+ \"_10\", place, f\"{feature}.tif\")\n",
    "    os.makedirs(os.path.dirname(outpred_path), exist_ok=True)\n",
    "\n",
    "    gdal.Warp(outfeature_path, infeature_path, xRes=newres, yRes=-newres)\n",
    "    gdal.Warp(outpred_path, inpred_path, xRes=newres, yRes=-newres)"
   ]
  },
  {
   "cell_type": "code",
   "execution_count": null,
   "metadata": {},
   "outputs": [],
   "source": []
  }
 ],
 "metadata": {
  "kernelspec": {
   "display_name": "base",
   "language": "python",
   "name": "python3"
  },
  "language_info": {
   "codemirror_mode": {
    "name": "ipython",
    "version": 3
   },
   "file_extension": ".py",
   "mimetype": "text/x-python",
   "name": "python",
   "nbconvert_exporter": "python",
   "pygments_lexer": "ipython3",
   "version": "3.10.11"
  },
  "orig_nbformat": 4
 },
 "nbformat": 4,
 "nbformat_minor": 2
}
