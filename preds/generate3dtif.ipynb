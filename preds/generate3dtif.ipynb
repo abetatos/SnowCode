{
 "cells": [
  {
   "cell_type": "code",
   "execution_count": 3,
   "metadata": {},
   "outputs": [],
   "source": [
    "import pickle as pkl\n",
    "import rasterio as rio\n",
    "import numpy as np\n",
    "import os"
   ]
  },
  {
   "cell_type": "code",
   "execution_count": 4,
   "metadata": {},
   "outputs": [],
   "source": [
    "# modelname = \"1684923533_model_57_012345678\"\n",
    "# modelname = \"1685098495_model_54_01234567\"\n",
    "modelname = \"withoutmask_all_sgd_adam_1685536886_model_53_01234567_nomapchete\"\n",
    "\n",
    "pred_path = f\"/home/abetatos/Escritorio/TFM_Dataset/5.Preds/{modelname}/\"\n",
    "hs_path = \"/home/abetatos/Escritorio/TFM_Dataset/4.DatasetPost/HS/\""
   ]
  },
  {
   "cell_type": "code",
   "execution_count": 7,
   "metadata": {},
   "outputs": [
    {
     "name": "stdout",
     "output_type": "stream",
     "text": [
      "snowmap_20160309_ads_100_extent_maskiert_nosnow0_noausreisser\n",
      "0.7531548 0.5596321\n",
      "6094.4204 14.500104\n",
      "HS_Saflischpass_20220512_1m_epsg2056\n",
      "6.4116406 2.3114974\n",
      "18159.854 12.256681\n",
      "HS_Laucherenalp_20220511_1m_epsg2056\n",
      "1.4401733 1.2979312\n",
      "2818.8777 6.116647\n",
      "snowmap_2014_ads_100_extent_maskiert_nosnow0_noausreisser\n",
      "1.9496032 0.53652954\n",
      "10480.385 14.491396\n",
      "HS_Davos_20200406_2m_epsg2056\n",
      "19.352142 0.59681594\n",
      "2136387.0 8.182644\n",
      "HS_Davos_20211604_2m_epsg2056\n",
      "9.06464 0.75322896\n",
      "4270527.5 8.567741\n",
      "snowmap_2013_ads_80_extent_maskiert_nosnow0_noausreisser\n",
      "0.6726198 0.55409\n",
      "5232.7964 14.462007\n",
      "snowmap_2012_ads_80_extent_maskiert_nosnow0_noausreisser\n",
      "0.6606497 0.7616559\n",
      "8570.897 14.437418\n",
      "snowmap_2015_ads_100_extent_maskiert_nosnow0_noausreisser\n",
      "1.1901175 0.55535436\n",
      "9092.513 13.85102\n",
      "snowmap_20160126_ads_100_extent_maskiert_nosnow0_noausreisser\n",
      "4.628388 0.6863131\n",
      "14889.143 14.505518\n",
      "HS_c_20220223_1m_epsg2056\n",
      "12.206532 2.1970606\n",
      "20688.71 12.264913\n",
      "HS_Davos_20170316_2m_epsg2056\n",
      "2.8494656 0.6382066\n",
      "1864959.1 8.359305\n",
      "HS_Davos_20180411_2m_epsg2056\n",
      "4.4772167 0.5690362\n",
      "592996.9 7.819582\n",
      "snowmap_20160420_ads_100_extent_maskiert_nosnow0_noausreisser\n",
      "1.4895787 0.49314564\n",
      "9072.499 14.081606\n",
      "HS_Laucherenalp_20220224_2m_epsg2056\n",
      "0.28907025 0.777892\n",
      "1.3687733 20.818523\n",
      "snowmap_2010_ads_80_extent_maskiert_nosnow0_noausreisser\n",
      "0.5046426 1.0340025\n",
      "2710.1265 14.560791\n"
     ]
    }
   ],
   "source": [
    "\n",
    "for filename in os.listdir(pred_path): \n",
    "    print(filename)\n",
    "    with open(f\"{pred_path}/{filename}/HS_pred.pickle\", \"rb\") as f: \n",
    "        mapping = pkl.load(f)\n",
    "        shape = mapping.shape\n",
    "\n",
    "    with rio.open(f\"{hs_path}/{filename}/HS.tif\", \"r\") as f: \n",
    "        profile = f.profile\n",
    "        arr = f.read().squeeze()\n",
    "        \n",
    "    new_mapping = np.ones_like(arr)*-9999.\n",
    "    \n",
    "    new_mapping[0:shape[0], 0:shape[1]] = mapping\n",
    "\n",
    "    with rio.open(f\"{pred_path}/{filename}/HS_pred.tif\", \"w\", **profile) as f:\n",
    "        f.write(new_mapping, 1)\n",
    "\n",
    "    with rio.open(f\"{pred_path}/{filename}/HS_diff.tif\", \"w\", **profile) as f:\n",
    "        diff_array = np.where((arr != -9999.) & (new_mapping != -9999.), abs(arr-new_mapping), -9999.)\n",
    "        f.write(diff_array, 1)\n",
    "\n",
    "    with rio.open(f\"{pred_path}/{filename}/HS_sigma.tif\", \"w\", **profile) as f:\n",
    "        sigma_array = np.where(diff_array != -9999., np.divide(diff_array, arr + 1e-10), -9999.)\n",
    "        f.write(sigma_array, 1)\n",
    "    \n",
    "    print(sigma_array[sigma_array!=-9999.].mean(), diff_array[diff_array!=-9999.].mean())\n",
    "    print(sigma_array[sigma_array!=-9999.].max(), diff_array[diff_array!=-9999.].max())\n",
    "    # break"
   ]
  },
  {
   "cell_type": "code",
   "execution_count": null,
   "metadata": {},
   "outputs": [],
   "source": []
  }
 ],
 "metadata": {
  "kernelspec": {
   "display_name": "base",
   "language": "python",
   "name": "python3"
  },
  "language_info": {
   "codemirror_mode": {
    "name": "ipython",
    "version": 3
   },
   "file_extension": ".py",
   "mimetype": "text/x-python",
   "name": "python",
   "nbconvert_exporter": "python",
   "pygments_lexer": "ipython3",
   "version": "3.10.11"
  },
  "orig_nbformat": 4
 },
 "nbformat": 4,
 "nbformat_minor": 2
}
